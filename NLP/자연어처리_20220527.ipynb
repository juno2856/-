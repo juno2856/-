{
  "nbformat": 4,
  "nbformat_minor": 0,
  "metadata": {
    "colab": {
      "name": "자연어처리 20220527",
      "provenance": [],
      "collapsed_sections": [],
      "include_colab_link": true
    },
    "kernelspec": {
      "name": "python3",
      "display_name": "Python 3"
    },
    "language_info": {
      "name": "python"
    }
  },
  "cells": [
    {
      "cell_type": "markdown",
      "metadata": {
        "id": "view-in-github",
        "colab_type": "text"
      },
      "source": [
        "<a href=\"https://colab.research.google.com/github/juno2856/deeplearning/blob/master/NLP/%EC%9E%90%EC%97%B0%EC%96%B4%EC%B2%98%EB%A6%AC_20220527.ipynb\" target=\"_parent\"><img src=\"https://colab.research.google.com/assets/colab-badge.svg\" alt=\"Open In Colab\"/></a>"
      ]
    },
    {
      "cell_type": "markdown",
      "source": [
        "# Transformer"
      ],
      "metadata": {
        "id": "nUvUbDeNTbEp"
      }
    },
    {
      "cell_type": "markdown",
      "source": [
        "기존의 seq2seq 모델의 한계\n",
        "- 입력 시퀀스를 하나의 벡터표현으로 압축 (context vector) 디코더는 이를 통해 출력 시퀀스를 만들어냄\n",
        "- 정보가 일부 손실된다는 단점"
      ],
      "metadata": {
        "id": "XXBV0cgdTdPA"
      }
    },
    {
      "cell_type": "markdown",
      "source": [
        "- $d_{model}$ = 512\n",
        "- num_layers = 6\n",
        "- num_heads = 8\n",
        "- $d_{ff}$ = 2048"
      ],
      "metadata": {
        "id": "3d_uwmz4TfGC"
      }
    },
    {
      "cell_type": "markdown",
      "source": [
        "## 1.포지셔널 인코딩\n",
        "https://velog.io/@cha-suyeon/%ED%8A%B8%EB%9E%9C%EC%8A%A4%ED%8F%AC%EB%A8%B8%EC%9D%98-%EC%9E%85%EB%A0%A5-%EC%9D%B4%ED%95%B4"
      ],
      "metadata": {
        "id": "3mVBwHNdTg4M"
      }
    },
    {
      "cell_type": "markdown",
      "source": [
        "$$PE_(pose, 2i) = sin(pos/10000^{2i/d_{model}})$$\n",
        "$$PE_(pose, 2i+1) = cos(pos/10000^{2i/d_{model}})$$"
      ],
      "metadata": {
        "id": "7HsVGm8nTikn"
      }
    },
    {
      "cell_type": "code",
      "execution_count": null,
      "metadata": {
        "id": "1vJTwsBNTPy5"
      },
      "outputs": [],
      "source": [
        "import tensorflow as tf\n",
        "import matplotlib.pyplot as plt\n",
        "import numpy as np"
      ]
    },
    {
      "cell_type": "code",
      "source": [
        "class PositionalEncoding(tf.keras.layers.Layer):\n",
        "    def __init__(self, position, d_model):\n",
        "        super(PositionalEncoding, self).__init__()\n",
        "        self.pos_encoding = self.positional_encoding(position, d_model)\n",
        "\n",
        "    def get_angles(self, position, i, d_model):\n",
        "        angles = 1/tf.pow(10000,(2* (i//2))/tf.cast(d_model, tf.float32))\n",
        "        return position * angles\n",
        "        # tf.cast 소수점 버리기, tf.pow 10000^2i\n",
        "\n",
        "    def positional_encoding(self, position, d_model):\n",
        "        angle_rads = self.get_angles(\n",
        "            position = tf.range(position, dtype=tf.float32)[:, tf.newaxis],\n",
        "            i = tf.range(d_model, dtype=tf.float32)[tf.newaxis, :],\n",
        "            d_model = d_model\n",
        "        )\n",
        "        # tf.newaxis 차원하나 늘리기 -> 한번만 실행하여야함\n",
        "    \n",
        "        # 배열의 짝수 인덱스 (2i)에는 사인 함수 적용\n",
        "        sines = tf.math.sin(angle_rads[:,0::2])\n",
        "\n",
        "        # 배열의 홀수 인덱스 (2i+1)에는 코사인 함수 적용\n",
        "        cosines = tf.math.cos(angle_rads[:,1::2])\n",
        "\n",
        "        angle_rads = np.zeros(angle_rads.shape)\n",
        "        angle_rads[:, 0::2] = sines\n",
        "        angle_rads[:, 1::2] = cosines\n",
        "        pos_encoding = tf.constant(angle_rads)\n",
        "        pos_encoding = pos_encoding[tf.newaxis, ...] # ... 앞에 차원 1개 추가하고 전체 출력해주세요\n",
        "\n",
        "        print(pos_encoding.shape)\n",
        "        return tf.cast(pos_encoding, tf.float32) \n",
        "\n",
        "    def call(self, inputs):\n",
        "        return inputs + self.pos_encoding[:, :tf.shape(inputs)[1], :]\n"
      ],
      "metadata": {
        "id": "yKk0y54sYlne"
      },
      "execution_count": null,
      "outputs": []
    },
    {
      "cell_type": "code",
      "source": [
        "# 50 * 128크기를 가지는 포지셔널 인코딩 행렬을 시각화 하기\n",
        "# 입력문자의 단어가 50, 각 단어가 128차원의 임베딩 벡터를 가질 때 사용하는 행렬\n",
        "\n",
        "sample_pos_encdoing = PositionalEncoding(50, 128)\n",
        "\n",
        "plt.pcolormesh(sample_pos_encdoing.pos_encoding.numpy()[0], cmap=\"RdBu\")\n",
        "plt.xlabel('Depth')\n",
        "plt.xlim((0, 128))\n",
        "plt.colorbar()\n",
        "plt.show()"
      ],
      "metadata": {
        "colab": {
          "base_uri": "https://localhost:8080/",
          "height": 301
        },
        "id": "3kBULmKEadST",
        "outputId": "0a204ed4-321d-40df-c5ea-ae194eb2c2d9"
      },
      "execution_count": null,
      "outputs": [
        {
          "output_type": "stream",
          "name": "stdout",
          "text": [
            "(1, 50, 128)\n"
          ]
        },
        {
          "output_type": "display_data",
          "data": {
            "text/plain": [
              "<Figure size 432x288 with 2 Axes>"
            ],
            "image/png": "[encoded data removed]"
          },
          "metadata": {
            "needs_background": "light"
          }
        }
      ]
    },
    {
      "cell_type": "markdown",
      "source": [
        "## 2. scaled dot product Attention\n",
        "\n",
        "encoder self attention\n",
        "\n"
      ],
      "metadata": {
        "id": "y-VJQoogjO8o"
      }
    },
    {
      "cell_type": "code",
      "source": [
        "def scaled_dot_product_attention(query, key, value, mask):\n",
        "    # query 크기 : (batch_size, num_heads, query의 문장 길이, d_model/num_heads)\n",
        "    # key 크기 : (batch_size, num_heads, key의 문장 길이, d_model/num_heads)\n",
        "    # value 크기 : (batch_size, num_heads, value의 문장 길이, d_model/num_heads)\n",
        "    # padding_mask : (batch_size, 1, 1, key의 문장 길이)\n",
        "\n",
        "    # Q와 K의 곱. 어텐션 스코어 행렬\n",
        "    matmul_qk = tf.matmul(query, key, transpose_b = True)\n",
        "\n",
        "    # 스케일링\n",
        "    # dk의 루트값으로 나눠준다.\n",
        "    depth = tf.cast(tf.shape(key)[-1], tf.float32)\n",
        "    logits = matmul_qk / tf.math.sqrt(depth)\n",
        "\n",
        "    # 마스킹. 어텐션 스코어 행렬의 마스킹 할 위치에 매우 작은 음수값을 넣는다.\n",
        "    # 매우 작은 값이므로 소프트맥스 함수를 지나면 행렬의 해당 위치의 값은 0이 됩니다.\n",
        "    if mask is not None:\n",
        "        logits += (mask * -1e9)\n",
        "    \n",
        "    # 소프트맥스 함수는 마지막 차원인 key의 문장 길이 방향으로 수행된다.\n",
        "    # attention weight : (batch_size, num_heads, query의 문장 길이, key의 문장 길이)\n",
        "    attention_weights = tf.nn.softmax(logits, axis = -1)\n",
        "\n",
        "    # output : (batch_size, num_heads, query의 문장길이)\n",
        "    output = tf.matmul(attention_weights, value)\n",
        "\n",
        "    return output, attention_weights"
      ],
      "metadata": {
        "id": "_S3bbeozb5rR"
      },
      "execution_count": null,
      "outputs": []
    },
    {
      "cell_type": "code",
      "source": [
        "np.set_printoptions(suppress=True)\n",
        "temp_k = tf.constant([[10, 0, 0],\n",
        "                      [0, 10, 0],\n",
        "                      [0, 0, 10],\n",
        "                      [0, 0, 10]], dtype = tf.float32) # (4, 3)\n",
        "\n",
        "temp_v = tf.constant([[   1, 0],\n",
        "                     [  10, 0],\n",
        "                     [  100,5],\n",
        "                     [1000, 6]], dtype = tf.float32) # (4,2)\n",
        "\n",
        "temp_q = tf.constant([[0, 10, 0]], dtype=tf.float32) # (1, 3)"
      ],
      "metadata": {
        "id": "sNDXuFEhlXJm"
      },
      "execution_count": null,
      "outputs": []
    },
    {
      "cell_type": "code",
      "source": [
        "temp_out, temp_attn = scaled_dot_product_attention(temp_q, temp_k, temp_v, None)\n",
        "print(temp_attn) # 어텐션 분포 (어텐션 가중치의 나열)\n",
        "print(temp_out) # 어텐션 값"
      ],
      "metadata": {
        "colab": {
          "base_uri": "https://localhost:8080/"
        },
        "id": "4NspVwwgmZEL",
        "outputId": "ecb7f984-c7a5-4387-f239-355b97da21e1"
      },
      "execution_count": null,
      "outputs": [
        {
          "output_type": "stream",
          "name": "stdout",
          "text": [
            "tf.Tensor([[0. 1. 0. 0.]], shape=(1, 4), dtype=float32)\n",
            "tf.Tensor([[10.  0.]], shape=(1, 2), dtype=float32)\n"
          ]
        }
      ]
    },
    {
      "cell_type": "code",
      "source": [
        "np.set_printoptions(suppress=True)\n",
        "temp_k = tf.constant([[10, 0, 0],\n",
        "                      [0, 10, 0],\n",
        "                      [0, 0, 10],\n",
        "                      [0, 0, 10]], dtype = tf.float32) # (4, 3)\n",
        "\n",
        "temp_v = tf.constant([[   1, 0],\n",
        "                     [  10, 0],\n",
        "                     [  100,5],\n",
        "                     [1000, 6]], dtype = tf.float32) # (4,2)\n",
        "\n",
        "temp_q = tf.constant([[0, 0, 10]], dtype=tf.float32) # (1, 3)"
      ],
      "metadata": {
        "id": "GrhSVrSSnpHq"
      },
      "execution_count": null,
      "outputs": []
    },
    {
      "cell_type": "code",
      "source": [
        "temp_out, temp_attn = scaled_dot_product_attention(temp_q, temp_k, temp_v, None)\n",
        "print(temp_attn) # 어텐션 분포 (어텐션 가중치의 나열)\n",
        "print(temp_out) # 어텐션 값"
      ],
      "metadata": {
        "colab": {
          "base_uri": "https://localhost:8080/"
        },
        "id": "5PbYW3cqoYwa",
        "outputId": "e7196b98-e379-4d59-a912-c6ca50cb15c7"
      },
      "execution_count": null,
      "outputs": [
        {
          "output_type": "stream",
          "name": "stdout",
          "text": [
            "tf.Tensor([[0.  0.  0.5 0.5]], shape=(1, 4), dtype=float32)\n",
            "tf.Tensor([[550.    5.5]], shape=(1, 2), dtype=float32)\n"
          ]
        }
      ]
    },
    {
      "cell_type": "code",
      "source": [
        "np.set_printoptions(suppress=True)\n",
        "temp_k = tf.constant([[10, 0, 0],\n",
        "                      [0, 10, 0],\n",
        "                      [0, 0, 10],\n",
        "                      [0, 0, 10]], dtype = tf.float32) # (4, 3)\n",
        "\n",
        "temp_v = tf.constant([[   1, 0],\n",
        "                     [  10, 0],\n",
        "                     [  100,5],\n",
        "                     [1000, 6]], dtype = tf.float32) # (4,2)\n",
        "\n",
        "temp_q = tf.constant([[0, 0, 10],\n",
        "                      [0, 10, 0],\n",
        "                      [10, 10, 0]], dtype=tf.float32) # (1, 3)"
      ],
      "metadata": {
        "id": "YTbj28ovoZxW"
      },
      "execution_count": null,
      "outputs": []
    },
    {
      "cell_type": "code",
      "source": [
        "temp_out, temp_attn = scaled_dot_product_attention(temp_q, temp_k, temp_v, None)\n",
        "print(temp_attn) # 어텐션 분포 (어텐션 가중치의 나열)\n",
        "print(temp_out) # 어텐션 값"
      ],
      "metadata": {
        "colab": {
          "base_uri": "https://localhost:8080/"
        },
        "id": "NJix9a77pAW7",
        "outputId": "a70855b0-fedc-47b0-adbe-f7803990f4f7"
      },
      "execution_count": null,
      "outputs": [
        {
          "output_type": "stream",
          "name": "stdout",
          "text": [
            "tf.Tensor(\n",
            "[[0.  0.  0.5 0.5]\n",
            " [0.  1.  0.  0. ]\n",
            " [0.5 0.5 0.  0. ]], shape=(3, 4), dtype=float32)\n",
            "tf.Tensor(\n",
            "[[550.    5.5]\n",
            " [ 10.    0. ]\n",
            " [  5.5   0. ]], shape=(3, 2), dtype=float32)\n"
          ]
        }
      ]
    },
    {
      "cell_type": "markdown",
      "source": [
        "## Encoder"
      ],
      "metadata": {
        "id": "ADWYnVS5nUtU"
      }
    },
    {
      "cell_type": "markdown",
      "source": [
        "### 멀티-헤드 어텐션"
      ],
      "metadata": {
        "id": "1XROgqhWxbEe"
      }
    },
    {
      "cell_type": "markdown",
      "source": [
        "- 병렬 어텐션의 효과?  \n",
        "머리가 여러개이기 때문에, 여러 시점에서 상대방을 볼 수 있다!"
      ],
      "metadata": {
        "id": "QDQg2s-Nxj5f"
      }
    },
    {
      "cell_type": "markdown",
      "source": [
        "1. $W_Q$,$W_k$, $W_v$에 해당하는 $d_{model}$크기의 밀집층(Dense layer)을 지남  \n",
        "2. 지정된 헤드 수 (num_heads)만큼 나눈다.\n",
        "3. 스케일드 닷 어텐션\n",
        "4. 나눠졌던 헤드를 연결한다.\n",
        "5. $W_0$에 해당하는 밀집층을 지나게 된다."
      ],
      "metadata": {
        "id": "9AD-5r0axqK5"
      }
    },
    {
      "cell_type": "code",
      "source": [
        "class MultiHeadAttention(tf.keras.layers.Layer):\n",
        "    def __init__(self, d_model, num_heads, name=\"multi_head_attention\"):\n",
        "        super(MultiHeadAttention, self).__init__(name=name)\n",
        "        self.num_heads = num_heads\n",
        "        self.d_model = d_model\n",
        "\n",
        "        assert d_model % self.num_heads == 0  # assert 해당 내용이 만족하지않으면 오류메시지 발생\n",
        "\n",
        "        # d_model을 num_head로 나눈 값\n",
        "        # 논문 기준 512/8 = 64\n",
        "        self.depth = d_model // self.num_heads\n",
        "        \n",
        "        self.query_dense = tf.keras.layers.Dense(units = d_model)\n",
        "        self.key_dense = tf.keras.layers.Dense(units = d_model)\n",
        "        self.value_dense = tf.keras.layers.Dense(units = d_model)\n",
        "\n",
        "        # wo에 해당하는 밀집층을 정의\n",
        "        self.dense = tf.keras.layers.Dense(units = d_model)\n",
        "\n",
        "        # num_heads 갯수만큼 q, k, v를 split하는 함수\n",
        "    \n",
        "    def split_heads(self, inputs, batch_size):\n",
        "        inputs = tf.reshape(\n",
        "            inputs, shape = (batch_size, -1, self.num_heads, self.depth))\n",
        "        return tf.transpose(inputs, perm=[0, 2, 1, 3])\n",
        "\n",
        "    def call(self, inputs):\n",
        "        query, key, value, mask = inputs['query'], inputs['key'], inputs['value'], inputs['mask']\n",
        "        batch_size = tf.shape(query)[0]\n",
        "\n",
        "        # 1. Wq, Wk, Wv에 해당하는 밀집층 지나기\n",
        "        # q : (batch_size, query의 문장 길이, d_model)\n",
        "        # k : (batch_size, key이 문장 길이, d_model)\n",
        "        # v : (batch_size, value의 문장 길이, d_model)\n",
        "        # 참고사항 ) 인코더 (k, v) - 디코더 (q) 어텐션에서는 query길이와 key, value의 길이는 다를 수 있다!\n",
        "        query = self.query_dense(query) \n",
        "        key = self.key_dense(key) \n",
        "        value = self.value_dense(value)\n",
        "\n",
        "        # 2. 헤드 나누기\n",
        "        # q : (batch_size, num_heads, query의 문장 길이, d_model/num_heads)\n",
        "        # k : (batch_size, num_heads, key의 문장 길이, d_model/num_heads)\n",
        "        # v : (batch_size, num_heads, value의 문장 길이, d_model/num_heads)\n",
        "        query = self.split_heads(query, batch_size)\n",
        "        key = self.split_heads(key, batch_size)\n",
        "        value = self.split_heads(value, batch_size)\n",
        "\n",
        "        # 3. 스케일드 닷 프로덕트 어텐션.\n",
        "        # (batch_size, num_heads, query의 문장 길이, d_model/num_heads)\n",
        "        scaled_attention, _ = scaled_dot_product_attention(query, key, value, mask)\n",
        "\n",
        "        # (batch_size, query의 문장길이, num_heads, d_mdoel/num_heads)\n",
        "        scaled_attention = tf.transpose(scaled_attention, perm = [0,2,1,3])\n",
        "\n",
        "        # 4. 헤드 연결 (concatenate)하기\n",
        "        # (batch_size, query의 문장 길이, d_model)\n",
        "        concat_attention = tf.reshape(scaled_attention,\n",
        "                                      (batch_size, -1, self.d_model))\n",
        "        # -1 차원 축소\n",
        "\n",
        "        # 5. W0에 해당하는 밀집층 지나기\n",
        "        # (batch_size, query의 문장 길이, d_model)\n",
        "        outputs = self.dense(concat_attention)\n",
        "\n",
        "        return outputs"
      ],
      "metadata": {
        "id": "56udfcnHpEs2"
      },
      "execution_count": null,
      "outputs": []
    },
    {
      "cell_type": "markdown",
      "source": [
        "### 패딩 마스크"
      ],
      "metadata": {
        "id": "CijnDS3M7c9T"
      }
    },
    {
      "cell_type": "code",
      "source": [
        "def create_padding_mask(x):\n",
        "    mask = tf.cast(tf.math.equal(x, 0), tf.float32)\n",
        "\n",
        "    # (batch_size, 1, 1, key의 문장 길이)\n",
        "    return mask[:, tf.newaxis, tf.newaxis, :]"
      ],
      "metadata": {
        "id": "4N071eG81MYJ"
      },
      "execution_count": null,
      "outputs": []
    },
    {
      "cell_type": "code",
      "source": [
        "print(create_padding_mask(tf.constant([[1, 21, 777, 0 ,0]])))"
      ],
      "metadata": {
        "colab": {
          "base_uri": "https://localhost:8080/"
        },
        "id": "txfDpxCp7yX6",
        "outputId": "aa5cc3dd-1bf1-4187-8e7e-73aea708271a"
      },
      "execution_count": null,
      "outputs": [
        {
          "output_type": "stream",
          "name": "stdout",
          "text": [
            "tf.Tensor([[[[0. 0. 0. 1. 1.]]]], shape=(1, 1, 1, 5), dtype=float32)\n"
          ]
        }
      ]
    },
    {
      "cell_type": "markdown",
      "source": [
        "### 포지션 와이즈 피드 포워드 신경망(Position-wise FFNN)"
      ],
      "metadata": {
        "id": "QdJiW5ff8RKF"
      }
    },
    {
      "cell_type": "markdown",
      "source": [
        "```\n",
        "outputs = tf.keras.layers.Dense(units=dff, activation='relu')(attention)\n",
        "outputs = tf.keras.layers.Dense(units=d_model)(outputs)\n",
        "```"
      ],
      "metadata": {
        "id": "HYoT2EYC8Wlb"
      }
    },
    {
      "cell_type": "markdown",
      "source": [
        "## 인코더 구현"
      ],
      "metadata": {
        "id": "KoQwJRE58sif"
      }
    },
    {
      "cell_type": "code",
      "source": [
        "def encoder_layer(dff, d_model, num_heads, dropout, name=\"encoder_layer\"):\n",
        "    inputs = tf.keras.layers.Input(shape=(None, d_model), name=\"inputs\")\n",
        "\n",
        "    # 인코더는 패딩 마스크 사용\n",
        "    padding_mask = tf.keras.layers.Input(shape=(1, 1, None), name = \"padding_mask\")\n",
        "\n",
        "    # 멀티 헤드 어텐션 (첫 번째 서브층/ 셀프 어텐션)\n",
        "    attention = MultiHeadAttention(\n",
        "        d_model, num_heads, name=\"attention\")({\n",
        "            'query' : inputs, 'key' : inputs, 'value' : inputs,\n",
        "            'mask' : padding_mask \n",
        "        })\n",
        "    \n",
        "    # 드롭 아웃 + skip connection + layer normalization\n",
        "    attention = tf.keras.layers.Dropout(rate=dropout)(attention)\n",
        "    attention = tf.keras.layers.LayerNormalization(\n",
        "        epsilon=1e-6)(inputs + attention)\n",
        "    \n",
        "    # 포지션 와이즈 피드 포워드 신경망 (두 번째 서브층)\n",
        "    outputs = tf.keras.layers.Dense(units = dff, activation = 'relu')(attention)\n",
        "    outputs = tf.keras.layers.Dense(units = d_model)(outputs)\n",
        "\n",
        "    # 드롭 아웃 + skip connection + layer normalization\n",
        "    outputs = tf.keras.layers.Dropout(rate=dropout)(outputs)\n",
        "    outputs = tf.keras.layers.LayerNormalization(\n",
        "        epsilon=1e-6)(outputs + attention)\n",
        "\n",
        "    return tf.keras.Model(\n",
        "        inputs= [inputs, padding_mask], outputs = outputs, name= name\n",
        "    )\n"
      ],
      "metadata": {
        "id": "kNnoNOY1743n"
      },
      "execution_count": null,
      "outputs": []
    },
    {
      "cell_type": "markdown",
      "source": [
        "## 인코더 쌓기"
      ],
      "metadata": {
        "id": "ZrV8K3DQ-P8F"
      }
    },
    {
      "cell_type": "code",
      "source": [
        "def encoder(vocab_size, num_layers, dff, d_model, num_heads, dropout, name=\"encoder\"):\n",
        "    inputs = tf.keras.layers.Input(shape=(None, ), name='inputs')\n",
        "\n",
        "    # 인코더는 패딩 마스크 사용\n",
        "    padding_mask = tf.keras.layers.Input(shape= (1, 1, None), name=\"padding_mask\")\n",
        "\n",
        "    # 포지셔널 인코딩 + 드롭아웃\n",
        "    embeddings = tf.keras.layers.Embedding(vocab_size, d_model)(inputs)\n",
        "    embeddings *= tf.math.sqrt(tf.cast(d_model, tf.float32))\n",
        "\n",
        "    embeddings = PositionalEncoding(vocab_size, d_model)(embeddings)\n",
        "    outputs = tf.keras.layers.Dropout(rate=dropout)(embeddings)\n",
        "\n",
        "    # 인코더를 num_layers개 쌓기\n",
        "    for i in range(num_layers):\n",
        "        outputs = encoder_layer(dff=dff, d_model=d_model, num_heads=num_heads, dropout=dropout, name=\"encoder_layer_{}\".format(i),\n",
        "                                )([outputs, padding_mask])\n",
        "    \n",
        "    return tf.keras.Model(\n",
        "        inputs=[inputs, padding_mask], outputs=outputs, name= name\n",
        "    )"
      ],
      "metadata": {
        "id": "-xrvoCJ1-J76"
      },
      "execution_count": null,
      "outputs": []
    },
    {
      "cell_type": "markdown",
      "source": [
        "## Decoder"
      ],
      "metadata": {
        "id": "b7FRsc6MX_Yd"
      }
    },
    {
      "cell_type": "markdown",
      "source": [
        "### 디코더의 첫번째 서브층 : self 어텐션과 룩-헤드 마스크"
      ],
      "metadata": {
        "id": "nWBG-R_IZtiX"
      }
    },
    {
      "cell_type": "markdown",
      "source": [
        "- 인코더에 있는 self 어텐션 : 패딩마스크를 전달\n",
        "- 디코더와 첫번째 서브층인 masked self attention : 룩-어 헤드 마스크 전달\n",
        "- 디코더와 두번째 서브층인 인코더 - 디코더 어텐션  패딩마스크를 전달"
      ],
      "metadata": {
        "id": "vLl6UvHFZxil"
      }
    },
    {
      "cell_type": "code",
      "source": [
        "def create_look_ahead_mask(x):\n",
        "    seq_len = tf.shape(x)[1]\n",
        "    look_ahead_mask = 1- tf.linalg.band_part(tf.ones((seq_len, seq_len)), -1, 0)\n",
        "    padding_mask = create_padding_mask(x) # 패딩 마스크 포함\n",
        "    return tf.maximum(look_ahead_mask, padding_mask)"
      ],
      "metadata": {
        "id": "nIri1Cq9_W1P"
      },
      "execution_count": null,
      "outputs": []
    },
    {
      "cell_type": "code",
      "source": [
        "print(create_look_ahead_mask(tf.constant([[1, 2, 0, 4, 5]])))"
      ],
      "metadata": {
        "colab": {
          "base_uri": "https://localhost:8080/"
        },
        "id": "Nkwk2n7QaUE_",
        "outputId": "442b882b-ac0a-4da8-9ec5-f60ac9c3fd6b"
      },
      "execution_count": null,
      "outputs": [
        {
          "output_type": "stream",
          "name": "stdout",
          "text": [
            "tf.Tensor(\n",
            "[[[[0. 1. 1. 1. 1.]\n",
            "   [0. 0. 1. 1. 1.]\n",
            "   [0. 0. 1. 1. 1.]\n",
            "   [0. 0. 1. 0. 1.]\n",
            "   [0. 0. 1. 0. 0.]]]], shape=(1, 1, 5, 5), dtype=float32)\n"
          ]
        }
      ]
    },
    {
      "cell_type": "markdown",
      "source": [
        "### 디코더의 두번째 서브층 : 인코더-디코더 어텐션"
      ],
      "metadata": {
        "id": "pU71J7vmbD_-"
      }
    },
    {
      "cell_type": "markdown",
      "source": [
        "- 인코더의 첫번째 서브층 : Query = Key = Value\n",
        "- 디코더의 첫번째 서브층 : Query = Key = Value\n",
        "- 디코더의 두번째 서브층 : Query(디코더행렬) // Key = value(인코더행렬)"
      ],
      "metadata": {
        "id": "lOoYk74tbZSl"
      }
    },
    {
      "cell_type": "code",
      "source": [
        "def decoder_layer(dff, d_model, num_heads, dropout, name=\"decoder_layer\"):\n",
        "    inputs = tf.keras.layers.Input(shape=(None, d_model), name= \"inputs\")\n",
        "    enc_outputs = tf.keras.layers.Input(shape=(None, d_model), name=\"encoder_outputs\")\n",
        "\n",
        "    # 디코더는 룩어헤드 마스크 (첫 번째 서브층)와 패딩 마스크(두번째 서브층) 둘 다 사용\n",
        "    look_ahead_mask = tf.keras.layers.Input(\n",
        "        shape = (1, None, None), name = \"look_ahead_mask\")\n",
        "    padding_mask = tf.keras.Input(shape=(1, 1, None), name = \"padding_mask\")\n",
        "    \n",
        "    # 멀티-헤드 어텐션 (첫 번째 서브층 / 마스크드 셀프 어텐션)\n",
        "    attention1 = MultiHeadAttention(\n",
        "        d_model, num_heads, name=\"attention_1\")(inputs = {\n",
        "            'query' : inputs, 'key' : inputs, 'value': inputs, # Q = K = V\n",
        "            'mask' : look_ahead_mask # 룩어 헤드 마스크\n",
        "        })\n",
        "\n",
        "    # 잔차 연결 (skip connection) & layer normalization\n",
        "    attention1 = tf.keras.layers.LayerNormalization(\n",
        "        epsilon=1e-6)(attention1 + inputs)\n",
        "    \n",
        "    # 멀티-헤드 어텐션 (두 번째 서브층 / 디코더-인코더 어텐션)\n",
        "    attention2 = MultiHeadAttention(\n",
        "        d_model, num_heads, name=\"attention_2\")(inputs = {\n",
        "            'query' : attention1, 'key' : enc_outputs, 'value': enc_outputs, # Q = K = V\n",
        "            'mask' : padding_mask # 패딩 마스크\n",
        "        })\n",
        "    \n",
        "    # 드롭아웃 + 잔차 연결 + layer정규화\n",
        "    attention2 = tf.keras.layers.Dropout(rate=dropout)(attention2)\n",
        "    attention2 = tf.keras.layers.LayerNormalization(\n",
        "        epsilon=1e-6)(attention2 + attention1)\n",
        "    \n",
        "    # 포지션 와이즈 피드 포워드 신경망 (세 번째 서브층)\n",
        "    outputs = tf.keras.layers.Dense(units=dff, activation = 'relu')(attention2)\n",
        "    outputs = tf.keras.layers.Dense(units=d_model)(outputs)\n",
        "\n",
        "    # 드롭아웃 + 잔차 연결 + layer정규화\n",
        "    outputs = tf.keras.layers.Dropout(rate=dropout)(outputs)\n",
        "    outputs = tf.keras.layers.LayerNormalization(\n",
        "        epsilon=1e-6)(outputs + attention2)\n",
        "    \n",
        "    return tf.keras.Model(inputs = [inputs, enc_outputs, look_ahead_mask, padding_mask], outputs=outputs, name= name)"
      ],
      "metadata": {
        "id": "i147WqSiaZMU"
      },
      "execution_count": null,
      "outputs": []
    },
    {
      "cell_type": "markdown",
      "source": [
        "## 디코더 쌓기"
      ],
      "metadata": {
        "id": "SbOkfZk6kl85"
      }
    },
    {
      "cell_type": "code",
      "source": [
        "def decoder(vocab_size, num_layers, dff, d_model, num_heads, dropout, name='decoder'):\n",
        "    inputs = tf.keras.Input(shape=(None,), name='inputs')\n",
        "    enc_outputs = tf.keras.Input(shape=(None, d_model), name='encoder_outputs')\n",
        "\n",
        "    # 디코더 룩어헤드 마스크(첫 번째 서브층)와 패딩 마스크(두 번째 서브층) 둘 다 사용\n",
        "    look_ahead_mask = tf.keras.Input(\n",
        "        shape = (1, None, None), name='look_ahead_mask')\n",
        "    padding_mask = tf.keras.Input(shape=(1, 1, None), name='padding_mask')\n",
        "\n",
        "    # 포지셔널 인코딩 + 드롭아웃\n",
        "    embeddings = tf.keras.layers.Embedding(vocab_size, d_model)(inputs)\n",
        "    embeddings *= tf.math.sqrt(tf.cast(d_model, tf.float32))\n",
        "    embeddings = PositionalEncoding(vocab_size, d_model)(embeddings)\n",
        "    outputs = tf.keras.layers.Dropout(rate=dropout)(embeddings)\n",
        "\n",
        "    # 디코더를 num_layers개 쌓기\n",
        "    for i in range(num_layers):\n",
        "        outputs = decoder_layer(dff=dff, d_model=d_model, num_heads=num_heads,\n",
        "                                dropout=dropout, name= 'decoder_layer_{}'.format(i),\n",
        "                                )(inputs=[outputs, enc_outputs, look_ahead_mask, padding_mask])\n",
        "        \n",
        "    return tf.keras.Model(inputs=[inputs, enc_outputs, look_ahead_mask, padding_mask], outputs=outputs, name=name) "
      ],
      "metadata": {
        "id": "jY9yeinAf33u"
      },
      "execution_count": null,
      "outputs": []
    },
    {
      "cell_type": "markdown",
      "source": [
        "## 트랜스포머 구현하기"
      ],
      "metadata": {
        "id": "JtMwh_PznM7X"
      }
    },
    {
      "cell_type": "code",
      "source": [
        "def transformer(vocab_size, num_layers, dff, d_model, num_heads, dropout, name='transformer'):\n",
        "    \n",
        "    # 인코더 입력\n",
        "    inputs = tf.keras.Input(shape=(None,), name ='inputs')\n",
        "\n",
        "    # 디코더 입력\n",
        "    dec_inputs = tf.keras.Input(shape=(None,), name='dec_inputs')\n",
        "\n",
        "    # 인코더의 패딩 마스크\n",
        "    enc_padding_mask = tf.keras.layers.Lambda(\n",
        "        create_padding_mask, output_shape=(1, 1, None),\n",
        "        name = 'enc_padding_mask')(inputs)\n",
        "    \n",
        "    # 디코더의 룩어헤드 마스크 (첫 번째 서브층)\n",
        "    look_ahead_mask = tf.keras.layers.Lambda(\n",
        "        create_look_ahead_mask, output_shape=(1, None, None),\n",
        "        name='look_ahead_mask')(dec_inputs)\n",
        "\n",
        "    # 디코더의 패딩 마스크 (두 번째 서브층)\n",
        "    dec_padding_mask = tf.keras.layers.Lambda(\n",
        "        create_padding_mask, output_shape = (1, 1, None),\n",
        "        name= 'dec_padding_mask'\n",
        "    )(inputs)\n",
        "\n",
        "    # 인코더의 출력은 enc_outputs. 디코더로 전달된다.\n",
        "    enc_outputs = encoder(vocab_size= vocab_size, num_layers=num_layers, dff=dff,\n",
        "                          d_model=d_model, num_heads=num_heads, dropout= dropout,\n",
        "                          )(inputs=[inputs, enc_padding_mask]) # 인코더의 입력은 입력문장과 패딩마스크\n",
        "    \n",
        "    # 디코더의 출력은 dec_outputs. 출력층으로 전달된다.\n",
        "    dec_outputs = decoder(vocab_size=vocab_size, num_layers=num_layers, dff=dff,\n",
        "                          d_model=d_model, num_heads=num_heads, dropout= dropout,\n",
        "                          )(inputs=[dec_inputs, enc_outputs, look_ahead_mask, dec_padding_mask])\n",
        "\n",
        "    # 다음 단어 예측을 위한 출력층\n",
        "    outputs = tf.keras.layers.Dense(units = vocab_size, name = 'outputs')(dec_outputs)\n",
        "\n",
        "    return tf.keras.Model(inputs=[inputs, dec_inputs], outputs= outputs, name=name)"
      ],
      "metadata": {
        "id": "jT7STEIcm5gy"
      },
      "execution_count": null,
      "outputs": []
    },
    {
      "cell_type": "markdown",
      "source": [
        "## 트랜스포머 하이퍼파라미터 정하기"
      ],
      "metadata": {
        "id": "YgSaFetqp8AP"
      }
    },
    {
      "cell_type": "code",
      "source": [
        "small_transformer = transformer(\n",
        "    vocab_size = 9000,\n",
        "    num_layers = 4,\n",
        "    dff = 512,\n",
        "    d_model = 128,\n",
        "    num_heads = 4,\n",
        "    dropout = 0.3,\n",
        "    name = \"small_transformer\"\n",
        ")\n",
        "\n",
        "tf.keras.utils.plot_model(\n",
        "    small_transformer, to_file=\"small_transformer.png\", show_shapes=True\n",
        ")"
      ],
      "metadata": {
        "colab": {
          "base_uri": "https://localhost:8080/",
          "height": 251
        },
        "id": "zcHvm-cip1cC",
        "outputId": "ef0e9948-04ee-4ea0-a540-4043ac145819"
      },
      "execution_count": null,
      "outputs": [
        {
          "output_type": "stream",
          "name": "stdout",
          "text": [
            "(1, 9000, 128)\n",
            "(1, 9000, 128)\n"
          ]
        },
        {
          "output_type": "execute_result",
          "data": {
            "text/plain": [
              "<IPython.core.display.Image object>"
            ],
            "image/png": "[encoded data removed]"
          },
          "metadata": {},
          "execution_count": 48
        }
      ]
    },
    {
      "cell_type": "markdown",
      "source": [
        "# 손실 함수 정의하기"
      ],
      "metadata": {
        "id": "pX8i7nVMuUz4"
      }
    },
    {
      "cell_type": "markdown",
      "source": [
        "다중 클래스 분류 문제를 풀기 때문에 크로스 엔트로피 함수를 손실 함수로 정의한다."
      ],
      "metadata": {
        "id": "0bN4YG4i0Qhh"
      }
    },
    {
      "cell_type": "code",
      "source": [
        "def loss_function(y_true, y_pred):\n",
        "    y_true = tf.reshape(y_true, shape=(-1, MAX_LENGTH -1))\n",
        "\n",
        "    loss = tf.keras.losses.SparseCategoricalCrossentropy(\n",
        "        from_logits =True, reduction='none'\n",
        "    )(y_true, y_pred)\n",
        "\n",
        "    mask = tf.cast(tf.not_equal(y_true, 0), tf.float32)\n",
        "    loss = tf.multiply(loss, mask)\n",
        "\n",
        "    return tf.reduce_mean(loss)"
      ],
      "metadata": {
        "id": "oULj4v63qzOX"
      },
      "execution_count": null,
      "outputs": []
    },
    {
      "cell_type": "markdown",
      "source": [
        "## 학습률 (learning rate Scheduler)"
      ],
      "metadata": {
        "id": "R4COk2VcuXMx"
      }
    },
    {
      "cell_type": "markdown",
      "source": [
        "학습률 스케쥴러 : 미리 학습 일정을 정해두고 그 일정에 따라 학습률이 조정되는 방법"
      ],
      "metadata": {
        "id": "hH5iy-kQu0Pj"
      }
    },
    {
      "cell_type": "markdown",
      "source": [
        "$$ lrate = d^{-0.5}_{model} × min (step\\_num^{-0.5}, step\\_num × warmup\\_steps^{-1.5}) $$"
      ],
      "metadata": {
        "id": "boo__QfAuauc"
      }
    },
    {
      "cell_type": "markdown",
      "source": [
        "- step_num(단계)란 옵티마이저가 매개변수를 업데이터 하는 한 번의 진행 횟수를 의미\n",
        "- warmup_steps : step_num이 warmup_steps보다 작을 경우 학습률을 선형적으로 증가시키고, step_num이 warmup_step에 도달하게 되면 학습률을 step_num의 역제곱근에 따라서 감소"
      ],
      "metadata": {
        "id": "s6JlDRpbu6st"
      }
    },
    {
      "cell_type": "code",
      "source": [
        "class CustomSchedule(tf.keras.optimizers.schedules.LearningRateSchedule):\n",
        "    def __init__(self, d_model, warmup_steps=4000):\n",
        "        super(CustomSchedule, self).__init__()\n",
        "        self.d_model = d_model\n",
        "        self.d_model = tf.cast(self.d_model, tf.float32)\n",
        "        self.warmup_steps = warmup_steps\n",
        "\n",
        "    def __call__(self, step):\n",
        "        arg1 = tf.math.rsqrt(step)\n",
        "        arg2 = step * (self.warmup_steps ** (-1.5))\n",
        "\n",
        "        return tf.math.rsqrt(self.d_model) * tf.math.minimum(arg1, arg2)"
      ],
      "metadata": {
        "id": "lWVGbHmTuYyN"
      },
      "execution_count": null,
      "outputs": []
    },
    {
      "cell_type": "code",
      "source": [
        "sample_learning_rate = CustomSchedule(d_model=128)\n",
        "\n",
        "plt.plot(sample_learning_rate(tf.range(20000, dtype=tf.float32)))\n",
        "plt.ylabel('Learning Rate')\n",
        "plt.xlabel('Train Step')"
      ],
      "metadata": {
        "colab": {
          "base_uri": "https://localhost:8080/",
          "height": 297
        },
        "id": "P8UNTp9D3u_p",
        "outputId": "fa9649c0-4fac-4a0d-c632-dfb970ab0d61"
      },
      "execution_count": null,
      "outputs": [
        {
          "output_type": "execute_result",
          "data": {
            "text/plain": [
              "Text(0.5, 0, 'Train Step')"
            ]
          },
          "metadata": {},
          "execution_count": 51
        },
        {
          "output_type": "display_data",
          "data": {
            "text/plain": [
              "<Figure size 432x288 with 1 Axes>"
            ],
            "image/png": "[encoded data removed]"
          },
          "metadata": {
            "needs_background": "light"
          }
        }
      ]
    },
    {
      "cell_type": "code",
      "source": [
        ""
      ],
      "metadata": {
        "id": "6FsC4AGE4AZN"
      },
      "execution_count": null,
      "outputs": []
    }
  ]
}