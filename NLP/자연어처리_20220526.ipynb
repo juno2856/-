{
  "nbformat": 4,
  "nbformat_minor": 0,
  "metadata": {
    "colab": {
      "name": "자연어처리 20220526",
      "provenance": [],
      "collapsed_sections": [],
      "include_colab_link": true
    },
    "kernelspec": {
      "name": "python3",
      "display_name": "Python 3"
    },
    "language_info": {
      "name": "python"
    }
  },
  "cells": [
    {
      "cell_type": "markdown",
      "metadata": {
        "id": "view-in-github",
        "colab_type": "text"
      },
      "source": [
        "<a href=\"https://colab.research.google.com/github/juno2856/deeplearning/blob/master/NLP/%EC%9E%90%EC%97%B0%EC%96%B4%EC%B2%98%EB%A6%AC_20220526.ipynb\" target=\"_parent\"><img src=\"https://colab.research.google.com/assets/colab-badge.svg\" alt=\"Open In Colab\"/></a>"
      ]
    },
    {
      "cell_type": "markdown",
      "source": [
        "# seq2seq 모델"
      ],
      "metadata": {
        "id": "q0MlIIp8wfZI"
      }
    },
    {
      "cell_type": "markdown",
      "source": [
        "![](https://aiffelstaticprd.blob.core.windows.net/media/images/GN-4-L-7.max-800x600.jpg)"
      ],
      "metadata": {
        "id": "BYf-_1t1wiII"
      }
    },
    {
      "cell_type": "markdown",
      "source": [
        "## Encoder 구현"
      ],
      "metadata": {
        "id": "SUO9UmWfwk2Q"
      }
    },
    {
      "cell_type": "markdown",
      "source": [
        "![](https://aiffelstaticprd.blob.core.windows.net/media/images/GN-4-L-6.max-800x600.jpg)"
      ],
      "metadata": {
        "id": "lCPSBCPdwnNf"
      }
    },
    {
      "cell_type": "code",
      "execution_count": null,
      "metadata": {
        "id": "aT83VDAopzxr"
      },
      "outputs": [],
      "source": [
        "import tensorflow as tf"
      ]
    },
    {
      "cell_type": "code",
      "source": [
        "class Encoder(tf.keras.Model):\n",
        "    def __init__(self, vocab_size, embedding_dim, enc_units):\n",
        "        super(Encoder, self).__init__()\n",
        "        self.embedding = tf.keras.layers.Embedding(vocab_size, embedding_dim) #( 변수 1, 변수 2) # 나는 밥을 먹었어\n",
        "        self.lstm = tf.keras.layers.LSTM(enc_units) #( 변수 3 )\n",
        "    \n",
        "    def call(self, x):\n",
        "        print(\"입력 shape :\", x.shape) # sample input // 춤 추는 소시지 \n",
        "\n",
        "        x = self.embedding(x)\n",
        "        print(\"Embedding Layer를 거친 shape :\", x.shape)\n",
        "\n",
        "        output = self.lstm(x)\n",
        "        print(\"LSTM shape의 output shape :\", output.shape)\n",
        "        \n",
        "        return output"
      ],
      "metadata": {
        "id": "slWrhuY1wuw5"
      },
      "execution_count": null,
      "outputs": []
    },
    {
      "cell_type": "code",
      "source": [
        "vocab_size = 30000\n",
        "emb_size = 256\n",
        "lstm_size = 512\n",
        "batch_size = 1\n",
        "sample_seq_len = 3\n",
        "\n",
        "print(\"Vocab Size : {0}\".format(vocab_size))\n",
        "print(\"Embedding Size : {0}\".format(emb_size))\n",
        "print(\"LSTM Size : {0}\".format(lstm_size))\n",
        "print(\"Batch_size : {0}\".format(batch_size))\n",
        "print(\"Sample Sequence Length : {0}\".format(sample_seq_len))"
      ],
      "metadata": {
        "id": "2mgOnbTXxCMX",
        "colab": {
          "base_uri": "https://localhost:8080/"
        },
        "outputId": "2fe9f5b7-f3df-4987-8593-9594c57e8c55"
      },
      "execution_count": null,
      "outputs": [
        {
          "output_type": "stream",
          "name": "stdout",
          "text": [
            "Vocab Size : 30000\n",
            "Embedding Size : 256\n",
            "LSTM Size : 512\n",
            "Batch_size : 1\n",
            "Sample Sequence Length : 3\n"
          ]
        }
      ]
    },
    {
      "cell_type": "code",
      "source": [
        "encoder = Encoder(vocab_size, emb_size, lstm_size) #vocab_size, embedding_dim, enc_units):\n",
        "sample_input = tf.zeros((batch_size, sample_seq_len)) # 춤 추는 소시지\n",
        "\n",
        "sample_output = encoder(sample_input)"
      ],
      "metadata": {
        "id": "T0nOgRrexIzw",
        "colab": {
          "base_uri": "https://localhost:8080/"
        },
        "outputId": "1137980a-5a91-467f-c606-b8a623ab4460"
      },
      "execution_count": null,
      "outputs": [
        {
          "output_type": "stream",
          "name": "stdout",
          "text": [
            "입력 shape : (1, 3)\n",
            "Embedding Layer를 거친 shape : (1, 3, 256)\n",
            "LSTM shape의 output shape : (1, 512)\n"
          ]
        }
      ]
    },
    {
      "cell_type": "markdown",
      "source": [
        "## Decoder 구현"
      ],
      "metadata": {
        "id": "YaCFAU30xPMf"
      }
    },
    {
      "cell_type": "markdown",
      "source": [
        "![](https://aiffelstaticprd.blob.core.windows.net/media/images/GN-4-L-7.max-800x600.jpg)"
      ],
      "metadata": {
        "id": "dFRBUyamxRYf"
      }
    },
    {
      "cell_type": "code",
      "source": [
        "class Decoder(tf.keras.Model):\n",
        "    def __init__(self, vocab_size, embedding_dim, dec_units):\n",
        "        super(Decoder, self).__init__()\n",
        "        self.embedding = tf.keras.layers.Embedding(vocab_size, embedding_dim) #(변수 1, 변수 2)\n",
        "        self.lstm = tf.keras.layers.LSTM(dec_units, return_sequences=True) #(변수 3, return_sequences=True) ####\n",
        "        self.fc = tf.keras.layers.Dense(vocab_size) #(변수 4)\n",
        "        self.softmax = tf.keras.layers.Softmax(axis = -1) # None (변수 5)\n",
        "\n",
        "    def call(self, x, context_v):\n",
        "        print(\"입력 shape : \", x.shape)\n",
        "\n",
        "        x = self.embedding(x)   # (1,3,256)\n",
        "        print(\"Embedding layer를 거친 shape\", x.shape)\n",
        "\n",
        "        context_v = tf.repeat(tf.expand_dims(context_v, axis=1), repeats=x.shape[1], axis=1) # (1,512) -> (1,1,512)\n",
        "        x = tf.concat([x, context_v], axis= -1) # [변수 1, 변수 2], axis = -1)\n",
        "        print('Context Vector가 더해진 shape : ', x.shape)\n",
        "\n",
        "        x = self.lstm(x)\n",
        "        print(\"LSTM layer의 output layer : \", x.shape)\n",
        "\n",
        "        output = self.fc(x)\n",
        "        print(\"Decoder의 최종 ouput layer : \", output.shape)\n",
        "\n",
        "        output = self.softmax(output)\n",
        "\n",
        "        return output"
      ],
      "metadata": {
        "id": "QNPaQgSVxNvG"
      },
      "execution_count": null,
      "outputs": []
    },
    {
      "cell_type": "code",
      "source": [
        "vocab_size = 30000\n",
        "emb_size = 256\n",
        "lstm_size = 512\n",
        "batch_size = 1\n",
        "sample_seq_len = 3\n",
        "\n",
        "print(\"Vocab Size : {0}\".format(vocab_size))\n",
        "print(\"Embedding Size : {0}\".format(emb_size))\n",
        "print(\"LSTM Size : {0}\".format(lstm_size))\n",
        "print(\"Batch_size : {0}\".format(batch_size))\n",
        "print(\"Sample Sequence Length : {0}\".format(sample_seq_len))"
      ],
      "metadata": {
        "id": "zmLtmubHxzyX",
        "colab": {
          "base_uri": "https://localhost:8080/"
        },
        "outputId": "1a736321-b744-4721-9496-2babd276e1dc"
      },
      "execution_count": null,
      "outputs": [
        {
          "output_type": "stream",
          "name": "stdout",
          "text": [
            "Vocab Size : 30000\n",
            "Embedding Size : 256\n",
            "LSTM Size : 512\n",
            "Batch_size : 1\n",
            "Sample Sequence Length : 3\n"
          ]
        }
      ]
    },
    {
      "cell_type": "code",
      "source": [
        "decoder = Decoder(vocab_size, emb_size, lstm_size)\n",
        "sample_input = tf.zeros((batch_size, sample_seq_len)) # 춤 추는 소시지\n",
        "\n",
        "sample_output = decoder(sample_input, sample_output)"
      ],
      "metadata": {
        "id": "ZwalJJzKx0W-",
        "colab": {
          "base_uri": "https://localhost:8080/"
        },
        "outputId": "908108eb-78a1-4b86-90f2-df83f3ee99bb"
      },
      "execution_count": null,
      "outputs": [
        {
          "output_type": "stream",
          "name": "stdout",
          "text": [
            "입력 shape :  (1, 3)\n",
            "Embedding layer를 거친 shape (1, 3, 256)\n",
            "Context Vector가 더해진 shape :  (1, 3, 768)\n",
            "LSTM layer의 output layer :  (1, 3, 512)\n",
            "Decoder의 최종 ouput layer :  (1, 3, 30000)\n"
          ]
        }
      ]
    },
    {
      "cell_type": "markdown",
      "source": [
        "# Attention\n",
        "https://towardsdatascience.com/what-is-teacher-forcing-3da6217fed1c"
      ],
      "metadata": {
        "id": "I2rWe11Hyake"
      }
    },
    {
      "cell_type": "markdown",
      "source": [
        "- Bahdanau Attention\n",
        "$$ Score_{alignment} = W * tanh(W_{decoder} * H_{decoder} + W_{encoder} * H_{encoder}) $$"
      ],
      "metadata": {
        "id": "HVVLgiLHycqX"
      }
    },
    {
      "cell_type": "code",
      "source": [
        "import tensorflow as tf"
      ],
      "metadata": {
        "id": "W2CJ2qliyaxn"
      },
      "execution_count": null,
      "outputs": []
    },
    {
      "cell_type": "code",
      "source": [
        "class BahdanauAttention(tf.keras.layers.Layer):\n",
        "    def __init__(self, units):\n",
        "        super(BahdanauAttention, self).__init__()\n",
        "        self.w_decoder = tf.keras.layers.Dense(units)\n",
        "        self.w_encoder = tf.keras.layers.Dense(units)\n",
        "        self.w_combine = tf.keras.layers.Dense(1)\n",
        "    \n",
        "    def call(self, h_encoder, h_decoder):\n",
        "        print(\"[H_encoder] shape : \", h_encoder.shape)\n",
        "\n",
        "        h_encoder = self.w_encoder(h_encoder) # Wencoder∗Hencoder\n",
        "        print(\"[w_encoder x h_encoder] shape : \", h_encoder.shape)\n",
        "\n",
        "        print(\"\\n[H_decoder shape :\", h_decoder.shape)\n",
        "        h_decoder = tf.expand_dims(h_decoder, 1)\n",
        "        h_decoder = self.w_decoder(h_decoder)  # Wdecoder∗Hdecoder\n",
        "\n",
        "        print(\"[w_encoder x h_decoder] shape :\", h_decoder.shape)\n",
        "\n",
        "        score = self.w_combine(tf.nn.tanh(h_encoder+h_decoder)) # W\n",
        "        print(\"[score alinment] shape :\", score.shape)\n",
        "\n",
        "        attention_weights = tf.nn.softmax(score, axis = -1)\n",
        "        print(\"\\n최종 weight : \\n\", attention_weights.numpy())\n",
        "\n",
        "        context_vector = attention_weights * h_decoder\n",
        "        context_vector = tf.reduce_sum(context_vector, axis = 1) \n",
        "\n",
        "        return context_vector, attention_weights"
      ],
      "metadata": {
        "id": "9csARr_vyftu"
      },
      "execution_count": null,
      "outputs": []
    },
    {
      "cell_type": "code",
      "source": [
        "w_size = 100\n",
        "print(\"hidden state {0}차원으로 Mapping \\n\".format(w_size))\n",
        "\n",
        "attention = BahdanauAttention(w_size)\n",
        "\n",
        "enc_state = tf.random.uniform((1, 10, 512)) # ex 한글 embedding value \n",
        "dec_state = tf.random.uniform((1, 512)) # ex  영어 embedding value\n",
        "\n",
        "_ = attention(enc_state, dec_state)"
      ],
      "metadata": {
        "id": "TdSyZrAnzUQk",
        "colab": {
          "base_uri": "https://localhost:8080/"
        },
        "outputId": "00ffb23c-0a8a-4629-861a-a780f6b5240f"
      },
      "execution_count": null,
      "outputs": [
        {
          "output_type": "stream",
          "name": "stdout",
          "text": [
            "hidden state 100차원으로 Mapping \n",
            "\n",
            "[H_encoder] shape :  (1, 10, 512)\n",
            "[w_encoder x h_encoder] shape :  (1, 10, 100)\n",
            "\n",
            "[H_decoder shape : (1, 512)\n",
            "[w_encoder x h_decoder] shape : (1, 1, 100)\n",
            "[score alinment] shape : (1, 10, 1)\n",
            "\n",
            "최종 weight : \n",
            " [[[1.]\n",
            "  [1.]\n",
            "  [1.]\n",
            "  [1.]\n",
            "  [1.]\n",
            "  [1.]\n",
            "  [1.]\n",
            "  [1.]\n",
            "  [1.]\n",
            "  [1.]]]\n"
          ]
        }
      ]
    },
    {
      "cell_type": "markdown",
      "source": [
        "![](https://aiffelstaticprd.blob.core.windows.net/media/original_images/GN-4-L-9.jpg)"
      ],
      "metadata": {
        "id": "E-Fw7WBDzX18"
      }
    },
    {
      "cell_type": "markdown",
      "source": [
        "# Loung Attention"
      ],
      "metadata": {
        "id": "eSfQTfeGzbLc"
      }
    },
    {
      "cell_type": "markdown",
      "source": [
        "$$ Score(H_{target},H_{source}) = H_{target}^T * W_{combine} * H_{source}$$"
      ],
      "metadata": {
        "id": "gu8BHyqmzc2O"
      }
    },
    {
      "cell_type": "code",
      "source": [
        "class LuongAttention(tf.keras.layers.Layer):\n",
        "    def __init__(self, units):\n",
        "        super(LuongAttention, self).__init__()\n",
        "        self.w_combine = tf.keras.layers.Dense(units)\n",
        "\n",
        "    def call(self, h_encoder, h_decoder):\n",
        "        print(\"[h_encoder] shape : \", h_encoder.shape)\n",
        "\n",
        "        wh = self.w_combine(h_encoder)  # Wcombine∗Hsource\n",
        "        print(\"[W_encoder x h_encoder] shape :\", wh.shape)\n",
        "\n",
        "        h_decoder = tf.expand_dims(h_decoder, 1) # 차원 늘리기 \n",
        "        alignment = tf.matmul(wh, tf.transpose(h_decoder,[0,2,1]))  #HTtarget∗Wcombine∗Hsource\n",
        "        print(\"[Score alignment] shape : \", alignment.shape)\n",
        "\n",
        "        attention_weights = tf.nn.softmax(alignment, axis = 1)\n",
        "        print(\"\\n 최종 weight : \\n\", attention_weights.numpy())\n",
        "\n",
        "        attention_weights = tf.squeeze(attention_weights, axis= -1) # 차원 줄이기 \n",
        "        context_vector = tf.matmul(attention_weights, h_encoder)\n",
        "\n",
        "        return context_vector, attention_weights"
      ],
      "metadata": {
        "id": "UO1Xn8V5zbXt"
      },
      "execution_count": null,
      "outputs": []
    },
    {
      "cell_type": "code",
      "source": [
        "emb_dim = 512\n",
        "attention = LuongAttention(emb_size)\n",
        "\n",
        "enc_state = tf.random.uniform((1, 10, emb_size))\n",
        "dec_state = tf.random.uniform((1, emb_size))\n",
        "\n",
        "_ = attention(enc_state, dec_state)"
      ],
      "metadata": {
        "id": "qd-KxPyKzo5l",
        "colab": {
          "base_uri": "https://localhost:8080/"
        },
        "outputId": "90991004-20ee-440b-c713-6acf1d146c77"
      },
      "execution_count": null,
      "outputs": [
        {
          "output_type": "stream",
          "name": "stdout",
          "text": [
            "[h_encoder] shape :  (1, 10, 256)\n",
            "[W_encoder x h_encoder] shape : (1, 10, 256)\n",
            "[Score alignment] shape :  (1, 10, 1)\n",
            "\n",
            " 최종 weight : \n",
            " [[[4.8733419e-01]\n",
            "  [1.2169003e-01]\n",
            "  [1.3083021e-01]\n",
            "  [2.5176516e-02]\n",
            "  [1.5915568e-03]\n",
            "  [2.5605627e-03]\n",
            "  [9.3482621e-02]\n",
            "  [2.4708272e-03]\n",
            "  [1.3469312e-01]\n",
            "  [1.7037426e-04]]]\n"
          ]
        }
      ]
    },
    {
      "cell_type": "markdown",
      "source": [
        "# Softmax"
      ],
      "metadata": {
        "id": "wqdIWLCJU8B-"
      }
    },
    {
      "cell_type": "code",
      "source": [
        "import numpy as np\n",
        "import matplotlib.pyplot as plt"
      ],
      "metadata": {
        "id": "C-sL8U9NU7uH"
      },
      "execution_count": null,
      "outputs": []
    },
    {
      "cell_type": "code",
      "source": [
        "def softmax(x):\n",
        "    e_x = np.exp(x - np.max(x))\n",
        "    return e_x / e_x.sum()"
      ],
      "metadata": {
        "id": "jn2ipbLlVB7w"
      },
      "execution_count": null,
      "outputs": []
    },
    {
      "cell_type": "code",
      "source": [
        "pred_logit = np.array([-2, 1.5, -1, 0.5, 2])\n",
        "pred_prob = softmax(pred_logit)"
      ],
      "metadata": {
        "id": "B31nd5VdVChG"
      },
      "execution_count": null,
      "outputs": []
    },
    {
      "cell_type": "code",
      "source": [
        "plt.figure(figsize = [18,3])\n",
        "plt.subplot(1, 2, 1)\n",
        "plt.title('predicted logit')\n",
        "plt.bar(np.arange(len(pred_logit)), pred_logit)\n",
        "plt.grid()\n",
        "\n",
        "plt.subplot(1, 2, 2)\n",
        "plt.title('predicted probility')\n",
        "plt.bar(np.arange(len(pred_prob)), pred_prob)\n",
        "plt.grid()\n",
        "plt.show()"
      ],
      "metadata": {
        "colab": {
          "base_uri": "https://localhost:8080/",
          "height": 193
        },
        "id": "sD9cuEX4VTJH",
        "outputId": "80576bf5-c1e4-46bd-8991-3e6cab03bfb1"
      },
      "execution_count": null,
      "outputs": [
        {
          "output_type": "display_data",
          "data": {
            "text/plain": [
              "<Figure size 1296x216 with 2 Axes>"
            ],
            "image/png": "[encoded data removed]"
          },
          "metadata": {
            "needs_background": "light"
          }
        }
      ]
    }
  ]
}