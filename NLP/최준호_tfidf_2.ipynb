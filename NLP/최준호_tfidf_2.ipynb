{
  "nbformat": 4,
  "nbformat_minor": 0,
  "metadata": {
    "colab": {
      "name": "최준호_tfidf_2.ipynb",
      "provenance": [],
      "collapsed_sections": [],
      "include_colab_link": true
    },
    "kernelspec": {
      "name": "python3",
      "display_name": "Python 3"
    },
    "language_info": {
      "name": "python"
    }
  },
  "cells": [
    {
      "cell_type": "markdown",
      "metadata": {
        "id": "view-in-github",
        "colab_type": "text"
      },
      "source": [
        "<a href=\"https://colab.research.google.com/github/juno2856/deeplearning/blob/master/NLP/%EC%B5%9C%EC%A4%80%ED%98%B8_tfidf_2.ipynb\" target=\"_parent\"><img src=\"https://colab.research.google.com/assets/colab-badge.svg\" alt=\"Open In Colab\"/></a>"
      ]
    },
    {
      "cell_type": "code",
      "execution_count": null,
      "metadata": {
        "id": "eAyz3_I0wAdb"
      },
      "outputs": [],
      "source": [
        "import pandas as pd\n",
        "import matplotlib.pyplot as plt"
      ]
    },
    {
      "cell_type": "code",
      "source": [
        "csv_path = '/content/drive/MyDrive/자연어처리/news_data.csv'"
      ],
      "metadata": {
        "id": "TSVFO2vNyjqs"
      },
      "execution_count": null,
      "outputs": []
    },
    {
      "cell_type": "code",
      "source": [
        "df = pd.read_table(csv_path, sep=',')\n",
        "df.head()"
      ],
      "metadata": {
        "colab": {
          "base_uri": "https://localhost:8080/",
          "height": 206
        },
        "id": "Ug8EyHcbym_c",
        "outputId": "9a2dc5d0-496c-462a-c855-c85cb66459c9"
      },
      "execution_count": null,
      "outputs": [
        {
          "output_type": "execute_result",
          "data": {
            "text/plain": [
              "                                                news code\n",
              "0  파주시청. 사진제공=파주시 파주시청. 사진제공=파주시\\n\\n[파주=파이낸셜뉴스 강근...   사회\n",
              "1  동영상 뉴스\\n\\n이천 물류창고 화재 발화지점으로 지목된 지하 2층에서 산소절단기의...   사회\n",
              "2  황범순 의정부시 부시장 을지대학교 의정부캠퍼스 및 부속병원 공사현장 안전점검. 사진...   사회\n",
              "3  귀갓길 여성을 쫓아가 성범죄를 시도한 20대 남성이 구속됐습니다.서울 강남경찰서는 ...   사회\n",
              "4  (서울=연합뉴스) 대한약사회가 6일부터 코로나바이러스 감염증 대응 체계를 '사회적 ...   사회"
            ],
            "text/html": [
              "\n",
              "  <div id=\"df-3026db47-17af-4244-ad66-7222601383b0\">\n",
              "    <div class=\"colab-df-container\">\n",
              "      <div>\n",
              "<style scoped>\n",
              "    .dataframe tbody tr th:only-of-type {\n",
              "        vertical-align: middle;\n",
              "    }\n",
              "\n",
              "    .dataframe tbody tr th {\n",
              "        vertical-align: top;\n",
              "    }\n",
              "\n",
              "    .dataframe thead th {\n",
              "        text-align: right;\n",
              "    }\n",
              "</style>\n",
              "<table border=\"1\" class=\"dataframe\">\n",
              "  <thead>\n",
              "    <tr style=\"text-align: right;\">\n",
              "      <th></th>\n",
              "      <th>news</th>\n",
              "      <th>code</th>\n",
              "    </tr>\n",
              "  </thead>\n",
              "  <tbody>\n",
              "    <tr>\n",
              "      <th>0</th>\n",
              "      <td>파주시청. 사진제공=파주시 파주시청. 사진제공=파주시\\n\\n[파주=파이낸셜뉴스 강근...</td>\n",
              "      <td>사회</td>\n",
              "    </tr>\n",
              "    <tr>\n",
              "      <th>1</th>\n",
              "      <td>동영상 뉴스\\n\\n이천 물류창고 화재 발화지점으로 지목된 지하 2층에서 산소절단기의...</td>\n",
              "      <td>사회</td>\n",
              "    </tr>\n",
              "    <tr>\n",
              "      <th>2</th>\n",
              "      <td>황범순 의정부시 부시장 을지대학교 의정부캠퍼스 및 부속병원 공사현장 안전점검. 사진...</td>\n",
              "      <td>사회</td>\n",
              "    </tr>\n",
              "    <tr>\n",
              "      <th>3</th>\n",
              "      <td>귀갓길 여성을 쫓아가 성범죄를 시도한 20대 남성이 구속됐습니다.서울 강남경찰서는 ...</td>\n",
              "      <td>사회</td>\n",
              "    </tr>\n",
              "    <tr>\n",
              "      <th>4</th>\n",
              "      <td>(서울=연합뉴스) 대한약사회가 6일부터 코로나바이러스 감염증 대응 체계를 '사회적 ...</td>\n",
              "      <td>사회</td>\n",
              "    </tr>\n",
              "  </tbody>\n",
              "</table>\n",
              "</div>\n",
              "      <button class=\"colab-df-convert\" onclick=\"convertToInteractive('df-3026db47-17af-4244-ad66-7222601383b0')\"\n",
              "              title=\"Convert this dataframe to an interactive table.\"\n",
              "              style=\"display:none;\">\n",
              "        \n",
              "  <svg xmlns=\"http://www.w3.org/2000/svg\" height=\"24px\"viewBox=\"0 0 24 24\"\n",
              "       width=\"24px\">\n",
              "    <path d=\"M0 0h24v24H0V0z\" fill=\"none\"/>\n",
              "    <path d=\"M18.56 5.44l.94 2.06.94-2.06 2.06-.94-2.06-.94-.94-2.06-.94 2.06-2.06.94zm-11 1L8.5 8.5l.94-2.06 2.06-.94-2.06-.94L8.5 2.5l-.94 2.06-2.06.94zm10 10l.94 2.06.94-2.06 2.06-.94-2.06-.94-.94-2.06-.94 2.06-2.06.94z\"/><path d=\"M17.41 7.96l-1.37-1.37c-.4-.4-.92-.59-1.43-.59-.52 0-1.04.2-1.43.59L10.3 9.45l-7.72 7.72c-.78.78-.78 2.05 0 2.83L4 21.41c.39.39.9.59 1.41.59.51 0 1.02-.2 1.41-.59l7.78-7.78 2.81-2.81c.8-.78.8-2.07 0-2.86zM5.41 20L4 18.59l7.72-7.72 1.47 1.35L5.41 20z\"/>\n",
              "  </svg>\n",
              "      </button>\n",
              "      \n",
              "  <style>\n",
              "    .colab-df-container {\n",
              "      display:flex;\n",
              "      flex-wrap:wrap;\n",
              "      gap: 12px;\n",
              "    }\n",
              "\n",
              "    .colab-df-convert {\n",
              "      background-color: #E8F0FE;\n",
              "      border: none;\n",
              "      border-radius: 50%;\n",
              "      cursor: pointer;\n",
              "      display: none;\n",
              "      fill: #1967D2;\n",
              "      height: 32px;\n",
              "      padding: 0 0 0 0;\n",
              "      width: 32px;\n",
              "    }\n",
              "\n",
              "    .colab-df-convert:hover {\n",
              "      background-color: #E2EBFA;\n",
              "      box-shadow: 0px 1px 2px rgba(60, 64, 67, 0.3), 0px 1px 3px 1px rgba(60, 64, 67, 0.15);\n",
              "      fill: #174EA6;\n",
              "    }\n",
              "\n",
              "    [theme=dark] .colab-df-convert {\n",
              "      background-color: #3B4455;\n",
              "      fill: #D2E3FC;\n",
              "    }\n",
              "\n",
              "    [theme=dark] .colab-df-convert:hover {\n",
              "      background-color: #434B5C;\n",
              "      box-shadow: 0px 1px 3px 1px rgba(0, 0, 0, 0.15);\n",
              "      filter: drop-shadow(0px 1px 2px rgba(0, 0, 0, 0.3));\n",
              "      fill: #FFFFFF;\n",
              "    }\n",
              "  </style>\n",
              "\n",
              "      <script>\n",
              "        const buttonEl =\n",
              "          document.querySelector('#df-3026db47-17af-4244-ad66-7222601383b0 button.colab-df-convert');\n",
              "        buttonEl.style.display =\n",
              "          google.colab.kernel.accessAllowed ? 'block' : 'none';\n",
              "\n",
              "        async function convertToInteractive(key) {\n",
              "          const element = document.querySelector('#df-3026db47-17af-4244-ad66-7222601383b0');\n",
              "          const dataTable =\n",
              "            await google.colab.kernel.invokeFunction('convertToInteractive',\n",
              "                                                     [key], {});\n",
              "          if (!dataTable) return;\n",
              "\n",
              "          const docLinkHtml = 'Like what you see? Visit the ' +\n",
              "            '<a target=\"_blank\" href=https://colab.research.google.com/notebooks/data_table.ipynb>data table notebook</a>'\n",
              "            + ' to learn more about interactive tables.';\n",
              "          element.innerHTML = '';\n",
              "          dataTable['output_type'] = 'display_data';\n",
              "          await google.colab.output.renderOutput(dataTable, element);\n",
              "          const docLink = document.createElement('div');\n",
              "          docLink.innerHTML = docLinkHtml;\n",
              "          element.appendChild(docLink);\n",
              "        }\n",
              "      </script>\n",
              "    </div>\n",
              "  </div>\n",
              "  "
            ]
          },
          "metadata": {},
          "execution_count": 54
        }
      ]
    },
    {
      "cell_type": "code",
      "source": [
        "from google.colab import drive\n",
        "drive.mount('/content/drive')"
      ],
      "metadata": {
        "colab": {
          "base_uri": "https://localhost:8080/"
        },
        "id": "Fu9_ksl6tWxt",
        "outputId": "ee569151-6c7b-470f-f028-c6d9f97aed67"
      },
      "execution_count": null,
      "outputs": [
        {
          "output_type": "stream",
          "name": "stdout",
          "text": [
            "Drive already mounted at /content/drive; to attempt to forcibly remount, call drive.mount(\"/content/drive\", force_remount=True).\n"
          ]
        }
      ]
    },
    {
      "cell_type": "code",
      "source": [
        "df['news'] = df['news'].str.replace(\"[^ㄱ-ㅎㅏ-ㅣ가-힣 ]\",\"\")\n",
        "df['news']"
      ],
      "metadata": {
        "colab": {
          "base_uri": "https://localhost:8080/"
        },
        "id": "DLPP76CRyzaf",
        "outputId": "ef0c1659-0589-4828-f674-35ef64b1fc64"
      },
      "execution_count": null,
      "outputs": [
        {
          "output_type": "stream",
          "name": "stderr",
          "text": [
            "/usr/local/lib/python3.7/dist-packages/ipykernel_launcher.py:1: FutureWarning: The default value of regex will change from True to False in a future version.\n",
            "  \"\"\"Entry point for launching an IPython kernel.\n"
          ]
        },
        {
          "output_type": "execute_result",
          "data": {
            "text/plain": [
              "0       파주시청 사진제공파주시 파주시청 사진제공파주시파주파이낸셜뉴스 강근주 기자 파주시는 ...\n",
              "1       동영상 뉴스이천 물류창고 화재 발화지점으로 지목된 지하 층에서 산소절단기의 산소 공...\n",
              "2       황범순 의정부시 부시장 을지대학교 의정부캠퍼스 및 부속병원 공사현장 안전점검 사진제...\n",
              "3       귀갓길 여성을 쫓아가 성범죄를 시도한 대 남성이 구속됐습니다서울 강남경찰서는 강간상...\n",
              "4       서울연합뉴스 대한약사회가 일부터 코로나바이러스 감염증 대응 체계를 사회적 거리두기에...\n",
              "                              ...                        \n",
              "5244    신종 코로나바이러스 감염증코로나 사태 이후 가정의 달 월에도 언택트비대면 신풍속도가...\n",
              "5245    는 소비자로부터 월 이용료 만만원을 받고 초고속 인터넷을 제공한다 그런 브로드밴드가...\n",
              "5246    머리를 긁고 있는 오랑우탄 몸을 긁는 행동을 따라 하는 것은 부정적 감정과 관련이 ...\n",
              "5247    가 오는 일 정식 출시하는 스마트폰 벨벳이 사실상 공짜폰이 될 전망이다 단말기 가격...\n",
              "5248    이미지제공게티이미지뱅크 이미지제공게티이미지뱅크  전자신문  전자신문인터넷 무단전재 ...\n",
              "Name: news, Length: 5249, dtype: object"
            ]
          },
          "metadata": {},
          "execution_count": 55
        }
      ]
    },
    {
      "cell_type": "code",
      "source": [
        "# null 값이 있는지 체크\n",
        "print(df.isnull().values.any())"
      ],
      "metadata": {
        "colab": {
          "base_uri": "https://localhost:8080/"
        },
        "id": "O6x8HxVu16C0",
        "outputId": "36199914-b723-430e-af19-adb88475b225"
      },
      "execution_count": null,
      "outputs": [
        {
          "output_type": "stream",
          "name": "stdout",
          "text": [
            "False\n"
          ]
        }
      ]
    },
    {
      "cell_type": "code",
      "source": [
        "# 중복된 샘플 제거 (drop_duplicate활용)\n",
        "df.drop_duplicates(subset = ['news'], inplace = True)"
      ],
      "metadata": {
        "id": "oZICTeXQ16mH"
      },
      "execution_count": null,
      "outputs": []
    },
    {
      "cell_type": "code",
      "source": [
        "df['code'].unique()"
      ],
      "metadata": {
        "colab": {
          "base_uri": "https://localhost:8080/"
        },
        "id": "hApwU5_-8WpF",
        "outputId": "cb295b7d-b82b-4207-ad23-f7503d806cb6"
      },
      "execution_count": null,
      "outputs": [
        {
          "output_type": "execute_result",
          "data": {
            "text/plain": [
              "array(['사회', '생활/문화', 'IT/과학'], dtype=object)"
            ]
          },
          "metadata": {},
          "execution_count": 58
        }
      ]
    },
    {
      "cell_type": "code",
      "source": [
        "df.replace({'code':{'사회': '0', '생활/문화':'1', 'IT/과학':'2'}}, inplace = True)"
      ],
      "metadata": {
        "id": "cnDUkEeQ8dKk"
      },
      "execution_count": null,
      "outputs": []
    },
    {
      "cell_type": "code",
      "source": [
        "df"
      ],
      "metadata": {
        "colab": {
          "base_uri": "https://localhost:8080/",
          "height": 424
        },
        "id": "iesTGaUS9301",
        "outputId": "65ade316-9846-4472-9b1e-2a10b168e8d5"
      },
      "execution_count": null,
      "outputs": [
        {
          "output_type": "execute_result",
          "data": {
            "text/plain": [
              "                                                   news code\n",
              "0     파주시청 사진제공파주시 파주시청 사진제공파주시파주파이낸셜뉴스 강근주 기자 파주시는 ...    0\n",
              "1     동영상 뉴스이천 물류창고 화재 발화지점으로 지목된 지하 층에서 산소절단기의 산소 공...    0\n",
              "2     황범순 의정부시 부시장 을지대학교 의정부캠퍼스 및 부속병원 공사현장 안전점검 사진제...    0\n",
              "3     귀갓길 여성을 쫓아가 성범죄를 시도한 대 남성이 구속됐습니다서울 강남경찰서는 강간상...    0\n",
              "4     서울연합뉴스 대한약사회가 일부터 코로나바이러스 감염증 대응 체계를 사회적 거리두기에...    0\n",
              "...                                                 ...  ...\n",
              "4950  신종 코로나바이러스 감염증코로나 사태 이후 가정의 달 월에도 언택트비대면 신풍속도가...    2\n",
              "4951  는 소비자로부터 월 이용료 만만원을 받고 초고속 인터넷을 제공한다 그런 브로드밴드가...    2\n",
              "4952  머리를 긁고 있는 오랑우탄 몸을 긁는 행동을 따라 하는 것은 부정적 감정과 관련이 ...    2\n",
              "4953  가 오는 일 정식 출시하는 스마트폰 벨벳이 사실상 공짜폰이 될 전망이다 단말기 가격...    2\n",
              "4954  이미지제공게티이미지뱅크 이미지제공게티이미지뱅크  전자신문  전자신문인터넷 무단전재 ...    2\n",
              "\n",
              "[3985 rows x 2 columns]"
            ],
            "text/html": [
              "\n",
              "  <div id=\"df-d26a1b0c-72f0-49ba-9dea-71b0e1183f71\">\n",
              "    <div class=\"colab-df-container\">\n",
              "      <div>\n",
              "<style scoped>\n",
              "    .dataframe tbody tr th:only-of-type {\n",
              "        vertical-align: middle;\n",
              "    }\n",
              "\n",
              "    .dataframe tbody tr th {\n",
              "        vertical-align: top;\n",
              "    }\n",
              "\n",
              "    .dataframe thead th {\n",
              "        text-align: right;\n",
              "    }\n",
              "</style>\n",
              "<table border=\"1\" class=\"dataframe\">\n",
              "  <thead>\n",
              "    <tr style=\"text-align: right;\">\n",
              "      <th></th>\n",
              "      <th>news</th>\n",
              "      <th>code</th>\n",
              "    </tr>\n",
              "  </thead>\n",
              "  <tbody>\n",
              "    <tr>\n",
              "      <th>0</th>\n",
              "      <td>파주시청 사진제공파주시 파주시청 사진제공파주시파주파이낸셜뉴스 강근주 기자 파주시는 ...</td>\n",
              "      <td>0</td>\n",
              "    </tr>\n",
              "    <tr>\n",
              "      <th>1</th>\n",
              "      <td>동영상 뉴스이천 물류창고 화재 발화지점으로 지목된 지하 층에서 산소절단기의 산소 공...</td>\n",
              "      <td>0</td>\n",
              "    </tr>\n",
              "    <tr>\n",
              "      <th>2</th>\n",
              "      <td>황범순 의정부시 부시장 을지대학교 의정부캠퍼스 및 부속병원 공사현장 안전점검 사진제...</td>\n",
              "      <td>0</td>\n",
              "    </tr>\n",
              "    <tr>\n",
              "      <th>3</th>\n",
              "      <td>귀갓길 여성을 쫓아가 성범죄를 시도한 대 남성이 구속됐습니다서울 강남경찰서는 강간상...</td>\n",
              "      <td>0</td>\n",
              "    </tr>\n",
              "    <tr>\n",
              "      <th>4</th>\n",
              "      <td>서울연합뉴스 대한약사회가 일부터 코로나바이러스 감염증 대응 체계를 사회적 거리두기에...</td>\n",
              "      <td>0</td>\n",
              "    </tr>\n",
              "    <tr>\n",
              "      <th>...</th>\n",
              "      <td>...</td>\n",
              "      <td>...</td>\n",
              "    </tr>\n",
              "    <tr>\n",
              "      <th>4950</th>\n",
              "      <td>신종 코로나바이러스 감염증코로나 사태 이후 가정의 달 월에도 언택트비대면 신풍속도가...</td>\n",
              "      <td>2</td>\n",
              "    </tr>\n",
              "    <tr>\n",
              "      <th>4951</th>\n",
              "      <td>는 소비자로부터 월 이용료 만만원을 받고 초고속 인터넷을 제공한다 그런 브로드밴드가...</td>\n",
              "      <td>2</td>\n",
              "    </tr>\n",
              "    <tr>\n",
              "      <th>4952</th>\n",
              "      <td>머리를 긁고 있는 오랑우탄 몸을 긁는 행동을 따라 하는 것은 부정적 감정과 관련이 ...</td>\n",
              "      <td>2</td>\n",
              "    </tr>\n",
              "    <tr>\n",
              "      <th>4953</th>\n",
              "      <td>가 오는 일 정식 출시하는 스마트폰 벨벳이 사실상 공짜폰이 될 전망이다 단말기 가격...</td>\n",
              "      <td>2</td>\n",
              "    </tr>\n",
              "    <tr>\n",
              "      <th>4954</th>\n",
              "      <td>이미지제공게티이미지뱅크 이미지제공게티이미지뱅크  전자신문  전자신문인터넷 무단전재 ...</td>\n",
              "      <td>2</td>\n",
              "    </tr>\n",
              "  </tbody>\n",
              "</table>\n",
              "<p>3985 rows × 2 columns</p>\n",
              "</div>\n",
              "      <button class=\"colab-df-convert\" onclick=\"convertToInteractive('df-d26a1b0c-72f0-49ba-9dea-71b0e1183f71')\"\n",
              "              title=\"Convert this dataframe to an interactive table.\"\n",
              "              style=\"display:none;\">\n",
              "        \n",
              "  <svg xmlns=\"http://www.w3.org/2000/svg\" height=\"24px\"viewBox=\"0 0 24 24\"\n",
              "       width=\"24px\">\n",
              "    <path d=\"M0 0h24v24H0V0z\" fill=\"none\"/>\n",
              "    <path d=\"M18.56 5.44l.94 2.06.94-2.06 2.06-.94-2.06-.94-.94-2.06-.94 2.06-2.06.94zm-11 1L8.5 8.5l.94-2.06 2.06-.94-2.06-.94L8.5 2.5l-.94 2.06-2.06.94zm10 10l.94 2.06.94-2.06 2.06-.94-2.06-.94-.94-2.06-.94 2.06-2.06.94z\"/><path d=\"M17.41 7.96l-1.37-1.37c-.4-.4-.92-.59-1.43-.59-.52 0-1.04.2-1.43.59L10.3 9.45l-7.72 7.72c-.78.78-.78 2.05 0 2.83L4 21.41c.39.39.9.59 1.41.59.51 0 1.02-.2 1.41-.59l7.78-7.78 2.81-2.81c.8-.78.8-2.07 0-2.86zM5.41 20L4 18.59l7.72-7.72 1.47 1.35L5.41 20z\"/>\n",
              "  </svg>\n",
              "      </button>\n",
              "      \n",
              "  <style>\n",
              "    .colab-df-container {\n",
              "      display:flex;\n",
              "      flex-wrap:wrap;\n",
              "      gap: 12px;\n",
              "    }\n",
              "\n",
              "    .colab-df-convert {\n",
              "      background-color: #E8F0FE;\n",
              "      border: none;\n",
              "      border-radius: 50%;\n",
              "      cursor: pointer;\n",
              "      display: none;\n",
              "      fill: #1967D2;\n",
              "      height: 32px;\n",
              "      padding: 0 0 0 0;\n",
              "      width: 32px;\n",
              "    }\n",
              "\n",
              "    .colab-df-convert:hover {\n",
              "      background-color: #E2EBFA;\n",
              "      box-shadow: 0px 1px 2px rgba(60, 64, 67, 0.3), 0px 1px 3px 1px rgba(60, 64, 67, 0.15);\n",
              "      fill: #174EA6;\n",
              "    }\n",
              "\n",
              "    [theme=dark] .colab-df-convert {\n",
              "      background-color: #3B4455;\n",
              "      fill: #D2E3FC;\n",
              "    }\n",
              "\n",
              "    [theme=dark] .colab-df-convert:hover {\n",
              "      background-color: #434B5C;\n",
              "      box-shadow: 0px 1px 3px 1px rgba(0, 0, 0, 0.15);\n",
              "      filter: drop-shadow(0px 1px 2px rgba(0, 0, 0, 0.3));\n",
              "      fill: #FFFFFF;\n",
              "    }\n",
              "  </style>\n",
              "\n",
              "      <script>\n",
              "        const buttonEl =\n",
              "          document.querySelector('#df-d26a1b0c-72f0-49ba-9dea-71b0e1183f71 button.colab-df-convert');\n",
              "        buttonEl.style.display =\n",
              "          google.colab.kernel.accessAllowed ? 'block' : 'none';\n",
              "\n",
              "        async function convertToInteractive(key) {\n",
              "          const element = document.querySelector('#df-d26a1b0c-72f0-49ba-9dea-71b0e1183f71');\n",
              "          const dataTable =\n",
              "            await google.colab.kernel.invokeFunction('convertToInteractive',\n",
              "                                                     [key], {});\n",
              "          if (!dataTable) return;\n",
              "\n",
              "          const docLinkHtml = 'Like what you see? Visit the ' +\n",
              "            '<a target=\"_blank\" href=https://colab.research.google.com/notebooks/data_table.ipynb>data table notebook</a>'\n",
              "            + ' to learn more about interactive tables.';\n",
              "          element.innerHTML = '';\n",
              "          dataTable['output_type'] = 'display_data';\n",
              "          await google.colab.output.renderOutput(dataTable, element);\n",
              "          const docLink = document.createElement('div');\n",
              "          docLink.innerHTML = docLinkHtml;\n",
              "          element.appendChild(docLink);\n",
              "        }\n",
              "      </script>\n",
              "    </div>\n",
              "  </div>\n",
              "  "
            ]
          },
          "metadata": {},
          "execution_count": 60
        }
      ]
    },
    {
      "cell_type": "code",
      "source": [
        "# '사회': '0', '생활/문화':'1', 'IT/과학':'2' \n",
        "df['code'].value_counts().plot(kind='bar')\n",
        "plt.xticks(rotation = 0)"
      ],
      "metadata": {
        "colab": {
          "base_uri": "https://localhost:8080/",
          "height": 283
        },
        "id": "y4tefo1H16pF",
        "outputId": "5332f1ec-9d77-4d2a-b11f-77644c1bfbbe"
      },
      "execution_count": null,
      "outputs": [
        {
          "output_type": "execute_result",
          "data": {
            "text/plain": [
              "(array([0, 1, 2]), <a list of 3 Text major ticklabel objects>)"
            ]
          },
          "metadata": {},
          "execution_count": 61
        },
        {
          "output_type": "display_data",
          "data": {
            "text/plain": [
              "<Figure size 432x288 with 1 Axes>"
            ],
            "image/png": "[encoded data removed]"
          },
          "metadata": {
            "needs_background": "light"
          }
        }
      ]
    },
    {
      "cell_type": "code",
      "source": [
        "df.groupby('code').size().reset_index(name='count')"
      ],
      "metadata": {
        "colab": {
          "base_uri": "https://localhost:8080/",
          "height": 143
        },
        "id": "TSLEZmrX16re",
        "outputId": "45f12f1b-1f9b-43fb-b452-1496b439604c"
      },
      "execution_count": null,
      "outputs": [
        {
          "output_type": "execute_result",
          "data": {
            "text/plain": [
              "  code  count\n",
              "0    0   1668\n",
              "1    1   1414\n",
              "2    2    903"
            ],
            "text/html": [
              "\n",
              "  <div id=\"df-f0cedf03-1c2e-442d-b725-d9ef1a316081\">\n",
              "    <div class=\"colab-df-container\">\n",
              "      <div>\n",
              "<style scoped>\n",
              "    .dataframe tbody tr th:only-of-type {\n",
              "        vertical-align: middle;\n",
              "    }\n",
              "\n",
              "    .dataframe tbody tr th {\n",
              "        vertical-align: top;\n",
              "    }\n",
              "\n",
              "    .dataframe thead th {\n",
              "        text-align: right;\n",
              "    }\n",
              "</style>\n",
              "<table border=\"1\" class=\"dataframe\">\n",
              "  <thead>\n",
              "    <tr style=\"text-align: right;\">\n",
              "      <th></th>\n",
              "      <th>code</th>\n",
              "      <th>count</th>\n",
              "    </tr>\n",
              "  </thead>\n",
              "  <tbody>\n",
              "    <tr>\n",
              "      <th>0</th>\n",
              "      <td>0</td>\n",
              "      <td>1668</td>\n",
              "    </tr>\n",
              "    <tr>\n",
              "      <th>1</th>\n",
              "      <td>1</td>\n",
              "      <td>1414</td>\n",
              "    </tr>\n",
              "    <tr>\n",
              "      <th>2</th>\n",
              "      <td>2</td>\n",
              "      <td>903</td>\n",
              "    </tr>\n",
              "  </tbody>\n",
              "</table>\n",
              "</div>\n",
              "      <button class=\"colab-df-convert\" onclick=\"convertToInteractive('df-f0cedf03-1c2e-442d-b725-d9ef1a316081')\"\n",
              "              title=\"Convert this dataframe to an interactive table.\"\n",
              "              style=\"display:none;\">\n",
              "        \n",
              "  <svg xmlns=\"http://www.w3.org/2000/svg\" height=\"24px\"viewBox=\"0 0 24 24\"\n",
              "       width=\"24px\">\n",
              "    <path d=\"M0 0h24v24H0V0z\" fill=\"none\"/>\n",
              "    <path d=\"M18.56 5.44l.94 2.06.94-2.06 2.06-.94-2.06-.94-.94-2.06-.94 2.06-2.06.94zm-11 1L8.5 8.5l.94-2.06 2.06-.94-2.06-.94L8.5 2.5l-.94 2.06-2.06.94zm10 10l.94 2.06.94-2.06 2.06-.94-2.06-.94-.94-2.06-.94 2.06-2.06.94z\"/><path d=\"M17.41 7.96l-1.37-1.37c-.4-.4-.92-.59-1.43-.59-.52 0-1.04.2-1.43.59L10.3 9.45l-7.72 7.72c-.78.78-.78 2.05 0 2.83L4 21.41c.39.39.9.59 1.41.59.51 0 1.02-.2 1.41-.59l7.78-7.78 2.81-2.81c.8-.78.8-2.07 0-2.86zM5.41 20L4 18.59l7.72-7.72 1.47 1.35L5.41 20z\"/>\n",
              "  </svg>\n",
              "      </button>\n",
              "      \n",
              "  <style>\n",
              "    .colab-df-container {\n",
              "      display:flex;\n",
              "      flex-wrap:wrap;\n",
              "      gap: 12px;\n",
              "    }\n",
              "\n",
              "    .colab-df-convert {\n",
              "      background-color: #E8F0FE;\n",
              "      border: none;\n",
              "      border-radius: 50%;\n",
              "      cursor: pointer;\n",
              "      display: none;\n",
              "      fill: #1967D2;\n",
              "      height: 32px;\n",
              "      padding: 0 0 0 0;\n",
              "      width: 32px;\n",
              "    }\n",
              "\n",
              "    .colab-df-convert:hover {\n",
              "      background-color: #E2EBFA;\n",
              "      box-shadow: 0px 1px 2px rgba(60, 64, 67, 0.3), 0px 1px 3px 1px rgba(60, 64, 67, 0.15);\n",
              "      fill: #174EA6;\n",
              "    }\n",
              "\n",
              "    [theme=dark] .colab-df-convert {\n",
              "      background-color: #3B4455;\n",
              "      fill: #D2E3FC;\n",
              "    }\n",
              "\n",
              "    [theme=dark] .colab-df-convert:hover {\n",
              "      background-color: #434B5C;\n",
              "      box-shadow: 0px 1px 3px 1px rgba(0, 0, 0, 0.15);\n",
              "      filter: drop-shadow(0px 1px 2px rgba(0, 0, 0, 0.3));\n",
              "      fill: #FFFFFF;\n",
              "    }\n",
              "  </style>\n",
              "\n",
              "      <script>\n",
              "        const buttonEl =\n",
              "          document.querySelector('#df-f0cedf03-1c2e-442d-b725-d9ef1a316081 button.colab-df-convert');\n",
              "        buttonEl.style.display =\n",
              "          google.colab.kernel.accessAllowed ? 'block' : 'none';\n",
              "\n",
              "        async function convertToInteractive(key) {\n",
              "          const element = document.querySelector('#df-f0cedf03-1c2e-442d-b725-d9ef1a316081');\n",
              "          const dataTable =\n",
              "            await google.colab.kernel.invokeFunction('convertToInteractive',\n",
              "                                                     [key], {});\n",
              "          if (!dataTable) return;\n",
              "\n",
              "          const docLinkHtml = 'Like what you see? Visit the ' +\n",
              "            '<a target=\"_blank\" href=https://colab.research.google.com/notebooks/data_table.ipynb>data table notebook</a>'\n",
              "            + ' to learn more about interactive tables.';\n",
              "          element.innerHTML = '';\n",
              "          dataTable['output_type'] = 'display_data';\n",
              "          await google.colab.output.renderOutput(dataTable, element);\n",
              "          const docLink = document.createElement('div');\n",
              "          docLink.innerHTML = docLinkHtml;\n",
              "          element.appendChild(docLink);\n",
              "        }\n",
              "      </script>\n",
              "    </div>\n",
              "  </div>\n",
              "  "
            ]
          },
          "metadata": {},
          "execution_count": 62
        }
      ]
    },
    {
      "cell_type": "markdown",
      "source": [
        "# 불용어 제거"
      ],
      "metadata": {
        "id": "8G_VQonE1-b0"
      }
    },
    {
      "cell_type": "code",
      "source": [
        "stopwords = ['에','는','은','을','했','에게','있','이','의','하','한','다','과','때문','할','수','무단','따른','및','금지','전재','경향신문','기자','는데','가','등','들','파이낸셜','저작','등','뉴스']"
      ],
      "metadata": {
        "id": "SZSbxxM316uZ"
      },
      "execution_count": null,
      "outputs": []
    },
    {
      "cell_type": "code",
      "source": [
        "!pip install konlpy\n",
        "!git clone https://github.com/SOMJANG/Mecab-ko-for-Google-Colab.git \n",
        "%cd Mecab-ko-for-Google-Colab/\n",
        "!bash install_mecab-ko_on_colab190912.sh\n",
        "%cd ../"
      ],
      "metadata": {
        "id": "_imy2EkY_ym9"
      },
      "execution_count": null,
      "outputs": []
    },
    {
      "cell_type": "code",
      "source": [
        "from konlpy.tag import Mecab"
      ],
      "metadata": {
        "id": "c-YTge8_A3eN"
      },
      "execution_count": null,
      "outputs": []
    },
    {
      "cell_type": "code",
      "source": [
        "mecab = Mecab()"
      ],
      "metadata": {
        "id": "kaNg3VPMA7V8"
      },
      "execution_count": null,
      "outputs": []
    },
    {
      "cell_type": "code",
      "source": [
        "def preprocessing(data):\n",
        "    text_data = []\n",
        "\n",
        "    for sentence in data:\n",
        "        temp_data = []\n",
        "        temp_data = mecab.morphs(sentence)\n",
        "        temp_data = [word for word in temp_data if not word in stopwords]\n",
        "        text_data.append(temp_data)\n",
        "\n",
        "    text_data = list(map(' '.join, text_data))\n",
        "    return text_data"
      ],
      "metadata": {
        "id": "2oULPfRs16w1"
      },
      "execution_count": null,
      "outputs": []
    },
    {
      "cell_type": "code",
      "source": [
        "# df(df['news'])을 기준으로 불용어 제거하기.\n",
        "text_data = preprocessing(df['news'])\n",
        "# preprocessing(df['news'])"
      ],
      "metadata": {
        "id": "_TUwT5fM16zM"
      },
      "execution_count": null,
      "outputs": []
    },
    {
      "cell_type": "code",
      "source": [
        "# text_data 출력하기\n",
        "print(text_data[0:10])"
      ],
      "metadata": {
        "colab": {
          "base_uri": "https://localhost:8080/"
        },
        "id": "CPi8Amzl162N",
        "outputId": "37641acb-8215-4650-e458-8dd92d1971d3"
      },
      "execution_count": null,
      "outputs": [
        {
          "output_type": "stream",
          "name": "stdout",
          "text": [
            "['파주 시청 사진제 공파 주시 파주 시청 사진 제공 파주시 파주 강근주 파 주 시 일 관내 취약 계층 만 가구 대해 정부 긴급 재난 지원금 입금 완료 다파 주 시민 받 긴급 재난 지원금 인 이상 가구 기준 으로 만 원 받 게 되 며 인 가구 만 원 인 가구 만 원 인 가구 만 원 정부 발표 긴급 재난 지원금 파주 시민 지급 금액 다른 이유 국비 지방비 부담 비율 다파 주 시 이미 모든 시민 경기도 파주시 재난 기본 소득 인 당 각 만 원 지급 고 어 시민 국비 지원금 만 지급 며 인 가구 기준 으로 총 지원 금액 파주시 재난 기본소득 만 원 경기도 재난 기본소득 만 원 정부 긴급 재난 지원금 만 원 총 만 원 받 게 된다 취약 계층 아닌 시민 오 월일 부터 소지 고 신용 체크카드 사 홈페이지 에서 긴급 재난 지원금 지원 신청 세대주 가족 지원금 일괄 신청 해야 한다 한편 파 주 시 일 김정기 부시장 단장 으로 긴급 재난 지원금 추진 태 스 크 포스 를 구성 해 긴급 재난 지원금 원활 게 지급 될 도록 지원 한다 권 자 재 배포', '동영상 천 물류 창고 화재 발화 지점 으로 지목 된 지하 층 에서 산소 절단기 산소 공급 호스 끊어진 채 발견 돼 경찰 폭발 가능 성 수사 고 습니다 확보 현장 감식 사진 보 면 산소 절단기 와 연결 된 산소 공급 호스 날카롭 게 절단 돼 었 습니다 전문가 산소 공급 호스 기계 적 충격 의해 절단 됐 고 실제 산소 샜 다면 폭발 일어날 다는 의견 제시 습니다 지하 층 에선 밖 도 전동 절단기 와 그라인더 불꽃 발생 시킬 작업 도구 다수 나와 경찰 집중 분석 고 습니다 경찰 또 건물 옆 에서 우레탄 혼합 해 작업 현장 으로 보내 차량 발견 해 화재 당시 우레탄 폼 발포 작업 함께 불꽃 튀 화기 작업 동시 진행 됐 는지 를 조사 고 습니다 당신 제보 됩니다 여러분 소중 제보 를 기다립니다 카카오톡 검색 해 채널 추가 전화 메일 온라인 제보 권 자 재 배포', '황범 순 의정부 시 부시장 지대 학교 의정부 캠퍼스 부속 병원 공사 현장 안전 점검 사진 제공 정 부시 황범 순 의정부 시 부시장 지대 학교 의정부 캠퍼스 부속 병원 공사 현장 안전 점검 사진 제공 정 부시 황범 순 의정부 시 부시장 지대 학교 의정부 캠퍼스 부속 병원 공사 현장 안전 점검 사진 제공 정 부시 황범 순 의정부 시 부시장 지대 학교 의정부 캠퍼스 부속 병원 공사 현장 안전 점검 사진 제공 정부 시 정부 강근주 황범 순 의정부 시 부시장 일 시공 중 인 을지 대학교 의정부 캠퍼스 부속 병원 공사 현장 방문 해 긴급 안전 점검 진행 이번 긴급 점검 월일 경기도 이천시 물류 창고 신축 공사장 화재 참사 와 관련 해 의정부 도 유사 사례 발생 지 않 도록 사전 대비 차원 에서 이뤄졌 특히 의정부 소방서 고용 노동청 의정부 지청 도 동행 해 소방법 산업 보건 법 준수 여부 공사 전반 적 인 추진 상황 점검 합동 점검 반 우레탄 폼 발포 와 용접 금속 류 절단 화재 발생 빈도 높 작업 대한 소방 안전 관리 와 밀폐 된 공간 화제 위험 요소 임시 소방 시설 설치 환경 의무 사항 이행 여부 집중 살펴봤 황범 순 부시장 현장 관계자 노고 를 격려 며 항상 경각심 갖 고 화재 재난 예방 만전 해 달 라며 코 로 나 와 관련 해 건설 현장 종사자 간 사회 적 거리 두기 방역 지침 도 준 해 달 라고 요청 권 자 재 배포', '귀갓길 여성 쫓아가 성범죄 를 시도 대 남성 구속 됐 습니다 서울 강남 경찰서 강 간상 해 혐의 로 대 씨 를 구속 해 수사 중 라고 오늘 일 밝혔 습니다 씨 지난달 일 새벽 서울 강남구 에서 귀가 던 피해 여성 근처 지하철역 에서부터 따라가 성폭행 시도 려다 도망간 혐의 를 받 습니다 씨 피해 여성 신고 를 받 고 주변 수색 던 경찰 붙잡혔 습니다 과정 에서 피해 여성 경미 부상 입 것 으로 전해졌 습니다 경찰 씨 를 상대 로 범행 경위 추가 조사 뒤 조만간 검찰 넘길 방침 입니다 안희재 복제 재 배포', '서울 연합뉴스 대한 약사회 일 부터 코로나 바이러스 감염증 대응 체계 를 사회 적 거리 두기 에서 생활 속 거리 두 기 로 전환 함 대국민 안내문 발표 대한 약사회 와 황사 미세먼지 차단 효과 구분 라며 코 로 나 와 같 침방울 통한 감염 전파 상황 에서 효과 큰 차이 없 다고 밝혔 다이어 코로나 감염 환자 를 돌보 보호자 나 의료진 아닌 일반인 보건 용 마스크 를 착용 경우 사용 으로 감염 예방 목적 충분히 달성 고 오히려 호흡 기 쉬워 장시간 착용 시 적합 다고 덧붙였 사진 생활 속 거리 두 기 전환 대국민 안내 포스터 대한 약사회 제공 재판매', '질서 정연 코로나 확산 방지 를 위한 물리 적 거리 두기 생활 속 거리 두 기 로 전환 된 첫날 인 일 서울 용산구 국립 중앙 박물관 에서 관람객 거리 두기 를 며 입장 고 국립 중앙 박물관 사전 예약 해야 입장 가능 며 시간 당 명 으로 인원 제한 한다 김기남 질서 정연 코로나 확산 방지 를 위한 물리 적 거리 두기 생활 속 거리 두 기 로 전환 된 첫날 인 일 서울 용산구 국립 중앙 박물관 에서 관람객 거리 두기 를 며 입장 고 국립 중앙 박물관 사전 예약 해야 입장 가능 며 시간 당 명 으로 인원 제한 한다 김기남 물리 적 거리 두기 생활 속 거리 두 기 로 전환 된 첫날 인 일 지하철 사무실 쇼핑몰 좁 공간 사람 빽빽이 들어차 거나 마스크 를 쓰 지 않 모습 도 곳곳 에서 눈 띄 었 서울 마포구 에서 일 직장 인 이모 씨 출근 지하철 평소 처럼 사람 많 아 다닥다닥 붙 어서 야 다며 회사 사무실 배치 도 여전히 닭장 처럼 빼곡 해 거리 두 기 불 가능 다고 말 직장 인 박모 씨 도 사무실 마스크 를 쓴 사람 명 도 없 다며 인사 팀 직원 방역 책임자 로 지정 된 것 으로 아 공지 메일 수시로 보내 지만 마스크 를 안 쓴다고 지적 일 없 다고 중앙 재난 안전 대책 본부 중 대본 지난 일 내놓 생활 속 거리 두기 세부 지침 따르 면 사무실 에서 다른 사람 최소 이상 거리 두기 를 해야 며 실내 다중 이용 시설 이용 시 마스크 를 착용 해야 한다 직장 내 방역 관리자 매일 노동자 체온 검사 고 방역 지침 잘 지키 는지 확인 해야 한다 하지만 같 지침 잘 지켜 지 지 않 고 것 주부 이모 씨 쇼핑몰 야외 어린이 놀이 시설 갔 사람 너무 많 고 마스크 를 안 쓴 어린이 많 아 볼일 포기 고 그냥 집 으로 돌아왔 다고 말 정부 발표 생활 속 거리 두기 지침 크 게 개인 방역 대 지침 개 보조 수칙 집단 방역 대 핵심 수칙 개 세부 지침 으로 구성 돼 장례식장 에서 조문객 맞 때 악수 보다 목례 로 인사 라는 구체 적 내용 명시 되 기 도 지만 그렇 지 않 경우 더 많 반면 독일 방역 당국 코로나 확산 방지 를 위해 지난 월일 문 닫 았 던 미용실 최근 열기 로 면서 내놓 세부 지침 매우 구체 적 다독일 방역 당국 지침 따르 면 대기 손 님 으로 가득 차 것 피하 기 위해 미용실 무조건 예약 제 로 운영 해야 한다 비말 전파 를 막 기 위해 헤어드라이어 사용 최소 화 고 머리 스타일 대한 논의 도 거울 통해 떨어져 라고 돼 김강립 중대 본 총괄 조정관 세부 지침 계속 추가 보완 겠 다며 현재 개 에서 개 정도 까지 늘리 것 추가 로 검토 고 다고 말 또 생활 방역 위원회 논의 를 거쳐 월 말 쯤 개정판 발표 겠 다고 설명 정부 생활 속 거리 두기 지침 중 반드시 지켜야 사항 대해서 국회 논의 를 통해 법제 화 방안 도 고려 중 하지만 추가 수칙 발표 나 국회 법제 화 까지 최소 달 걸리 셈 김창엽 서울대 보건 대학원 교수 시민 건강 연구소 소장 세부 지침 계속 추가 것 도 필요 지만 각 사업장 에서 그 지침 실제로 적용 도록 조언 고 점검 지원 시스템 빨리 만드 것 중요 다고 지적 물리 적 거리 두기 기간 동안 구청 운영 자제 권고 내려진 시설 수시로 점검 고 개선 사항 내놓 것 처럼 생활 속 거리 두 기 또한 지원 체계 를 마련 필요 다는 것 김 교수 직장 내 방역 경우 노조 없 고 직원 목소리 도 반영 되 기 어려운 회사 현실 적 으로 많 텐데 노동자 목소리 를 최대한 반영 해야 현실 성 실행 방안 나올 다고 도 덧붙였 이혜인 재 배포', '코로나 걸렸 나 친구 아무래도 좀 멀리 게 될 것 같 아요 재발 가능 성 요 그리고 누가 기침 만 해도 쟤 코로나다 라고 놀리 거나 코로나 왕따 당하 학생 생길 도 어요 올해 고등학교 진학 모양 등교 시작 되 면 아무래도 전 보단 예민 상태 로 학교 다닐 것 같 다며 같이 말 이양 뿐 만 아니 일 등교 개학 시작 약 일 주일 앞두 고 학생 사이 에선 코로나 왕따 우려 번지 고 이날 사회관 계망 서비스 에선 등교 개학 문제점 란 게 시물 공유 되 고 여기 이동 수업 이나 급식 시간 중 감염 우려 뿐 아니 라 따돌림 항목 도 포함 돼 선풍기 이용 화장실 도 무조건 참 아야 함 일부 내용 부 정확 정보 를 바탕 으로 작성 된 것 지만 코로나 왕따 코로나 환자 대한 사회 적 낙인 배제 학교 에서 도 발생 다는 현실 적 인 우려 구체 적 으로 천식 감기 학생 기침 면 시선 쏠릴 것 개학 명 코 로 나 걸려서 전염 되 면 왕따 가능 성 음 담겼 특히 천식 호흡기 기저 질환 앓 고 학생 누구 보다 걱정 크 다고 전 모양 오랜만 등교 를 앞두 고 조금 설렌다 온라인 수업 보다 직접 수업 듣 게 이해 도 더 잘 된다면서 도 천식 어 기침 조절 없 기침 면 친구 시선 좋 지 않 것 같 다고 우려 역시 천식 중 김모양 호흡 곤란 자주 와서 장시간 마스크 를 쓰 면 답답 고 어지러운 데 잔기침 때 쏠리 시선 불편 것 같 다고 말 사실상 새 학기 시작 이나 마찬가지 인 등교 개학 이후 어떻게 새 친구 를 사귀 어야 할지 도 고민거리 모양 코로나 언제 어디 서 걸리 는지 모르 기 학교 모여 보 면 나 도 의심 환자 될까 우려 된다 선생 님 말씀 안 듣 고 코 로 나 옮긴다고 장난치 애 도 을까 걱정 라고 말 김서영 박채영 재 배포', '년 메이저 리그 다저스 시즌 마지막 경기 였 신인 타자 더스티 베이커 현 휴스턴 애 스트로스 감독 휴스턴 경기 에서 시즌 호 홈런 때렸 다저스 사상 처음 으로 명 홈런 타자 를 배출 순간 었 기념비 적 인 홈런 치 고 홈 으로 들어오 베이커 를 같 신인 동료 글렌 버크 기다리 고 었 버크 오른손 번쩍 었 고 돌아오 던 베이커 오른손 함께 어 짝 마주쳤 역사 적 인 하이파이브 탄생 순간 었 이후 많 스포츠 에서 하이파이브 성공 적 인 플레이 대한 축하 세리 머니 로 자리 잡 았 남녀 스포츠 를 가리 지 않 고 두 손 마주치 장면 함께 라는 의미 를 더한다 만화 속 강백호 와 서태웅 하이파이브 장면 두 주인공 마음 한뜻 으로 뭉쳤 다는 것 상징 적 으로 보여 주 며 많 팬 가슴 박혔 하지만 코로나 하이파이브 멸종 가져왔 포스트 코로나 시대 에서 맨 손 접촉 금기시 된다 지난 일 개막 프로 야구 리그 코로나 대응 매뉴얼 하이파이브 를 명문화 홈런 치 고 들어올 때 주루 코치 와 홈 에서 기다리 동료 와 자연스레 나누 하이파이브 탄생 때 처럼 야구 상징 도 같 장면 지만 더 이상 보 기 어렵 코로나 바이러스 절멸 선언 되 더라도 맨손 접촉 트라우마 생기 상황 에서 하이파이브 역사 만 남 가능 성 높 뉴욕 타임스 스포츠 상징 적 행위 인 하이파이브 사라질 도 다고 전했 하이파이브 와 함께 버락 오바마 전 미국 대통령 시그 니 처 동작 던 주먹 맞대 기 도 사라질 위기 놓였 경기 전 페어플레이 를 다짐 각종 행사 도 사라진다 축구 와 농구 배구 코트 를 반 으로 나눠 쓰 대부분 구기 종목 경기 전후 하프 라인 모여 악수 를 나누 것 기본 었 대신 팔꿈치 맞부딪치 기 대안 으로 나오 지만 를 바라보 느낌 감동 예전 사뭇 다르 하이파이브 멸종 보다 팬 더욱 슬프 게 건 좋 아 선수 대한 사인 요청 코로나 초기 잉글랜드 프리미어 리그 리버풀 위르겐 클롭 감독 경기장 으로 들어갈 때 팬 손 내밀 자 손 치워 라고 강하 게 거부 당시 까지 만 해도 팬 로부터 펜 건네 받 행위 되 수준 었 지만 이후 아예 이내 접근 명문화 됐 사 인 요청 위한 접근 원천 봉쇄 된다 리그 롯데 고가 유니폼 구매 고객 대상 으로 사인 대신 받 아 드립니다 이벤트 를 벌이 지만 기다렸 다가 나 만 사인 직접 받 것 의미 상당히 다르 리그 구단 관계자 코로나 이후 보다 안 전한 사인 문화 를 위한 검토 필요 다고 말 이용균 재 배포', '일 교수 업 앞둔 경북 학교 보건 실에 손 소독 제 마스크 방역 물품 상자 째 쌓여 여러 차례 연기 됐 던 만큼 학교 에서 모의 훈련 까지 면서 등교 수업 준비 고 지만 코로나 완전히 종식 된 것 아니 기 교사 와 학부모 여전히 안심 기 어려운 상황 교사 ㄱ 씨 학생 여명 중학교 에서 근무 한다 이날 도 동료 교사 회의 를 며 눈 띄 문제점 하나 씩 해결 해 나갔 지만 학생 방역 지침 잘 따라줄지 걱정 ㄱ 씨 학생 마스크 를 계속 잘 쓰 고 을지 마스크 를 까먹 고 안 가져오 학생 도 텐데 학교 에서 마스크 를 충분히 나눠 줄 을지 도 염려 된다고 말 코로나 로 늘어난 방역 업무 를 나눠 맡 것 도 문제 배 정옥 교사 전국 보건 교사 노조 위원장 근무 학교 보건 실 옆 운영 회의실 일시 적 관찰 실로 지정 증상 학생 다른 학생 분리 해 두 기 위해서 지만 아직 일시 적 관찰 실 관리 교사 지정 지 못했 배 교사 보건 교사 관리 를 맡 으면 다른 학생 돌볼 없 고 의심증 상 학생 확진 판정 받 으면 보건 실 폐쇄 상황 올 도 다며 학교 내 에서 업무 분담 잘 돼야 지침 상 으로 누가 어떤 역할 해야 는지 명확 지 않 다고 말 보건 교사 아예 없 학교 도 지난 일 기준 으로 전국 만 개 초중 고등학교 와 특수 학교 배치 된 보건 교사 만 명 으로 개 학교 보건 교사 없 보건 교사 간호사 더한 보건 인력 없 학교 전체 인 곳 이윤경 참교 육 학부모회 서울 지부장 아이 마스크 를 쓰 고 교시 를 버틸 을지 모르 겠 다며 몸 안 좋 학생 도 고 같이 사 가족 중 환자 나 임산부 학생 도 등교 수업 선택 권 어야 한다고 말 박채영 재 배포', '경찰 로고 신채 린 경찰 로고 신채 린 서울 이상학 경찰 지적 장애 를 갖 고 또래 학생 때려 중상 입힌 혐의 로 중학생 명 검찰 송치 서울 강동 경찰서 최근 중학생 군 공동 폭행 혐의 로 구속 해 검찰 송치 했으며 같 혐의 를 받 군 불 구속 송치 다고 일 밝혔 지난달 서울 강동구 골목 주차장 에서 피해 학생 폭행 혐의 를 받 고 지적 장애 를 앓 고 던 것 으로 알려진 피해 학생 머리 다쳐 병원 으로 옮겨져 수술 받 것 으로 전해졌 당시 현장 다른 학생 도 었 지만 경찰 군 군 만 폭행 관여 것 으로 보 고 경찰 조사 에서 피해 학생 자신 모욕 말 해 화 나 서 때렸 다고 진술 것 으로 알려졌 코리아 재 배포']\n"
          ]
        }
      ]
    },
    {
      "cell_type": "code",
      "source": [
        "from sklearn.model_selection import train_test_split"
      ],
      "metadata": {
        "id": "sMcTdA5zNnxt"
      },
      "execution_count": null,
      "outputs": []
    },
    {
      "cell_type": "code",
      "source": [
        "target = df['code']"
      ],
      "metadata": {
        "id": "fduFjpLkOAff"
      },
      "execution_count": null,
      "outputs": []
    },
    {
      "cell_type": "code",
      "source": [
        "x_train, x_test, y_train, y_test = train_test_split(text_data, target, test_size = 0.2, shuffle = True, stratify=target)"
      ],
      "metadata": {
        "id": "dabgpV82NPMX"
      },
      "execution_count": null,
      "outputs": []
    },
    {
      "cell_type": "markdown",
      "source": [
        "## TF-IDF 모델 준비\n"
      ],
      "metadata": {
        "id": "0l2rkI296bOj"
      }
    },
    {
      "cell_type": "code",
      "source": [
        "from sklearn.model_selection import train_test_split\n",
        "from sklearn.feature_extraction.text import CountVectorizer\n",
        "from sklearn.feature_extraction.text import TfidfTransformer\n",
        "from sklearn.naive_bayes import MultinomialNB # 나이브베이즈모델\n",
        "from sklearn import metrics"
      ],
      "metadata": {
        "id": "LG7QAgpMKgyg"
      },
      "execution_count": null,
      "outputs": []
    },
    {
      "cell_type": "code",
      "source": [
        "# DTM\n",
        "# TF-IDF\n",
        "count_vect = CountVectorizer()\n",
        "x_train_counts = count_vect.fit_transform(x_train) # DTM 완성\n",
        "\n",
        "tfidf_transformer = TfidfTransformer()\n",
        "x_train_tfidf = tfidf_transformer.fit_transform(x_train_counts) # TF_IDF 완성"
      ],
      "metadata": {
        "id": "jJAVUyZe6a_8"
      },
      "execution_count": null,
      "outputs": []
    },
    {
      "cell_type": "code",
      "source": [
        "# 모델 학습 (나이브베이즈 모델)\n",
        "clf = MultinomialNB().fit(x_train_tfidf, y_train)"
      ],
      "metadata": {
        "id": "TvdjXdil165J"
      },
      "execution_count": null,
      "outputs": []
    },
    {
      "cell_type": "markdown",
      "source": [
        "# 결과확인하기"
      ],
      "metadata": {
        "id": "0KhYWwkh6gTd"
      }
    },
    {
      "cell_type": "code",
      "source": [
        "new_sent = preprocessing([\"민주당 일각에서 법사위의 체계·자구 심사 기능을 없애야 한다는 \\\n",
        "                           주장이 나오는데 대해 “체계·자구 심사가 법안 지연의 수단으로 \\\n",
        "                          쓰이는 것은 바람직하지 않다”면서도 “국회를 통과하는 법안 중 위헌\\\n",
        "                          법률이 1년에 10건 넘게 나온다. 그런데 체계·자구 심사까지 없애면 매우 위험하다”고 반박했다.\"           \n",
        "])"
      ],
      "metadata": {
        "id": "H4SR0seq6fcD"
      },
      "execution_count": null,
      "outputs": []
    },
    {
      "cell_type": "code",
      "source": [
        "def tfidf_vectorizer(data):\n",
        "  data_counts = count_vect.transform(data)\n",
        "  data_tfidf = tfidf_transformer.transform(data_counts)\n",
        "  return data_tfidf"
      ],
      "metadata": {
        "id": "Oz1tk8_lLR1t"
      },
      "execution_count": null,
      "outputs": []
    },
    {
      "cell_type": "code",
      "source": [
        "print(clf.predict(tfidf_vectorizer(new_sent)))"
      ],
      "metadata": {
        "colab": {
          "base_uri": "https://localhost:8080/"
        },
        "id": "8vFej8dJ6jVk",
        "outputId": "2993e302-0fd4-4a95-8690-01b4226b5b1f"
      },
      "execution_count": null,
      "outputs": [
        {
          "output_type": "stream",
          "name": "stdout",
          "text": [
            "['0']\n"
          ]
        }
      ]
    },
    {
      "cell_type": "code",
      "source": [
        "new_sent = preprocessing([\"20분기 연속으로 적자에 시달리는 LG전자가 브랜드 이름부터 성능, 디자인까지 대대적인 변화를 \\\n",
        "                          적용한 LG 벨벳은 등장 전부터 온라인 커뮤니티를 뜨겁게 달궜다. 사용자들은 “디자인이 예쁘다”, \\\n",
        "                          “슬림하다”는 반응을 보이며 LG 벨벳에 대한 기대감을 드러냈다.\"  \n",
        "])"
      ],
      "metadata": {
        "id": "a2aKhHMhLg9N"
      },
      "execution_count": null,
      "outputs": []
    },
    {
      "cell_type": "code",
      "source": [
        "print(clf.predict(tfidf_vectorizer(new_sent)))"
      ],
      "metadata": {
        "colab": {
          "base_uri": "https://localhost:8080/"
        },
        "id": "pgdo81gD6keT",
        "outputId": "f1bc61f4-e8c1-481b-e8a4-c3e17699cb04"
      },
      "execution_count": null,
      "outputs": [
        {
          "output_type": "stream",
          "name": "stdout",
          "text": [
            "['2']\n"
          ]
        }
      ]
    },
    {
      "cell_type": "markdown",
      "source": [
        "## 정확도 확인하기"
      ],
      "metadata": {
        "id": "NZWpkOfr6mD8"
      }
    },
    {
      "cell_type": "code",
      "source": [
        "x_test_tfidf = tfidf_vectorizer(x_test)"
      ],
      "metadata": {
        "id": "CyBLK5C7Ojoe"
      },
      "execution_count": null,
      "outputs": []
    },
    {
      "cell_type": "code",
      "source": [
        "#x_test에 대한 모델이 predict결과를 y_pred에 결과 저장하기\n",
        "# metrics.classification_report로 모델이 예측한 y_pred와 실제 정답데이터 y_test 두개의 리포트 출력하기\n",
        "y_pred = clf.predict(x_test_tfidf)"
      ],
      "metadata": {
        "id": "VFDqmwEi6nTj"
      },
      "execution_count": null,
      "outputs": []
    },
    {
      "cell_type": "code",
      "source": [
        "print(metrics.classification_report(y_test, y_pred))"
      ],
      "metadata": {
        "colab": {
          "base_uri": "https://localhost:8080/"
        },
        "id": "nGbK47KUQDuu",
        "outputId": "d877f35f-3fcc-455e-f83e-0c21a2359ed0"
      },
      "execution_count": null,
      "outputs": [
        {
          "output_type": "stream",
          "name": "stdout",
          "text": [
            "              precision    recall  f1-score   support\n",
            "\n",
            "           0       0.77      0.93      0.84       333\n",
            "           1       0.87      0.74      0.80       283\n",
            "           2       0.91      0.76      0.83       181\n",
            "\n",
            "    accuracy                           0.82       797\n",
            "   macro avg       0.85      0.81      0.82       797\n",
            "weighted avg       0.84      0.82      0.82       797\n",
            "\n"
          ]
        }
      ]
    },
    {
      "cell_type": "markdown",
      "source": [
        "# 2. 딥러닝(LSTM)으로 모델 설계"
      ],
      "metadata": {
        "id": "WDUbAzQG6qWb"
      }
    },
    {
      "cell_type": "code",
      "source": [
        "from tensorflow.keras.models import Sequential\n",
        "from tensorflow.keras.layers import Dense, LSTM, Embedding\n",
        "from tensorflow.keras.preprocessing.sequence import pad_sequences\n",
        "from tensorflow.keras.utils import to_categorical\n",
        "from tensorflow.keras.callbacks import EarlyStopping, ModelCheckpoint\n",
        "from tensorflow.keras.models import load_model"
      ],
      "metadata": {
        "id": "OPJPeHsq6pr8"
      },
      "execution_count": null,
      "outputs": []
    },
    {
      "cell_type": "code",
      "source": [
        "import pandas as pd\n",
        "import matplotlib.pyplot as plt\n",
        "from collections import Counter\n",
        "import numpy as np"
      ],
      "metadata": {
        "id": "qepq2M1PUcp8"
      },
      "execution_count": null,
      "outputs": []
    },
    {
      "cell_type": "code",
      "source": [
        "df"
      ],
      "metadata": {
        "colab": {
          "base_uri": "https://localhost:8080/",
          "height": 424
        },
        "id": "ZOpdcnWlUo5d",
        "outputId": "c053a683-1d17-4755-d5c1-7db552201d18"
      },
      "execution_count": null,
      "outputs": [
        {
          "output_type": "execute_result",
          "data": {
            "text/plain": [
              "                                                   news code\n",
              "0     파주시청 사진제공파주시 파주시청 사진제공파주시파주파이낸셜뉴스 강근주 기자 파주시는 ...    0\n",
              "1     동영상 뉴스이천 물류창고 화재 발화지점으로 지목된 지하 층에서 산소절단기의 산소 공...    0\n",
              "2     황범순 의정부시 부시장 을지대학교 의정부캠퍼스 및 부속병원 공사현장 안전점검 사진제...    0\n",
              "3     귀갓길 여성을 쫓아가 성범죄를 시도한 대 남성이 구속됐습니다서울 강남경찰서는 강간상...    0\n",
              "4     서울연합뉴스 대한약사회가 일부터 코로나바이러스 감염증 대응 체계를 사회적 거리두기에...    0\n",
              "...                                                 ...  ...\n",
              "4950  신종 코로나바이러스 감염증코로나 사태 이후 가정의 달 월에도 언택트비대면 신풍속도가...    2\n",
              "4951  는 소비자로부터 월 이용료 만만원을 받고 초고속 인터넷을 제공한다 그런 브로드밴드가...    2\n",
              "4952  머리를 긁고 있는 오랑우탄 몸을 긁는 행동을 따라 하는 것은 부정적 감정과 관련이 ...    2\n",
              "4953  가 오는 일 정식 출시하는 스마트폰 벨벳이 사실상 공짜폰이 될 전망이다 단말기 가격...    2\n",
              "4954  이미지제공게티이미지뱅크 이미지제공게티이미지뱅크  전자신문  전자신문인터넷 무단전재 ...    2\n",
              "\n",
              "[3985 rows x 2 columns]"
            ],
            "text/html": [
              "\n",
              "  <div id=\"df-dd390f55-dc9c-4928-9de2-aee37effd585\">\n",
              "    <div class=\"colab-df-container\">\n",
              "      <div>\n",
              "<style scoped>\n",
              "    .dataframe tbody tr th:only-of-type {\n",
              "        vertical-align: middle;\n",
              "    }\n",
              "\n",
              "    .dataframe tbody tr th {\n",
              "        vertical-align: top;\n",
              "    }\n",
              "\n",
              "    .dataframe thead th {\n",
              "        text-align: right;\n",
              "    }\n",
              "</style>\n",
              "<table border=\"1\" class=\"dataframe\">\n",
              "  <thead>\n",
              "    <tr style=\"text-align: right;\">\n",
              "      <th></th>\n",
              "      <th>news</th>\n",
              "      <th>code</th>\n",
              "    </tr>\n",
              "  </thead>\n",
              "  <tbody>\n",
              "    <tr>\n",
              "      <th>0</th>\n",
              "      <td>파주시청 사진제공파주시 파주시청 사진제공파주시파주파이낸셜뉴스 강근주 기자 파주시는 ...</td>\n",
              "      <td>0</td>\n",
              "    </tr>\n",
              "    <tr>\n",
              "      <th>1</th>\n",
              "      <td>동영상 뉴스이천 물류창고 화재 발화지점으로 지목된 지하 층에서 산소절단기의 산소 공...</td>\n",
              "      <td>0</td>\n",
              "    </tr>\n",
              "    <tr>\n",
              "      <th>2</th>\n",
              "      <td>황범순 의정부시 부시장 을지대학교 의정부캠퍼스 및 부속병원 공사현장 안전점검 사진제...</td>\n",
              "      <td>0</td>\n",
              "    </tr>\n",
              "    <tr>\n",
              "      <th>3</th>\n",
              "      <td>귀갓길 여성을 쫓아가 성범죄를 시도한 대 남성이 구속됐습니다서울 강남경찰서는 강간상...</td>\n",
              "      <td>0</td>\n",
              "    </tr>\n",
              "    <tr>\n",
              "      <th>4</th>\n",
              "      <td>서울연합뉴스 대한약사회가 일부터 코로나바이러스 감염증 대응 체계를 사회적 거리두기에...</td>\n",
              "      <td>0</td>\n",
              "    </tr>\n",
              "    <tr>\n",
              "      <th>...</th>\n",
              "      <td>...</td>\n",
              "      <td>...</td>\n",
              "    </tr>\n",
              "    <tr>\n",
              "      <th>4950</th>\n",
              "      <td>신종 코로나바이러스 감염증코로나 사태 이후 가정의 달 월에도 언택트비대면 신풍속도가...</td>\n",
              "      <td>2</td>\n",
              "    </tr>\n",
              "    <tr>\n",
              "      <th>4951</th>\n",
              "      <td>는 소비자로부터 월 이용료 만만원을 받고 초고속 인터넷을 제공한다 그런 브로드밴드가...</td>\n",
              "      <td>2</td>\n",
              "    </tr>\n",
              "    <tr>\n",
              "      <th>4952</th>\n",
              "      <td>머리를 긁고 있는 오랑우탄 몸을 긁는 행동을 따라 하는 것은 부정적 감정과 관련이 ...</td>\n",
              "      <td>2</td>\n",
              "    </tr>\n",
              "    <tr>\n",
              "      <th>4953</th>\n",
              "      <td>가 오는 일 정식 출시하는 스마트폰 벨벳이 사실상 공짜폰이 될 전망이다 단말기 가격...</td>\n",
              "      <td>2</td>\n",
              "    </tr>\n",
              "    <tr>\n",
              "      <th>4954</th>\n",
              "      <td>이미지제공게티이미지뱅크 이미지제공게티이미지뱅크  전자신문  전자신문인터넷 무단전재 ...</td>\n",
              "      <td>2</td>\n",
              "    </tr>\n",
              "  </tbody>\n",
              "</table>\n",
              "<p>3985 rows × 2 columns</p>\n",
              "</div>\n",
              "      <button class=\"colab-df-convert\" onclick=\"convertToInteractive('df-dd390f55-dc9c-4928-9de2-aee37effd585')\"\n",
              "              title=\"Convert this dataframe to an interactive table.\"\n",
              "              style=\"display:none;\">\n",
              "        \n",
              "  <svg xmlns=\"http://www.w3.org/2000/svg\" height=\"24px\"viewBox=\"0 0 24 24\"\n",
              "       width=\"24px\">\n",
              "    <path d=\"M0 0h24v24H0V0z\" fill=\"none\"/>\n",
              "    <path d=\"M18.56 5.44l.94 2.06.94-2.06 2.06-.94-2.06-.94-.94-2.06-.94 2.06-2.06.94zm-11 1L8.5 8.5l.94-2.06 2.06-.94-2.06-.94L8.5 2.5l-.94 2.06-2.06.94zm10 10l.94 2.06.94-2.06 2.06-.94-2.06-.94-.94-2.06-.94 2.06-2.06.94z\"/><path d=\"M17.41 7.96l-1.37-1.37c-.4-.4-.92-.59-1.43-.59-.52 0-1.04.2-1.43.59L10.3 9.45l-7.72 7.72c-.78.78-.78 2.05 0 2.83L4 21.41c.39.39.9.59 1.41.59.51 0 1.02-.2 1.41-.59l7.78-7.78 2.81-2.81c.8-.78.8-2.07 0-2.86zM5.41 20L4 18.59l7.72-7.72 1.47 1.35L5.41 20z\"/>\n",
              "  </svg>\n",
              "      </button>\n",
              "      \n",
              "  <style>\n",
              "    .colab-df-container {\n",
              "      display:flex;\n",
              "      flex-wrap:wrap;\n",
              "      gap: 12px;\n",
              "    }\n",
              "\n",
              "    .colab-df-convert {\n",
              "      background-color: #E8F0FE;\n",
              "      border: none;\n",
              "      border-radius: 50%;\n",
              "      cursor: pointer;\n",
              "      display: none;\n",
              "      fill: #1967D2;\n",
              "      height: 32px;\n",
              "      padding: 0 0 0 0;\n",
              "      width: 32px;\n",
              "    }\n",
              "\n",
              "    .colab-df-convert:hover {\n",
              "      background-color: #E2EBFA;\n",
              "      box-shadow: 0px 1px 2px rgba(60, 64, 67, 0.3), 0px 1px 3px 1px rgba(60, 64, 67, 0.15);\n",
              "      fill: #174EA6;\n",
              "    }\n",
              "\n",
              "    [theme=dark] .colab-df-convert {\n",
              "      background-color: #3B4455;\n",
              "      fill: #D2E3FC;\n",
              "    }\n",
              "\n",
              "    [theme=dark] .colab-df-convert:hover {\n",
              "      background-color: #434B5C;\n",
              "      box-shadow: 0px 1px 3px 1px rgba(0, 0, 0, 0.15);\n",
              "      filter: drop-shadow(0px 1px 2px rgba(0, 0, 0, 0.3));\n",
              "      fill: #FFFFFF;\n",
              "    }\n",
              "  </style>\n",
              "\n",
              "      <script>\n",
              "        const buttonEl =\n",
              "          document.querySelector('#df-dd390f55-dc9c-4928-9de2-aee37effd585 button.colab-df-convert');\n",
              "        buttonEl.style.display =\n",
              "          google.colab.kernel.accessAllowed ? 'block' : 'none';\n",
              "\n",
              "        async function convertToInteractive(key) {\n",
              "          const element = document.querySelector('#df-dd390f55-dc9c-4928-9de2-aee37effd585');\n",
              "          const dataTable =\n",
              "            await google.colab.kernel.invokeFunction('convertToInteractive',\n",
              "                                                     [key], {});\n",
              "          if (!dataTable) return;\n",
              "\n",
              "          const docLinkHtml = 'Like what you see? Visit the ' +\n",
              "            '<a target=\"_blank\" href=https://colab.research.google.com/notebooks/data_table.ipynb>data table notebook</a>'\n",
              "            + ' to learn more about interactive tables.';\n",
              "          element.innerHTML = '';\n",
              "          dataTable['output_type'] = 'display_data';\n",
              "          await google.colab.output.renderOutput(dataTable, element);\n",
              "          const docLink = document.createElement('div');\n",
              "          docLink.innerHTML = docLinkHtml;\n",
              "          element.appendChild(docLink);\n",
              "        }\n",
              "      </script>\n",
              "    </div>\n",
              "  </div>\n",
              "  "
            ]
          },
          "metadata": {},
          "execution_count": 86
        }
      ]
    },
    {
      "cell_type": "code",
      "source": [
        "print(len(df['code']))\n",
        "print(len(df['news']))"
      ],
      "metadata": {
        "colab": {
          "base_uri": "https://localhost:8080/"
        },
        "id": "CGRhhwUqz-LG",
        "outputId": "bf37877c-53c7-4a3e-d4d0-c6d47efa9b92"
      },
      "execution_count": null,
      "outputs": [
        {
          "output_type": "stream",
          "name": "stdout",
          "text": [
            "3985\n",
            "3985\n"
          ]
        }
      ]
    },
    {
      "cell_type": "code",
      "source": [
        "def preprocessing(data):\n",
        "    text_data = []\n",
        "\n",
        "    for sentence in data:\n",
        "        temp_data = []\n",
        "        temp_data = mecab.morphs(sentence)\n",
        "        temp_data = [word for word in temp_data if not word in stopwords]\n",
        "        text_data.append(temp_data)\n",
        "\n",
        "    # text_data = list(map(' '.join, text_data))\n",
        "    return text_data"
      ],
      "metadata": {
        "id": "xlTHG5ZAbov9"
      },
      "execution_count": null,
      "outputs": []
    },
    {
      "cell_type": "code",
      "source": [
        "def load_data(train_data, num_words =10000):\n",
        "  \n",
        "\n",
        "  # 토큰화 및 불용어 제거\n",
        "  x_train = preprocessing(train_data['news'])\n",
        "\n",
        "\n",
        "  # 단어장 만드는 중..\n",
        "  words = np.concatenate(x_train).tolist()\n",
        "  counter = Counter(words)\n",
        "  counter = counter.most_common(10000-4)    #빈도수\n",
        "  # print(counter)\n",
        "  vocab = ['<PAD>', '<BOS>', '<UNK>', '<UNUSED>'] + [key for key, _ in counter]\n",
        "  # print(vocab)\n",
        "  word_to_index = {word:index for index, word in enumerate(vocab)}\n",
        "\n",
        "  def wordlist_to_indexlist(wordlist):\n",
        "      return [word_to_index[word] if word in word_to_index else word_to_index ['<UNK>'] for word in wordlist]\n",
        "\n",
        "  x_train = list(map(wordlist_to_indexlist, x_train))\n",
        "\n",
        "  return x_train, np.array(list(train_data['code'])), word_to_index"
      ],
      "metadata": {
        "id": "6fhvWUGFxN_h"
      },
      "execution_count": null,
      "outputs": []
    },
    {
      "cell_type": "code",
      "source": [
        "x_data, y_data, word_to_index = load_data(df)"
      ],
      "metadata": {
        "id": "fwo4ulQCx_sH"
      },
      "execution_count": null,
      "outputs": []
    },
    {
      "cell_type": "code",
      "source": [
        "print(len(word_to_index))"
      ],
      "metadata": {
        "colab": {
          "base_uri": "https://localhost:8080/"
        },
        "id": "VMTK9_0hYW1T",
        "outputId": "e8909a98-5fcd-4c87-d4c7-03a4b182c7fd"
      },
      "execution_count": null,
      "outputs": [
        {
          "output_type": "stream",
          "name": "stdout",
          "text": [
            "10000\n"
          ]
        }
      ]
    },
    {
      "cell_type": "code",
      "source": [
        "len(y_data)"
      ],
      "metadata": {
        "colab": {
          "base_uri": "https://localhost:8080/"
        },
        "id": "jIiy7fwt0GU4",
        "outputId": "0a224d8d-fe5e-4e67-e528-b1b73595e86e"
      },
      "execution_count": null,
      "outputs": [
        {
          "output_type": "execute_result",
          "data": {
            "text/plain": [
              "3985"
            ]
          },
          "metadata": {},
          "execution_count": 91
        }
      ]
    },
    {
      "cell_type": "code",
      "source": [
        "#데이터 셋 내 문장 길이 분포\n",
        "total_data_text = list(x_data)\n",
        "\n",
        "# 텍스트데이터 문장길이의 리스트를 생성한 후\n",
        "num_tokens = [len(tokens) for tokens in total_data_text]\n",
        "num_tokens = np.array(num_tokens)\n",
        "\n",
        "# 문장 길이의 평균값, 최댓값, 표준편차를 계산\n",
        "print('문장길이 평균 : ', np.mean(num_tokens))\n",
        "print('문장길이 최대 : ', np.max(num_tokens))\n",
        "print('문장길이 표준편차 : ', np.std(num_tokens))\n",
        "\n",
        "# 예를 들면 최대길이를 (평균 +2*표준편차)로 한다면,\n",
        "max_tokens = np.mean(num_tokens) +2*np.std(num_tokens)\n",
        "\n",
        "maxlen = int(max_tokens)\n",
        "print('pad_sequences maxlen : ', maxlen)\n",
        "print('전체 문장의 {}%가 maxlen 설정값 이내에 포함된다.'.format(np.sum(num_tokens < max_tokens)/len(num_tokens)))"
      ],
      "metadata": {
        "colab": {
          "base_uri": "https://localhost:8080/"
        },
        "id": "ROF6EpLFydff",
        "outputId": "4b8aaf86-2ab5-43ea-87c9-f92e6fae1a92"
      },
      "execution_count": null,
      "outputs": [
        {
          "output_type": "stream",
          "name": "stdout",
          "text": [
            "문장길이 평균 :  308.7048933500627\n",
            "문장길이 최대 :  6008\n",
            "문장길이 표준편차 :  293.21755702498234\n",
            "pad_sequences maxlen :  895\n",
            "전체 문장의 0.9761606022584692%가 maxlen 설정값 이내에 포함된다.\n"
          ]
        }
      ]
    },
    {
      "cell_type": "code",
      "source": [
        "# 패딩 추가\n",
        "x_data = pad_sequences(x_data, value = word_to_index['<PAD>'], padding = 'pre', maxlen = maxlen)"
      ],
      "metadata": {
        "id": "JrP_34C6zIdz"
      },
      "execution_count": null,
      "outputs": []
    },
    {
      "cell_type": "code",
      "source": [
        "y_data = to_categorical(y_data)"
      ],
      "metadata": {
        "id": "0m_oJIZUzOFO"
      },
      "execution_count": null,
      "outputs": []
    },
    {
      "cell_type": "code",
      "source": [
        "print(len(y_data))\n",
        "print(len(x_data))"
      ],
      "metadata": {
        "colab": {
          "base_uri": "https://localhost:8080/"
        },
        "id": "AVNfU2sKzg2n",
        "outputId": "96e78995-b086-4587-dd9c-744af9ad05d9"
      },
      "execution_count": null,
      "outputs": [
        {
          "output_type": "stream",
          "name": "stdout",
          "text": [
            "3985\n",
            "3985\n"
          ]
        }
      ]
    },
    {
      "cell_type": "code",
      "source": [
        "x_train, x_test, y_train, y_test = train_test_split(x_data, y_data, test_size = 0.2, shuffle = True, stratify=target)"
      ],
      "metadata": {
        "id": "wEgwp0PGzpqP"
      },
      "execution_count": null,
      "outputs": []
    },
    {
      "cell_type": "code",
      "source": [
        "print(x_train.shape)\n",
        "print(y_train.shape)"
      ],
      "metadata": {
        "id": "BLU7xbE90SCO",
        "colab": {
          "base_uri": "https://localhost:8080/"
        },
        "outputId": "e24a4a93-685e-4630-df73-20b8ad735ac3"
      },
      "execution_count": null,
      "outputs": [
        {
          "output_type": "stream",
          "name": "stdout",
          "text": [
            "(3188, 895)\n",
            "(3188, 3)\n"
          ]
        }
      ]
    },
    {
      "cell_type": "code",
      "source": [
        "vocab_size = 10000\n",
        "embedding_dim = 128\n",
        "hidden_units = 128\n",
        "num_classes = 3\n",
        "\n",
        "abc = Sequential()\n",
        "abc.add(Embedding(vocab_size, embedding_dim))\n",
        "abc.add(LSTM(hidden_units))\n",
        "abc.add(Dense(num_classes, activation = 'softmax'))\n",
        "abc.summary()"
      ],
      "metadata": {
        "colab": {
          "base_uri": "https://localhost:8080/"
        },
        "id": "XORfhMqkXbVb",
        "outputId": "d4d7b3d3-8db4-455c-f77d-6148d35c75b5"
      },
      "execution_count": null,
      "outputs": [
        {
          "output_type": "stream",
          "name": "stdout",
          "text": [
            "Model: \"sequential_1\"\n",
            "_________________________________________________________________\n",
            " Layer (type)                Output Shape              Param #   \n",
            "=================================================================\n",
            " embedding_1 (Embedding)     (None, None, 128)         1280000   \n",
            "                                                                 \n",
            " lstm_1 (LSTM)               (None, 128)               131584    \n",
            "                                                                 \n",
            " dense_1 (Dense)             (None, 3)                 387       \n",
            "                                                                 \n",
            "=================================================================\n",
            "Total params: 1,411,971\n",
            "Trainable params: 1,411,971\n",
            "Non-trainable params: 0\n",
            "_________________________________________________________________\n"
          ]
        }
      ]
    },
    {
      "cell_type": "code",
      "source": [
        "es = EarlyStopping(monitor = 'val_loss', mode = 'min', verbose =1, patience = 4)\n",
        "mc = ModelCheckpoint('best_model.h5', monitor = 'val_loss', model = 'max', verbose =1, save_best_only = True)"
      ],
      "metadata": {
        "id": "Eqwlf3sMXhir"
      },
      "execution_count": null,
      "outputs": []
    },
    {
      "cell_type": "code",
      "source": [
        "abc.compile(loss = 'categorical_crossentropy',\n",
        "            optimizer = 'adam',\n",
        "            metrics = ['accuracy'])"
      ],
      "metadata": {
        "id": "3jgjhQdVXkqq"
      },
      "execution_count": null,
      "outputs": []
    },
    {
      "cell_type": "code",
      "source": [
        "history = abc.fit(x_train, y_train, batch_size = 128, epochs = 10000, callbacks=[es, mc], validation_data =(x_test, y_test))"
      ],
      "metadata": {
        "colab": {
          "base_uri": "https://localhost:8080/"
        },
        "id": "agwRiAJPXmJj",
        "outputId": "be0c09a4-1333-4784-df54-630afa42d492"
      },
      "execution_count": null,
      "outputs": [
        {
          "output_type": "stream",
          "name": "stdout",
          "text": [
            "Epoch 1/10000\n",
            "25/25 [==============================] - ETA: 0s - loss: 1.0293 - accuracy: 0.4602\n",
            "Epoch 1: val_loss improved from inf to 0.94116, saving model to best_model.h5\n",
            "25/25 [==============================] - 105s 4s/step - loss: 1.0293 - accuracy: 0.4602 - val_loss: 0.9412 - val_accuracy: 0.5734\n",
            "Epoch 2/10000\n",
            "25/25 [==============================] - ETA: 0s - loss: 0.7522 - accuracy: 0.6785\n",
            "Epoch 2: val_loss improved from 0.94116 to 0.65247, saving model to best_model.h5\n",
            "25/25 [==============================] - 98s 4s/step - loss: 0.7522 - accuracy: 0.6785 - val_loss: 0.6525 - val_accuracy: 0.6989\n",
            "Epoch 3/10000\n",
            "25/25 [==============================] - ETA: 0s - loss: 0.3772 - accuracy: 0.8654\n",
            "Epoch 3: val_loss improved from 0.65247 to 0.54217, saving model to best_model.h5\n",
            "25/25 [==============================] - 100s 4s/step - loss: 0.3772 - accuracy: 0.8654 - val_loss: 0.5422 - val_accuracy: 0.7880\n",
            "Epoch 4/10000\n",
            "25/25 [==============================] - ETA: 0s - loss: 0.1985 - accuracy: 0.9398\n",
            "Epoch 4: val_loss did not improve from 0.54217\n",
            "25/25 [==============================] - 99s 4s/step - loss: 0.1985 - accuracy: 0.9398 - val_loss: 0.5847 - val_accuracy: 0.7992\n",
            "Epoch 5/10000\n",
            "25/25 [==============================] - ETA: 0s - loss: 0.1285 - accuracy: 0.9598\n",
            "Epoch 5: val_loss did not improve from 0.54217\n",
            "25/25 [==============================] - 99s 4s/step - loss: 0.1285 - accuracy: 0.9598 - val_loss: 0.5871 - val_accuracy: 0.8055\n",
            "Epoch 6/10000\n",
            "25/25 [==============================] - ETA: 0s - loss: 0.0685 - accuracy: 0.9815\n",
            "Epoch 6: val_loss did not improve from 0.54217\n",
            "25/25 [==============================] - 97s 4s/step - loss: 0.0685 - accuracy: 0.9815 - val_loss: 0.6952 - val_accuracy: 0.7854\n",
            "Epoch 7/10000\n",
            "25/25 [==============================] - ETA: 0s - loss: 0.0481 - accuracy: 0.9871\n",
            "Epoch 7: val_loss did not improve from 0.54217\n",
            "25/25 [==============================] - 96s 4s/step - loss: 0.0481 - accuracy: 0.9871 - val_loss: 0.7437 - val_accuracy: 0.7917\n",
            "Epoch 7: early stopping\n"
          ]
        }
      ]
    },
    {
      "cell_type": "code",
      "source": [
        "loaded_model = load_model('best_model.h5')\n",
        "print(\"\\n 테스트 정확도 : %.4f\" % (loaded_model.evaluate(x_test, y_test)[1]))"
      ],
      "metadata": {
        "colab": {
          "base_uri": "https://localhost:8080/"
        },
        "id": "IH3qdCTQewcr",
        "outputId": "784b0cc6-0b2c-4638-f517-a005a58c333b"
      },
      "execution_count": null,
      "outputs": [
        {
          "output_type": "stream",
          "name": "stdout",
          "text": [
            "25/25 [==============================] - 7s 247ms/step - loss: 0.5422 - accuracy: 0.7880\n",
            "\n",
            " 테스트 정확도 : 0.7880\n"
          ]
        }
      ]
    },
    {
      "cell_type": "code",
      "source": [
        "print(history.history)"
      ],
      "metadata": {
        "colab": {
          "base_uri": "https://localhost:8080/"
        },
        "id": "UShGmN3ke3Wj",
        "outputId": "68734646-9868-48bd-bc6d-03ce3effa4fe"
      },
      "execution_count": null,
      "outputs": [
        {
          "output_type": "stream",
          "name": "stdout",
          "text": [
            "{'loss': [1.0292894840240479, 0.752234935760498, 0.3772124648094177, 0.19853396713733673, 0.1284857988357544, 0.06849316507577896, 0.048083990812301636], 'accuracy': [0.4601631164550781, 0.6784818172454834, 0.865432858467102, 0.9397741556167603, 0.9598494172096252, 0.9814931154251099, 0.9871392846107483], 'val_loss': [0.941158652305603, 0.6524685025215149, 0.5421674847602844, 0.5847421288490295, 0.5871067643165588, 0.6951873898506165, 0.7437001466751099], 'val_accuracy': [0.5734002590179443, 0.6988707780838013, 0.7879548072814941, 0.7992472052574158, 0.8055207133293152, 0.7854453921318054, 0.7917189598083496]}\n"
          ]
        }
      ]
    },
    {
      "cell_type": "code",
      "source": [
        "epochs = range(1, len(history.history['accuracy'])+1)\n",
        "\n",
        "plt.plot(epochs, history.history['loss'])\n",
        "plt.plot(epochs, history.history['val_loss'])\n",
        "plt.title('model loss')\n",
        "plt.ylabel('loss')\n",
        "plt.xlabel('epoch')\n",
        "plt.legend(['train', 'test'], loc='upper left')\n",
        "plt.show()"
      ],
      "metadata": {
        "colab": {
          "base_uri": "https://localhost:8080/",
          "height": 295
        },
        "id": "LFCFjZOKe7Ca",
        "outputId": "091c0c5c-ee01-4d8f-d65e-25b352c5b70c"
      },
      "execution_count": null,
      "outputs": [
        {
          "output_type": "display_data",
          "data": {
            "text/plain": [
              "<Figure size 432x288 with 1 Axes>"
            ],
            "image/png": "[encoded data removed]"
          },
          "metadata": {
            "needs_background": "light"
          }
        }
      ]
    }
  ]
}