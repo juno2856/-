{
  "nbformat": 4,
  "nbformat_minor": 0,
  "metadata": {
    "colab": {
      "name": "자연어처리 20220525",
      "provenance": [],
      "collapsed_sections": [],
      "include_colab_link": true
    },
    "kernelspec": {
      "name": "python3",
      "display_name": "Python 3"
    },
    "language_info": {
      "name": "python"
    }
  },
  "cells": [
    {
      "cell_type": "markdown",
      "metadata": {
        "id": "view-in-github",
        "colab_type": "text"
      },
      "source": [
        "<a href=\"https://colab.research.google.com/github/juno2856/deeplearning/blob/master/NLP/%EC%9E%90%EC%97%B0%EC%96%B4%EC%B2%98%EB%A6%AC_20220525.ipynb\" target=\"_parent\"><img src=\"https://colab.research.google.com/assets/colab-badge.svg\" alt=\"Open In Colab\"/></a>"
      ]
    },
    {
      "cell_type": "markdown",
      "source": [
        "https://seong6496.tistory.com/110\n",
        "https://wikidocs.net/22886\n",
        "https://childult-programmer.tistory.com/54\n",
        "https://www.sallys.space/blog/2018/02/28/rnn-lstm/"
      ],
      "metadata": {
        "id": "J1BhCUV5yoUl"
      }
    },
    {
      "cell_type": "code",
      "execution_count": null,
      "metadata": {
        "id": "0nSs5_aezd66"
      },
      "outputs": [],
      "source": [
        "import tensorflow as tf\n",
        "from tensorflow.keras import layers, Model\n",
        "import numpy as np\n",
        "import matplotlib.pyplot as plt"
      ]
    },
    {
      "cell_type": "markdown",
      "source": [
        "# Tanh를 구현해봅시다"
      ],
      "metadata": {
        "id": "Ye6QdvbGzoZW"
      }
    },
    {
      "cell_type": "code",
      "source": [
        "class Tanh(Model):\n",
        "    def call(self, x):\n",
        "        return 2 / (1 + tf.exp(-2*x)) - 1"
      ],
      "metadata": {
        "id": "gpvaUm7Pzn0_"
      },
      "execution_count": null,
      "outputs": []
    },
    {
      "cell_type": "code",
      "source": [
        "x = tf.linspace(-5, 5, 1000)\n",
        "y = Tanh()(x)\n",
        "\n",
        "plt.figure(figsize=[8, 3])\n",
        "plt.title('Tanh')\n",
        "plt.scatter(x, y, s=1)\n",
        "plt.grid()\n",
        "plt.show()"
      ],
      "metadata": {
        "colab": {
          "base_uri": "https://localhost:8080/",
          "height": 227
        },
        "id": "d_XfUntezmjI",
        "outputId": "c57a2b9a-2ec7-4b7b-ab7d-fc843ebbc3f1"
      },
      "execution_count": null,
      "outputs": [
        {
          "output_type": "display_data",
          "data": {
            "text/plain": [
              "<Figure size 576x216 with 1 Axes>"
            ],
            "image/png": "[encoded data removed]"
          },
          "metadata": {
            "needs_background": "light"
          }
        }
      ]
    },
    {
      "cell_type": "markdown",
      "source": [
        "# Dense층을 구현하세요"
      ],
      "metadata": {
        "id": "gozg3_JhzxA_"
      }
    },
    {
      "cell_type": "code",
      "source": [
        "class Dense(Model):\n",
        "    def __init__(self, input_dim, output_dim):\n",
        "        super().__init__()\n",
        "        self.w = tf.random.normal(shape=(input_dim, output_dim))\n",
        "        self.b = tf.zeros(shape=(output_dim))\n",
        "        \n",
        "    def call(self, x):\n",
        "        # (batch, input_dim)\n",
        "        y = x @ self.w + self.b\n",
        "        # y = W * x + b\n",
        "        # print(self.w)\n",
        "        # @ --> tf.matmul ---> np.dot\n",
        "        pass\n",
        "        \n",
        "        return y"
      ],
      "metadata": {
        "id": "1FWMCIOxzuVn"
      },
      "execution_count": null,
      "outputs": []
    },
    {
      "cell_type": "code",
      "source": [
        "t = tf.random.normal((2, 256))\n",
        "t = Dense(256, 512)(t)\n",
        "print(t.shape)"
      ],
      "metadata": {
        "id": "-Oox6GuSmkA_",
        "colab": {
          "base_uri": "https://localhost:8080/"
        },
        "outputId": "564ed240-ba0c-4aed-cbc2-ce8cf298cc49"
      },
      "execution_count": null,
      "outputs": [
        {
          "output_type": "stream",
          "name": "stdout",
          "text": [
            "(2, 512)\n"
          ]
        }
      ]
    },
    {
      "cell_type": "markdown",
      "source": [
        "# RNN셀을 구현하세요"
      ],
      "metadata": {
        "id": "2EGkNI9qz40m"
      }
    },
    {
      "cell_type": "markdown",
      "source": [
        "$$h^{\\prime}=\\tanh \\left(W_{x h} x+b_{x h}+W_{h h} h+b_{h h}\\right)$$"
      ],
      "metadata": {
        "id": "_hW5T9Wvy1Nc"
      }
    },
    {
      "cell_type": "code",
      "source": [
        "class RNNCell(Model):\n",
        "    def __init__(self, input_dim, hidden_dim, activation=Tanh):\n",
        "        super().__init__()\n",
        "        self.dense1 = Dense(input_dim, hidden_dim)\n",
        "        self.dense2 = Dense(hidden_dim, hidden_dim)\n",
        "        self.activation = activation()\n",
        "\n",
        "        pass        \n",
        "    \n",
        "    def call(self, x, h):\n",
        "        # x : (batch, input_dim)\n",
        "        h = self.activation(self.dense1(x) + self.dense2(h))\n",
        "        \n",
        "        pass\n",
        "\n",
        "        return h"
      ],
      "metadata": {
        "id": "0Acq3A_az4my"
      },
      "execution_count": null,
      "outputs": []
    },
    {
      "cell_type": "code",
      "source": [
        "x = tf.random.normal((2, 16)) # input dim\n",
        "h = tf.random.normal((2, 32)) # hidden dim\n",
        "\n",
        "y = RNNCell(16, 32)(x,h)\n",
        "print(y.shape)"
      ],
      "metadata": {
        "id": "gC_BN5mPmoO-",
        "colab": {
          "base_uri": "https://localhost:8080/"
        },
        "outputId": "dd94b17b-d971-4be9-f9b6-bef1625705e1"
      },
      "execution_count": null,
      "outputs": [
        {
          "output_type": "stream",
          "name": "stdout",
          "text": [
            "(2, 32)\n"
          ]
        }
      ]
    },
    {
      "cell_type": "markdown",
      "source": [
        "RNN는 RNNCell을 sub-layer로 갖고 있습니다.\n",
        "\n",
        "forward pass를 구현하는 call에서 for loop 통해 매 time step의 vector를 RNNCell에 넣고 hidden state를 출력합니다.\n",
        "\n",
        "출력된 hidden state는 다음 time step의 hidden state 입력으로 들어갑니다.\n",
        "\n",
        "첫번째 time step에서는 주어진 hidden state가 없으므로 tf.zeros를 이용하여 0으로 채운 벡터를 사용합니다.\n",
        "\n",
        "모든 time step의 출력은 for loop이 끝난 뒤, tf.stack 명령을 통해 쌓아서 최종 출력으로 만듭니다."
      ],
      "metadata": {
        "id": "iL94xyO90R6W"
      }
    },
    {
      "cell_type": "code",
      "source": [
        "class RNN(Model):\n",
        "    def __init__(self, input_dim, hidden_dim, activation=Tanh):\n",
        "        super().__init__()\n",
        "        self.hidden_dim = hidden_dim\n",
        "        self.rnn_cell = RNNCell(input_dim, hidden_dim, activation)\n",
        "        pass \n",
        "    \n",
        "    def call(self, x):\n",
        "        # x : (batch, length(timestep), input_dim)\n",
        "        batch, length, input_dim = x.shape\n",
        "\n",
        "        h = tf.zeros((batch, self.hidden_dim)) # 초기 벡터를 0으로 설정\n",
        "        y = []\n",
        "        for l in range(length):\n",
        "            x_ = x[:, l, :]\n",
        "            h = self.rnn_cell(x_, h)\n",
        "            y.append(h)\n",
        "        y = tf.stack(y, axis = 1)\n",
        "\n",
        "        return y "
      ],
      "metadata": {
        "id": "N8XfLnhB0d2u"
      },
      "execution_count": null,
      "outputs": []
    },
    {
      "cell_type": "code",
      "source": [
        "x = tf.random.normal((2, 100, 16)) # input dim\n",
        "\n",
        "y = RNN(16, 32)(x)\n",
        "print(y.shape)"
      ],
      "metadata": {
        "id": "67POyP_dmps2",
        "colab": {
          "base_uri": "https://localhost:8080/"
        },
        "outputId": "c534a637-a177-47b9-a387-3d6b4fd2e917"
      },
      "execution_count": null,
      "outputs": [
        {
          "output_type": "stream",
          "name": "stdout",
          "text": [
            "(2, 100, 32)\n"
          ]
        }
      ]
    },
    {
      "cell_type": "markdown",
      "source": [
        "# GRUCell을 구현해봅시다."
      ],
      "metadata": {
        "id": "UDm-tIOd0UZ3"
      }
    },
    {
      "cell_type": "markdown",
      "source": [
        "\\begin{aligned}\n",
        "&r=\\sigma\\left(W_{i r} x+b_{i r}+W_{h r} h+b_{h r}\\right) \\\\\n",
        "&z=\\sigma\\left(W_{i z} x+b_{i z}+W_{h z} h+b_{h z}\\right) \\\\\n",
        "&n=\\tanh \\left(W_{i n} x+b_{i n}+r *\\left(W_{h n} h+b_{h n}\\right)\\right) \\\\\n",
        "&h^{\\prime}=(1-z) * n+z * h\n",
        "\\end{aligned}"
      ],
      "metadata": {
        "id": "YKTw_gdT0ile"
      }
    },
    {
      "cell_type": "code",
      "source": [
        "class Sigmoid(Model):\n",
        "    def call(self, x):\n",
        "        return 1 / (1 + np.exp(-x))"
      ],
      "metadata": {
        "id": "bSMJ10l_z8KX"
      },
      "execution_count": null,
      "outputs": []
    },
    {
      "cell_type": "code",
      "source": [
        "x = tf.linspace(-5, 5, 1000)\n",
        "y = Sigmoid()(x)\n",
        "\n",
        "plt.figure(figsize=[8, 3])\n",
        "plt.title('Sigmoid')\n",
        "plt.scatter(x, y, s=1)\n",
        "plt.grid()\n",
        "plt.show()"
      ],
      "metadata": {
        "id": "PpezPBEj0m6e",
        "colab": {
          "base_uri": "https://localhost:8080/",
          "height": 227
        },
        "outputId": "c7592b02-c661-4c52-90a0-7ace97a56261"
      },
      "execution_count": null,
      "outputs": [
        {
          "output_type": "display_data",
          "data": {
            "text/plain": [
              "<Figure size 576x216 with 1 Axes>"
            ],
            "image/png": "[encoded data removed]"
          },
          "metadata": {
            "needs_background": "light"
          }
        }
      ]
    },
    {
      "cell_type": "code",
      "source": [
        "class GRUCell(Model):\n",
        "    def __init__(self, input_dim, hidden_dim):\n",
        "        super().__init__()\n",
        "        self.sigmoid = Sigmoid()\n",
        "        self.tanh = Tanh()\n",
        "        self.dense_ir = Dense(input_dim, hidden_dim)\n",
        "        self.dense_hr = Dense(hidden_dim, hidden_dim)\n",
        "        self.dense_iz = Dense(input_dim, hidden_dim)\n",
        "        self.dense_hz = Dense(hidden_dim, hidden_dim)\n",
        "        self.dense_in = Dense(input_dim, hidden_dim)\n",
        "        self.dense_hn = Dense(hidden_dim, hidden_dim)\n",
        "\n",
        "        pass\n",
        "\n",
        "    def call(self, x, h):\n",
        "        # x : (batch, input_dim)\n",
        "        # h : (batch, hidden_dim)\n",
        "        r = self.sigmoid(self.dense_ir(x)+self.dense_hr(h))\n",
        "        z = self.sigmoid(self.dense_iz(x)+self.dense_hz(h))\n",
        "        n = self.tanh(self.dense_in(x)+ r*self.dense_hn(h))\n",
        "        h = (1-z)*n + z*h\n",
        "        pass\n",
        "\n",
        "        return h"
      ],
      "metadata": {
        "id": "-dyb-tJe0rYV"
      },
      "execution_count": null,
      "outputs": []
    },
    {
      "cell_type": "code",
      "source": [
        "x = tf.random.normal((2, 16)) # input dim\n",
        "h = tf.random.normal((2, 32)) # hidden dim\n",
        "\n",
        "y = GRUCell(16, 32)(x,h)\n",
        "print(y.shape)"
      ],
      "metadata": {
        "id": "3LphCVpN7nve",
        "outputId": "afe0f9fc-c08d-4534-ab8e-b10e5892c185",
        "colab": {
          "base_uri": "https://localhost:8080/"
        }
      },
      "execution_count": null,
      "outputs": [
        {
          "output_type": "stream",
          "name": "stdout",
          "text": [
            "(2, 32)\n"
          ]
        }
      ]
    },
    {
      "cell_type": "code",
      "source": [
        "class GRU(Model):\n",
        "    def __init__(self, input_dim, hidden_dim, activation=Tanh):\n",
        "        super().__init__()\n",
        "        self.hidden_dim = hidden_dim\n",
        "        self.gru_cell = GRUCell(input_dim, hidden_dim)\n",
        "    \n",
        "    def call(self, x):\n",
        "        # x : (batch, length(timestep), input_dim)\n",
        "        batch, length, input_dim = x.shape\n",
        "\n",
        "        h = tf.zeros((batch, self.hidden_dim)) # 초기 벡터를 0으로 설정\n",
        "        y = []\n",
        "        for l in range(length):\n",
        "            x_ = x[:, l, :]\n",
        "            h = self.gru_cell(x_, h)\n",
        "            y.append(h)     \n",
        "        y = tf.stack(y, axis=1)\n",
        "        return y"
      ],
      "metadata": {
        "id": "f_CYgXHD2Svw"
      },
      "execution_count": null,
      "outputs": []
    },
    {
      "cell_type": "code",
      "source": [
        "x = tf.random.normal((2, 100, 16))\n",
        "y = GRU(16, 32)(x)\n",
        "print(y.shape)"
      ],
      "metadata": {
        "id": "Hvs0WMfVmy9m",
        "colab": {
          "base_uri": "https://localhost:8080/"
        },
        "outputId": "d402b573-8cb9-43e5-ecec-7f8379aeee04"
      },
      "execution_count": null,
      "outputs": [
        {
          "output_type": "stream",
          "name": "stdout",
          "text": [
            "(2, 100, 32)\n"
          ]
        }
      ]
    },
    {
      "cell_type": "markdown",
      "source": [
        "### LSTM을 구현해봅시다.\n",
        "\n",
        "\\begin{aligned}\n",
        "&i=\\sigma\\left(W_{i i} x+b_{i i}+W_{h i} h+b_{h i}\\right) \\\\\n",
        "&f=\\sigma\\left(W_{i f} x+b_{i f}+W_{h f} h+b_{h f}\\right) \\\\\n",
        "&g=\\tanh \\left(W_{i g} x+b_{i g}+W_{h g} h+b_{h g}\\right) \\\\\n",
        "&o=\\sigma\\left(W_{i o} x+b_{i o}+W_{h o} h+b_{h o}\\right) \\\\\n",
        "&c^{\\prime}=f * c+i * g \\\\\n",
        "&h^{\\prime}=o * \\tanh \\left(c^{\\prime}\\right)\n",
        "\\end{aligned}"
      ],
      "metadata": {
        "id": "FxaUDWPm2LC2"
      }
    },
    {
      "cell_type": "code",
      "source": [
        "class LSTMCell(Model):\n",
        "    def __init__(self, input_dim, hidden_dim):\n",
        "        super().__init__()\n",
        "        self.sigmoid = Sigmoid()\n",
        "        self.tanh = Tanh()\n",
        "        self.dense = Dense(input_dim + hidden_dim, hidden_dim*4)\n",
        "\n",
        "    \n",
        "    def call(self, x, state):\n",
        "        # x : (batch, input_dim)\n",
        "        # state : (batch, hidden_dim), (batch, hidden_dim)\n",
        "        h,c = state\n",
        "        \n",
        "        # (batch, input_dim + hidden_dim)\n",
        "        xh = np.concatenate([x,h], axis = 1)\n",
        "        \n",
        "        # (batch, hidden_dim*4)\n",
        "        d = self.dense(xh)\n",
        "\n",
        "        i,f,g,o = tf.split(d, 4, axis =1)\n",
        "\n",
        "        i = self.sigmoid(i)\n",
        "        f = self.sigmoid(f)\n",
        "        g = self.tanh(g)\n",
        "        o = self.sigmoid(o)\n",
        "        c_= f*c + i*g\n",
        "        h_ = o* self.tanh(c_)\n",
        "\n",
        "        return h_, c_"
      ],
      "metadata": {
        "id": "QT-ISO232LTf"
      },
      "execution_count": null,
      "outputs": []
    },
    {
      "cell_type": "code",
      "source": [
        "class LSTM:\n",
        "    def __init__(self, input_dim, hidden_dim):\n",
        "        super().__init__()\n",
        "        self.hidden_dim = hidden_dim\n",
        "        self.lstm_cell = LSTMCell(input_dim, hidden_dim)\n",
        "    \n",
        "    def __call__(self, x):\n",
        "        # x : (batch, length, input_dim)\n",
        "        batch, length, input_dim = x.shape\n",
        "\n",
        "        h = tf.zeros((batch, self.hidden_dim)) # 초기 벡터를 0으로 초기화\n",
        "        c = tf.zeros((batch, self.hidden_dim))\n",
        "\n",
        "        y = [] #결과를 저장할 곳의 초기화 (빈 리스트)\n",
        "        for l in range(length):\n",
        "            # batch, length, input_dim\n",
        "            x_ = x[:, l, :]        \n",
        "            h, c = self.lstm_cell(x_, (h,c))\n",
        "            y.append(h)\n",
        "        y = tf.stack(y, axis=1)\n",
        "        return y"
      ],
      "metadata": {
        "id": "ctItEeYD2W7F"
      },
      "execution_count": null,
      "outputs": []
    },
    {
      "cell_type": "code",
      "source": [
        "x = tf.random.normal((2, 100, 16))\n",
        "y = LSTM(16, 32)(x)\n",
        "print(y.shape)"
      ],
      "metadata": {
        "id": "IlnWhqw8m1am",
        "colab": {
          "base_uri": "https://localhost:8080/"
        },
        "outputId": "e20a770f-0cc8-4729-8609-486b41f132fe"
      },
      "execution_count": null,
      "outputs": [
        {
          "output_type": "stream",
          "name": "stdout",
          "text": [
            "(2, 100, 32)\n"
          ]
        }
      ]
    }
  ]
}