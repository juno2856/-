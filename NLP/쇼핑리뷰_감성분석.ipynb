{
  "nbformat": 4,
  "nbformat_minor": 0,
  "metadata": {
    "colab": {
      "name": "쇼핑리뷰 감성분석.ipynb",
      "provenance": [],
      "collapsed_sections": [],
      "include_colab_link": true
    },
    "kernelspec": {
      "name": "python3",
      "display_name": "Python 3"
    },
    "language_info": {
      "name": "python"
    }
  },
  "cells": [
    {
      "cell_type": "markdown",
      "metadata": {
        "id": "view-in-github",
        "colab_type": "text"
      },
      "source": [
        "<a href=\"https://colab.research.google.com/github/juno2856/deeplearning/blob/master/NLP/%EC%87%BC%ED%95%91%EB%A6%AC%EB%B7%B0_%EA%B0%90%EC%84%B1%EB%B6%84%EC%84%9D.ipynb\" target=\"_parent\"><img src=\"https://colab.research.google.com/assets/colab-badge.svg\" alt=\"Open In Colab\"/></a>"
      ]
    },
    {
      "cell_type": "code",
      "execution_count": null,
      "metadata": {
        "id": "wxvo9eAQAsVY"
      },
      "outputs": [],
      "source": [
        "import pandas as pd\n",
        "import urllib.request\n",
        "import matplotlib.pyplot as plt\n",
        "import re\n",
        "import tensorflow as tf\n",
        "from tensorflow import keras\n",
        "from tensorflow.keras.preprocessing.text import Tokenizer\n",
        "import numpy as np\n",
        "from tensorflow.keras.preprocessing.sequence import pad_sequences\n",
        "from collections import Counter"
      ]
    },
    {
      "cell_type": "code",
      "source": [
        "from sklearn.model_selection import train_test_split\n",
        "from tensorflow.keras.utils import to_categorical"
      ],
      "metadata": {
        "id": "46-vBoCncxMu"
      },
      "execution_count": null,
      "outputs": []
    },
    {
      "cell_type": "code",
      "source": [
        "urllib.request.urlretrieve(\"https://raw.githubusercontent.com/bab2min/corpus/master/sentiment/naver_shopping.txt\", filename=\"ratings_total.txt\")"
      ],
      "metadata": {
        "colab": {
          "base_uri": "https://localhost:8080/"
        },
        "id": "6O8EamJ1BYo6",
        "outputId": "54474e71-b108-480a-88a5-087b38777c6b"
      },
      "execution_count": null,
      "outputs": [
        {
          "output_type": "execute_result",
          "data": {
            "text/plain": [
              "('ratings_total.txt', <http.client.HTTPMessage at 0x7f98d4e0f7d0>)"
            ]
          },
          "metadata": {},
          "execution_count": 2
        }
      ]
    },
    {
      "cell_type": "code",
      "source": [
        "df = pd.read_table('ratings_total.txt', names = ['star','review'])"
      ],
      "metadata": {
        "id": "_HCLY1Roc-Rl"
      },
      "execution_count": null,
      "outputs": []
    },
    {
      "cell_type": "code",
      "source": [
        "print(len(df))"
      ],
      "metadata": {
        "colab": {
          "base_uri": "https://localhost:8080/"
        },
        "id": "c7HnzyD2eMWO",
        "outputId": "4e91ce7e-0d16-48cf-c42c-111222bc91e8"
      },
      "execution_count": null,
      "outputs": [
        {
          "output_type": "stream",
          "name": "stdout",
          "text": [
            "200000\n"
          ]
        }
      ]
    },
    {
      "cell_type": "code",
      "source": [
        "df.drop_duplicates(subset = ['review'], inplace = True)"
      ],
      "metadata": {
        "id": "GPOmHBY_eR8z"
      },
      "execution_count": null,
      "outputs": []
    },
    {
      "cell_type": "code",
      "source": [
        "df = df.dropna(how = 'any')"
      ],
      "metadata": {
        "id": "ncz1bnzGej0s"
      },
      "execution_count": null,
      "outputs": []
    },
    {
      "cell_type": "code",
      "source": [
        "df['review'] = df['review'].str.replace(\"[^ㄱ-ㅎㅏ-ㅣ가-힣 ]\",\"\")\n",
        "df['review']"
      ],
      "metadata": {
        "colab": {
          "base_uri": "https://localhost:8080/"
        },
        "id": "sjmFmqDi2tIa",
        "outputId": "a6ae8539-dcaf-44ed-d789-139c2fb62b77"
      },
      "execution_count": null,
      "outputs": [
        {
          "output_type": "stream",
          "name": "stderr",
          "text": [
            "/usr/local/lib/python3.7/dist-packages/ipykernel_launcher.py:1: FutureWarning: The default value of regex will change from True to False in a future version.\n",
            "  \"\"\"Entry point for launching an IPython kernel.\n"
          ]
        },
        {
          "output_type": "execute_result",
          "data": {
            "text/plain": [
              "0                                                   배공빠르고 굿\n",
              "1                             택배가 엉망이네용 저희집 밑에층에 말도없이 놔두고가고\n",
              "2         아주좋아요 바지 정말 좋아서개 더 구매했어요 이가격에 대박입니다 바느질이 조금 엉성...\n",
              "3         선물용으로 빨리 받아서 전달했어야 하는 상품이었는데 머그컵만 와서 당황했습니다 전화...\n",
              "4                          민트색상 예뻐요 옆 손잡이는 거는 용도로도 사용되네요 ㅎㅎ\n",
              "                                ...                        \n",
              "199995                                         장마라그런가 달지않아요\n",
              "199996    다이슨 케이스 구매했어요 다이슨 슈퍼소닉 드라이기 케이스 구매했어요가격 괜찮고 배송...\n",
              "199997                      로드샾에서 사는것보다 세배 저렴하네요 ㅜㅜ 자주이용할께요\n",
              "199998                                         넘이쁘고 쎄련되보이네요\n",
              "199999     아직 사용해보지도않았고 다른 제품을 써본적이없어서 잘 모르겠지만 ㅎㅎ 배송은 빨랐습니다\n",
              "Name: review, Length: 199908, dtype: object"
            ]
          },
          "metadata": {},
          "execution_count": 8
        }
      ]
    },
    {
      "cell_type": "code",
      "source": [
        "print(df.head())"
      ],
      "metadata": {
        "colab": {
          "base_uri": "https://localhost:8080/"
        },
        "id": "loMl0MFf2yCa",
        "outputId": "b01cf879-554a-480a-ce4d-71a8f785a2ef"
      },
      "execution_count": null,
      "outputs": [
        {
          "output_type": "stream",
          "name": "stdout",
          "text": [
            "   star                                             review\n",
            "0     5                                            배공빠르고 굿\n",
            "1     2                      택배가 엉망이네용 저희집 밑에층에 말도없이 놔두고가고\n",
            "2     5  아주좋아요 바지 정말 좋아서개 더 구매했어요 이가격에 대박입니다 바느질이 조금 엉성...\n",
            "3     2  선물용으로 빨리 받아서 전달했어야 하는 상품이었는데 머그컵만 와서 당황했습니다 전화...\n",
            "4     5                   민트색상 예뻐요 옆 손잡이는 거는 용도로도 사용되네요 ㅎㅎ\n"
          ]
        }
      ]
    },
    {
      "cell_type": "code",
      "source": [
        "df = df.sort_values(by=['star'],axis =0)"
      ],
      "metadata": {
        "id": "btr0ljBk26mJ"
      },
      "execution_count": null,
      "outputs": []
    },
    {
      "cell_type": "code",
      "source": [
        "print(df['star'].unique())"
      ],
      "metadata": {
        "colab": {
          "base_uri": "https://localhost:8080/"
        },
        "id": "dZaPsHi8ughx",
        "outputId": "9cf261a3-788d-4022-fa8d-e413790584aa"
      },
      "execution_count": null,
      "outputs": [
        {
          "output_type": "stream",
          "name": "stdout",
          "text": [
            "[1 2 4 5]\n"
          ]
        }
      ]
    },
    {
      "cell_type": "code",
      "source": [
        "df['star'] = df['star'].astype(str)"
      ],
      "metadata": {
        "id": "m13HoGNU6vIa"
      },
      "execution_count": null,
      "outputs": []
    },
    {
      "cell_type": "code",
      "source": [
        "print(type(df['star'][0]))"
      ],
      "metadata": {
        "colab": {
          "base_uri": "https://localhost:8080/"
        },
        "id": "1pXWcsL_61wB",
        "outputId": "a9618391-4eac-4e9f-dac0-a65eb9044c1a"
      },
      "execution_count": null,
      "outputs": [
        {
          "output_type": "stream",
          "name": "stdout",
          "text": [
            "<class 'str'>\n"
          ]
        }
      ]
    },
    {
      "cell_type": "code",
      "source": [
        "!pip install sentencepiece"
      ],
      "metadata": {
        "colab": {
          "base_uri": "https://localhost:8080/"
        },
        "id": "fGfa0SZ3e8z8",
        "outputId": "d9f54041-b4ce-4446-8b00-c651f7f23238"
      },
      "execution_count": null,
      "outputs": [
        {
          "output_type": "stream",
          "name": "stdout",
          "text": [
            "Requirement already satisfied: sentencepiece in /usr/local/lib/python3.7/dist-packages (0.1.96)\n"
          ]
        }
      ]
    },
    {
      "cell_type": "code",
      "source": [
        "import sentencepiece as spm\n",
        "with open('shopping_review.txt', 'w', encoding ='utf8') as f:\n",
        "  f.write('\\n'.join(df['review']))\n",
        "temp_file = 'shopping_review.txt'\n",
        "vocab_size = 10000\n",
        "\n",
        "spm.SentencePieceTrainer.Train(\n",
        "    '--input={} --model_prefix=korean_spm --model_type=bpe --vocab_size={}'.format(temp_file, vocab_size)\n",
        ")"
      ],
      "metadata": {
        "id": "2QjbjEBNfDDr"
      },
      "execution_count": null,
      "outputs": []
    },
    {
      "cell_type": "code",
      "source": [
        "s = spm.SentencePieceProcessor()\n",
        "s.Load('korean_spm.model')\n",
        "def sp_tokenize(s, corpus):\n",
        "\n",
        "  tensor = []\n",
        "\n",
        "  for sen in corpus:\n",
        "    tensor.append(s.EncodeAsIds(sen))\n",
        "  \n",
        "  with open('./korean_spm.vocab', 'r') as f:\n",
        "    vocab = f.readlines()\n",
        "\n",
        "  word_index = {}\n",
        "  index_word = {}\n",
        "\n",
        "  for idx, line in enumerate(vocab):\n",
        "    word = line.split('\\t')[0]\n",
        "\n",
        "    word_index.update({idx:word})\n",
        "    index_word.update({word:idx})\n",
        "\n",
        "  tensor = tf.keras.preprocessing.sequence.pad_sequences(tensor, padding = 'post')\n",
        "\n",
        "  return tensor, word_index, index_word"
      ],
      "metadata": {
        "id": "Gzai-ZYqgwbD"
      },
      "execution_count": null,
      "outputs": []
    },
    {
      "cell_type": "code",
      "source": [
        "data = list(df['review'])\n",
        "target = list(df['star'])\n",
        "\n",
        "x_train, x_test, y_train, y_test = train_test_split(data, target, test_size = 0.2)"
      ],
      "metadata": {
        "id": "_81nxPwDmI4c"
      },
      "execution_count": null,
      "outputs": []
    },
    {
      "cell_type": "code",
      "source": [
        "x_train_tensor,word_index,index_word = sp_tokenize(s, x_train)\n",
        "x_test_tensor,_,_ = sp_tokenize(s, x_test)"
      ],
      "metadata": {
        "id": "MUhPDcTBnlst"
      },
      "execution_count": null,
      "outputs": []
    },
    {
      "cell_type": "code",
      "source": [
        "print(len(word_index))"
      ],
      "metadata": {
        "colab": {
          "base_uri": "https://localhost:8080/"
        },
        "id": "ggpWCcORuKPh",
        "outputId": "8ee638d6-9543-4284-9f37-808c880fee58"
      },
      "execution_count": null,
      "outputs": [
        {
          "output_type": "stream",
          "name": "stdout",
          "text": [
            "10000\n"
          ]
        }
      ]
    },
    {
      "cell_type": "code",
      "source": [
        "print(y_train)"
      ],
      "metadata": {
        "id": "S90xIHdFVryS"
      },
      "execution_count": null,
      "outputs": []
    },
    {
      "cell_type": "code",
      "source": [
        "y_train = to_categorical(y_train)\n",
        "print(y_train)\n",
        "y_test = to_categorical(y_test)"
      ],
      "metadata": {
        "colab": {
          "base_uri": "https://localhost:8080/"
        },
        "id": "PkDN4JM6unbL",
        "outputId": "1c52b3d5-a850-47ed-9613-388c8c7c8d99"
      },
      "execution_count": null,
      "outputs": [
        {
          "output_type": "stream",
          "name": "stdout",
          "text": [
            "[[0. 0. 0. 0. 0. 1.]\n",
            " [0. 0. 1. 0. 0. 0.]\n",
            " [0. 1. 0. 0. 0. 0.]\n",
            " ...\n",
            " [0. 0. 0. 0. 0. 1.]\n",
            " [0. 0. 1. 0. 0. 0.]\n",
            " [0. 1. 0. 0. 0. 0.]]\n"
          ]
        }
      ]
    },
    {
      "cell_type": "code",
      "source": [
        "y_train = np.array(y_train)\n",
        "y_test = np.array(y_test)\n",
        "y_test.dtype"
      ],
      "metadata": {
        "colab": {
          "base_uri": "https://localhost:8080/"
        },
        "id": "4_11mQUUWEh2",
        "outputId": "affd2c5c-9056-499f-efe3-2a07cd240cf8"
      },
      "execution_count": null,
      "outputs": [
        {
          "output_type": "execute_result",
          "data": {
            "text/plain": [
              "dtype('float32')"
            ]
          },
          "metadata": {},
          "execution_count": 22
        }
      ]
    },
    {
      "cell_type": "code",
      "source": [
        "print((x_train_tensor))"
      ],
      "metadata": {
        "id": "VssY8B1f4Am5"
      },
      "execution_count": null,
      "outputs": []
    },
    {
      "cell_type": "code",
      "source": [
        "y_train = np.array(list(y_train)).reshape(-1,1)\n",
        "y_valid = np.array(list(y_valid)).reshape(-1,1)"
      ],
      "metadata": {
        "id": "SR3kVdd2rELU"
      },
      "execution_count": null,
      "outputs": []
    },
    {
      "cell_type": "code",
      "source": [
        "print(y_train.shape)"
      ],
      "metadata": {
        "colab": {
          "base_uri": "https://localhost:8080/"
        },
        "id": "y4vVWG1GVXY4",
        "outputId": "82436de5-27e1-44ae-ddfe-076098a0e622"
      },
      "execution_count": null,
      "outputs": [
        {
          "output_type": "stream",
          "name": "stdout",
          "text": [
            "(159926, 6)\n"
          ]
        }
      ]
    },
    {
      "cell_type": "code",
      "source": [
        "print(x_train_tensor.shape)\n",
        "print(y_train.shape)"
      ],
      "metadata": {
        "colab": {
          "base_uri": "https://localhost:8080/"
        },
        "id": "tXchKvd-rT9t",
        "outputId": "c8c77a11-9a3b-4b36-9f66-9730ef109bb2"
      },
      "execution_count": null,
      "outputs": [
        {
          "output_type": "stream",
          "name": "stdout",
          "text": [
            "(159926, 99)\n",
            "(159926, 6)\n"
          ]
        }
      ]
    },
    {
      "cell_type": "code",
      "source": [
        "# vocab_size = 15000\n",
        "# word_vector_dim = 20\n",
        "\n",
        "# model = keras.Sequential()\n",
        "# model.add(keras.layers.Embedding(vocab_size, word_vector_dim,input_shape=(None,)))\n",
        "# model.add(keras.layers.LSTM(60, return_sequences= True))\n",
        "# model.add(keras.layers.Dropout(0.3))\n",
        "# model.add(keras.layers.Dense(32, activation='relu'))\n",
        "# model.add(keras.layers.Dense(5, activation = 'softmax'))\n",
        "# model.summary()\n",
        "\n",
        "# 이걸로는 안돌아감 .. why? 모름"
      ],
      "metadata": {
        "colab": {
          "base_uri": "https://localhost:8080/"
        },
        "id": "zmpiEnqXp2_s",
        "outputId": "7ad0f133-3193-473a-b2d3-aa858cfe04b7"
      },
      "execution_count": null,
      "outputs": [
        {
          "output_type": "stream",
          "name": "stdout",
          "text": [
            "Model: \"sequential_1\"\n",
            "_________________________________________________________________\n",
            " Layer (type)                Output Shape              Param #   \n",
            "=================================================================\n",
            " embedding_1 (Embedding)     (None, None, 20)          300000    \n",
            "                                                                 \n",
            " lstm_1 (LSTM)               (None, None, 60)          19440     \n",
            "                                                                 \n",
            " dropout_1 (Dropout)         (None, None, 60)          0         \n",
            "                                                                 \n",
            " dense_2 (Dense)             (None, None, 32)          1952      \n",
            "                                                                 \n",
            " dense_3 (Dense)             (None, None, 5)           165       \n",
            "                                                                 \n",
            "=================================================================\n",
            "Total params: 321,557\n",
            "Trainable params: 321,557\n",
            "Non-trainable params: 0\n",
            "_________________________________________________________________\n"
          ]
        }
      ]
    },
    {
      "cell_type": "code",
      "source": [
        "vocab_size = 20000\n",
        "embedding_dim = 128\n",
        "hidden_units = 128\n",
        "num_classes = 6\n",
        "\n",
        "abc = keras.Sequential()\n",
        "abc.add(keras.layers.Embedding(vocab_size, embedding_dim, input_shape=(None,)))\n",
        "abc.add(keras.layers.LSTM(hidden_units))\n",
        "abc.add(keras.layers.Dropout(0.3))\n",
        "# abc.add(keras.layers.LSTM(128))\n",
        "# abc.add(keras.layers.Dropout(0.3))\n",
        "abc.add(keras.layers.Dense(num_classes, activation = 'softmax'))\n",
        "abc.summary()"
      ],
      "metadata": {
        "colab": {
          "base_uri": "https://localhost:8080/"
        },
        "id": "CIUNfLRK533q",
        "outputId": "5dcba88f-61d3-48c4-9d1c-0f54678de314"
      },
      "execution_count": null,
      "outputs": [
        {
          "output_type": "stream",
          "name": "stdout",
          "text": [
            "Model: \"sequential_10\"\n",
            "_________________________________________________________________\n",
            " Layer (type)                Output Shape              Param #   \n",
            "=================================================================\n",
            " embedding_10 (Embedding)    (None, None, 128)         2560000   \n",
            "                                                                 \n",
            " lstm_15 (LSTM)              (None, 128)               131584    \n",
            "                                                                 \n",
            " dropout_10 (Dropout)        (None, 128)               0         \n",
            "                                                                 \n",
            " dense_8 (Dense)             (None, 6)                 774       \n",
            "                                                                 \n",
            "=================================================================\n",
            "Total params: 2,692,358\n",
            "Trainable params: 2,692,358\n",
            "Non-trainable params: 0\n",
            "_________________________________________________________________\n"
          ]
        }
      ]
    },
    {
      "cell_type": "code",
      "source": [
        "abc.compile(optimizer = 'adam',\n",
        "              loss = 'categorical_crossentropy',\n",
        "              metrics = ['accuracy'])\n",
        "epochs = 100"
      ],
      "metadata": {
        "id": "_TJp1EOuqiNM"
      },
      "execution_count": null,
      "outputs": []
    },
    {
      "cell_type": "code",
      "source": [
        "print(x_train_tensor.shape)\n",
        "print(y_train.shape)"
      ],
      "metadata": {
        "colab": {
          "base_uri": "https://localhost:8080/"
        },
        "id": "3ewtaKv9WXc3",
        "outputId": "608b353c-15c9-48c0-a219-f8f1e31adb03"
      },
      "execution_count": null,
      "outputs": [
        {
          "output_type": "stream",
          "name": "stdout",
          "text": [
            "(159926, 128)\n",
            "(159926,)\n"
          ]
        }
      ]
    },
    {
      "cell_type": "code",
      "source": [
        "from tensorflow.keras.callbacks import EarlyStopping, ModelCheckpoint\n",
        "from tensorflow.keras.models import load_model"
      ],
      "metadata": {
        "id": "ljjC4O2k9zHq"
      },
      "execution_count": null,
      "outputs": []
    },
    {
      "cell_type": "code",
      "source": [
        "es = EarlyStopping(monitor = 'val_loss', mode = 'min', verbose =1, patience = 4)\n",
        "mc = ModelCheckpoint('best_model.h5', monitor = 'val_loss', model = 'max', verbose =1, save_best_only = True)"
      ],
      "metadata": {
        "id": "A6jhu_OJ9kEj"
      },
      "execution_count": null,
      "outputs": []
    },
    {
      "cell_type": "code",
      "source": [
        "history = abc.fit(x_train_tensor, y_train,  \n",
        "                    batch_size = 512, epochs = 10000, callbacks=[es, mc], validation_data =(x_test_tensor, y_test))"
      ],
      "metadata": {
        "colab": {
          "base_uri": "https://localhost:8080/"
        },
        "id": "XBKgHadIqpMM",
        "outputId": "e39d3997-2243-4bdf-854e-86ab66e8d3d9"
      },
      "execution_count": null,
      "outputs": [
        {
          "output_type": "stream",
          "name": "stdout",
          "text": [
            "Epoch 1/10000\n",
            "313/313 [==============================] - ETA: 0s - loss: 1.2851 - accuracy: 0.3949\n",
            "Epoch 1: val_loss improved from inf to 1.26497, saving model to best_model.h5\n",
            "313/313 [==============================] - 312s 993ms/step - loss: 1.2851 - accuracy: 0.3949 - val_loss: 1.2650 - val_accuracy: 0.4050\n",
            "Epoch 2/10000\n",
            "313/313 [==============================] - ETA: 0s - loss: 1.2651 - accuracy: 0.4045\n",
            "Epoch 2: val_loss improved from 1.26497 to 1.26402, saving model to best_model.h5\n",
            "313/313 [==============================] - 312s 997ms/step - loss: 1.2651 - accuracy: 0.4045 - val_loss: 1.2640 - val_accuracy: 0.4050\n",
            "Epoch 3/10000\n",
            "313/313 [==============================] - ETA: 0s - loss: 1.2632 - accuracy: 0.4061\n",
            "Epoch 3: val_loss improved from 1.26402 to 1.26375, saving model to best_model.h5\n",
            "313/313 [==============================] - 311s 995ms/step - loss: 1.2632 - accuracy: 0.4061 - val_loss: 1.2638 - val_accuracy: 0.4050\n",
            "Epoch 4/10000\n",
            "313/313 [==============================] - ETA: 0s - loss: 1.2628 - accuracy: 0.4063\n",
            "Epoch 4: val_loss improved from 1.26375 to 1.26373, saving model to best_model.h5\n",
            "313/313 [==============================] - 310s 991ms/step - loss: 1.2628 - accuracy: 0.4063 - val_loss: 1.2637 - val_accuracy: 0.4050\n",
            "Epoch 5/10000\n",
            "313/313 [==============================] - ETA: 0s - loss: 1.2625 - accuracy: 0.4063\n",
            "Epoch 5: val_loss did not improve from 1.26373\n",
            "313/313 [==============================] - 309s 988ms/step - loss: 1.2625 - accuracy: 0.4063 - val_loss: 1.2638 - val_accuracy: 0.4050\n",
            "Epoch 6/10000\n",
            "313/313 [==============================] - ETA: 0s - loss: 1.2624 - accuracy: 0.4063\n",
            "Epoch 6: val_loss improved from 1.26373 to 1.26363, saving model to best_model.h5\n",
            "313/313 [==============================] - 310s 989ms/step - loss: 1.2624 - accuracy: 0.4063 - val_loss: 1.2636 - val_accuracy: 0.4050\n",
            "Epoch 7/10000\n",
            "313/313 [==============================] - ETA: 0s - loss: 1.2620 - accuracy: 0.4063\n",
            "Epoch 7: val_loss did not improve from 1.26363\n",
            "313/313 [==============================] - 304s 973ms/step - loss: 1.2620 - accuracy: 0.4063 - val_loss: 1.2644 - val_accuracy: 0.4050\n",
            "Epoch 8/10000\n",
            "313/313 [==============================] - ETA: 0s - loss: 1.2621 - accuracy: 0.4063\n",
            "Epoch 8: val_loss did not improve from 1.26363\n",
            "313/313 [==============================] - 306s 978ms/step - loss: 1.2621 - accuracy: 0.4063 - val_loss: 1.2643 - val_accuracy: 0.4050\n",
            "Epoch 9/10000\n",
            "313/313 [==============================] - ETA: 0s - loss: 1.2620 - accuracy: 0.4063\n",
            "Epoch 9: val_loss did not improve from 1.26363\n",
            "313/313 [==============================] - 308s 983ms/step - loss: 1.2620 - accuracy: 0.4063 - val_loss: 1.2638 - val_accuracy: 0.4050\n",
            "Epoch 10/10000\n",
            "313/313 [==============================] - ETA: 0s - loss: 1.2620 - accuracy: 0.4063\n",
            "Epoch 10: val_loss improved from 1.26363 to 1.26347, saving model to best_model.h5\n",
            "313/313 [==============================] - 313s 1s/step - loss: 1.2620 - accuracy: 0.4063 - val_loss: 1.2635 - val_accuracy: 0.4050\n",
            "Epoch 11/10000\n",
            "313/313 [==============================] - ETA: 0s - loss: 1.2620 - accuracy: 0.4063\n",
            "Epoch 11: val_loss did not improve from 1.26347\n",
            "313/313 [==============================] - 310s 991ms/step - loss: 1.2620 - accuracy: 0.4063 - val_loss: 1.2636 - val_accuracy: 0.4050\n",
            "Epoch 12/10000\n",
            "313/313 [==============================] - ETA: 0s - loss: 1.2621 - accuracy: 0.4063\n",
            "Epoch 12: val_loss did not improve from 1.26347\n",
            "313/313 [==============================] - 310s 989ms/step - loss: 1.2621 - accuracy: 0.4063 - val_loss: 1.2639 - val_accuracy: 0.4050\n",
            "Epoch 13/10000\n",
            "313/313 [==============================] - ETA: 0s - loss: 1.2620 - accuracy: 0.4063\n",
            "Epoch 13: val_loss did not improve from 1.26347\n",
            "313/313 [==============================] - 306s 979ms/step - loss: 1.2620 - accuracy: 0.4063 - val_loss: 1.2637 - val_accuracy: 0.4050\n",
            "Epoch 14/10000\n",
            "313/313 [==============================] - ETA: 0s - loss: 1.2617 - accuracy: 0.4063\n",
            "Epoch 14: val_loss did not improve from 1.26347\n",
            "313/313 [==============================] - 306s 977ms/step - loss: 1.2617 - accuracy: 0.4063 - val_loss: 1.2641 - val_accuracy: 0.4050\n",
            "Epoch 14: early stopping\n"
          ]
        }
      ]
    },
    {
      "cell_type": "code",
      "source": [
        "## return sequence 때문에 안돌아갔었음 생각 해봐야할 듯 "
      ],
      "metadata": {
        "id": "8czTr5Y4WR0S"
      },
      "execution_count": null,
      "outputs": []
    },
    {
      "cell_type": "code",
      "source": [
        "loaded_model = load_model('best_model.h5')\n",
        "print(\"\\n 테스트 정확도 : %.4f\" % (loaded_model.evaluate(x_test_tensor, y_test)[1]))"
      ],
      "metadata": {
        "colab": {
          "base_uri": "https://localhost:8080/"
        },
        "id": "OVb0CsHTWaYq",
        "outputId": "c5e19f9f-9bcd-4eb4-d392-d17710b9e5f9"
      },
      "execution_count": null,
      "outputs": [
        {
          "output_type": "stream",
          "name": "stdout",
          "text": [
            "1250/1250 [==============================] - 36s 28ms/step - loss: 1.2635 - accuracy: 0.4050\n",
            "\n",
            " 테스트 정확도 : 0.4050\n"
          ]
        }
      ]
    },
    {
      "cell_type": "code",
      "source": [
        "print(history.history)"
      ],
      "metadata": {
        "colab": {
          "base_uri": "https://localhost:8080/"
        },
        "id": "KzErU6nKWnpb",
        "outputId": "8c8a86b4-133a-40ba-cc0b-8fef264652c4"
      },
      "execution_count": null,
      "outputs": [
        {
          "output_type": "stream",
          "name": "stdout",
          "text": [
            "{'loss': [1.2851006984710693, 1.2651259899139404, 1.26315438747406, 1.262799859046936, 1.2624518871307373, 1.2624231576919556, 1.2620433568954468, 1.2621278762817383, 1.26204514503479, 1.2619903087615967, 1.2619547843933105, 1.2620642185211182, 1.2619608640670776, 1.2617337703704834], 'accuracy': [0.3949076533317566, 0.40448081493377686, 0.40611281991004944, 0.4062691628932953, 0.40628790855407715, 0.40628790855407715, 0.40628790855407715, 0.40628790855407715, 0.40628790855407715, 0.40628790855407715, 0.40628790855407715, 0.40628790855407715, 0.40628790855407715, 0.40628790855407715], 'val_loss': [1.2649669647216797, 1.2640241384506226, 1.2637509107589722, 1.263734221458435, 1.2638009786605835, 1.2636321783065796, 1.2644115686416626, 1.2643077373504639, 1.263765811920166, 1.263471245765686, 1.2636414766311646, 1.263861894607544, 1.2636884450912476, 1.264140248298645], 'val_accuracy': [0.40503227710723877, 0.40503227710723877, 0.40503227710723877, 0.40503227710723877, 0.40503227710723877, 0.40503227710723877, 0.40503227710723877, 0.40503227710723877, 0.40503227710723877, 0.40503227710723877, 0.40503227710723877, 0.40503227710723877, 0.40503227710723877, 0.40503227710723877]}\n"
          ]
        }
      ]
    },
    {
      "cell_type": "code",
      "source": [
        "epochs = range(1, len(history.history['accuracy'])+1)\n",
        "\n",
        "plt.plot(epochs, history.history['loss'])\n",
        "plt.plot(epochs, history.history['val_loss'])\n",
        "plt.title('model loss')\n",
        "plt.ylabel('loss')\n",
        "plt.xlabel('epoch')\n",
        "plt.legend(['train', 'test'], loc='upper left')\n",
        "plt.show()"
      ],
      "metadata": {
        "colab": {
          "base_uri": "https://localhost:8080/",
          "height": 295
        },
        "id": "Ng2b_EwYWuG8",
        "outputId": "8ebfc035-256c-4ebb-ebb9-4a78973f17b4"
      },
      "execution_count": null,
      "outputs": [
        {
          "output_type": "display_data",
          "data": {
            "text/plain": [
              "<Figure size 432x288 with 1 Axes>"
            ],
            "image/png": "[encoded data removed]"
          },
          "metadata": {
            "needs_background": "light"
          }
        }
      ]
    },
    {
      "cell_type": "code",
      "source": [
        "vocab_size = 20000\n",
        "embedding_dim = 128\n",
        "hidden_units = 128\n",
        "num_classes = 6\n",
        "\n",
        "abc = keras.Sequential()\n",
        "abc.add(keras.layers.Embedding(vocab_size, embedding_dim, input_shape=(None,)))\n",
        "abc.add(keras.layers.LSTM(hidden_units, return_sequences = True))\n",
        "abc.add(keras.layers.Dropout(0.3))\n",
        "abc.add(keras.layers.Dense(16, activation='relu'))\n",
        "abc.add(keras.layers.LSTM(60))\n",
        "abc.add(keras.layers.Dropout(0.3))\n",
        "abc.add(keras.layers.Dense(6, activation='relu'))\n",
        "abc.add(keras.layers.Dense(num_classes, activation = 'softmax'))\n",
        "abc.summary()"
      ],
      "metadata": {
        "colab": {
          "base_uri": "https://localhost:8080/"
        },
        "id": "T3pennPAYQLb",
        "outputId": "ea8dee53-5dfc-4019-fb63-f37826837916"
      },
      "execution_count": null,
      "outputs": [
        {
          "output_type": "stream",
          "name": "stdout",
          "text": [
            "Model: \"sequential_19\"\n",
            "_________________________________________________________________\n",
            " Layer (type)                Output Shape              Param #   \n",
            "=================================================================\n",
            " embedding_19 (Embedding)    (None, None, 128)         2560000   \n",
            "                                                                 \n",
            " lstm_32 (LSTM)              (None, None, 128)         131584    \n",
            "                                                                 \n",
            " dropout_24 (Dropout)        (None, None, 128)         0         \n",
            "                                                                 \n",
            " dense_23 (Dense)            (None, None, 16)          2064      \n",
            "                                                                 \n",
            " lstm_33 (LSTM)              (None, 60)                18480     \n",
            "                                                                 \n",
            " dropout_25 (Dropout)        (None, 60)                0         \n",
            "                                                                 \n",
            " dense_24 (Dense)            (None, 6)                 366       \n",
            "                                                                 \n",
            " dense_25 (Dense)            (None, 6)                 42        \n",
            "                                                                 \n",
            "=================================================================\n",
            "Total params: 2,712,536\n",
            "Trainable params: 2,712,536\n",
            "Non-trainable params: 0\n",
            "_________________________________________________________________\n"
          ]
        }
      ]
    },
    {
      "cell_type": "code",
      "source": [
        "abc.compile(optimizer = 'adam',\n",
        "              loss = 'categorical_crossentropy',\n",
        "              metrics = ['accuracy'])\n",
        "epochs = 100"
      ],
      "metadata": {
        "id": "hOxP09TBbltV"
      },
      "execution_count": null,
      "outputs": []
    },
    {
      "cell_type": "code",
      "source": [
        "history = abc.fit(x_train_tensor, y_train,  \n",
        "                    batch_size = 512, epochs = 10000, callbacks=[es, mc], validation_data =(x_test_tensor, y_test))"
      ],
      "metadata": {
        "colab": {
          "base_uri": "https://localhost:8080/"
        },
        "id": "4Fnynp1gb__l",
        "outputId": "29cfdacd-233c-4e1b-e15a-bb0479bc2f28"
      },
      "execution_count": null,
      "outputs": [
        {
          "output_type": "stream",
          "name": "stdout",
          "text": [
            "Epoch 1/10000\n",
            "313/313 [==============================] - ETA: 0s - loss: 1.5412 - accuracy: 0.3487\n",
            "Epoch 1: val_loss did not improve from 1.26347\n",
            "313/313 [==============================] - 485s 1s/step - loss: 1.5412 - accuracy: 0.3487 - val_loss: 1.2668 - val_accuracy: 0.4050\n",
            "Epoch 2/10000\n",
            "313/313 [==============================] - ETA: 0s - loss: 1.2658 - accuracy: 0.4062\n",
            "Epoch 2: val_loss did not improve from 1.26347\n",
            "313/313 [==============================] - 432s 1s/step - loss: 1.2658 - accuracy: 0.4062 - val_loss: 1.2644 - val_accuracy: 0.4050\n",
            "Epoch 3/10000\n",
            "313/313 [==============================] - ETA: 0s - loss: 1.2633 - accuracy: 0.4063\n",
            "Epoch 3: val_loss did not improve from 1.26347\n",
            "313/313 [==============================] - 431s 1s/step - loss: 1.2633 - accuracy: 0.4063 - val_loss: 1.2637 - val_accuracy: 0.4050\n",
            "Epoch 4/10000\n",
            "313/313 [==============================] - ETA: 0s - loss: 1.2624 - accuracy: 0.4063\n",
            "Epoch 4: val_loss did not improve from 1.26347\n",
            "313/313 [==============================] - 435s 1s/step - loss: 1.2624 - accuracy: 0.4063 - val_loss: 1.2638 - val_accuracy: 0.4050\n",
            "Epoch 5/10000\n",
            "313/313 [==============================] - ETA: 0s - loss: 1.2621 - accuracy: 0.4062\n",
            "Epoch 5: val_loss did not improve from 1.26347\n",
            "313/313 [==============================] - 439s 1s/step - loss: 1.2621 - accuracy: 0.4062 - val_loss: 1.2636 - val_accuracy: 0.4050\n",
            "Epoch 6/10000\n",
            "313/313 [==============================] - ETA: 0s - loss: 1.2620 - accuracy: 0.4063\n",
            "Epoch 6: val_loss did not improve from 1.26347\n",
            "313/313 [==============================] - 434s 1s/step - loss: 1.2620 - accuracy: 0.4063 - val_loss: 1.2643 - val_accuracy: 0.4050\n",
            "Epoch 7/10000\n",
            "313/313 [==============================] - ETA: 0s - loss: 1.2621 - accuracy: 0.4063\n",
            "Epoch 7: val_loss did not improve from 1.26347\n",
            "313/313 [==============================] - 433s 1s/step - loss: 1.2621 - accuracy: 0.4063 - val_loss: 1.2635 - val_accuracy: 0.4050\n",
            "Epoch 8/10000\n",
            "313/313 [==============================] - ETA: 0s - loss: 1.2619 - accuracy: 0.4063\n",
            "Epoch 8: val_loss did not improve from 1.26347\n",
            "313/313 [==============================] - 433s 1s/step - loss: 1.2619 - accuracy: 0.4063 - val_loss: 1.2635 - val_accuracy: 0.4050\n",
            "Epoch 9/10000\n",
            "313/313 [==============================] - ETA: 0s - loss: 1.2621 - accuracy: 0.4063\n",
            "Epoch 9: val_loss improved from 1.26347 to 1.26343, saving model to best_model.h5\n",
            "313/313 [==============================] - 434s 1s/step - loss: 1.2621 - accuracy: 0.4063 - val_loss: 1.2634 - val_accuracy: 0.4050\n",
            "Epoch 10/10000\n",
            "313/313 [==============================] - ETA: 0s - loss: 1.2620 - accuracy: 0.4063\n",
            "Epoch 10: val_loss did not improve from 1.26343\n",
            "313/313 [==============================] - 426s 1s/step - loss: 1.2620 - accuracy: 0.4063 - val_loss: 1.2635 - val_accuracy: 0.4050\n",
            "Epoch 11/10000\n",
            "313/313 [==============================] - ETA: 0s - loss: 1.2618 - accuracy: 0.4063\n",
            "Epoch 11: val_loss did not improve from 1.26343\n",
            "313/313 [==============================] - 426s 1s/step - loss: 1.2618 - accuracy: 0.4063 - val_loss: 1.2635 - val_accuracy: 0.4050\n",
            "Epoch 12/10000\n",
            "313/313 [==============================] - ETA: 0s - loss: 1.2617 - accuracy: 0.4063\n",
            "Epoch 12: val_loss did not improve from 1.26343\n",
            "313/313 [==============================] - 422s 1s/step - loss: 1.2617 - accuracy: 0.4063 - val_loss: 1.2635 - val_accuracy: 0.4050\n",
            "Epoch 13/10000\n",
            "313/313 [==============================] - ETA: 0s - loss: 1.2618 - accuracy: 0.4063\n",
            "Epoch 13: val_loss improved from 1.26343 to 1.26342, saving model to best_model.h5\n",
            "313/313 [==============================] - 420s 1s/step - loss: 1.2618 - accuracy: 0.4063 - val_loss: 1.2634 - val_accuracy: 0.4050\n",
            "Epoch 14/10000\n",
            "313/313 [==============================] - ETA: 0s - loss: 1.2618 - accuracy: 0.4063\n",
            "Epoch 14: val_loss did not improve from 1.26342\n",
            "313/313 [==============================] - 425s 1s/step - loss: 1.2618 - accuracy: 0.4063 - val_loss: 1.2648 - val_accuracy: 0.4050\n",
            "Epoch 15/10000\n",
            "313/313 [==============================] - ETA: 0s - loss: 1.2618 - accuracy: 0.4063\n",
            "Epoch 15: val_loss did not improve from 1.26342\n",
            "313/313 [==============================] - 439s 1s/step - loss: 1.2618 - accuracy: 0.4063 - val_loss: 1.2639 - val_accuracy: 0.4050\n",
            "Epoch 16/10000\n",
            "313/313 [==============================] - ETA: 0s - loss: 1.2617 - accuracy: 0.4063\n",
            "Epoch 16: val_loss did not improve from 1.26342\n",
            "313/313 [==============================] - 440s 1s/step - loss: 1.2617 - accuracy: 0.4063 - val_loss: 1.2649 - val_accuracy: 0.4050\n",
            "Epoch 17/10000\n",
            "313/313 [==============================] - ETA: 0s - loss: 1.2617 - accuracy: 0.4063\n",
            "Epoch 17: val_loss did not improve from 1.26342\n",
            "313/313 [==============================] - 439s 1s/step - loss: 1.2617 - accuracy: 0.4063 - val_loss: 1.2639 - val_accuracy: 0.4050\n",
            "Epoch 17: early stopping\n"
          ]
        }
      ]
    },
    {
      "cell_type": "code",
      "source": [
        "print(history.history)"
      ],
      "metadata": {
        "colab": {
          "base_uri": "https://localhost:8080/"
        },
        "id": "DylauCYNDthd",
        "outputId": "8cb8af8f-096b-4a4b-fea4-a5ce0c604744"
      },
      "execution_count": null,
      "outputs": [
        {
          "output_type": "stream",
          "name": "stdout",
          "text": [
            "{'loss': [1.5412018299102783, 1.265771746635437, 1.2632871866226196, 1.2624433040618896, 1.2620774507522583, 1.2620409727096558, 1.2620551586151123, 1.2619414329528809, 1.2621066570281982, 1.2620311975479126, 1.2617865800857544, 1.2617485523223877, 1.26175856590271, 1.261831283569336, 1.261826753616333, 1.2617263793945312, 1.2616914510726929], 'accuracy': [0.3486862778663635, 0.4061628580093384, 0.40625664591789246, 0.4062753915786743, 0.40615659952163696, 0.4062753915786743, 0.40628790855407715, 0.40628790855407715, 0.4062691628932953, 0.4062753915786743, 0.40628165006637573, 0.40628790855407715, 0.40628165006637573, 0.40628165006637573, 0.40628790855407715, 0.40628790855407715, 0.40628790855407715], 'val_loss': [1.2668322324752808, 1.2643626928329468, 1.2636638879776, 1.26377534866333, 1.2636007070541382, 1.2643028497695923, 1.2635432481765747, 1.2634919881820679, 1.2634310722351074, 1.2634844779968262, 1.263488531112671, 1.263474941253662, 1.2634185552597046, 1.264846682548523, 1.2639106512069702, 1.26491379737854, 1.2639065980911255], 'val_accuracy': [0.40503227710723877, 0.40503227710723877, 0.40503227710723877, 0.40503227710723877, 0.40503227710723877, 0.40503227710723877, 0.40503227710723877, 0.40503227710723877, 0.40503227710723877, 0.40503227710723877, 0.40503227710723877, 0.40503227710723877, 0.40503227710723877, 0.40503227710723877, 0.40503227710723877, 0.40503227710723877, 0.40503227710723877]}\n"
          ]
        }
      ]
    },
    {
      "cell_type": "code",
      "source": [
        "epochs = range(1, len(history.history['accuracy'])+1)\n",
        "\n",
        "plt.plot(epochs, history.history['loss'])\n",
        "plt.plot(epochs, history.history['val_loss'])\n",
        "plt.title('model loss')\n",
        "plt.ylabel('loss')\n",
        "plt.xlabel('epoch')\n",
        "plt.legend(['train', 'test'], loc='upper right')\n",
        "plt.show()"
      ],
      "metadata": {
        "colab": {
          "base_uri": "https://localhost:8080/",
          "height": 295
        },
        "id": "nStyQHeVDzGc",
        "outputId": "dc402081-51f2-4d17-ce48-dd6faaa7f72c"
      },
      "execution_count": null,
      "outputs": [
        {
          "output_type": "display_data",
          "data": {
            "text/plain": [
              "<Figure size 432x288 with 1 Axes>"
            ],
            "image/png": "[encoded data removed]"
          },
          "metadata": {
            "needs_background": "light"
          }
        }
      ]
    },
    {
      "cell_type": "code",
      "source": [
        "epochs = range(1, len(history.history['accuracy'])+1)\n",
        "\n",
        "plt.plot(epochs, history.history['accuracy'])\n",
        "plt.plot(epochs, history.history['val_accuracy'])\n",
        "plt.title('model accuracy')\n",
        "plt.ylabel('accuracy')\n",
        "plt.xlabel('epoch')\n",
        "plt.legend(['train', 'test'], loc='lower right')\n",
        "plt.show()"
      ],
      "metadata": {
        "colab": {
          "base_uri": "https://localhost:8080/",
          "height": 295
        },
        "id": "OGMO0lC0D0gs",
        "outputId": "22c783ce-580e-418f-fb31-10e36f8a6be6"
      },
      "execution_count": null,
      "outputs": [
        {
          "output_type": "display_data",
          "data": {
            "text/plain": [
              "<Figure size 432x288 with 1 Axes>"
            ],
            "image/png": "[encoded data removed]"
          },
          "metadata": {
            "needs_background": "light"
          }
        }
      ]
    }
  ]
}