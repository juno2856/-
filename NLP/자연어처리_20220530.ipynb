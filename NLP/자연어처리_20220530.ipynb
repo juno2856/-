{
  "nbformat": 4,
  "nbformat_minor": 0,
  "metadata": {
    "colab": {
      "name": "자연어처리 20220530",
      "provenance": [],
      "collapsed_sections": [],
      "include_colab_link": true
    },
    "kernelspec": {
      "name": "python3",
      "display_name": "Python 3"
    },
    "language_info": {
      "name": "python"
    }
  },
  "cells": [
    {
      "cell_type": "markdown",
      "metadata": {
        "id": "view-in-github",
        "colab_type": "text"
      },
      "source": [
        "<a href=\"https://colab.research.google.com/github/juno2856/deeplearning/blob/master/NLP/%EC%9E%90%EC%97%B0%EC%96%B4%EC%B2%98%EB%A6%AC_20220530.ipynb\" target=\"_parent\"><img src=\"https://colab.research.google.com/assets/colab-badge.svg\" alt=\"Open In Colab\"/></a>"
      ]
    },
    {
      "cell_type": "code",
      "execution_count": null,
      "metadata": {
        "colab": {
          "base_uri": "https://localhost:8080/"
        },
        "id": "9QiBqgv0ZI8M",
        "outputId": "512ccd07-ca64-4f05-88c4-a65b438cea87"
      },
      "outputs": [
        {
          "output_type": "stream",
          "name": "stdout",
          "text": [
            "Looking in indexes: https://pypi.org/simple, https://us-python.pkg.dev/colab-wheels/public/simple/\n",
            "Requirement already satisfied: transformers in /usr/local/lib/python3.7/dist-packages (4.19.2)\n",
            "Requirement already satisfied: pyyaml>=5.1 in /usr/local/lib/python3.7/dist-packages (from transformers) (6.0)\n",
            "Requirement already satisfied: regex!=2019.12.17 in /usr/local/lib/python3.7/dist-packages (from transformers) (2019.12.20)\n",
            "Requirement already satisfied: huggingface-hub<1.0,>=0.1.0 in /usr/local/lib/python3.7/dist-packages (from transformers) (0.7.0)\n",
            "Requirement already satisfied: filelock in /usr/local/lib/python3.7/dist-packages (from transformers) (3.7.0)\n",
            "Requirement already satisfied: requests in /usr/local/lib/python3.7/dist-packages (from transformers) (2.23.0)\n",
            "Requirement already satisfied: tokenizers!=0.11.3,<0.13,>=0.11.1 in /usr/local/lib/python3.7/dist-packages (from transformers) (0.12.1)\n",
            "Requirement already satisfied: tqdm>=4.27 in /usr/local/lib/python3.7/dist-packages (from transformers) (4.64.0)\n",
            "Requirement already satisfied: importlib-metadata in /usr/local/lib/python3.7/dist-packages (from transformers) (4.11.3)\n",
            "Requirement already satisfied: packaging>=20.0 in /usr/local/lib/python3.7/dist-packages (from transformers) (21.3)\n",
            "Requirement already satisfied: numpy>=1.17 in /usr/local/lib/python3.7/dist-packages (from transformers) (1.21.6)\n",
            "Requirement already satisfied: typing-extensions>=3.7.4.3 in /usr/local/lib/python3.7/dist-packages (from huggingface-hub<1.0,>=0.1.0->transformers) (4.2.0)\n",
            "Requirement already satisfied: pyparsing!=3.0.5,>=2.0.2 in /usr/local/lib/python3.7/dist-packages (from packaging>=20.0->transformers) (3.0.9)\n",
            "Requirement already satisfied: zipp>=0.5 in /usr/local/lib/python3.7/dist-packages (from importlib-metadata->transformers) (3.8.0)\n",
            "Requirement already satisfied: chardet<4,>=3.0.2 in /usr/local/lib/python3.7/dist-packages (from requests->transformers) (3.0.4)\n",
            "Requirement already satisfied: idna<3,>=2.5 in /usr/local/lib/python3.7/dist-packages (from requests->transformers) (2.10)\n",
            "Requirement already satisfied: urllib3!=1.25.0,!=1.25.1,<1.26,>=1.21.1 in /usr/local/lib/python3.7/dist-packages (from requests->transformers) (1.24.3)\n",
            "Requirement already satisfied: certifi>=2017.4.17 in /usr/local/lib/python3.7/dist-packages (from requests->transformers) (2022.5.18.1)\n"
          ]
        }
      ],
      "source": [
        "!pip install transformers"
      ]
    },
    {
      "cell_type": "markdown",
      "source": [
        "```\n",
        "from transformers import TFAutoModel, AutoTokenizer\n",
        "model = TFAutoModel.from_pretrained(\"<model_name>\")\n",
        "tokenizer = AutoTokenizer.from_pretrained(\"<model_name>\")\n",
        "```"
      ],
      "metadata": {
        "id": "a5OJC31YbB1T"
      }
    },
    {
      "cell_type": "markdown",
      "source": [
        "## Tokenizer 실습"
      ],
      "metadata": {
        "id": "bvRiRTLibidp"
      }
    },
    {
      "cell_type": "code",
      "source": [
        "from transformers import AutoModel, AutoTokenizer, BertTokenizer"
      ],
      "metadata": {
        "id": "BlbEVuXVa7fL"
      },
      "execution_count": null,
      "outputs": []
    },
    {
      "cell_type": "code",
      "source": [
        "model_name = \"bert-base-multilingual-cased\"\n",
        "\n",
        "model = AutoModel.from_pretrained(model_name)\n",
        "tokenizer = AutoTokenizer.from_pretrained(model_name) # 모델에 해당하는 tokenizer가 자동적으로 불러와짐"
      ],
      "metadata": {
        "colab": {
          "base_uri": "https://localhost:8080/"
        },
        "id": "k_JhBmaLb8az",
        "outputId": "8f2ab3e2-e335-40a5-e2a5-74f2f5611775"
      },
      "execution_count": null,
      "outputs": [
        {
          "output_type": "stream",
          "name": "stderr",
          "text": [
            "Some weights of the model checkpoint at bert-base-multilingual-cased were not used when initializing BertModel: ['cls.predictions.transform.LayerNorm.weight', 'cls.predictions.transform.dense.weight', 'cls.predictions.decoder.weight', 'cls.seq_relationship.weight', 'cls.predictions.transform.dense.bias', 'cls.predictions.transform.LayerNorm.bias', 'cls.predictions.bias', 'cls.seq_relationship.bias']\n",
            "- This IS expected if you are initializing BertModel from the checkpoint of a model trained on another task or with another architecture (e.g. initializing a BertForSequenceClassification model from a BertForPreTraining model).\n",
            "- This IS NOT expected if you are initializing BertModel from the checkpoint of a model that you expect to be exactly identical (initializing a BertForSequenceClassification model from a BertForSequenceClassification model).\n"
          ]
        }
      ]
    },
    {
      "cell_type": "code",
      "source": [
        "print(tokenizer.vocab_size)"
      ],
      "metadata": {
        "colab": {
          "base_uri": "https://localhost:8080/"
        },
        "id": "yelAzaiccUAL",
        "outputId": "88068a74-5f51-4e28-a6df-3708a2f0a6ac"
      },
      "execution_count": null,
      "outputs": [
        {
          "output_type": "stream",
          "name": "stdout",
          "text": [
            "119547\n"
          ]
        }
      ]
    },
    {
      "cell_type": "code",
      "source": [
        "for i,key in enumerate(tokenizer.get_vocab()):\n",
        "  print(key)\n",
        "  if i>20:\n",
        "    break"
      ],
      "metadata": {
        "colab": {
          "base_uri": "https://localhost:8080/"
        },
        "id": "37KCSgPfctuL",
        "outputId": "624fc042-3ab7-4396-dc07-70d18ac17e68"
      },
      "execution_count": null,
      "outputs": [
        {
          "output_type": "stream",
          "name": "stdout",
          "text": [
            "দেয়\n",
            "останній\n",
            "鋤\n",
            "咕\n",
            "գրող\n",
            "minut\n",
            "##wiony\n",
            "##стей\n",
            "##誕\n",
            "pagastā\n",
            "##erit\n",
            "##ˈ\n",
            "##昨\n",
            "##nskog\n",
            "talents\n",
            "Bd\n",
            "talk\n",
            "##bauen\n",
            "##缩\n",
            "##ที่\n",
            "##踩\n",
            "압\n"
          ]
        }
      ]
    },
    {
      "cell_type": "code",
      "source": [
        "text = '이순신은 조선 중기의 무신이다.'"
      ],
      "metadata": {
        "id": "nnY5YHI6ctrq"
      },
      "execution_count": null,
      "outputs": []
    },
    {
      "cell_type": "code",
      "source": [
        "print(type(tokenizer))"
      ],
      "metadata": {
        "colab": {
          "base_uri": "https://localhost:8080/"
        },
        "id": "e2p2SQZudUDq",
        "outputId": "13656c6c-803c-4218-dc7b-0e62cfd6d184"
      },
      "execution_count": null,
      "outputs": [
        {
          "output_type": "stream",
          "name": "stdout",
          "text": [
            "<class 'transformers.models.bert.tokenization_bert_fast.BertTokenizerFast'>\n"
          ]
        }
      ]
    },
    {
      "cell_type": "code",
      "source": [
        "tokenized_input_text = tokenizer(text, return_tensors='pt') # tensor = pytorch기반"
      ],
      "metadata": {
        "id": "aFUKoWZLdYrj"
      },
      "execution_count": null,
      "outputs": []
    },
    {
      "cell_type": "code",
      "source": [
        "for key,value in tokenized_input_text.items():\n",
        "  print(\"{} : \\n\\t {}\".format(key, value))\n",
        "  # input_ids : 단어장의 인덱스\n",
        "  # token_type_ids : 2개의 문장을 넣을 때 <SEP>을 기준으로 0과 1을 나타내준다.\n",
        "  # attention_mask : 패딩 아닌 =  1, 패딩인 = 0"
      ],
      "metadata": {
        "colab": {
          "base_uri": "https://localhost:8080/"
        },
        "id": "sL55yNBSdYpM",
        "outputId": "65badca8-2a60-4721-ae38-71f066ab7e22"
      },
      "execution_count": null,
      "outputs": [
        {
          "output_type": "stream",
          "name": "stdout",
          "text": [
            "input_ids : \n",
            "\t tensor([[   101,   9638, 119064,  25387,  10892,  59906,   9694,  46874,   9294,\n",
            "          25387,  11925,    119,    102]])\n",
            "token_type_ids : \n",
            "\t tensor([[0, 0, 0, 0, 0, 0, 0, 0, 0, 0, 0, 0, 0]])\n",
            "attention_mask : \n",
            "\t tensor([[1, 1, 1, 1, 1, 1, 1, 1, 1, 1, 1, 1, 1]])\n"
          ]
        }
      ]
    },
    {
      "cell_type": "code",
      "source": [
        "print(tokenized_input_text['input_ids']) # input text를 tokenizeing 한 후 vocab id\n",
        "print(tokenized_input_text.input_ids)"
      ],
      "metadata": {
        "colab": {
          "base_uri": "https://localhost:8080/"
        },
        "id": "Q7PVPJZ7dYmv",
        "outputId": "d11cb3ed-c5d3-4349-b583-1021f88b365a"
      },
      "execution_count": null,
      "outputs": [
        {
          "output_type": "stream",
          "name": "stdout",
          "text": [
            "tensor([[   101,   9638, 119064,  25387,  10892,  59906,   9694,  46874,   9294,\n",
            "          25387,  11925,    119,    102]])\n",
            "tensor([[   101,   9638, 119064,  25387,  10892,  59906,   9694,  46874,   9294,\n",
            "          25387,  11925,    119,    102]])\n"
          ]
        }
      ]
    },
    {
      "cell_type": "code",
      "source": [
        "print(tokenized_input_text['token_type_ids']) #segment id(sent A or sentB)\n",
        "print(tokenized_input_text.token_type_ids)"
      ],
      "metadata": {
        "colab": {
          "base_uri": "https://localhost:8080/"
        },
        "id": "s2_J5BIzdYj4",
        "outputId": "a016f41f-3b15-4b32-d605-9e2a34d731df"
      },
      "execution_count": null,
      "outputs": [
        {
          "output_type": "stream",
          "name": "stdout",
          "text": [
            "tensor([[0, 0, 0, 0, 0, 0, 0, 0, 0, 0, 0, 0, 0]])\n",
            "tensor([[0, 0, 0, 0, 0, 0, 0, 0, 0, 0, 0, 0, 0]])\n"
          ]
        }
      ]
    },
    {
      "cell_type": "code",
      "source": [
        "print(tokenized_input_text['attention_mask']) # special token (pad, cis, sep) or not\n",
        "print(tokenized_input_text.attention_mask)"
      ],
      "metadata": {
        "colab": {
          "base_uri": "https://localhost:8080/"
        },
        "id": "74g-PYH_dYcL",
        "outputId": "be177f50-a828-42d8-fbe0-4c1e8ac94dbe"
      },
      "execution_count": null,
      "outputs": [
        {
          "output_type": "stream",
          "name": "stdout",
          "text": [
            "tensor([[1, 1, 1, 1, 1, 1, 1, 1, 1, 1, 1, 1, 1]])\n",
            "tensor([[1, 1, 1, 1, 1, 1, 1, 1, 1, 1, 1, 1, 1]])\n"
          ]
        }
      ]
    },
    {
      "cell_type": "code",
      "source": [
        "tokenized_text = tokenizer.tokenize(text)\n",
        "print(tokenized_text)  # ## 앞의 단어와 이어짐"
      ],
      "metadata": {
        "colab": {
          "base_uri": "https://localhost:8080/"
        },
        "id": "5MWpFe6RlEOP",
        "outputId": "475fec26-d64a-4ccc-bb83-7d535b2a88ae"
      },
      "execution_count": null,
      "outputs": [
        {
          "output_type": "stream",
          "name": "stdout",
          "text": [
            "['이', '##순', '##신', '##은', '조선', '중', '##기의', '무', '##신', '##이다', '.']\n"
          ]
        }
      ]
    },
    {
      "cell_type": "code",
      "source": [
        "input_ids = tokenizer.encode(text, add_special_tokens = True)\n",
        "print(input_ids)"
      ],
      "metadata": {
        "colab": {
          "base_uri": "https://localhost:8080/"
        },
        "id": "44cZHgJDlirO",
        "outputId": "43128876-2248-405d-e254-f5bc1bf1428f"
      },
      "execution_count": null,
      "outputs": [
        {
          "output_type": "stream",
          "name": "stdout",
          "text": [
            "[101, 9638, 119064, 25387, 10892, 59906, 9694, 46874, 9294, 25387, 11925, 119, 102]\n"
          ]
        }
      ]
    },
    {
      "cell_type": "code",
      "source": [
        "decoded_ids = tokenizer.decode(input_ids)\n",
        "print(decoded_ids)"
      ],
      "metadata": {
        "colab": {
          "base_uri": "https://localhost:8080/"
        },
        "id": "yj_TKANlmdrW",
        "outputId": "8f9cabed-f936-446a-c586-1851e4ff1356"
      },
      "execution_count": null,
      "outputs": [
        {
          "output_type": "stream",
          "name": "stdout",
          "text": [
            "[CLS] 이순신은 조선 중기의 무신이다. [SEP]\n"
          ]
        }
      ]
    },
    {
      "cell_type": "markdown",
      "source": [
        "# option"
      ],
      "metadata": {
        "id": "LZGCjT1pnaWl"
      }
    },
    {
      "cell_type": "code",
      "source": [
        "tokenized_text = tokenizer.tokenize(\n",
        "    text,\n",
        "    add_special_tokens = False,\n",
        "    max_length = 5,\n",
        "    truncation = True\n",
        ")\n",
        "print(tokenized_text)"
      ],
      "metadata": {
        "colab": {
          "base_uri": "https://localhost:8080/"
        },
        "id": "UIKs8kS6mrBn",
        "outputId": "c4d77c77-cbff-415d-f983-52aec6ffbb19"
      },
      "execution_count": null,
      "outputs": [
        {
          "output_type": "stream",
          "name": "stdout",
          "text": [
            "['이', '##순', '##신', '##은', '조선']\n"
          ]
        }
      ]
    },
    {
      "cell_type": "code",
      "source": [
        "input_ids = tokenizer.encode(\n",
        "    text,\n",
        "    add_special_tokens = False,\n",
        "    max_length = 5,\n",
        "    truncation = True\n",
        ")\n",
        "print(input_ids)"
      ],
      "metadata": {
        "colab": {
          "base_uri": "https://localhost:8080/"
        },
        "id": "KWmmqScjn7P2",
        "outputId": "4e6679be-c5a5-4199-c893-22e475c472fb"
      },
      "execution_count": null,
      "outputs": [
        {
          "output_type": "stream",
          "name": "stdout",
          "text": [
            "[9638, 119064, 25387, 10892, 59906]\n"
          ]
        }
      ]
    },
    {
      "cell_type": "code",
      "source": [
        "decoded_ids = tokenizer.decode(input_ids)\n",
        "print(decoded_ids)"
      ],
      "metadata": {
        "colab": {
          "base_uri": "https://localhost:8080/"
        },
        "id": "x6Tfk2MtoKpF",
        "outputId": "86111e1d-c644-48eb-ebf4-49fdc7272d91"
      },
      "execution_count": null,
      "outputs": [
        {
          "output_type": "stream",
          "name": "stdout",
          "text": [
            "이순신은 조선\n"
          ]
        }
      ]
    },
    {
      "cell_type": "code",
      "source": [
        "print(tokenizer.pad_token)"
      ],
      "metadata": {
        "colab": {
          "base_uri": "https://localhost:8080/"
        },
        "id": "WZ_m6fhToREc",
        "outputId": "ab3f1ae8-d60f-4a2b-a1d2-4d0651aff04b"
      },
      "execution_count": null,
      "outputs": [
        {
          "output_type": "stream",
          "name": "stdout",
          "text": [
            "[PAD]\n"
          ]
        }
      ]
    },
    {
      "cell_type": "code",
      "source": [
        "tokenizer.pad_token_id"
      ],
      "metadata": {
        "colab": {
          "base_uri": "https://localhost:8080/"
        },
        "id": "4vPj0wQjoVtl",
        "outputId": "8ec56300-1485-4294-e59e-e93c1c6df2ae"
      },
      "execution_count": null,
      "outputs": [
        {
          "output_type": "execute_result",
          "data": {
            "text/plain": [
              "0"
            ]
          },
          "metadata": {},
          "execution_count": 20
        }
      ]
    },
    {
      "cell_type": "code",
      "source": [
        "tokenized_text = tokenizer.tokenize(\n",
        "    text,\n",
        "    add_special_tokens = False,\n",
        "    max_length = 20,\n",
        "    padding = 'max_length'\n",
        ")\n",
        "print(tokenized_text)"
      ],
      "metadata": {
        "colab": {
          "base_uri": "https://localhost:8080/"
        },
        "id": "gUvanX7MoaJU",
        "outputId": "8594c1a4-3e84-4224-f314-83310586897a"
      },
      "execution_count": null,
      "outputs": [
        {
          "output_type": "stream",
          "name": "stdout",
          "text": [
            "['이', '##순', '##신', '##은', '조선', '중', '##기의', '무', '##신', '##이다', '.', '[PAD]', '[PAD]', '[PAD]', '[PAD]', '[PAD]', '[PAD]', '[PAD]', '[PAD]', '[PAD]']\n"
          ]
        }
      ]
    },
    {
      "cell_type": "code",
      "source": [
        "input_ids = tokenizer.encode(\n",
        "    text,\n",
        "    add_special_tokens = False,\n",
        "    max_length = 20,\n",
        "    padding = 'max_length'\n",
        ")\n",
        "print(input_ids)"
      ],
      "metadata": {
        "colab": {
          "base_uri": "https://localhost:8080/"
        },
        "id": "HDqBkWKBobVv",
        "outputId": "fcc34113-a56e-462d-a087-71608c302958"
      },
      "execution_count": null,
      "outputs": [
        {
          "output_type": "stream",
          "name": "stdout",
          "text": [
            "[9638, 119064, 25387, 10892, 59906, 9694, 46874, 9294, 25387, 11925, 119, 0, 0, 0, 0, 0, 0, 0, 0, 0]\n"
          ]
        }
      ]
    },
    {
      "cell_type": "code",
      "source": [
        "decoded_ids = tokenizer.decode(input_ids)\n",
        "print(decoded_ids)"
      ],
      "metadata": {
        "colab": {
          "base_uri": "https://localhost:8080/"
        },
        "id": "tlk4uPBeobYH",
        "outputId": "fb98bddd-e5f1-46d7-ccee-ea1a13889cfb"
      },
      "execution_count": null,
      "outputs": [
        {
          "output_type": "stream",
          "name": "stdout",
          "text": [
            "이순신은 조선 중기의 무신이다. [PAD] [PAD] [PAD] [PAD] [PAD] [PAD] [PAD] [PAD] [PAD]\n"
          ]
        }
      ]
    },
    {
      "cell_type": "markdown",
      "source": [
        "# 새로운 토큰을 추가해보자!"
      ],
      "metadata": {
        "id": "4mC4veW8pp8F"
      }
    },
    {
      "cell_type": "code",
      "source": [
        "text = '깟빼뜨랑 리뿔이 뜨럽거 므리커럭이 케쇼쇼쇽 나오애쇼쇼쇼 우뤼갸갸갸 청쇼랴료다혀뚜요'\n",
        "\n",
        "# tokenized_text\n",
        "tokenized_text = tokenizer.tokenize(\n",
        "    text,\n",
        "    add_special_tokens = False,\n",
        "    max_length = 30,\n",
        "    padding = 'max_length'\n",
        ")\n",
        "print('tokenized_text\\n', tokenized_text)\n",
        "\n",
        "# input_ids\n",
        "input_ids = tokenizer.encode(\n",
        "    text,\n",
        "    add_special_tokens = False,\n",
        "    max_length = 30,\n",
        "    padding = 'max_length'\n",
        ")\n",
        "print('input_ids\\n', input_ids)\n",
        "\n",
        "# decoded_ids\n",
        "\n",
        "decoded_ids = tokenizer.decode(input_ids)\n",
        "print('decoded_ids\\n',decoded_ids)"
      ],
      "metadata": {
        "colab": {
          "base_uri": "https://localhost:8080/"
        },
        "id": "WWPa-G0CpIa5",
        "outputId": "d19aa6ff-a35b-46ae-c632-30cdba560864"
      },
      "execution_count": null,
      "outputs": [
        {
          "output_type": "stream",
          "name": "stdout",
          "text": [
            "tokenized_text\n",
            " ['[UNK]', '리', '##뿔', '##이', '뜨', '##럽', '##거', '므', '##리', '##커', '##럭', '##이', '[UNK]', '나', '##오', '##애', '##쇼', '##쇼', '##쇼', '[UNK]', '청', '##쇼', '##랴', '##료', '##다', '##혀', '##뚜', '##요', '[PAD]', '[PAD]']\n",
            "input_ids\n",
            " [100, 9238, 119021, 10739, 9151, 118867, 41521, 9308, 12692, 106826, 118864, 10739, 100, 8982, 28188, 119121, 119060, 119060, 119060, 100, 9751, 119060, 118862, 38688, 11903, 80579, 118841, 48549, 0, 0]\n",
            "decoded_ids\n",
            " [UNK] 리뿔이 뜨럽거 므리커럭이 [UNK] 나오애쇼쇼쇼 [UNK] 청쇼랴료다혀뚜요 [PAD] [PAD]\n"
          ]
        }
      ]
    },
    {
      "cell_type": "code",
      "source": [
        "added_token_num = tokenizer.add_tokens(['깟빼뜨랑', '케쇼쇼쇽', '우뤼갸갸갸'])\n",
        "print(add_token_num)"
      ],
      "metadata": {
        "colab": {
          "base_uri": "https://localhost:8080/"
        },
        "id": "6tmljd5qpId1",
        "outputId": "08bfd764-b2dc-48cc-e5b7-6e1b463d0551"
      },
      "execution_count": null,
      "outputs": [
        {
          "output_type": "stream",
          "name": "stdout",
          "text": [
            "3\n"
          ]
        }
      ]
    },
    {
      "cell_type": "code",
      "source": [
        "# tokenized_text\n",
        "tokenized_text = tokenizer.tokenize(\n",
        "    text,\n",
        "    add_special_tokens = False,\n",
        "    max_length = 30,\n",
        "    padding = 'max_length'\n",
        ")\n",
        "print('tokenized_text\\n', tokenized_text)\n",
        "\n",
        "# input_ids\n",
        "input_ids = tokenizer.encode(\n",
        "    text,\n",
        "    add_special_tokens = False,\n",
        "    max_length = 30,\n",
        "    padding = 'max_length'\n",
        ")\n",
        "print('input_ids\\n', input_ids)\n",
        "\n",
        "# decoded_ids\n",
        "\n",
        "decoded_ids = tokenizer.decode(input_ids)\n",
        "print('decoded_ids\\n',decoded_ids)"
      ],
      "metadata": {
        "colab": {
          "base_uri": "https://localhost:8080/"
        },
        "id": "2q33pefVpIg4",
        "outputId": "ce1c73a7-821a-428d-fd37-a48eaa6000b7"
      },
      "execution_count": null,
      "outputs": [
        {
          "output_type": "stream",
          "name": "stdout",
          "text": [
            "tokenized_text\n",
            " ['깟빼뜨랑', '리', '##뿔', '##이', '뜨', '##럽', '##거', '므', '##리', '##커', '##럭', '##이', '케쇼쇼쇽', '나', '##오', '##애', '##쇼', '##쇼', '##쇼', '우뤼갸갸갸', '청', '##쇼', '##랴', '##료', '##다', '##혀', '##뚜', '##요', '[PAD]', '[PAD]']\n",
            "input_ids\n",
            " [119547, 9238, 119021, 10739, 9151, 118867, 41521, 9308, 12692, 106826, 118864, 10739, 119548, 8982, 28188, 119121, 119060, 119060, 119060, 119549, 9751, 119060, 118862, 38688, 11903, 80579, 118841, 48549, 0, 0]\n",
            "decoded_ids\n",
            " 깟빼뜨랑 리뿔이 뜨럽거 므리커럭이 케쇼쇼쇽 나오애쇼쇼쇼 우뤼갸갸갸 청쇼랴료다혀뚜요 [PAD] [PAD]\n"
          ]
        }
      ]
    },
    {
      "cell_type": "code",
      "source": [
        "text = \"[juno]이순신은 조선 중기의 무신이다.[/juno]\"\n",
        "\n",
        "# tokenized_text\n",
        "tokenized_text = tokenizer.tokenize(\n",
        "    text,\n",
        "    add_special_tokens = False,\n",
        "    max_length = 30,\n",
        "    padding = 'max_length'\n",
        ")\n",
        "print('tokenized_text\\n', tokenized_text)\n",
        "\n",
        "# input_ids\n",
        "input_ids = tokenizer.encode(\n",
        "    text,\n",
        "    add_special_tokens = False,\n",
        "    max_length = 30,\n",
        "    padding = 'max_length'\n",
        ")\n",
        "print('input_ids\\n', input_ids)\n",
        "\n",
        "# decoded_ids\n",
        "\n",
        "decoded_ids = tokenizer.decode(input_ids)\n",
        "print('decoded_ids\\n',decoded_ids)"
      ],
      "metadata": {
        "colab": {
          "base_uri": "https://localhost:8080/"
        },
        "id": "E5CqXOzgpIjO",
        "outputId": "cb25693a-bd5e-475b-cdb0-3eb7e197466f"
      },
      "execution_count": null,
      "outputs": [
        {
          "output_type": "stream",
          "name": "stdout",
          "text": [
            "tokenized_text\n",
            " ['[', 'ju', '##no', ']', '이', '##순', '##신', '##은', '조선', '중', '##기의', '무', '##신', '##이다', '.', '[', '/', 'ju', '##no', ']', '[PAD]', '[PAD]', '[PAD]', '[PAD]', '[PAD]', '[PAD]', '[PAD]', '[PAD]', '[PAD]', '[PAD]']\n",
            "input_ids\n",
            " [164, 23005, 10343, 166, 9638, 119064, 25387, 10892, 59906, 9694, 46874, 9294, 25387, 11925, 119, 164, 120, 23005, 10343, 166, 0, 0, 0, 0, 0, 0, 0, 0, 0, 0]\n",
            "decoded_ids\n",
            " [ juno ] 이순신은 조선 중기의 무신이다. [ / juno ] [PAD] [PAD] [PAD] [PAD] [PAD] [PAD] [PAD] [PAD] [PAD] [PAD]\n"
          ]
        }
      ]
    },
    {
      "cell_type": "code",
      "source": [
        "text = \"[juno]이순신은 조선 중기의 무신이다.[/juno]\"\n",
        "\n",
        "added_token_num += tokenizer.add_special_tokens({\"additional_special_tokens\" : [\"[juno]\", \"[/juno]\"]})\n",
        "\n",
        "# tokenized_text\n",
        "tokenized_text = tokenizer.tokenize(\n",
        "    text,\n",
        "    add_special_tokens = False,\n",
        ")\n",
        "print('tokenized_text\\n', tokenized_text)\n",
        "\n",
        "# input_ids\n",
        "input_ids = tokenizer.encode(\n",
        "    text,\n",
        "    add_special_tokens = False,\n",
        ")\n",
        "\n",
        "print('input_ids\\n', input_ids)\n",
        "\n",
        "# decoded_ids\n",
        "\n",
        "decoded_ids = tokenizer.decode(input_ids)\n",
        "print('decoded_ids\\n',decoded_ids)"
      ],
      "metadata": {
        "colab": {
          "base_uri": "https://localhost:8080/"
        },
        "id": "uO5VYoFjpImH",
        "outputId": "21a8219f-d4c7-494a-f406-9d4c8a4e760a"
      },
      "execution_count": null,
      "outputs": [
        {
          "output_type": "stream",
          "name": "stdout",
          "text": [
            "tokenized_text\n",
            " ['[juno]', '이', '##순', '##신', '##은', '조선', '중', '##기의', '무', '##신', '##이다', '.', '[/juno]']\n",
            "input_ids\n",
            " [119550, 9638, 119064, 25387, 10892, 59906, 9694, 46874, 9294, 25387, 11925, 119, 119551]\n",
            "decoded_ids\n",
            " [juno] 이순신은 조선 중기의 무신이다. [/juno]\n"
          ]
        }
      ]
    },
    {
      "cell_type": "code",
      "source": [
        "# single input\n",
        "single_seg_input = tokenizer(\"이순신은 조선 중기의 무신이다.\")\n",
        "\n",
        "# Multiple input\n",
        "multi_seg_input = tokenizer('이순신은 조선 중기의 무신이다.', \"그는 임진왜란을 승리로 이끌었다.\")"
      ],
      "metadata": {
        "id": "ZgSmrua5pIof"
      },
      "execution_count": null,
      "outputs": []
    },
    {
      "cell_type": "code",
      "source": [
        "print(\"Single segment token(str) : {}\".format(tokenizer.convert_ids_to_tokens(single_seg_input['input_ids'])))\n",
        "print(\"Single segment token(int) : {}\".format(single_seg_input['input_ids']))\n",
        "print(\"Single segment type : {}\".format(single_seg_input['token_type_ids']))\n",
        "\n",
        "# Segments\n",
        "print()\n",
        "print(\"Single segment token(str) : {}\".format(tokenizer.convert_ids_to_tokens(multi_seg_input['input_ids'])))\n",
        "print(\"Single segment token(int) : {}\".format(multi_seg_input['input_ids']))\n",
        "print(\"Single segment type : {}\".format(multi_seg_input['token_type_ids']))"
      ],
      "metadata": {
        "colab": {
          "base_uri": "https://localhost:8080/"
        },
        "id": "Jbs9gx8HpIre",
        "outputId": "cf2fc428-d19d-4240-d51a-4c69a0458838"
      },
      "execution_count": null,
      "outputs": [
        {
          "output_type": "stream",
          "name": "stdout",
          "text": [
            "Single segment token(str) : ['[CLS]', '이', '##순', '##신', '##은', '조선', '중', '##기의', '무', '##신', '##이다', '.', '[SEP]']\n",
            "Single segment token(int) : [101, 9638, 119064, 25387, 10892, 59906, 9694, 46874, 9294, 25387, 11925, 119, 102]\n",
            "Single segment type : [0, 0, 0, 0, 0, 0, 0, 0, 0, 0, 0, 0, 0]\n",
            "\n",
            "Single segment token(str) : ['[CLS]', '이', '##순', '##신', '##은', '조선', '중', '##기의', '무', '##신', '##이다', '.', '[SEP]', '그는', '임', '##진', '##왜', '##란', '##을', '승', '##리로', '이', '##끌', '##었다', '.', '[SEP]']\n",
            "Single segment token(int) : [101, 9638, 119064, 25387, 10892, 59906, 9694, 46874, 9294, 25387, 11925, 119, 102, 17889, 9644, 18623, 119164, 49919, 10622, 9484, 100434, 9638, 118705, 17706, 119, 102]\n",
            "Single segment type : [0, 0, 0, 0, 0, 0, 0, 0, 0, 0, 0, 0, 0, 1, 1, 1, 1, 1, 1, 1, 1, 1, 1, 1, 1, 1]\n"
          ]
        }
      ]
    },
    {
      "cell_type": "markdown",
      "source": [
        "# Bert 모델 테스트"
      ],
      "metadata": {
        "id": "Rp-Z95tGyS8o"
      }
    },
    {
      "cell_type": "code",
      "source": [
        "text = \"이순신은 [MASK] 중기의 무신이다.\"\n",
        "tokenized_text = tokenizer.tokenize(text)\n",
        "print(tokenized_text)"
      ],
      "metadata": {
        "colab": {
          "base_uri": "https://localhost:8080/"
        },
        "id": "SCC_lqPhobbM",
        "outputId": "20448255-be66-4f18-a4f1-96621df3982c"
      },
      "execution_count": null,
      "outputs": [
        {
          "output_type": "stream",
          "name": "stdout",
          "text": [
            "['이', '##순', '##신', '##은', '[MASK]', '중', '##기의', '무', '##신', '##이다', '.']\n"
          ]
        }
      ]
    },
    {
      "cell_type": "code",
      "source": [
        "from transformers import pipeline\n",
        "\n",
        "nlp_fill = pipeline('fill-mask', model = model_name)\n",
        "nlp_fill(\"지금 목이[MASK] \")"
      ],
      "metadata": {
        "colab": {
          "base_uri": "https://localhost:8080/"
        },
        "id": "AbgBEJAiobdf",
        "outputId": "175aa31f-d49e-4a56-945f-29b5cf456c1c"
      },
      "execution_count": null,
      "outputs": [
        {
          "output_type": "stream",
          "name": "stderr",
          "text": [
            "Some weights of the model checkpoint at bert-base-multilingual-cased were not used when initializing BertForMaskedLM: ['cls.seq_relationship.weight', 'cls.seq_relationship.bias']\n",
            "- This IS expected if you are initializing BertForMaskedLM from the checkpoint of a model trained on another task or with another architecture (e.g. initializing a BertForSequenceClassification model from a BertForPreTraining model).\n",
            "- This IS NOT expected if you are initializing BertForMaskedLM from the checkpoint of a model that you expect to be exactly identical (initializing a BertForSequenceClassification model from a BertForSequenceClassification model).\n"
          ]
        },
        {
          "output_type": "execute_result",
          "data": {
            "text/plain": [
              "[{'score': 0.035984668880701065,\n",
              "  'sequence': '지금 목이.',\n",
              "  'token': 119,\n",
              "  'token_str': '.'},\n",
              " {'score': 0.03488186001777649,\n",
              "  'sequence': '지금 목이도',\n",
              "  'token': 12092,\n",
              "  'token_str': '##도'},\n",
              " {'score': 0.031330253928899765,\n",
              "  'sequence': '지금 목이 목',\n",
              "  'token': 9284,\n",
              "  'token_str': '목'},\n",
              " {'score': 0.02610834315419197,\n",
              "  'sequence': '지금 목이기',\n",
              "  'token': 12310,\n",
              "  'token_str': '##기'},\n",
              " {'score': 0.025743363425135612,\n",
              "  'sequence': '지금 목이강',\n",
              "  'token': 47181,\n",
              "  'token_str': '##강'}]"
            ]
          },
          "metadata": {},
          "execution_count": 47
        }
      ]
    },
    {
      "cell_type": "code",
      "source": [
        "tokens_pt = tokenizer(\"이순신은 조선 중기의 무신이다.\", return_tensors = 'pt')\n",
        "\n",
        "for key, value in tokens_pt.items():\n",
        "  print(\"{} : \\n\\t{}\".format(key, value))\n",
        "\n",
        "outputs = model(**tokens_pt)\n",
        "last_hidden_state =  outputs.last_hidden_state\n",
        "pooler_output = outputs.pooler_output\n",
        "\n",
        "print(\"\\nToken wise output : {}. Pooled output : {}\".format(last_hidden_state.shape, pooler_output.shape))"
      ],
      "metadata": {
        "colab": {
          "base_uri": "https://localhost:8080/"
        },
        "id": "fyHuKfE10o_P",
        "outputId": "65282cd4-fb19-477f-e1a0-e1b89a7eff8f"
      },
      "execution_count": null,
      "outputs": [
        {
          "output_type": "stream",
          "name": "stdout",
          "text": [
            "input_ids : \n",
            "\ttensor([[   101,   9638, 119064,  25387,  10892,  59906,   9694,  46874,   9294,\n",
            "          25387,  11925,    119,    102]])\n",
            "token_type_ids : \n",
            "\ttensor([[0, 0, 0, 0, 0, 0, 0, 0, 0, 0, 0, 0, 0]])\n",
            "attention_mask : \n",
            "\ttensor([[1, 1, 1, 1, 1, 1, 1, 1, 1, 1, 1, 1, 1]])\n",
            "\n",
            "Token wise output : torch.Size([1, 13, 768]). Pooled output : torch.Size([1, 768])\n"
          ]
        }
      ]
    },
    {
      "cell_type": "code",
      "source": [
        "print(pooler_output) # 모델의 출력결과도 획득가능!"
      ],
      "metadata": {
        "colab": {
          "base_uri": "https://localhost:8080/"
        },
        "id": "xp46cII_1lZo",
        "outputId": "ddb45f4e-3240-42b9-f378-494ce09c5295"
      },
      "execution_count": null,
      "outputs": [
        {
          "output_type": "stream",
          "name": "stdout",
          "text": [
            "tensor([[ 2.3151e-01, -8.0099e-02, -1.4249e-01, -1.6500e-01,  4.0655e-02,\n",
            "         -1.0855e-01, -8.1335e-02,  1.8238e-01, -2.5709e-01,  1.7708e-01,\n",
            "          5.5793e-02,  2.1646e-01, -2.6028e-01, -1.1805e-01,  1.6879e-01,\n",
            "          2.2665e-01,  1.6693e-01, -1.4605e-01, -3.3806e-01, -2.5438e-04,\n",
            "         -9.9437e-01, -3.0201e-01,  7.8168e-02, -2.0071e-01, -2.2053e-02,\n",
            "          1.8374e-01,  7.8908e-02,  2.7492e-01,  1.5742e-01, -1.8704e-03,\n",
            "         -1.9677e-01, -9.9644e-01,  5.8323e-01,  2.5800e-01,  1.8723e-01,\n",
            "         -2.3858e-01,  5.7414e-02,  2.9294e-01,  2.0999e-01, -3.3407e-01,\n",
            "          9.6668e-02, -1.3142e-01,  1.4946e-01, -2.3270e-01, -1.2149e-01,\n",
            "         -2.6757e-01, -5.3483e-03,  3.1485e-01, -3.2587e-01, -8.8365e-02,\n",
            "          2.4172e-01,  1.7982e-01,  3.3085e-01, -2.0571e-01, -2.7982e-02,\n",
            "          2.8920e-01, -1.2191e-01, -3.7320e-01,  4.6051e-02, -2.3296e-01,\n",
            "         -2.3272e-01, -4.9195e-02,  9.7081e-02, -8.8512e-02, -5.6786e-02,\n",
            "         -2.2798e-01,  2.4579e-02, -1.2754e-01, -9.3426e-02, -1.8712e-01,\n",
            "         -3.6134e-01, -3.3818e-01, -1.3477e-01,  1.2105e-01,  2.1083e-01,\n",
            "         -3.6868e-01,  3.2170e-01,  5.8279e-02, -1.7222e-01,  8.6805e-02,\n",
            "          4.1703e-02, -4.4495e-02, -3.7188e-01, -1.6005e-01, -1.3139e-01,\n",
            "          2.0161e-01, -2.4024e-01, -2.0763e-01,  4.7214e-02,  2.0771e-02,\n",
            "         -3.4535e-02, -5.3410e-02,  1.2922e-01, -2.0249e-01, -5.5217e-02,\n",
            "         -4.9388e-02, -2.1007e-01, -1.8424e-01, -2.3092e-01, -1.2235e-01,\n",
            "          3.5301e-01,  1.0970e-02, -9.5568e-02,  8.3196e-02,  1.5926e-02,\n",
            "         -7.7805e-02,  1.6965e-01,  1.2051e-01, -5.4005e-02,  2.1519e-01,\n",
            "         -2.9257e-01, -7.8562e-02, -1.4220e-01,  1.2285e-01,  7.2610e-02,\n",
            "          1.3290e-03, -8.2995e-03,  3.6331e-01, -3.4051e-01,  6.7421e-02,\n",
            "          2.8646e-01,  9.9699e-01, -4.3605e-02,  2.8766e-02, -2.3070e-03,\n",
            "          2.9458e-01, -2.1175e-01,  3.4910e-01,  2.3398e-02,  5.6756e-03,\n",
            "         -6.3400e-02,  1.1976e-01, -2.1535e-03,  2.3463e-02, -1.7765e-01,\n",
            "         -1.3513e-01, -1.9813e-01,  1.1649e-01, -1.3705e-01, -1.1860e-01,\n",
            "          4.3581e-03,  2.4019e-01,  3.9279e-02, -5.0895e-02,  2.5982e-02,\n",
            "          1.2725e-01,  2.0247e-01,  1.3510e-01,  9.9472e-01, -7.2655e-02,\n",
            "         -5.0020e-02, -1.5618e-01,  4.0537e-01,  6.6582e-02,  3.1813e-02,\n",
            "         -3.1578e-01, -5.8159e-02, -4.5934e-02, -4.9445e-02,  2.8642e-02,\n",
            "          1.3036e-01, -1.8315e-01,  5.7318e-02,  1.2821e-01, -2.5956e-02,\n",
            "         -3.4724e-01,  6.0792e-02,  1.8295e-01, -4.3648e-01,  1.0136e-01,\n",
            "         -5.3149e-02,  3.1018e-01,  2.8474e-01, -2.2324e-02,  2.7043e-01,\n",
            "          2.3202e-01, -3.3167e-02, -2.3095e-02, -3.8416e-02,  1.2695e-02,\n",
            "         -1.2670e-02, -5.1058e-02,  1.4765e-01, -2.1613e-01, -3.3106e-01,\n",
            "          1.5132e-01,  1.8839e-01, -1.7356e-02, -1.5432e-02,  6.1493e-02,\n",
            "         -9.9202e-02, -1.9917e-01,  1.5378e-01,  4.4480e-01,  1.5058e-01,\n",
            "          1.6828e-01, -1.4596e-01, -1.4880e-01,  2.0356e-01, -3.2074e-02,\n",
            "          7.3071e-03, -6.9113e-02,  1.8305e-01,  6.3195e-02, -2.9952e-02,\n",
            "         -4.6175e-01,  3.7851e-01, -1.0725e-02,  1.0510e-01,  1.4556e-01,\n",
            "         -8.7427e-03, -1.7101e-01, -8.3195e-02,  4.5372e-02, -1.6910e-01,\n",
            "          3.0922e-01,  4.6954e-01, -3.1923e-02,  1.3639e-02,  3.1593e-01,\n",
            "         -9.3922e-02, -2.1041e-01, -9.1473e-02, -3.5293e-01,  4.2411e-04,\n",
            "          8.6445e-02,  2.5568e-01,  1.8982e-01,  1.9484e-01, -5.8467e-02,\n",
            "         -8.0939e-02, -9.4052e-02,  2.2496e-01,  3.7580e-01,  2.1544e-01,\n",
            "          3.6326e-01,  1.1409e-01,  1.5166e-02, -8.7648e-02, -1.5844e-01,\n",
            "         -1.1158e-01, -7.9284e-02,  2.5138e-01, -7.9641e-02, -1.4966e-01,\n",
            "         -3.2697e-01, -8.7231e-02,  3.0004e-01,  2.6865e-02,  9.4598e-02,\n",
            "         -6.8676e-02,  1.9548e-02,  4.5026e-01,  1.0989e-02,  8.5646e-03,\n",
            "         -9.9618e-01,  9.9249e-02, -1.8507e-01,  1.1457e-01, -1.7055e-01,\n",
            "         -1.5569e-02,  1.1132e-01,  3.9988e-02,  2.2496e-01,  2.9708e-01,\n",
            "         -3.1117e-01,  7.5051e-02, -2.7388e-01, -3.0500e-01, -2.1105e-01,\n",
            "         -6.6709e-02,  2.2656e-01,  3.9181e-02, -2.9298e-01, -9.3058e-02,\n",
            "          1.9216e-01,  4.7242e-02,  3.5970e-02,  2.0992e-01,  3.8528e-03,\n",
            "         -5.5210e-02,  1.5503e-01,  2.9231e-01, -9.9738e-01,  5.2956e-02,\n",
            "         -3.1687e-01, -8.6769e-02, -7.9462e-04,  3.9776e-01, -2.0158e-01,\n",
            "          2.5471e-01, -8.0608e-02,  2.1047e-01,  3.4364e-02,  2.2006e-01,\n",
            "          2.6438e-01, -1.1687e-01,  3.5963e-01, -1.7913e-01,  2.0787e-02,\n",
            "          2.4832e-01, -3.5735e-02,  4.1599e-02, -5.4483e-02, -9.4062e-02,\n",
            "          1.8301e-01, -2.4854e-01, -7.6677e-02,  1.1579e-01,  4.5656e-02,\n",
            "          2.8385e-02, -1.4974e-01,  1.5757e-01,  1.0117e-01,  3.3176e-01,\n",
            "         -6.1602e-03,  4.5344e-02, -1.2828e-01, -2.4557e-01,  2.0106e-01,\n",
            "         -8.8980e-02,  2.5708e-01, -1.6652e-01,  9.9679e-01,  8.6905e-02,\n",
            "          9.0186e-02, -2.7165e-01,  7.7786e-02,  4.4440e-01, -1.4086e-01,\n",
            "         -5.9735e-01, -1.2363e-01, -1.4626e-01, -1.9917e-01, -2.9293e-01,\n",
            "          2.9398e-01,  1.6978e-01,  5.6781e-02, -3.4032e-02, -3.6464e-02,\n",
            "          1.8284e-01, -7.7705e-02,  1.6750e-01, -7.1782e-02, -2.0922e-01,\n",
            "          9.9482e-02, -7.3533e-02,  1.6743e-02, -3.8224e-01, -2.7836e-01,\n",
            "          1.3258e-01,  8.1555e-02,  7.4495e-02, -1.1091e-02, -1.7813e-01,\n",
            "          8.8384e-03, -1.0242e-01, -1.9886e-01, -2.5475e-01, -1.8478e-01,\n",
            "          1.6511e-01,  1.6529e-01, -1.6426e-01,  1.1386e-01,  3.7333e-01,\n",
            "          8.4251e-02,  1.3194e-01,  1.1176e-01, -1.7479e-01, -1.1961e-01,\n",
            "          5.6556e-02, -9.9732e-01,  3.5481e-01,  1.6012e-01, -2.0266e-01,\n",
            "          3.1412e-01,  1.4692e-02, -6.2421e-02,  1.5491e-01,  9.5504e-04,\n",
            "          2.1130e-01,  9.1894e-02,  2.2194e-02,  8.0853e-03,  2.3645e-01,\n",
            "          1.4653e-01,  3.2063e-01,  7.3797e-02, -2.0594e-02, -7.0960e-02,\n",
            "          4.2676e-01, -1.7693e-01, -1.4360e-01,  2.3116e-01,  4.7228e-02,\n",
            "          2.7766e-01, -1.9106e-01,  1.2182e-02, -2.4463e-02,  6.7767e-02,\n",
            "          1.8669e-01,  1.3984e-01, -9.0009e-03,  1.3589e-01,  1.8139e-01,\n",
            "         -7.6325e-02, -2.1100e-01,  5.8147e-02,  1.2159e-01,  2.6986e-01,\n",
            "         -4.0593e-02,  1.0548e-01, -1.0874e-01,  3.2711e-03, -3.0755e-01,\n",
            "         -1.2411e-01,  7.7578e-02,  1.4768e-01, -2.7061e-01,  9.7169e-03,\n",
            "         -1.1738e-01,  9.9639e-01,  1.3923e-01, -1.3922e-01, -2.0595e-01,\n",
            "          2.7854e-02, -1.1022e-01, -4.7273e-02,  3.4652e-01,  3.9360e-01,\n",
            "          3.9577e-02,  5.9653e-02,  6.5575e-02,  2.6003e-01,  5.0047e-02,\n",
            "          4.4709e-02,  2.5958e-01,  1.3533e-01, -2.9218e-01, -9.1839e-02,\n",
            "          2.7446e-02, -2.7156e-01, -1.3266e-01,  1.5550e-01,  4.1250e-01,\n",
            "         -7.6872e-02, -5.3577e-01,  9.6144e-02, -2.6557e-01,  1.1144e-01,\n",
            "         -2.4314e-01,  1.7023e-01,  2.1902e-01, -1.2384e-01,  7.3696e-02,\n",
            "         -2.5486e-01,  9.9577e-01, -2.3152e-01,  6.7374e-02,  9.3715e-02,\n",
            "          1.9177e-01,  1.1909e-01, -2.0895e-01, -1.1298e-01,  2.3494e-01,\n",
            "         -1.8403e-01, -3.4499e-03,  1.4056e-01,  1.8057e-01, -6.4629e-02,\n",
            "          1.8560e-01, -1.7925e-01,  1.9089e-01,  1.9992e-01,  2.5533e-01,\n",
            "         -5.9921e-02, -6.0658e-02, -1.9758e-01, -1.4516e-02, -2.9667e-01,\n",
            "          1.2437e-01,  8.3536e-02,  5.8822e-03,  7.8899e-02,  1.0872e-01,\n",
            "          1.5960e-01,  2.5979e-02,  1.7136e-01, -1.3343e-01,  1.8882e-01,\n",
            "          1.1238e-01, -2.5834e-02,  4.4346e-01, -1.2292e-01,  9.9554e-01,\n",
            "         -1.4641e-01,  3.5008e-01, -2.0173e-01,  3.6726e-02, -4.2661e-02,\n",
            "          2.2653e-01, -1.2549e-03, -4.3869e-01,  6.6984e-02,  4.3589e-01,\n",
            "          4.2188e-02,  1.1319e-01, -1.1233e-01, -7.4936e-01, -2.0894e-01,\n",
            "          2.5336e-01, -2.7288e-01,  9.2788e-02,  2.0721e-01, -7.0341e-02,\n",
            "          1.0973e-01, -1.7619e-02,  9.4757e-02,  1.1480e-01, -8.4459e-02,\n",
            "          3.5880e-02,  1.0707e-01,  1.4619e-01, -6.8796e-02, -3.4293e-01,\n",
            "          9.9600e-01,  9.9512e-01, -3.8809e-02,  2.8161e-01, -2.8805e-01,\n",
            "          4.6531e-02, -4.9167e-01,  4.4773e-02, -2.1514e-01, -1.1869e-01,\n",
            "          9.2464e-02,  3.4208e-01,  1.3189e-01, -2.3403e-01,  2.8302e-02,\n",
            "          1.6177e-01,  7.1566e-02, -3.3712e-01, -1.3778e-01,  4.2994e-02,\n",
            "         -1.5088e-02, -2.1483e-02, -1.6483e-02, -1.0742e-01,  2.7325e-01,\n",
            "          3.3725e-01, -1.5876e-01,  8.1618e-02, -2.0030e-01,  2.7186e-03,\n",
            "         -1.8619e-01,  2.2509e-01, -9.9660e-01,  6.1694e-02,  3.5120e-03,\n",
            "         -1.5976e-01,  3.3418e-01,  3.4037e-01,  5.7977e-02, -7.4645e-02,\n",
            "         -2.5014e-01,  1.1275e-01, -1.4465e-01, -1.3854e-01, -2.4209e-02,\n",
            "         -2.8977e-01, -1.5363e-01,  1.0863e-01,  1.0388e-01, -6.6124e-02,\n",
            "         -9.1861e-02,  1.7960e-01,  2.8668e-02, -8.0969e-02, -4.8426e-01,\n",
            "          3.6341e-01, -2.1347e-01, -1.9930e-02,  5.1570e-01, -1.0633e-01,\n",
            "         -1.0286e-01, -1.1678e-01,  1.8029e-01, -4.4841e-02,  1.3412e-01,\n",
            "         -2.6706e-01, -1.2763e-01,  1.5148e-01, -3.2576e-01, -4.1768e-01,\n",
            "          4.7483e-03, -2.0796e-01, -5.2119e-02,  1.7666e-01,  1.2085e-01,\n",
            "         -1.6001e-02,  2.6780e-01, -1.6859e-01, -8.3081e-02, -9.7779e-02,\n",
            "          2.5225e-01,  1.3959e-01, -4.9712e-02,  4.5361e-02,  1.9576e-01,\n",
            "         -2.6303e-01,  2.5692e-01, -2.3997e-01,  1.1389e-03, -9.5122e-02,\n",
            "          9.9786e-01, -9.1770e-03, -6.5529e-02, -1.0419e-01, -5.6406e-02,\n",
            "          2.1628e-01,  1.9230e-01, -6.4355e-02,  1.4087e-01,  6.6876e-01,\n",
            "         -2.5616e-01,  2.3111e-02, -1.5355e-01,  1.1596e-01, -1.2704e-01,\n",
            "          1.9702e-01, -2.4698e-01,  1.9937e-01, -2.2148e-01,  1.3577e-01,\n",
            "         -7.3160e-02, -6.6069e-02,  9.4563e-02,  1.4263e-02, -1.5482e-01,\n",
            "          3.4397e-01,  2.2141e-01, -3.5434e-01,  2.5798e-01, -1.9723e-01,\n",
            "          1.1810e-01,  7.1671e-02, -4.6762e-02, -3.4097e-01, -2.1252e-01,\n",
            "         -2.3902e-01,  1.2907e-02,  8.7372e-02, -1.7162e-01,  3.2566e-01,\n",
            "          9.4203e-03, -3.5156e-01,  2.4571e-01,  1.5388e-01, -4.1882e-01,\n",
            "          2.3776e-01, -1.0888e-01,  2.1443e-01,  5.6463e-02,  1.3970e-01,\n",
            "          8.2957e-03,  4.0336e-02,  5.9934e-03, -9.7197e-02,  5.4888e-01,\n",
            "          1.3199e-01, -4.5213e-03, -7.7528e-02, -2.3718e-01,  3.9816e-01,\n",
            "          2.2549e-01, -2.8511e-01,  7.8109e-02, -9.9646e-01,  1.9334e-01,\n",
            "          2.4817e-01,  7.2893e-02, -4.2120e-02,  9.2518e-02,  1.8561e-01,\n",
            "          1.3613e-01, -3.0413e-02,  1.6881e-03,  6.2842e-02,  8.4877e-02,\n",
            "          8.6912e-02, -7.1323e-03,  2.0758e-02, -1.1376e-01, -1.6080e-01,\n",
            "         -1.7250e-01, -6.7441e-02,  9.4406e-02,  2.3482e-01,  1.8475e-01,\n",
            "          1.0420e-03, -2.5333e-01, -1.0068e-02, -2.2482e-01,  1.5792e-01,\n",
            "          1.7158e-01,  3.8443e-02, -7.1356e-02, -2.6824e-01,  3.8378e-02,\n",
            "          5.6657e-03,  2.7074e-01, -4.3652e-01,  1.6614e-01,  1.7136e-01,\n",
            "         -2.8608e-02,  1.0080e-01, -2.5252e-01,  3.1993e-01, -7.6411e-02,\n",
            "          1.1214e-01, -1.8837e-01,  9.1577e-02, -5.0888e-01, -2.0415e-01,\n",
            "          1.9526e-01,  4.4210e-01, -1.7820e-02,  2.9073e-02, -7.1954e-02,\n",
            "         -1.4925e-02,  3.4173e-02,  2.6975e-02,  1.4139e-01,  8.5467e-02,\n",
            "         -2.4501e-02, -2.9884e-01,  1.4173e-01, -2.8230e-01, -2.1255e-01,\n",
            "         -5.3774e-01,  2.6972e-02,  6.6418e-02,  7.1953e-02,  1.8010e-01,\n",
            "         -2.9186e-01,  5.8175e-02, -2.8687e-01, -1.4856e-01, -7.3415e-02,\n",
            "         -1.0744e-01,  1.3037e-01,  1.0082e-01,  2.8109e-01, -3.7094e-01,\n",
            "         -3.3221e-01,  6.9873e-01, -2.0794e-01, -1.0034e-01, -2.1033e-02,\n",
            "          2.5465e-01,  5.4391e-01, -1.0700e-01,  4.3681e-02,  2.7703e-02,\n",
            "         -1.3286e-02,  2.1516e-01,  6.2235e-02]], grad_fn=<TanhBackward0>)\n"
          ]
        }
      ]
    },
    {
      "cell_type": "code",
      "source": [
        "# vocab을 새롭게 추가했다면, 반드시 model의 embedding layer사이즈를 늘려주세요!\n",
        "print(model.get_input_embeddings())\n",
        "model.resize_token_embeddings(tokenizer.vocab_size + added_token_num)\n",
        "print(model.get_input_embeddings())\n",
        "# 119547 -> 119549"
      ],
      "metadata": {
        "colab": {
          "base_uri": "https://localhost:8080/"
        },
        "id": "_Q2mUjfT14EY",
        "outputId": "1f1f05d1-175e-477e-bb19-46af8806557d"
      },
      "execution_count": null,
      "outputs": [
        {
          "output_type": "stream",
          "name": "stdout",
          "text": [
            "Embedding(119549, 768)\n",
            "Embedding(119549, 768)\n"
          ]
        }
      ]
    },
    {
      "cell_type": "code",
      "source": [
        "# [ClS] 토큰을 활용해 문장의 유사도를 측정할 수 있다.\n",
        "sent1 = tokenizer(\"오늘 하루 어떻게 보냈나요?\", return_tensors=\"pt\")\n",
        "sent2 = tokenizer(\"오늘은 어떤 하루를 보내셨나요?\", return_tensors=\"pt\")\n",
        "sent3 = tokenizer(\"이순신은 조선 중기의 무신이다.\", return_tensors=\"pt\")\n",
        "sent4 = tokenizer(\"깟뻬뜨랑 리뿔이 뜨럽거 므리커럭이 케쇽 냐왜쇼 우뤼갸 쳥쇼섀료다혀뚜여\", return_tensors=\"pt\")\n"
      ],
      "metadata": {
        "id": "XWzXRXm22eWH"
      },
      "execution_count": null,
      "outputs": []
    },
    {
      "cell_type": "code",
      "source": [
        "outputs = model(**sent1)\n",
        "sent_1_pooler_output = outputs.pooler_output\n",
        "\n",
        "outputs = model(**sent2)\n",
        "sent_2_pooler_output = outputs.pooler_output\n",
        "\n",
        "outputs = model(**sent3)\n",
        "sent_3_pooler_output = outputs.pooler_output\n",
        "\n",
        "outputs = model(**sent4)\n",
        "sent_4_pooler_output = outputs.pooler_output"
      ],
      "metadata": {
        "id": "kocDLCwB26z-"
      },
      "execution_count": null,
      "outputs": []
    },
    {
      "cell_type": "code",
      "source": [
        "from torch import nn\n",
        "\n",
        "cos = nn.CosineSimilarity(dim = 1, eps = 1e-6)\n",
        "print(cos(sent_1_pooler_output, sent_2_pooler_output))"
      ],
      "metadata": {
        "colab": {
          "base_uri": "https://localhost:8080/"
        },
        "id": "Jmui08bV3aoK",
        "outputId": "7d084942-2946-48af-9c9c-04afd3ef1df9"
      },
      "execution_count": null,
      "outputs": [
        {
          "output_type": "stream",
          "name": "stdout",
          "text": [
            "tensor([0.9757], grad_fn=<DivBackward0>)\n"
          ]
        }
      ]
    },
    {
      "cell_type": "code",
      "source": [
        "print(cos(sent_2_pooler_output, sent_3_pooler_output))"
      ],
      "metadata": {
        "colab": {
          "base_uri": "https://localhost:8080/"
        },
        "id": "1cyLUyW53akV",
        "outputId": "d39508c8-76ea-4b40-d6ed-b62ba693c340"
      },
      "execution_count": null,
      "outputs": [
        {
          "output_type": "stream",
          "name": "stdout",
          "text": [
            "tensor([0.6075], grad_fn=<DivBackward0>)\n"
          ]
        }
      ]
    },
    {
      "cell_type": "code",
      "source": [
        "print(cos(sent_3_pooler_output, sent_4_pooler_output))"
      ],
      "metadata": {
        "colab": {
          "base_uri": "https://localhost:8080/"
        },
        "id": "5Cr5zlKF3aiK",
        "outputId": "6994c010-76c5-460c-ff5f-171756594747"
      },
      "execution_count": null,
      "outputs": [
        {
          "output_type": "stream",
          "name": "stdout",
          "text": [
            "tensor([0.5997], grad_fn=<DivBackward0>)\n"
          ]
        }
      ]
    },
    {
      "cell_type": "code",
      "source": [
        "print(cos(sent_1_pooler_output, sent_4_pooler_output))"
      ],
      "metadata": {
        "colab": {
          "base_uri": "https://localhost:8080/"
        },
        "id": "_7aQ5IZp3agP",
        "outputId": "1f8a56d2-d53c-48e7-a7f7-0ef544dece8a"
      },
      "execution_count": null,
      "outputs": [
        {
          "output_type": "stream",
          "name": "stdout",
          "text": [
            "tensor([0.9258], grad_fn=<DivBackward0>)\n"
          ]
        }
      ]
    },
    {
      "cell_type": "code",
      "source": [
        ""
      ],
      "metadata": {
        "id": "J_-vccvf3acu"
      },
      "execution_count": null,
      "outputs": []
    }
  ]
}