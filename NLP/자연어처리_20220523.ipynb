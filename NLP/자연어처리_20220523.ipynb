{
  "nbformat": 4,
  "nbformat_minor": 0,
  "metadata": {
    "colab": {
      "name": "자연어처리 20220523",
      "provenance": [],
      "collapsed_sections": [],
      "include_colab_link": true
    },
    "kernelspec": {
      "name": "python3",
      "display_name": "Python 3"
    },
    "language_info": {
      "name": "python"
    }
  },
  "cells": [
    {
      "cell_type": "markdown",
      "metadata": {
        "id": "view-in-github",
        "colab_type": "text"
      },
      "source": [
        "<a href=\"https://colab.research.google.com/github/juno2856/deeplearning/blob/master/NLP/%EC%9E%90%EC%97%B0%EC%96%B4%EC%B2%98%EB%A6%AC_20220523.ipynb\" target=\"_parent\"><img src=\"https://colab.research.google.com/assets/colab-badge.svg\" alt=\"Open In Colab\"/></a>"
      ]
    },
    {
      "cell_type": "markdown",
      "source": [
        "# One hot encoding실습"
      ],
      "metadata": {
        "id": "TD_wLeA0gleC"
      }
    },
    {
      "cell_type": "code",
      "execution_count": 1,
      "metadata": {
        "id": "Cs4Gsjn2MR1E"
      },
      "outputs": [],
      "source": [
        "import numpy as np"
      ]
    },
    {
      "cell_type": "code",
      "source": [
        "# 입력 문장 (모델 입력)\n",
        "raw_inputs = [\n",
        "              \"나는 학생 입니다\",\n",
        "              \"나는 좋은 선생님 입니다\",\n",
        "              \"당신은 매우 좋은 선생님 입니다\"\n",
        "]\n",
        "\n",
        "#정답 학생(1) 기타(0)\n",
        "raw_labels = [1,0,0]"
      ],
      "metadata": {
        "id": "-PTSx8QJhKgw"
      },
      "execution_count": 2,
      "outputs": []
    },
    {
      "cell_type": "code",
      "source": [
        "words = []\n",
        "for s in raw_inputs:\n",
        "  words.extend(s.split())"
      ],
      "metadata": {
        "id": "byfABNeAhcKR"
      },
      "execution_count": 3,
      "outputs": []
    },
    {
      "cell_type": "code",
      "source": [
        "print(words)"
      ],
      "metadata": {
        "colab": {
          "base_uri": "https://localhost:8080/"
        },
        "id": "6nPXrGVthmcq",
        "outputId": "2819d5fa-7c59-4620-ac9c-477346f482f9"
      },
      "execution_count": 4,
      "outputs": [
        {
          "output_type": "stream",
          "name": "stdout",
          "text": [
            "['나는', '학생', '입니다', '나는', '좋은', '선생님', '입니다', '당신은', '매우', '좋은', '선생님', '입니다']\n"
          ]
        }
      ]
    },
    {
      "cell_type": "code",
      "source": [
        "# 중복 단어 제거\n",
        "words = list(dict.fromkeys(words))"
      ],
      "metadata": {
        "id": "1ZOHez5YhueA"
      },
      "execution_count": 5,
      "outputs": []
    },
    {
      "cell_type": "code",
      "source": [
        "print(words)"
      ],
      "metadata": {
        "colab": {
          "base_uri": "https://localhost:8080/"
        },
        "id": "RnO-VR7ah0VY",
        "outputId": "f2ecac14-9287-4b85-88e3-2b0d916118f3"
      },
      "execution_count": 6,
      "outputs": [
        {
          "output_type": "stream",
          "name": "stdout",
          "text": [
            "['나는', '학생', '입니다', '좋은', '선생님', '당신은', '매우']\n"
          ]
        }
      ]
    },
    {
      "cell_type": "code",
      "source": [
        "word_to_id = {\"<PAD>\" : 0, \"<UNK>\" : 1}\n",
        "\n",
        "for w in words:\n",
        "  word_to_id[w] = len(word_to_id)\n",
        "  print(word_to_id)\n"
      ],
      "metadata": {
        "colab": {
          "base_uri": "https://localhost:8080/"
        },
        "id": "k476BzyjiBf0",
        "outputId": "27485aba-fe69-4324-f703-37b79049d723"
      },
      "execution_count": 7,
      "outputs": [
        {
          "output_type": "stream",
          "name": "stdout",
          "text": [
            "{'<PAD>': 0, '<UNK>': 1, '나는': 2}\n",
            "{'<PAD>': 0, '<UNK>': 1, '나는': 2, '학생': 3}\n",
            "{'<PAD>': 0, '<UNK>': 1, '나는': 2, '학생': 3, '입니다': 4}\n",
            "{'<PAD>': 0, '<UNK>': 1, '나는': 2, '학생': 3, '입니다': 4, '좋은': 5}\n",
            "{'<PAD>': 0, '<UNK>': 1, '나는': 2, '학생': 3, '입니다': 4, '좋은': 5, '선생님': 6}\n",
            "{'<PAD>': 0, '<UNK>': 1, '나는': 2, '학생': 3, '입니다': 4, '좋은': 5, '선생님': 6, '당신은': 7}\n",
            "{'<PAD>': 0, '<UNK>': 1, '나는': 2, '학생': 3, '입니다': 4, '좋은': 5, '선생님': 6, '당신은': 7, '매우': 8}\n"
          ]
        }
      ]
    },
    {
      "cell_type": "code",
      "source": [
        "word_to_id.items()"
      ],
      "metadata": {
        "colab": {
          "base_uri": "https://localhost:8080/"
        },
        "id": "MGeGDx_liiK5",
        "outputId": "70c4fce0-0b3c-4077-8136-39a7351c662e"
      },
      "execution_count": 8,
      "outputs": [
        {
          "output_type": "execute_result",
          "data": {
            "text/plain": [
              "dict_items([('<PAD>', 0), ('<UNK>', 1), ('나는', 2), ('학생', 3), ('입니다', 4), ('좋은', 5), ('선생님', 6), ('당신은', 7), ('매우', 8)])"
            ]
          },
          "metadata": {},
          "execution_count": 8
        }
      ]
    },
    {
      "cell_type": "code",
      "source": [
        "id_to_words = {i : w for w,i in word_to_id.items()}"
      ],
      "metadata": {
        "id": "qMkdcjnJiu2o"
      },
      "execution_count": 9,
      "outputs": []
    },
    {
      "cell_type": "code",
      "source": [
        "print(id_to_words)"
      ],
      "metadata": {
        "colab": {
          "base_uri": "https://localhost:8080/"
        },
        "id": "QQPIDBKbi4nj",
        "outputId": "b486da4d-b3a1-4773-e870-2cb6753aeff7"
      },
      "execution_count": 10,
      "outputs": [
        {
          "output_type": "stream",
          "name": "stdout",
          "text": [
            "{0: '<PAD>', 1: '<UNK>', 2: '나는', 3: '학생', 4: '입니다', 5: '좋은', 6: '선생님', 7: '당신은', 8: '매우'}\n"
          ]
        }
      ]
    },
    {
      "cell_type": "code",
      "source": [
        "train_inputs = []\n",
        "for s in raw_inputs:\n",
        "  row = [word_to_id[w] for w in s.split()]\n",
        "\n",
        "  #padding\n",
        "  row += [0] * (5-len(row))\n",
        "  train_inputs.append(row)\n",
        "\n",
        "train_inputs = np.array(train_inputs)\n",
        "print(train_inputs)"
      ],
      "metadata": {
        "colab": {
          "base_uri": "https://localhost:8080/"
        },
        "id": "scM_KguFjG5A",
        "outputId": "aa06434c-0b67-48fe-f9f0-8c14e6c837f0"
      },
      "execution_count": 11,
      "outputs": [
        {
          "output_type": "stream",
          "name": "stdout",
          "text": [
            "[[2 3 4 0 0]\n",
            " [2 5 6 4 0]\n",
            " [7 8 5 6 4]]\n"
          ]
        }
      ]
    },
    {
      "cell_type": "markdown",
      "source": [
        "\"나는 학생 입니다\"\n",
        "\n",
        "\"나는 좋은 선생님 입니다\"\n",
        "\n",
        "\"당신은 매우 좋은 선생님 입니다\""
      ],
      "metadata": {
        "id": "PEHHXhscj0IN"
      }
    },
    {
      "cell_type": "code",
      "source": [
        "train_inputs.shape"
      ],
      "metadata": {
        "colab": {
          "base_uri": "https://localhost:8080/"
        },
        "id": "UEipVPBYj4cB",
        "outputId": "4fbcb41d-2080-40cc-8193-d6e3b7a3892e"
      },
      "execution_count": 12,
      "outputs": [
        {
          "output_type": "execute_result",
          "data": {
            "text/plain": [
              "(3, 5)"
            ]
          },
          "metadata": {},
          "execution_count": 12
        }
      ]
    },
    {
      "cell_type": "code",
      "source": [
        "# one_hot matrix 생성\n",
        "onehot_matrix = np.eye(len(word_to_id))\n",
        "print(onehot_matrix)"
      ],
      "metadata": {
        "colab": {
          "base_uri": "https://localhost:8080/"
        },
        "id": "YkLmGLdQkIdx",
        "outputId": "7a4ed973-ff38-418f-94d0-5bdb42662037"
      },
      "execution_count": 13,
      "outputs": [
        {
          "output_type": "stream",
          "name": "stdout",
          "text": [
            "[[1. 0. 0. 0. 0. 0. 0. 0. 0.]\n",
            " [0. 1. 0. 0. 0. 0. 0. 0. 0.]\n",
            " [0. 0. 1. 0. 0. 0. 0. 0. 0.]\n",
            " [0. 0. 0. 1. 0. 0. 0. 0. 0.]\n",
            " [0. 0. 0. 0. 1. 0. 0. 0. 0.]\n",
            " [0. 0. 0. 0. 0. 1. 0. 0. 0.]\n",
            " [0. 0. 0. 0. 0. 0. 1. 0. 0.]\n",
            " [0. 0. 0. 0. 0. 0. 0. 1. 0.]\n",
            " [0. 0. 0. 0. 0. 0. 0. 0. 1.]]\n"
          ]
        }
      ]
    },
    {
      "cell_type": "code",
      "source": [
        "train_onehot = onehot_matrix[train_inputs]\n",
        "print(train_onehot)"
      ],
      "metadata": {
        "colab": {
          "base_uri": "https://localhost:8080/"
        },
        "id": "Apm_rUF0lDS-",
        "outputId": "099812df-17a2-46a8-ecc1-eb7ab4cc86f3"
      },
      "execution_count": 14,
      "outputs": [
        {
          "output_type": "stream",
          "name": "stdout",
          "text": [
            "[[[0. 0. 1. 0. 0. 0. 0. 0. 0.]\n",
            "  [0. 0. 0. 1. 0. 0. 0. 0. 0.]\n",
            "  [0. 0. 0. 0. 1. 0. 0. 0. 0.]\n",
            "  [1. 0. 0. 0. 0. 0. 0. 0. 0.]\n",
            "  [1. 0. 0. 0. 0. 0. 0. 0. 0.]]\n",
            "\n",
            " [[0. 0. 1. 0. 0. 0. 0. 0. 0.]\n",
            "  [0. 0. 0. 0. 0. 1. 0. 0. 0.]\n",
            "  [0. 0. 0. 0. 0. 0. 1. 0. 0.]\n",
            "  [0. 0. 0. 0. 1. 0. 0. 0. 0.]\n",
            "  [1. 0. 0. 0. 0. 0. 0. 0. 0.]]\n",
            "\n",
            " [[0. 0. 0. 0. 0. 0. 0. 1. 0.]\n",
            "  [0. 0. 0. 0. 0. 0. 0. 0. 1.]\n",
            "  [0. 0. 0. 0. 0. 1. 0. 0. 0.]\n",
            "  [0. 0. 0. 0. 0. 0. 1. 0. 0.]\n",
            "  [0. 0. 0. 0. 1. 0. 0. 0. 0.]]]\n"
          ]
        }
      ]
    },
    {
      "cell_type": "code",
      "source": [
        "# 단어장 낭비\n",
        "# 단어들과의 관계가 모호함"
      ],
      "metadata": {
        "id": "-38kyI1ClCbx"
      },
      "execution_count": 15,
      "outputs": []
    },
    {
      "cell_type": "code",
      "source": [
        "train_onehot.shape"
      ],
      "metadata": {
        "colab": {
          "base_uri": "https://localhost:8080/"
        },
        "id": "G3Ail1DHlmJJ",
        "outputId": "fdcd9702-df46-4d6c-c1bb-fb04ae637065"
      },
      "execution_count": 16,
      "outputs": [
        {
          "output_type": "execute_result",
          "data": {
            "text/plain": [
              "(3, 5, 9)"
            ]
          },
          "metadata": {},
          "execution_count": 16
        }
      ]
    },
    {
      "cell_type": "code",
      "source": [
        "print(np.argmax(train_onehot, axis = -1)) ## (3,5,9) 중 9를 기준으로 argmax 해줘"
      ],
      "metadata": {
        "colab": {
          "base_uri": "https://localhost:8080/"
        },
        "id": "Y8MRrTDxqozW",
        "outputId": "e6cedc2d-7367-488f-ca2b-54060d3eb931"
      },
      "execution_count": 17,
      "outputs": [
        {
          "output_type": "stream",
          "name": "stdout",
          "text": [
            "[[2 3 4 0 0]\n",
            " [2 5 6 4 0]\n",
            " [7 8 5 6 4]]\n"
          ]
        }
      ]
    },
    {
      "cell_type": "code",
      "source": [
        "x = np.argmax(train_onehot, axis = -1)"
      ],
      "metadata": {
        "id": "qWWd1Xz-qo22"
      },
      "execution_count": 18,
      "outputs": []
    },
    {
      "cell_type": "code",
      "source": [
        "print(x)"
      ],
      "metadata": {
        "colab": {
          "base_uri": "https://localhost:8080/"
        },
        "id": "QdoVN5Agqo5S",
        "outputId": "0e077c39-c57b-4bb1-d288-8bd3555c6c2a"
      },
      "execution_count": 19,
      "outputs": [
        {
          "output_type": "stream",
          "name": "stdout",
          "text": [
            "[[2 3 4 0 0]\n",
            " [2 5 6 4 0]\n",
            " [7 8 5 6 4]]\n"
          ]
        }
      ]
    },
    {
      "cell_type": "code",
      "source": [
        "import tensorflow as tf\n",
        "import tensorflow.keras.layers as L"
      ],
      "metadata": {
        "id": "qOkr9Bh9qo8J"
      },
      "execution_count": 20,
      "outputs": []
    },
    {
      "cell_type": "code",
      "source": [
        "x_len = train_onehot.shape"
      ],
      "metadata": {
        "id": "khoNa8tNqo-p"
      },
      "execution_count": 21,
      "outputs": []
    },
    {
      "cell_type": "code",
      "source": [
        "print(x_len)"
      ],
      "metadata": {
        "colab": {
          "base_uri": "https://localhost:8080/"
        },
        "id": "y1vEidvMrYu5",
        "outputId": "43921f3a-d73a-4c7a-c8df-8b32168d92c0"
      },
      "execution_count": 22,
      "outputs": [
        {
          "output_type": "stream",
          "name": "stdout",
          "text": [
            "(3, 5, 9)\n"
          ]
        }
      ]
    },
    {
      "cell_type": "code",
      "source": [
        "inp = tf.convert_to_tensor(x, dtype = tf.int32)\n",
        "inp_len = tf.convert_to_tensor(x_len, dtype = tf.int32)"
      ],
      "metadata": {
        "id": "UrieKwrJrcLU"
      },
      "execution_count": 23,
      "outputs": []
    },
    {
      "cell_type": "code",
      "source": [
        "print(inp)\n",
        "print(inp_len)"
      ],
      "metadata": {
        "colab": {
          "base_uri": "https://localhost:8080/"
        },
        "id": "iwVX0kYgrcdR",
        "outputId": "ce735259-eab9-40b2-ab58-cf3612e054c5"
      },
      "execution_count": 24,
      "outputs": [
        {
          "output_type": "stream",
          "name": "stdout",
          "text": [
            "tf.Tensor(\n",
            "[[2 3 4 0 0]\n",
            " [2 5 6 4 0]\n",
            " [7 8 5 6 4]], shape=(3, 5), dtype=int32)\n",
            "tf.Tensor([3 5 9], shape=(3,), dtype=int32)\n"
          ]
        }
      ]
    },
    {
      "cell_type": "code",
      "source": [
        "inp, inp_len"
      ],
      "metadata": {
        "colab": {
          "base_uri": "https://localhost:8080/"
        },
        "id": "fzTPQbnrrcfn",
        "outputId": "fb3656e9-ccd7-4efd-d9c0-f0dd2eb4ded3"
      },
      "execution_count": 25,
      "outputs": [
        {
          "output_type": "execute_result",
          "data": {
            "text/plain": [
              "(<tf.Tensor: shape=(3, 5), dtype=int32, numpy=\n",
              " array([[2, 3, 4, 0, 0],\n",
              "        [2, 5, 6, 4, 0],\n",
              "        [7, 8, 5, 6, 4]], dtype=int32)>,\n",
              " <tf.Tensor: shape=(3,), dtype=int32, numpy=array([3, 5, 9], dtype=int32)>)"
            ]
          },
          "metadata": {},
          "execution_count": 25
        }
      ]
    },
    {
      "cell_type": "code",
      "source": [
        "vocab_size = 1000\n",
        "dim = 3\n",
        "embed = L.Embedding(vocab_size,dim)"
      ],
      "metadata": {
        "id": "LXRDPphbrciA"
      },
      "execution_count": 26,
      "outputs": []
    },
    {
      "cell_type": "code",
      "source": [
        "# Embedding 벡터화/ 3차원으로 단어를 줄임 원래는 9"
      ],
      "metadata": {
        "id": "0rVVrqPcsWMp"
      },
      "execution_count": 27,
      "outputs": []
    },
    {
      "cell_type": "code",
      "source": [
        "embed(inp) # [[나는]/[학생]/[입니다]/[0]/[0]] "
      ],
      "metadata": {
        "colab": {
          "base_uri": "https://localhost:8080/"
        },
        "id": "KzjBl3hDsQqR",
        "outputId": "fb5fa3bc-2b90-43e3-8822-86adfbf0d55b"
      },
      "execution_count": 28,
      "outputs": [
        {
          "output_type": "execute_result",
          "data": {
            "text/plain": [
              "<tf.Tensor: shape=(3, 5, 3), dtype=float32, numpy=\n",
              "array([[[-0.01377134,  0.020596  , -0.00447585],\n",
              "        [-0.01042675,  0.018038  , -0.01222377],\n",
              "        [ 0.04746716, -0.04194029,  0.0424747 ],\n",
              "        [ 0.03713474, -0.01147256,  0.03805529],\n",
              "        [ 0.03713474, -0.01147256,  0.03805529]],\n",
              "\n",
              "       [[-0.01377134,  0.020596  , -0.00447585],\n",
              "        [ 0.03498605,  0.02027135, -0.0228272 ],\n",
              "        [ 0.00611824,  0.02324781, -0.02459492],\n",
              "        [ 0.04746716, -0.04194029,  0.0424747 ],\n",
              "        [ 0.03713474, -0.01147256,  0.03805529]],\n",
              "\n",
              "       [[ 0.01441821, -0.01875176,  0.02144097],\n",
              "        [ 0.03856098,  0.01353032, -0.01130164],\n",
              "        [ 0.03498605,  0.02027135, -0.0228272 ],\n",
              "        [ 0.00611824,  0.02324781, -0.02459492],\n",
              "        [ 0.04746716, -0.04194029,  0.0424747 ]]], dtype=float32)>"
            ]
          },
          "metadata": {},
          "execution_count": 28
        }
      ]
    },
    {
      "cell_type": "markdown",
      "source": [
        "# word2vec\n",
        "https://dreamgonfly.github.io/blog/word2vec-explained/"
      ],
      "metadata": {
        "id": "3edGx-mlZPIL"
      }
    },
    {
      "cell_type": "code",
      "source": [
        "from nltk.corpus import abc\n",
        "import nltk\n",
        "nltk.download('abc')\n",
        "nltk.download('punkt')"
      ],
      "metadata": {
        "colab": {
          "base_uri": "https://localhost:8080/"
        },
        "id": "9V9VhPlcZQ8U",
        "outputId": "c1f0fdb7-71e4-4334-fe3f-61e5692512d4"
      },
      "execution_count": 24,
      "outputs": [
        {
          "output_type": "stream",
          "name": "stdout",
          "text": [
            "[nltk_data] Downloading package abc to /root/nltk_data...\n",
            "[nltk_data]   Package abc is already up-to-date!\n",
            "[nltk_data] Downloading package punkt to /root/nltk_data...\n",
            "[nltk_data]   Package punkt is already up-to-date!\n"
          ]
        },
        {
          "output_type": "execute_result",
          "data": {
            "text/plain": [
              "True"
            ]
          },
          "metadata": {},
          "execution_count": 24
        }
      ]
    },
    {
      "cell_type": "code",
      "source": [
        "corpus = abc.sents()"
      ],
      "metadata": {
        "id": "zZUuzJsMZZ00"
      },
      "execution_count": 25,
      "outputs": []
    },
    {
      "cell_type": "code",
      "source": [
        "print(corpus[:3])"
      ],
      "metadata": {
        "colab": {
          "base_uri": "https://localhost:8080/"
        },
        "id": "IbUtRjoLZgmr",
        "outputId": "42c40666-728c-41af-aea9-60b09454e883"
      },
      "execution_count": 26,
      "outputs": [
        {
          "output_type": "stream",
          "name": "stdout",
          "text": [
            "[['PM', 'denies', 'knowledge', 'of', 'AWB', 'kickbacks', 'The', 'Prime', 'Minister', 'has', 'denied', 'he', 'knew', 'AWB', 'was', 'paying', 'kickbacks', 'to', 'Iraq', 'despite', 'writing', 'to', 'the', 'wheat', 'exporter', 'asking', 'to', 'be', 'kept', 'fully', 'informed', 'on', 'Iraq', 'wheat', 'sales', '.'], ['Letters', 'from', 'John', 'Howard', 'and', 'Deputy', 'Prime', 'Minister', 'Mark', 'Vaile', 'to', 'AWB', 'have', 'been', 'released', 'by', 'the', 'Cole', 'inquiry', 'into', 'the', 'oil', 'for', 'food', 'program', '.'], ['In', 'one', 'of', 'the', 'letters', 'Mr', 'Howard', 'asks', 'AWB', 'managing', 'director', 'Andrew', 'Lindberg', 'to', 'remain', 'in', 'close', 'contact', 'with', 'the', 'Government', 'on', 'Iraq', 'wheat', 'sales', '.']]\n"
          ]
        }
      ]
    },
    {
      "cell_type": "code",
      "source": [
        "print('코퍼스의 크기 :', len(corpus))"
      ],
      "metadata": {
        "colab": {
          "base_uri": "https://localhost:8080/"
        },
        "id": "NEqVBXmxZqda",
        "outputId": "19eaf9a8-d5f0-476a-a4ca-f2aee4ee4326"
      },
      "execution_count": 27,
      "outputs": [
        {
          "output_type": "stream",
          "name": "stdout",
          "text": [
            "코퍼스의 크기 : 29059\n"
          ]
        }
      ]
    },
    {
      "cell_type": "code",
      "source": [
        "from gensim.models import Word2Vec\n",
        "model = Word2Vec(sentences = corpus, size = 100, window = 5, min_count = 5, workers = 4, sg=0)\n",
        "# size = 워드 벡터의 특징 값, 임베딩 된 벡터의 차원\n",
        "# window = context window의 크기 (중심단어 앞뒤로 n개씩)\n",
        "# min_count = 단어의 최소 빈도 수 제한(빈도가 적은 단어들은 학습하지 않는다.)\n",
        "# workers = 학습을 위한 프로세스 수\n",
        "# sg =0은 CBOW, 1은 Skip_gram"
      ],
      "metadata": {
        "id": "Sw1OnxHwZ5tb"
      },
      "execution_count": 28,
      "outputs": []
    },
    {
      "cell_type": "code",
      "source": [
        "# word2vec = 입력한 단어에 대해서 가장 유사한 단어들을 출력하는 model.wv.most_similar을 지원합니다.\n",
        "model_result = model.wv.most_similar('man')"
      ],
      "metadata": {
        "id": "ZiUXiKxXak3T"
      },
      "execution_count": 34,
      "outputs": []
    },
    {
      "cell_type": "code",
      "source": [
        "print(model_result)"
      ],
      "metadata": {
        "colab": {
          "base_uri": "https://localhost:8080/"
        },
        "id": "5ZvfzCE-ak_M",
        "outputId": "c58ab76b-ba33-44ff-abc6-fe87a85c4375"
      },
      "execution_count": 37,
      "outputs": [
        {
          "output_type": "stream",
          "name": "stdout",
          "text": [
            "[('woman', 0.9333946108818054), ('Bang', 0.9241726398468018), ('asteroid', 0.9185928702354431), ('third', 0.9184460639953613), ('skull', 0.9135705828666687), ('rally', 0.9093400835990906), ('dinosaur', 0.9043806195259094), ('infant', 0.9021029472351074), ('baby', 0.9013645648956299), ('dog', 0.9000855684280396)]\n"
          ]
        }
      ]
    },
    {
      "cell_type": "code",
      "source": [
        "from gensim.models import KeyedVectors\n",
        "\n",
        "# 저장\n",
        "model.wv.save_word2vec_format('./w2v')"
      ],
      "metadata": {
        "id": "3PPRkG2yalCx"
      },
      "execution_count": 38,
      "outputs": []
    },
    {
      "cell_type": "code",
      "source": [
        "loaded_model = KeyedVectors.load_word2vec_format('./w2v')\n",
        "print('모델 load 완료')"
      ],
      "metadata": {
        "colab": {
          "base_uri": "https://localhost:8080/"
        },
        "id": "ruEiUi9falEq",
        "outputId": "b5463ee3-8e4f-4854-da52-e900e349eee1"
      },
      "execution_count": 39,
      "outputs": [
        {
          "output_type": "stream",
          "name": "stdout",
          "text": [
            "모델 load 완료\n"
          ]
        }
      ]
    },
    {
      "cell_type": "code",
      "source": [
        "loaded_model.wv.most_similar('man')\n",
        "print(model_result)"
      ],
      "metadata": {
        "colab": {
          "base_uri": "https://localhost:8080/"
        },
        "id": "O8wMXIBabxK7",
        "outputId": "b95d7207-b006-4939-da3d-d89b074fd6ad"
      },
      "execution_count": 40,
      "outputs": [
        {
          "output_type": "stream",
          "name": "stdout",
          "text": [
            "[('woman', 0.9333946108818054), ('Bang', 0.9241726398468018), ('asteroid', 0.9185928702354431), ('third', 0.9184460639953613), ('skull', 0.9135705828666687), ('rally', 0.9093400835990906), ('dinosaur', 0.9043806195259094), ('infant', 0.9021029472351074), ('baby', 0.9013645648956299), ('dog', 0.9000855684280396)]\n"
          ]
        },
        {
          "output_type": "stream",
          "name": "stderr",
          "text": [
            "/usr/local/lib/python3.7/dist-packages/ipykernel_launcher.py:1: DeprecationWarning: Call to deprecated `wv` (Attribute will be removed in 4.0.0, use self instead).\n",
            "  \"\"\"Entry point for launching an IPython kernel.\n"
          ]
        }
      ]
    },
    {
      "cell_type": "code",
      "source": [
        "loaded_model.most_similar('overacting')"
      ],
      "metadata": {
        "colab": {
          "base_uri": "https://localhost:8080/",
          "height": 323
        },
        "id": "tK_alYZXcLuj",
        "outputId": "4796566d-bed5-4ee3-f848-8ee5f49c4e04"
      },
      "execution_count": 41,
      "outputs": [
        {
          "output_type": "error",
          "ename": "KeyError",
          "evalue": "ignored",
          "traceback": [
            "\u001b[0;31m---------------------------------------------------------------------------\u001b[0m",
            "\u001b[0;31mKeyError\u001b[0m                                  Traceback (most recent call last)",
            "\u001b[0;32m<ipython-input-41-df825cbe5aee>\u001b[0m in \u001b[0;36m<module>\u001b[0;34m()\u001b[0m\n\u001b[0;32m----> 1\u001b[0;31m \u001b[0mloaded_model\u001b[0m\u001b[0;34m.\u001b[0m\u001b[0mmost_similar\u001b[0m\u001b[0;34m(\u001b[0m\u001b[0;34m'overacting'\u001b[0m\u001b[0;34m)\u001b[0m\u001b[0;34m\u001b[0m\u001b[0;34m\u001b[0m\u001b[0m\n\u001b[0m",
            "\u001b[0;32m/usr/local/lib/python3.7/dist-packages/gensim/models/keyedvectors.py\u001b[0m in \u001b[0;36mmost_similar\u001b[0;34m(self, positive, negative, topn, restrict_vocab, indexer)\u001b[0m\n\u001b[1;32m    529\u001b[0m                 \u001b[0mmean\u001b[0m\u001b[0;34m.\u001b[0m\u001b[0mappend\u001b[0m\u001b[0;34m(\u001b[0m\u001b[0mweight\u001b[0m \u001b[0;34m*\u001b[0m \u001b[0mword\u001b[0m\u001b[0;34m)\u001b[0m\u001b[0;34m\u001b[0m\u001b[0;34m\u001b[0m\u001b[0m\n\u001b[1;32m    530\u001b[0m             \u001b[0;32melse\u001b[0m\u001b[0;34m:\u001b[0m\u001b[0;34m\u001b[0m\u001b[0;34m\u001b[0m\u001b[0m\n\u001b[0;32m--> 531\u001b[0;31m                 \u001b[0mmean\u001b[0m\u001b[0;34m.\u001b[0m\u001b[0mappend\u001b[0m\u001b[0;34m(\u001b[0m\u001b[0mweight\u001b[0m \u001b[0;34m*\u001b[0m \u001b[0mself\u001b[0m\u001b[0;34m.\u001b[0m\u001b[0mword_vec\u001b[0m\u001b[0;34m(\u001b[0m\u001b[0mword\u001b[0m\u001b[0;34m,\u001b[0m \u001b[0muse_norm\u001b[0m\u001b[0;34m=\u001b[0m\u001b[0;32mTrue\u001b[0m\u001b[0;34m)\u001b[0m\u001b[0;34m)\u001b[0m\u001b[0;34m\u001b[0m\u001b[0;34m\u001b[0m\u001b[0m\n\u001b[0m\u001b[1;32m    532\u001b[0m                 \u001b[0;32mif\u001b[0m \u001b[0mword\u001b[0m \u001b[0;32min\u001b[0m \u001b[0mself\u001b[0m\u001b[0;34m.\u001b[0m\u001b[0mvocab\u001b[0m\u001b[0;34m:\u001b[0m\u001b[0;34m\u001b[0m\u001b[0;34m\u001b[0m\u001b[0m\n\u001b[1;32m    533\u001b[0m                     \u001b[0mall_words\u001b[0m\u001b[0;34m.\u001b[0m\u001b[0madd\u001b[0m\u001b[0;34m(\u001b[0m\u001b[0mself\u001b[0m\u001b[0;34m.\u001b[0m\u001b[0mvocab\u001b[0m\u001b[0;34m[\u001b[0m\u001b[0mword\u001b[0m\u001b[0;34m]\u001b[0m\u001b[0;34m.\u001b[0m\u001b[0mindex\u001b[0m\u001b[0;34m)\u001b[0m\u001b[0;34m\u001b[0m\u001b[0;34m\u001b[0m\u001b[0m\n",
            "\u001b[0;32m/usr/local/lib/python3.7/dist-packages/gensim/models/keyedvectors.py\u001b[0m in \u001b[0;36mword_vec\u001b[0;34m(self, word, use_norm)\u001b[0m\n\u001b[1;32m    450\u001b[0m             \u001b[0;32mreturn\u001b[0m \u001b[0mresult\u001b[0m\u001b[0;34m\u001b[0m\u001b[0;34m\u001b[0m\u001b[0m\n\u001b[1;32m    451\u001b[0m         \u001b[0;32melse\u001b[0m\u001b[0;34m:\u001b[0m\u001b[0;34m\u001b[0m\u001b[0;34m\u001b[0m\u001b[0m\n\u001b[0;32m--> 452\u001b[0;31m             \u001b[0;32mraise\u001b[0m \u001b[0mKeyError\u001b[0m\u001b[0;34m(\u001b[0m\u001b[0;34m\"word '%s' not in vocabulary\"\u001b[0m \u001b[0;34m%\u001b[0m \u001b[0mword\u001b[0m\u001b[0;34m)\u001b[0m\u001b[0;34m\u001b[0m\u001b[0;34m\u001b[0m\u001b[0m\n\u001b[0m\u001b[1;32m    453\u001b[0m \u001b[0;34m\u001b[0m\u001b[0m\n\u001b[1;32m    454\u001b[0m     \u001b[0;32mdef\u001b[0m \u001b[0mget_vector\u001b[0m\u001b[0;34m(\u001b[0m\u001b[0mself\u001b[0m\u001b[0;34m,\u001b[0m \u001b[0mword\u001b[0m\u001b[0;34m)\u001b[0m\u001b[0;34m:\u001b[0m\u001b[0;34m\u001b[0m\u001b[0;34m\u001b[0m\u001b[0m\n",
            "\u001b[0;31mKeyError\u001b[0m: \"word 'overacting' not in vocabulary\""
          ]
        }
      ]
    },
    {
      "cell_type": "code",
      "source": [
        "loaded_model.most_similar('memory')"
      ],
      "metadata": {
        "colab": {
          "base_uri": "https://localhost:8080/"
        },
        "id": "0haZA1QWcS2L",
        "outputId": "8fd6e8ce-da01-40fb-dd74-a1bb06fce6ef"
      },
      "execution_count": 42,
      "outputs": [
        {
          "output_type": "execute_result",
          "data": {
            "text/plain": [
              "[('video', 0.9692909717559814),\n",
              " ('lifting', 0.9692240953445435),\n",
              " ('structures', 0.9681507349014282),\n",
              " ('infection', 0.9678928256034851),\n",
              " ('semen', 0.9675449728965759),\n",
              " ('chasing', 0.9674761891365051),\n",
              " ('springs', 0.9662615060806274),\n",
              " ('jolt', 0.9659984111785889),\n",
              " ('movie', 0.9659576416015625),\n",
              " ('protective', 0.9656355381011963)]"
            ]
          },
          "metadata": {},
          "execution_count": 42
        }
      ]
    },
    {
      "cell_type": "markdown",
      "source": [
        "# word2vec"
      ],
      "metadata": {
        "id": "568LXkL6iGkz"
      }
    },
    {
      "cell_type": "markdown",
      "source": [
        "# abc 뉴스데이터로 word2vec"
      ],
      "metadata": {
        "id": "XJuR5TbciQc8"
      }
    },
    {
      "cell_type": "markdown",
      "source": [
        "## 한국어 word2vec 만들기\n"
      ],
      "metadata": {
        "id": "WpzSZhsSi1Zz"
      }
    },
    {
      "cell_type": "code",
      "source": [
        "!pip install konlpy"
      ],
      "metadata": {
        "colab": {
          "base_uri": "https://localhost:8080/"
        },
        "id": "ajYKmA23iGbU",
        "outputId": "0ee91eb5-d4a7-45ed-936c-b9f5f973efb1"
      },
      "execution_count": 43,
      "outputs": [
        {
          "output_type": "stream",
          "name": "stdout",
          "text": [
            "Collecting konlpy\n",
            "  Downloading konlpy-0.6.0-py2.py3-none-any.whl (19.4 MB)\n",
            "\u001b[K     |████████████████████████████████| 19.4 MB 412 kB/s \n",
            "\u001b[?25hCollecting JPype1>=0.7.0\n",
            "  Downloading JPype1-1.4.0-cp37-cp37m-manylinux_2_5_x86_64.manylinux1_x86_64.whl (453 kB)\n",
            "\u001b[K     |████████████████████████████████| 453 kB 67.0 MB/s \n",
            "\u001b[?25hRequirement already satisfied: numpy>=1.6 in /usr/local/lib/python3.7/dist-packages (from konlpy) (1.21.6)\n",
            "Requirement already satisfied: lxml>=4.1.0 in /usr/local/lib/python3.7/dist-packages (from konlpy) (4.2.6)\n",
            "Requirement already satisfied: typing-extensions in /usr/local/lib/python3.7/dist-packages (from JPype1>=0.7.0->konlpy) (4.2.0)\n",
            "Installing collected packages: JPype1, konlpy\n",
            "Successfully installed JPype1-1.4.0 konlpy-0.6.0\n"
          ]
        }
      ]
    },
    {
      "cell_type": "code",
      "source": [
        "import pandas as pd\n",
        "import matplotlib.pyplot as plt\n",
        "import urllib.request\n",
        "from gensim.models.word2vec import Word2Vec\n",
        "from konlpy.tag import Okt"
      ],
      "metadata": {
        "id": "xnaevIEWh77b"
      },
      "execution_count": 44,
      "outputs": []
    },
    {
      "cell_type": "code",
      "source": [
        "urllib.request.urlretrieve(\"https://raw.githubusercontent.com/e9t/nsmc/master/ratings.txt\", filename=\"ratings.txt\")"
      ],
      "metadata": {
        "colab": {
          "base_uri": "https://localhost:8080/"
        },
        "id": "yRehSg1bi_YM",
        "outputId": "e29b8c97-5f53-4a0c-9278-e1edcc562a14"
      },
      "execution_count": 58,
      "outputs": [
        {
          "output_type": "execute_result",
          "data": {
            "text/plain": [
              "('ratings.txt', <http.client.HTTPMessage at 0x7f5e2d785e90>)"
            ]
          },
          "metadata": {},
          "execution_count": 58
        }
      ]
    },
    {
      "cell_type": "code",
      "source": [
        "train_data = pd.read_table('ratings.txt')"
      ],
      "metadata": {
        "id": "CTrHJFJFjBiQ"
      },
      "execution_count": 59,
      "outputs": []
    },
    {
      "cell_type": "code",
      "source": [
        "train_data[:5]"
      ],
      "metadata": {
        "colab": {
          "base_uri": "https://localhost:8080/",
          "height": 206
        },
        "id": "bg0HyMwcjFDQ",
        "outputId": "82b2e15a-3584-4580-feb6-03a83f8b3066"
      },
      "execution_count": 60,
      "outputs": [
        {
          "output_type": "execute_result",
          "data": {
            "text/plain": [
              "         id                                           document  label\n",
              "0   8112052                                어릴때보고 지금다시봐도 재밌어요ㅋㅋ      1\n",
              "1   8132799  디자인을 배우는 학생으로, 외국디자이너와 그들이 일군 전통을 통해 발전해가는 문화산...      1\n",
              "2   4655635               폴리스스토리 시리즈는 1부터 뉴까지 버릴께 하나도 없음.. 최고.      1\n",
              "3   9251303  와.. 연기가 진짜 개쩔구나.. 지루할거라고 생각했는데 몰입해서 봤다.. 그래 이런...      1\n",
              "4  10067386                        안개 자욱한 밤하늘에 떠 있는 초승달 같은 영화.      1"
            ],
            "text/html": [
              "\n",
              "  <div id=\"df-a9c34e44-3883-479f-9c0e-f490e166162b\">\n",
              "    <div class=\"colab-df-container\">\n",
              "      <div>\n",
              "<style scoped>\n",
              "    .dataframe tbody tr th:only-of-type {\n",
              "        vertical-align: middle;\n",
              "    }\n",
              "\n",
              "    .dataframe tbody tr th {\n",
              "        vertical-align: top;\n",
              "    }\n",
              "\n",
              "    .dataframe thead th {\n",
              "        text-align: right;\n",
              "    }\n",
              "</style>\n",
              "<table border=\"1\" class=\"dataframe\">\n",
              "  <thead>\n",
              "    <tr style=\"text-align: right;\">\n",
              "      <th></th>\n",
              "      <th>id</th>\n",
              "      <th>document</th>\n",
              "      <th>label</th>\n",
              "    </tr>\n",
              "  </thead>\n",
              "  <tbody>\n",
              "    <tr>\n",
              "      <th>0</th>\n",
              "      <td>8112052</td>\n",
              "      <td>어릴때보고 지금다시봐도 재밌어요ㅋㅋ</td>\n",
              "      <td>1</td>\n",
              "    </tr>\n",
              "    <tr>\n",
              "      <th>1</th>\n",
              "      <td>8132799</td>\n",
              "      <td>디자인을 배우는 학생으로, 외국디자이너와 그들이 일군 전통을 통해 발전해가는 문화산...</td>\n",
              "      <td>1</td>\n",
              "    </tr>\n",
              "    <tr>\n",
              "      <th>2</th>\n",
              "      <td>4655635</td>\n",
              "      <td>폴리스스토리 시리즈는 1부터 뉴까지 버릴께 하나도 없음.. 최고.</td>\n",
              "      <td>1</td>\n",
              "    </tr>\n",
              "    <tr>\n",
              "      <th>3</th>\n",
              "      <td>9251303</td>\n",
              "      <td>와.. 연기가 진짜 개쩔구나.. 지루할거라고 생각했는데 몰입해서 봤다.. 그래 이런...</td>\n",
              "      <td>1</td>\n",
              "    </tr>\n",
              "    <tr>\n",
              "      <th>4</th>\n",
              "      <td>10067386</td>\n",
              "      <td>안개 자욱한 밤하늘에 떠 있는 초승달 같은 영화.</td>\n",
              "      <td>1</td>\n",
              "    </tr>\n",
              "  </tbody>\n",
              "</table>\n",
              "</div>\n",
              "      <button class=\"colab-df-convert\" onclick=\"convertToInteractive('df-a9c34e44-3883-479f-9c0e-f490e166162b')\"\n",
              "              title=\"Convert this dataframe to an interactive table.\"\n",
              "              style=\"display:none;\">\n",
              "        \n",
              "  <svg xmlns=\"http://www.w3.org/2000/svg\" height=\"24px\"viewBox=\"0 0 24 24\"\n",
              "       width=\"24px\">\n",
              "    <path d=\"M0 0h24v24H0V0z\" fill=\"none\"/>\n",
              "    <path d=\"M18.56 5.44l.94 2.06.94-2.06 2.06-.94-2.06-.94-.94-2.06-.94 2.06-2.06.94zm-11 1L8.5 8.5l.94-2.06 2.06-.94-2.06-.94L8.5 2.5l-.94 2.06-2.06.94zm10 10l.94 2.06.94-2.06 2.06-.94-2.06-.94-.94-2.06-.94 2.06-2.06.94z\"/><path d=\"M17.41 7.96l-1.37-1.37c-.4-.4-.92-.59-1.43-.59-.52 0-1.04.2-1.43.59L10.3 9.45l-7.72 7.72c-.78.78-.78 2.05 0 2.83L4 21.41c.39.39.9.59 1.41.59.51 0 1.02-.2 1.41-.59l7.78-7.78 2.81-2.81c.8-.78.8-2.07 0-2.86zM5.41 20L4 18.59l7.72-7.72 1.47 1.35L5.41 20z\"/>\n",
              "  </svg>\n",
              "      </button>\n",
              "      \n",
              "  <style>\n",
              "    .colab-df-container {\n",
              "      display:flex;\n",
              "      flex-wrap:wrap;\n",
              "      gap: 12px;\n",
              "    }\n",
              "\n",
              "    .colab-df-convert {\n",
              "      background-color: #E8F0FE;\n",
              "      border: none;\n",
              "      border-radius: 50%;\n",
              "      cursor: pointer;\n",
              "      display: none;\n",
              "      fill: #1967D2;\n",
              "      height: 32px;\n",
              "      padding: 0 0 0 0;\n",
              "      width: 32px;\n",
              "    }\n",
              "\n",
              "    .colab-df-convert:hover {\n",
              "      background-color: #E2EBFA;\n",
              "      box-shadow: 0px 1px 2px rgba(60, 64, 67, 0.3), 0px 1px 3px 1px rgba(60, 64, 67, 0.15);\n",
              "      fill: #174EA6;\n",
              "    }\n",
              "\n",
              "    [theme=dark] .colab-df-convert {\n",
              "      background-color: #3B4455;\n",
              "      fill: #D2E3FC;\n",
              "    }\n",
              "\n",
              "    [theme=dark] .colab-df-convert:hover {\n",
              "      background-color: #434B5C;\n",
              "      box-shadow: 0px 1px 3px 1px rgba(0, 0, 0, 0.15);\n",
              "      filter: drop-shadow(0px 1px 2px rgba(0, 0, 0, 0.3));\n",
              "      fill: #FFFFFF;\n",
              "    }\n",
              "  </style>\n",
              "\n",
              "      <script>\n",
              "        const buttonEl =\n",
              "          document.querySelector('#df-a9c34e44-3883-479f-9c0e-f490e166162b button.colab-df-convert');\n",
              "        buttonEl.style.display =\n",
              "          google.colab.kernel.accessAllowed ? 'block' : 'none';\n",
              "\n",
              "        async function convertToInteractive(key) {\n",
              "          const element = document.querySelector('#df-a9c34e44-3883-479f-9c0e-f490e166162b');\n",
              "          const dataTable =\n",
              "            await google.colab.kernel.invokeFunction('convertToInteractive',\n",
              "                                                     [key], {});\n",
              "          if (!dataTable) return;\n",
              "\n",
              "          const docLinkHtml = 'Like what you see? Visit the ' +\n",
              "            '<a target=\"_blank\" href=https://colab.research.google.com/notebooks/data_table.ipynb>data table notebook</a>'\n",
              "            + ' to learn more about interactive tables.';\n",
              "          element.innerHTML = '';\n",
              "          dataTable['output_type'] = 'display_data';\n",
              "          await google.colab.output.renderOutput(dataTable, element);\n",
              "          const docLink = document.createElement('div');\n",
              "          docLink.innerHTML = docLinkHtml;\n",
              "          element.appendChild(docLink);\n",
              "        }\n",
              "      </script>\n",
              "    </div>\n",
              "  </div>\n",
              "  "
            ]
          },
          "metadata": {},
          "execution_count": 60
        }
      ]
    },
    {
      "cell_type": "code",
      "source": [
        "print(len(train_data))"
      ],
      "metadata": {
        "colab": {
          "base_uri": "https://localhost:8080/"
        },
        "id": "-6g1qeQdjP0h",
        "outputId": "fc7b80e7-4c19-42ba-96ce-5fd4935b7492"
      },
      "execution_count": 61,
      "outputs": [
        {
          "output_type": "stream",
          "name": "stdout",
          "text": [
            "200000\n"
          ]
        }
      ]
    },
    {
      "cell_type": "code",
      "source": [
        "#Null값의 존재 유무확인\n",
        "print(train_data.isnull().values.any())"
      ],
      "metadata": {
        "colab": {
          "base_uri": "https://localhost:8080/"
        },
        "id": "fi9VegF9jRoj",
        "outputId": "628d251e-90da-4fcf-f087-ac87a057a650"
      },
      "execution_count": 62,
      "outputs": [
        {
          "output_type": "stream",
          "name": "stdout",
          "text": [
            "True\n"
          ]
        }
      ]
    },
    {
      "cell_type": "code",
      "source": [
        "#Null값이 존재하는 행 제거\n",
        "train_data = train_data.dropna(how ='any')\n",
        "print(train_data.isnull().values.any())"
      ],
      "metadata": {
        "colab": {
          "base_uri": "https://localhost:8080/"
        },
        "id": "FwunFA1jjS32",
        "outputId": "da0a3c9c-6a79-4731-b823-b00f9661e70f"
      },
      "execution_count": 63,
      "outputs": [
        {
          "output_type": "stream",
          "name": "stdout",
          "text": [
            "False\n"
          ]
        }
      ]
    },
    {
      "cell_type": "code",
      "source": [
        "print(len(train_data))"
      ],
      "metadata": {
        "colab": {
          "base_uri": "https://localhost:8080/"
        },
        "id": "pq_F0uqkjwEI",
        "outputId": "25f188fe-8ee2-4978-ff9e-a06de9342302"
      },
      "execution_count": 64,
      "outputs": [
        {
          "output_type": "stream",
          "name": "stdout",
          "text": [
            "199992\n"
          ]
        }
      ]
    },
    {
      "cell_type": "code",
      "source": [
        "train_data['document'] = train_data['document'].str.replace('[^ㄱ-ㅎㅏ-ㅣ가-힣 ]',\"\")"
      ],
      "metadata": {
        "colab": {
          "base_uri": "https://localhost:8080/"
        },
        "id": "vs6bcbapj4Tz",
        "outputId": "50a6fa3a-7969-45fc-ca0b-a709c71f5a1a"
      },
      "execution_count": 65,
      "outputs": [
        {
          "output_type": "stream",
          "name": "stderr",
          "text": [
            "/usr/local/lib/python3.7/dist-packages/ipykernel_launcher.py:1: FutureWarning: The default value of regex will change from True to False in a future version.\n",
            "  \"\"\"Entry point for launching an IPython kernel.\n"
          ]
        }
      ]
    },
    {
      "cell_type": "code",
      "source": [
        "train_data[:5]"
      ],
      "metadata": {
        "colab": {
          "base_uri": "https://localhost:8080/",
          "height": 206
        },
        "id": "6EynponskLqj",
        "outputId": "30d0be79-cbac-40a9-9b34-a207ff75bb17"
      },
      "execution_count": 66,
      "outputs": [
        {
          "output_type": "execute_result",
          "data": {
            "text/plain": [
              "         id                                           document  label\n",
              "0   8112052                                  어릴때보고지금다시봐도재밌어요ㅋㅋ      1\n",
              "1   8132799  디자인을배우는학생으로외국디자이너와그들이일군전통을통해발전해가는문화산업이부러웠는데사실우...      1\n",
              "2   4655635                          폴리스스토리시리즈는부터뉴까지버릴께하나도없음최고      1\n",
              "3   9251303              와연기가진짜개쩔구나지루할거라고생각했는데몰입해서봤다그래이런게진짜영화지      1\n",
              "4  10067386                                안개자욱한밤하늘에떠있는초승달같은영화      1"
            ],
            "text/html": [
              "\n",
              "  <div id=\"df-2575f22f-6234-4845-ab5e-3b9fdb65714e\">\n",
              "    <div class=\"colab-df-container\">\n",
              "      <div>\n",
              "<style scoped>\n",
              "    .dataframe tbody tr th:only-of-type {\n",
              "        vertical-align: middle;\n",
              "    }\n",
              "\n",
              "    .dataframe tbody tr th {\n",
              "        vertical-align: top;\n",
              "    }\n",
              "\n",
              "    .dataframe thead th {\n",
              "        text-align: right;\n",
              "    }\n",
              "</style>\n",
              "<table border=\"1\" class=\"dataframe\">\n",
              "  <thead>\n",
              "    <tr style=\"text-align: right;\">\n",
              "      <th></th>\n",
              "      <th>id</th>\n",
              "      <th>document</th>\n",
              "      <th>label</th>\n",
              "    </tr>\n",
              "  </thead>\n",
              "  <tbody>\n",
              "    <tr>\n",
              "      <th>0</th>\n",
              "      <td>8112052</td>\n",
              "      <td>어릴때보고지금다시봐도재밌어요ㅋㅋ</td>\n",
              "      <td>1</td>\n",
              "    </tr>\n",
              "    <tr>\n",
              "      <th>1</th>\n",
              "      <td>8132799</td>\n",
              "      <td>디자인을배우는학생으로외국디자이너와그들이일군전통을통해발전해가는문화산업이부러웠는데사실우...</td>\n",
              "      <td>1</td>\n",
              "    </tr>\n",
              "    <tr>\n",
              "      <th>2</th>\n",
              "      <td>4655635</td>\n",
              "      <td>폴리스스토리시리즈는부터뉴까지버릴께하나도없음최고</td>\n",
              "      <td>1</td>\n",
              "    </tr>\n",
              "    <tr>\n",
              "      <th>3</th>\n",
              "      <td>9251303</td>\n",
              "      <td>와연기가진짜개쩔구나지루할거라고생각했는데몰입해서봤다그래이런게진짜영화지</td>\n",
              "      <td>1</td>\n",
              "    </tr>\n",
              "    <tr>\n",
              "      <th>4</th>\n",
              "      <td>10067386</td>\n",
              "      <td>안개자욱한밤하늘에떠있는초승달같은영화</td>\n",
              "      <td>1</td>\n",
              "    </tr>\n",
              "  </tbody>\n",
              "</table>\n",
              "</div>\n",
              "      <button class=\"colab-df-convert\" onclick=\"convertToInteractive('df-2575f22f-6234-4845-ab5e-3b9fdb65714e')\"\n",
              "              title=\"Convert this dataframe to an interactive table.\"\n",
              "              style=\"display:none;\">\n",
              "        \n",
              "  <svg xmlns=\"http://www.w3.org/2000/svg\" height=\"24px\"viewBox=\"0 0 24 24\"\n",
              "       width=\"24px\">\n",
              "    <path d=\"M0 0h24v24H0V0z\" fill=\"none\"/>\n",
              "    <path d=\"M18.56 5.44l.94 2.06.94-2.06 2.06-.94-2.06-.94-.94-2.06-.94 2.06-2.06.94zm-11 1L8.5 8.5l.94-2.06 2.06-.94-2.06-.94L8.5 2.5l-.94 2.06-2.06.94zm10 10l.94 2.06.94-2.06 2.06-.94-2.06-.94-.94-2.06-.94 2.06-2.06.94z\"/><path d=\"M17.41 7.96l-1.37-1.37c-.4-.4-.92-.59-1.43-.59-.52 0-1.04.2-1.43.59L10.3 9.45l-7.72 7.72c-.78.78-.78 2.05 0 2.83L4 21.41c.39.39.9.59 1.41.59.51 0 1.02-.2 1.41-.59l7.78-7.78 2.81-2.81c.8-.78.8-2.07 0-2.86zM5.41 20L4 18.59l7.72-7.72 1.47 1.35L5.41 20z\"/>\n",
              "  </svg>\n",
              "      </button>\n",
              "      \n",
              "  <style>\n",
              "    .colab-df-container {\n",
              "      display:flex;\n",
              "      flex-wrap:wrap;\n",
              "      gap: 12px;\n",
              "    }\n",
              "\n",
              "    .colab-df-convert {\n",
              "      background-color: #E8F0FE;\n",
              "      border: none;\n",
              "      border-radius: 50%;\n",
              "      cursor: pointer;\n",
              "      display: none;\n",
              "      fill: #1967D2;\n",
              "      height: 32px;\n",
              "      padding: 0 0 0 0;\n",
              "      width: 32px;\n",
              "    }\n",
              "\n",
              "    .colab-df-convert:hover {\n",
              "      background-color: #E2EBFA;\n",
              "      box-shadow: 0px 1px 2px rgba(60, 64, 67, 0.3), 0px 1px 3px 1px rgba(60, 64, 67, 0.15);\n",
              "      fill: #174EA6;\n",
              "    }\n",
              "\n",
              "    [theme=dark] .colab-df-convert {\n",
              "      background-color: #3B4455;\n",
              "      fill: #D2E3FC;\n",
              "    }\n",
              "\n",
              "    [theme=dark] .colab-df-convert:hover {\n",
              "      background-color: #434B5C;\n",
              "      box-shadow: 0px 1px 3px 1px rgba(0, 0, 0, 0.15);\n",
              "      filter: drop-shadow(0px 1px 2px rgba(0, 0, 0, 0.3));\n",
              "      fill: #FFFFFF;\n",
              "    }\n",
              "  </style>\n",
              "\n",
              "      <script>\n",
              "        const buttonEl =\n",
              "          document.querySelector('#df-2575f22f-6234-4845-ab5e-3b9fdb65714e button.colab-df-convert');\n",
              "        buttonEl.style.display =\n",
              "          google.colab.kernel.accessAllowed ? 'block' : 'none';\n",
              "\n",
              "        async function convertToInteractive(key) {\n",
              "          const element = document.querySelector('#df-2575f22f-6234-4845-ab5e-3b9fdb65714e');\n",
              "          const dataTable =\n",
              "            await google.colab.kernel.invokeFunction('convertToInteractive',\n",
              "                                                     [key], {});\n",
              "          if (!dataTable) return;\n",
              "\n",
              "          const docLinkHtml = 'Like what you see? Visit the ' +\n",
              "            '<a target=\"_blank\" href=https://colab.research.google.com/notebooks/data_table.ipynb>data table notebook</a>'\n",
              "            + ' to learn more about interactive tables.';\n",
              "          element.innerHTML = '';\n",
              "          dataTable['output_type'] = 'display_data';\n",
              "          await google.colab.output.renderOutput(dataTable, element);\n",
              "          const docLink = document.createElement('div');\n",
              "          docLink.innerHTML = docLinkHtml;\n",
              "          element.appendChild(docLink);\n",
              "        }\n",
              "      </script>\n",
              "    </div>\n",
              "  </div>\n",
              "  "
            ]
          },
          "metadata": {},
          "execution_count": 66
        }
      ]
    },
    {
      "cell_type": "code",
      "source": [
        "# 불용어 정의\n",
        "stopwords = ['의','가','이','은','들','는','좀','잘','걍','과','도','를','으로','자','에','와','한','하다']"
      ],
      "metadata": {
        "id": "UGhn1PEIkZmN"
      },
      "execution_count": 57,
      "outputs": []
    },
    {
      "cell_type": "code",
      "source": [
        "okt = Okt()\n",
        "tokenized_data = []\n",
        "for sentence in train_data['document']:\n",
        "  temp_x = okt.morphs(sentence, stem = True)\n",
        "  temp_x = [word for word in temp_x if not word in stopwords] # 불용어 제거\n",
        "  tokenized_data.append(temp_x)"
      ],
      "metadata": {
        "id": "AkuBYY_qkup3"
      },
      "execution_count": 67,
      "outputs": []
    },
    {
      "cell_type": "code",
      "source": [
        "# 리뷰의 길이 분포 확인\n",
        "print('리뷰의 최대 길이 :', max(len(l) for l in tokenized_data))\n",
        "print('리뷰의 평균 길이 :', sum(map(len, tokenized_data))/len(tokenized_data))\n",
        "\n",
        "plt.hist([len(s) for s in tokenized_data], bins = 50)\n",
        "plt.xlabel('length of samples')\n",
        "plt.ylabel('number of samples')\n",
        "plt.show()"
      ],
      "metadata": {
        "colab": {
          "base_uri": "https://localhost:8080/",
          "height": 315
        },
        "id": "jv5dopf0ofnE",
        "outputId": "add6ad38-6010-4e84-9294-46dc590db632"
      },
      "execution_count": 69,
      "outputs": [
        {
          "output_type": "stream",
          "name": "stdout",
          "text": [
            "리뷰의 최대 길이 : 68\n",
            "리뷰의 평균 길이 : 10.669446777871116\n"
          ]
        },
        {
          "output_type": "display_data",
          "data": {
            "text/plain": [
              "<Figure size 432x288 with 1 Axes>"
            ],
            "image/png": "[encoded data removed]"
          },
          "metadata": {
            "needs_background": "light"
          }
        }
      ]
    },
    {
      "cell_type": "code",
      "source": [
        "from gensim.models import word2vec\n",
        "model = Word2Vec(sentences = tokenized_data, size = 100, window = 5, min_count=5, workers = 4, sg =0)"
      ],
      "metadata": {
        "id": "gsSPjp9SpNJl"
      },
      "execution_count": 70,
      "outputs": []
    },
    {
      "cell_type": "code",
      "source": [
        "model.wv.vectors.shape"
      ],
      "metadata": {
        "colab": {
          "base_uri": "https://localhost:8080/"
        },
        "id": "0ANIKciCpgFV",
        "outputId": "b4818048-44f8-4eef-cfb7-022cff373d0f"
      },
      "execution_count": 71,
      "outputs": [
        {
          "output_type": "execute_result",
          "data": {
            "text/plain": [
              "(17947, 100)"
            ]
          },
          "metadata": {},
          "execution_count": 71
        }
      ]
    },
    {
      "cell_type": "code",
      "source": [
        "print(model.wv.most_similar('최민식'))"
      ],
      "metadata": {
        "colab": {
          "base_uri": "https://localhost:8080/"
        },
        "id": "jlbfzFeMpgDD",
        "outputId": "f5433f42-b396-4b82-f4d9-0b2608e07db5"
      },
      "execution_count": 72,
      "outputs": [
        {
          "output_type": "stream",
          "name": "stdout",
          "text": [
            "[('안성기', 0.8747641444206238), ('베일', 0.8572328090667725), ('설경구', 0.8508327007293701), ('이정재', 0.8475453853607178), ('한석규', 0.846818745136261), ('크로우', 0.846590518951416), ('류덕환', 0.8458220362663269), ('엄태웅', 0.8445698022842407), ('김명민', 0.8433185815811157), ('윤제문', 0.8420458436012268)]\n"
          ]
        }
      ]
    },
    {
      "cell_type": "code",
      "source": [
        "print(model.wv.most_similar('히어로'))"
      ],
      "metadata": {
        "colab": {
          "base_uri": "https://localhost:8080/"
        },
        "id": "FF8kOuM9pf--",
        "outputId": "edbc764d-879f-489b-f40f-23e637e2f38a"
      },
      "execution_count": 73,
      "outputs": [
        {
          "output_type": "stream",
          "name": "stdout",
          "text": [
            "[('블록버스터', 0.8562540411949158), ('무협', 0.8464078307151794), ('느와르', 0.8462713360786438), ('호러', 0.8394969701766968), ('무비', 0.835593581199646), ('물', 0.8154963850975037), ('슬래셔', 0.8122797608375549), ('좀비', 0.8086165189743042), ('재난영화', 0.801566481590271), ('홍콩', 0.7918068170547485)]\n"
          ]
        }
      ]
    },
    {
      "cell_type": "code",
      "source": [
        "print(model.wv.most_similar('뽀로로'))"
      ],
      "metadata": {
        "colab": {
          "base_uri": "https://localhost:8080/"
        },
        "id": "TPc4Ey0Bpf87",
        "outputId": "769a51fe-b2ff-46e2-fcd9-7f7972b759f8"
      },
      "execution_count": 74,
      "outputs": [
        {
          "output_type": "stream",
          "name": "stdout",
          "text": [
            "[('신자', 0.8238723874092102), ('유로트립', 0.8191801309585571), ('구잘', 0.8131558895111084), ('크리스에반스', 0.8107463121414185), ('토마토', 0.8067117929458618), ('유희왕', 0.801209568977356), ('어린이날', 0.7995465993881226), ('긔', 0.798906683921814), ('마다가스카', 0.79607093334198), ('서동요', 0.7949516177177429)]\n"
          ]
        }
      ]
    },
    {
      "cell_type": "code",
      "source": [
        "print(model.wv.most_similar('영화'))"
      ],
      "metadata": {
        "colab": {
          "base_uri": "https://localhost:8080/"
        },
        "id": "teJOixrupfzb",
        "outputId": "98412105-8053-47e6-b700-a22851089037"
      },
      "execution_count": 75,
      "outputs": [
        {
          "output_type": "stream",
          "name": "stdout",
          "text": [
            "[('독립영화', 0.630764365196228), ('애니', 0.5950890779495239), ('공포영화', 0.5922656059265137), ('이영화', 0.580421507358551), ('액션영화', 0.5745755434036255), ('애니메이션', 0.5734673142433167), ('영화로', 0.5610737800598145), ('다큐', 0.5569882392883301), ('작품', 0.5400457978248596), ('수작', 0.5327576994895935)]\n"
          ]
        }
      ]
    },
    {
      "cell_type": "markdown",
      "source": [
        "## 사전에 훈련된 워드 임베딩(한국어)\n"
      ],
      "metadata": {
        "id": "j9F6wnlGuW_0"
      }
    },
    {
      "cell_type": "code",
      "source": [
        "import gensim\n",
        "model = gensim.models.Word2Vec.load('/content/drive/MyDrive/자연어처리/dataset/ko.bin')\n"
      ],
      "metadata": {
        "id": "RAFOkakZuTdw"
      },
      "execution_count": 2,
      "outputs": []
    },
    {
      "cell_type": "code",
      "source": [
        "from google.colab import drive\n",
        "drive.mount('/content/drive')"
      ],
      "metadata": {
        "colab": {
          "base_uri": "https://localhost:8080/"
        },
        "id": "Ra_wMi9B-R2h",
        "outputId": "4915e512-8223-4c92-a562-f9554a867268"
      },
      "execution_count": 77,
      "outputs": [
        {
          "output_type": "stream",
          "name": "stdout",
          "text": [
            "Mounted at /content/drive\n"
          ]
        }
      ]
    },
    {
      "cell_type": "code",
      "source": [
        "print(model)"
      ],
      "metadata": {
        "colab": {
          "base_uri": "https://localhost:8080/"
        },
        "id": "YHr1xuiTuTa8",
        "outputId": "e172615d-7ba5-4ab6-e13c-62ba6f02618a"
      },
      "execution_count": 3,
      "outputs": [
        {
          "output_type": "stream",
          "name": "stdout",
          "text": [
            "Word2Vec(vocab=30185, size=200, alpha=0.025)\n"
          ]
        }
      ]
    },
    {
      "cell_type": "code",
      "source": [
        "result = model.wv.most_similar('강아지',topn = 50)\n",
        "result"
      ],
      "metadata": {
        "colab": {
          "base_uri": "https://localhost:8080/"
        },
        "id": "WA7cM5A-uTW-",
        "outputId": "57722c9e-491f-4bb8-9f62-4360c937c1f0"
      },
      "execution_count": 4,
      "outputs": [
        {
          "output_type": "execute_result",
          "data": {
            "text/plain": [
              "[('고양이', 0.7290452718734741),\n",
              " ('거위', 0.7185635566711426),\n",
              " ('토끼', 0.7056223154067993),\n",
              " ('멧돼지', 0.6950401067733765),\n",
              " ('엄마', 0.6934334635734558),\n",
              " ('난쟁이', 0.6806551218032837),\n",
              " ('한마리', 0.6770296096801758),\n",
              " ('아가씨', 0.6750352382659912),\n",
              " ('아빠', 0.6729634404182434),\n",
              " ('목걸이', 0.6512460708618164),\n",
              " ('까마귀', 0.6500682830810547),\n",
              " ('아주머니', 0.6432187557220459),\n",
              " ('독사', 0.6389124393463135),\n",
              " ('고슴도치', 0.6313384771347046),\n",
              " ('거북이', 0.6252505779266357),\n",
              " ('돼지', 0.6222692131996155),\n",
              " ('앵무새', 0.6218831539154053),\n",
              " ('개구리', 0.6218565702438354),\n",
              " ('당나귀', 0.6206705570220947),\n",
              " ('송아지', 0.6165446043014526),\n",
              " ('구미호', 0.615827202796936),\n",
              " ('메두사', 0.6134721040725708),\n",
              " ('사냥개', 0.6131488084793091),\n",
              " ('악어', 0.6128274202346802),\n",
              " ('뱀파이어', 0.6126487255096436),\n",
              " ('맹수', 0.609540581703186),\n",
              " ('갈기', 0.6087672114372253),\n",
              " ('아저씨', 0.6054108142852783),\n",
              " ('바구니', 0.6049458980560303),\n",
              " ('샴푸', 0.6020784974098206),\n",
              " ('잠자리', 0.6012549996376038),\n",
              " ('요괴', 0.6010540127754211),\n",
              " ('기러기', 0.6004207134246826),\n",
              " ('아기', 0.6002471446990967),\n",
              " ('애완', 0.600007176399231),\n",
              " ('사냥꾼', 0.599605143070221),\n",
              " ('잉어', 0.5940761566162109),\n",
              " ('애완동물', 0.592205822467804),\n",
              " ('비둘기', 0.5903027057647705),\n",
              " ('데이지', 0.5883350372314453),\n",
              " ('하녀', 0.5824557542800903),\n",
              " ('거미', 0.581872820854187),\n",
              " ('금발', 0.5797356963157654),\n",
              " ('금붕어', 0.5794419050216675),\n",
              " ('괭이', 0.5779764652252197),\n",
              " ('생김새', 0.5771268010139465),\n",
              " ('애벌레', 0.576567530632019),\n",
              " ('생쥐', 0.5745236873626709),\n",
              " ('너구리', 0.5743240118026733),\n",
              " ('처녀', 0.573948860168457)]"
            ]
          },
          "metadata": {},
          "execution_count": 4
        }
      ]
    },
    {
      "cell_type": "markdown",
      "source": [
        "## 사전 훈련된 워드 임베딩 (영어)"
      ],
      "metadata": {
        "id": "wdiqXgqqwsRH"
      }
    },
    {
      "cell_type": "code",
      "source": [
        "import gensim\n",
        "model = gensim.models.KeyedVectors.load_word2vec_format('/content/drive/MyDrive/자연어처리/dataset/GoogleNews-vectors-negative300.bin.gz', binary = True)"
      ],
      "metadata": {
        "id": "XPybUMH4uTU1"
      },
      "execution_count": 1,
      "outputs": []
    },
    {
      "cell_type": "code",
      "source": [
        "# del model"
      ],
      "metadata": {
        "id": "OipZDt3nuTSY"
      },
      "execution_count": null,
      "outputs": []
    },
    {
      "cell_type": "code",
      "source": [
        "print(model.vectors.shape) # 300만개의 단어와 각 단어 차원이 300차원"
      ],
      "metadata": {
        "colab": {
          "base_uri": "https://localhost:8080/"
        },
        "id": "Ewy5WUUFuTPl",
        "outputId": "45589dff-97f8-4e82-ec89-1ec812152660"
      },
      "execution_count": 6,
      "outputs": [
        {
          "output_type": "stream",
          "name": "stdout",
          "text": [
            "(3000000, 300)\n"
          ]
        }
      ]
    },
    {
      "cell_type": "code",
      "source": [
        "print(model.similarity('this', 'is'))"
      ],
      "metadata": {
        "colab": {
          "base_uri": "https://localhost:8080/"
        },
        "id": "MM7eU5dtuTB8",
        "outputId": "1ef27822-7cdd-41c0-c1b2-ce73649ffa16"
      },
      "execution_count": 7,
      "outputs": [
        {
          "output_type": "stream",
          "name": "stdout",
          "text": [
            "0.40797037\n"
          ]
        }
      ]
    },
    {
      "cell_type": "code",
      "source": [
        "print(model.similarity('post', 'book'))"
      ],
      "metadata": {
        "colab": {
          "base_uri": "https://localhost:8080/"
        },
        "id": "0UpZijWsypH0",
        "outputId": "397b9554-be56-4c16-f4fa-977ebf63a1b3"
      },
      "execution_count": 8,
      "outputs": [
        {
          "output_type": "stream",
          "name": "stdout",
          "text": [
            "0.057204384\n"
          ]
        }
      ]
    },
    {
      "cell_type": "code",
      "source": [
        "print(model['book']) # 300차원"
      ],
      "metadata": {
        "colab": {
          "base_uri": "https://localhost:8080/"
        },
        "id": "UZuSRzC6yu_c",
        "outputId": "a9c8e47e-b1f1-4c61-f6b4-70b4a566a24a"
      },
      "execution_count": 9,
      "outputs": [
        {
          "output_type": "stream",
          "name": "stdout",
          "text": [
            "[ 0.11279297 -0.02612305 -0.04492188  0.06982422  0.140625    0.03039551\n",
            " -0.04370117  0.24511719  0.08740234 -0.05053711  0.23144531 -0.07470703\n",
            "  0.21875     0.03466797 -0.14550781  0.05761719  0.00671387 -0.00701904\n",
            "  0.13183594 -0.25390625  0.14355469 -0.140625   -0.03564453 -0.21289062\n",
            " -0.24804688  0.04980469 -0.09082031  0.14453125  0.05712891 -0.10400391\n",
            " -0.19628906 -0.20507812 -0.27539062  0.03063965  0.20117188  0.17382812\n",
            "  0.09130859 -0.10107422  0.22851562 -0.04077148  0.02709961 -0.00106049\n",
            "  0.02709961  0.34179688 -0.13183594 -0.078125    0.02197266 -0.18847656\n",
            " -0.17480469 -0.05566406 -0.20898438  0.04858398 -0.07617188 -0.15625\n",
            " -0.05419922  0.01672363 -0.02722168 -0.11132812 -0.03588867 -0.18359375\n",
            "  0.28710938  0.01757812  0.02185059 -0.05664062 -0.01251221  0.01708984\n",
            " -0.21777344 -0.06787109  0.04711914 -0.00668335  0.08544922 -0.02209473\n",
            "  0.31835938  0.01794434 -0.02246094 -0.03051758 -0.09570312  0.24414062\n",
            "  0.20507812  0.05419922  0.29101562  0.03637695  0.04956055 -0.06689453\n",
            "  0.09277344 -0.10595703 -0.04370117  0.19726562 -0.03015137  0.05615234\n",
            "  0.08544922 -0.09863281 -0.02392578 -0.08691406 -0.22460938 -0.16894531\n",
            "  0.09521484 -0.0612793  -0.03015137 -0.265625   -0.13378906  0.00139618\n",
            "  0.01794434  0.10107422  0.13964844  0.06445312 -0.09765625 -0.11376953\n",
            " -0.24511719 -0.15722656  0.00457764  0.12988281 -0.03540039 -0.08105469\n",
            "  0.18652344  0.03125    -0.09326172 -0.04760742  0.23730469  0.11083984\n",
            "  0.08691406  0.01916504  0.21386719 -0.0065918  -0.08984375 -0.02502441\n",
            " -0.09863281 -0.05639648 -0.26757812  0.19335938 -0.08886719 -0.25976562\n",
            "  0.05957031 -0.10742188  0.09863281  0.1484375   0.04101562  0.00340271\n",
            " -0.06591797 -0.02941895  0.20019531 -0.00521851  0.02355957 -0.13671875\n",
            " -0.12597656 -0.10791016  0.0067749   0.15917969  0.0145874  -0.15136719\n",
            "  0.07519531 -0.02905273  0.01843262  0.20800781  0.25195312 -0.11523438\n",
            " -0.23535156  0.04101562 -0.11035156  0.02905273  0.22460938 -0.04272461\n",
            "  0.09667969  0.11865234  0.08007812  0.07958984  0.3125     -0.14941406\n",
            " -0.234375    0.06079102  0.06982422 -0.14355469 -0.05834961 -0.36914062\n",
            " -0.10595703  0.00738525  0.24023438 -0.10400391 -0.02124023  0.05712891\n",
            " -0.11621094 -0.16894531 -0.06396484 -0.12060547  0.08105469 -0.13769531\n",
            " -0.08447266  0.12792969 -0.15429688  0.17871094  0.2421875  -0.06884766\n",
            "  0.03320312  0.04394531 -0.04589844  0.03686523 -0.07421875 -0.01635742\n",
            " -0.24121094 -0.08203125 -0.01733398  0.0291748   0.10742188  0.11279297\n",
            "  0.12890625  0.01416016 -0.28710938  0.16503906 -0.25585938  0.2109375\n",
            " -0.19238281  0.22363281  0.04541016  0.00872803  0.11376953  0.375\n",
            "  0.09765625  0.06201172  0.12109375 -0.24316406  0.203125    0.12158203\n",
            "  0.08642578  0.01782227  0.17382812  0.01855469  0.03613281 -0.02124023\n",
            " -0.02905273 -0.04541016  0.1796875   0.06494141 -0.13378906 -0.09228516\n",
            "  0.02172852  0.02099609  0.07226562  0.3046875  -0.27539062 -0.30078125\n",
            "  0.08691406 -0.22949219  0.0546875  -0.34179688 -0.00680542 -0.0291748\n",
            " -0.03222656  0.16210938  0.01141357  0.23339844 -0.0859375  -0.06494141\n",
            "  0.15039062  0.17675781  0.08251953 -0.26757812 -0.11669922  0.01330566\n",
            "  0.01818848  0.10009766 -0.09570312  0.109375   -0.16992188 -0.23046875\n",
            " -0.22070312  0.0625      0.03662109 -0.125       0.05151367 -0.18847656\n",
            "  0.22949219  0.26367188 -0.09814453  0.06176758  0.11669922  0.23046875\n",
            "  0.32617188  0.02038574 -0.03735352 -0.12255859  0.296875   -0.25\n",
            " -0.08544922 -0.03149414  0.38085938  0.02929688 -0.265625    0.42382812\n",
            " -0.1484375   0.14355469 -0.03125     0.00717163 -0.16601562 -0.15820312\n",
            "  0.03637695 -0.16796875 -0.01483154  0.09667969 -0.05761719 -0.00515747]\n"
          ]
        }
      ]
    },
    {
      "cell_type": "code",
      "source": [
        "model.most_similar('memory')"
      ],
      "metadata": {
        "colab": {
          "base_uri": "https://localhost:8080/"
        },
        "id": "bW7AdiA6y3zm",
        "outputId": "6ace923f-ed84-41b8-dc04-86206c600f61"
      },
      "execution_count": 2,
      "outputs": [
        {
          "output_type": "execute_result",
          "data": {
            "text/plain": [
              "[('Memory', 0.6844282150268555),\n",
              " ('memories', 0.6138081550598145),\n",
              " ('Added_Tarbet', 0.5560144186019897),\n",
              " ('Earliest_sporting', 0.5375796556472778),\n",
              " ('Flash_memory', 0.5318928360939026),\n",
              " ('foam_mattress_topper', 0.5253582000732422),\n",
              " ('flash_memory', 0.5221431255340576),\n",
              " ('remembering', 0.5171269178390503),\n",
              " ('SODIMM_modules', 0.5119421482086182),\n",
              " ('components_microprocessors_CPUs', 0.5007408857345581)]"
            ]
          },
          "metadata": {},
          "execution_count": 2
        }
      ]
    },
    {
      "cell_type": "markdown",
      "source": [
        "##FastText"
      ],
      "metadata": {
        "id": "5CwR1qRaz7D0"
      }
    },
    {
      "cell_type": "markdown",
      "source": [
        "n = 3\n",
        "\n",
        "<;apple> \n",
        "\n",
        "<ap, app, ppl, ple, le>"
      ],
      "metadata": {
        "id": "-jnBA7pF0BsA"
      }
    },
    {
      "cell_type": "code",
      "source": [
        "from gensim.models import FastText"
      ],
      "metadata": {
        "id": "C0Pbg9lE0Hm9"
      },
      "execution_count": 29,
      "outputs": []
    },
    {
      "cell_type": "code",
      "source": [
        "model = FastText(corpus, size = 100, window = 5, min_count = 5, workers =4, sg =1)"
      ],
      "metadata": {
        "id": "hEbwSQBYz0ge"
      },
      "execution_count": 30,
      "outputs": []
    },
    {
      "cell_type": "code",
      "source": [
        "from gensim.models import Word2Vec\n",
        "model_wv = Word2Vec(sentences = corpus, size = 100, window = 5, min_count = 5, workers =4, sg =0)"
      ],
      "metadata": {
        "id": "VwijZ0E01HK3"
      },
      "execution_count": 31,
      "outputs": []
    },
    {
      "cell_type": "code",
      "source": [
        "model_wv.wv.most_similar('electrofishing') # word2vec"
      ],
      "metadata": {
        "colab": {
          "base_uri": "https://localhost:8080/",
          "height": 323
        },
        "id": "jw6V1bwQ1X3Y",
        "outputId": "8a0b40ff-4636-490a-964d-db418702950a"
      },
      "execution_count": 32,
      "outputs": [
        {
          "output_type": "error",
          "ename": "KeyError",
          "evalue": "ignored",
          "traceback": [
            "\u001b[0;31m---------------------------------------------------------------------------\u001b[0m",
            "\u001b[0;31mKeyError\u001b[0m                                  Traceback (most recent call last)",
            "\u001b[0;32m<ipython-input-32-9f69a152860e>\u001b[0m in \u001b[0;36m<module>\u001b[0;34m()\u001b[0m\n\u001b[0;32m----> 1\u001b[0;31m \u001b[0mmodel_wv\u001b[0m\u001b[0;34m.\u001b[0m\u001b[0mwv\u001b[0m\u001b[0;34m.\u001b[0m\u001b[0mmost_similar\u001b[0m\u001b[0;34m(\u001b[0m\u001b[0;34m'electrofishing'\u001b[0m\u001b[0;34m)\u001b[0m \u001b[0;31m# word2vec\u001b[0m\u001b[0;34m\u001b[0m\u001b[0;34m\u001b[0m\u001b[0m\n\u001b[0m",
            "\u001b[0;32m/usr/local/lib/python3.7/dist-packages/gensim/models/keyedvectors.py\u001b[0m in \u001b[0;36mmost_similar\u001b[0;34m(self, positive, negative, topn, restrict_vocab, indexer)\u001b[0m\n\u001b[1;32m    529\u001b[0m                 \u001b[0mmean\u001b[0m\u001b[0;34m.\u001b[0m\u001b[0mappend\u001b[0m\u001b[0;34m(\u001b[0m\u001b[0mweight\u001b[0m \u001b[0;34m*\u001b[0m \u001b[0mword\u001b[0m\u001b[0;34m)\u001b[0m\u001b[0;34m\u001b[0m\u001b[0;34m\u001b[0m\u001b[0m\n\u001b[1;32m    530\u001b[0m             \u001b[0;32melse\u001b[0m\u001b[0;34m:\u001b[0m\u001b[0;34m\u001b[0m\u001b[0;34m\u001b[0m\u001b[0m\n\u001b[0;32m--> 531\u001b[0;31m                 \u001b[0mmean\u001b[0m\u001b[0;34m.\u001b[0m\u001b[0mappend\u001b[0m\u001b[0;34m(\u001b[0m\u001b[0mweight\u001b[0m \u001b[0;34m*\u001b[0m \u001b[0mself\u001b[0m\u001b[0;34m.\u001b[0m\u001b[0mword_vec\u001b[0m\u001b[0;34m(\u001b[0m\u001b[0mword\u001b[0m\u001b[0;34m,\u001b[0m \u001b[0muse_norm\u001b[0m\u001b[0;34m=\u001b[0m\u001b[0;32mTrue\u001b[0m\u001b[0;34m)\u001b[0m\u001b[0;34m)\u001b[0m\u001b[0;34m\u001b[0m\u001b[0;34m\u001b[0m\u001b[0m\n\u001b[0m\u001b[1;32m    532\u001b[0m                 \u001b[0;32mif\u001b[0m \u001b[0mword\u001b[0m \u001b[0;32min\u001b[0m \u001b[0mself\u001b[0m\u001b[0;34m.\u001b[0m\u001b[0mvocab\u001b[0m\u001b[0;34m:\u001b[0m\u001b[0;34m\u001b[0m\u001b[0;34m\u001b[0m\u001b[0m\n\u001b[1;32m    533\u001b[0m                     \u001b[0mall_words\u001b[0m\u001b[0;34m.\u001b[0m\u001b[0madd\u001b[0m\u001b[0;34m(\u001b[0m\u001b[0mself\u001b[0m\u001b[0;34m.\u001b[0m\u001b[0mvocab\u001b[0m\u001b[0;34m[\u001b[0m\u001b[0mword\u001b[0m\u001b[0;34m]\u001b[0m\u001b[0;34m.\u001b[0m\u001b[0mindex\u001b[0m\u001b[0;34m)\u001b[0m\u001b[0;34m\u001b[0m\u001b[0;34m\u001b[0m\u001b[0m\n",
            "\u001b[0;32m/usr/local/lib/python3.7/dist-packages/gensim/models/keyedvectors.py\u001b[0m in \u001b[0;36mword_vec\u001b[0;34m(self, word, use_norm)\u001b[0m\n\u001b[1;32m    450\u001b[0m             \u001b[0;32mreturn\u001b[0m \u001b[0mresult\u001b[0m\u001b[0;34m\u001b[0m\u001b[0;34m\u001b[0m\u001b[0m\n\u001b[1;32m    451\u001b[0m         \u001b[0;32melse\u001b[0m\u001b[0;34m:\u001b[0m\u001b[0;34m\u001b[0m\u001b[0;34m\u001b[0m\u001b[0m\n\u001b[0;32m--> 452\u001b[0;31m             \u001b[0;32mraise\u001b[0m \u001b[0mKeyError\u001b[0m\u001b[0;34m(\u001b[0m\u001b[0;34m\"word '%s' not in vocabulary\"\u001b[0m \u001b[0;34m%\u001b[0m \u001b[0mword\u001b[0m\u001b[0;34m)\u001b[0m\u001b[0;34m\u001b[0m\u001b[0;34m\u001b[0m\u001b[0m\n\u001b[0m\u001b[1;32m    453\u001b[0m \u001b[0;34m\u001b[0m\u001b[0m\n\u001b[1;32m    454\u001b[0m     \u001b[0;32mdef\u001b[0m \u001b[0mget_vector\u001b[0m\u001b[0;34m(\u001b[0m\u001b[0mself\u001b[0m\u001b[0;34m,\u001b[0m \u001b[0mword\u001b[0m\u001b[0;34m)\u001b[0m\u001b[0;34m:\u001b[0m\u001b[0;34m\u001b[0m\u001b[0;34m\u001b[0m\u001b[0m\n",
            "\u001b[0;31mKeyError\u001b[0m: \"word 'electrofishing' not in vocabulary\""
          ]
        }
      ]
    },
    {
      "cell_type": "code",
      "source": [
        "model.wv.most_similar('electrofishing') # FastText"
      ],
      "metadata": {
        "colab": {
          "base_uri": "https://localhost:8080/"
        },
        "id": "05j_VybG1qm3",
        "outputId": "d86a5018-7c21-400d-def7-c174ffeed659"
      },
      "execution_count": 33,
      "outputs": [
        {
          "output_type": "execute_result",
          "data": {
            "text/plain": [
              "[('electric', 0.892590343952179),\n",
              " ('electricity', 0.874626636505127),\n",
              " ('electrode', 0.8743335008621216),\n",
              " ('electrodes', 0.8705457448959351),\n",
              " ('electrons', 0.8399685621261597),\n",
              " ('electronics', 0.8399053812026978),\n",
              " ('electronic', 0.8346332907676697),\n",
              " ('electron', 0.8263611793518066),\n",
              " ('aircraft', 0.8195280432701111),\n",
              " ('electrical', 0.8109595775604248)]"
            ]
          },
          "metadata": {},
          "execution_count": 33
        }
      ]
    },
    {
      "cell_type": "markdown",
      "source": [
        "##Glove"
      ],
      "metadata": {
        "id": "xLtK-haK3ey5"
      }
    },
    {
      "cell_type": "code",
      "source": [
        "!pip install glove_python_binary"
      ],
      "metadata": {
        "colab": {
          "base_uri": "https://localhost:8080/"
        },
        "id": "I_mmIru-2DkQ",
        "outputId": "7f0074fe-80f4-489d-c44b-9beb3317e9e7"
      },
      "execution_count": 15,
      "outputs": [
        {
          "output_type": "stream",
          "name": "stdout",
          "text": [
            "Collecting glove_python_binary\n",
            "  Downloading glove_python_binary-0.2.0-cp37-cp37m-manylinux1_x86_64.whl (948 kB)\n",
            "\u001b[?25l\r\u001b[K     |▍                               | 10 kB 20.5 MB/s eta 0:00:01\r\u001b[K     |▊                               | 20 kB 11.6 MB/s eta 0:00:01\r\u001b[K     |█                               | 30 kB 9.4 MB/s eta 0:00:01\r\u001b[K     |█▍                              | 40 kB 8.9 MB/s eta 0:00:01\r\u001b[K     |█▊                              | 51 kB 4.4 MB/s eta 0:00:01\r\u001b[K     |██                              | 61 kB 5.2 MB/s eta 0:00:01\r\u001b[K     |██▍                             | 71 kB 5.7 MB/s eta 0:00:01\r\u001b[K     |██▊                             | 81 kB 5.9 MB/s eta 0:00:01\r\u001b[K     |███                             | 92 kB 6.5 MB/s eta 0:00:01\r\u001b[K     |███▌                            | 102 kB 5.2 MB/s eta 0:00:01\r\u001b[K     |███▉                            | 112 kB 5.2 MB/s eta 0:00:01\r\u001b[K     |████▏                           | 122 kB 5.2 MB/s eta 0:00:01\r\u001b[K     |████▌                           | 133 kB 5.2 MB/s eta 0:00:01\r\u001b[K     |████▉                           | 143 kB 5.2 MB/s eta 0:00:01\r\u001b[K     |█████▏                          | 153 kB 5.2 MB/s eta 0:00:01\r\u001b[K     |█████▌                          | 163 kB 5.2 MB/s eta 0:00:01\r\u001b[K     |█████▉                          | 174 kB 5.2 MB/s eta 0:00:01\r\u001b[K     |██████▏                         | 184 kB 5.2 MB/s eta 0:00:01\r\u001b[K     |██████▋                         | 194 kB 5.2 MB/s eta 0:00:01\r\u001b[K     |███████                         | 204 kB 5.2 MB/s eta 0:00:01\r\u001b[K     |███████▎                        | 215 kB 5.2 MB/s eta 0:00:01\r\u001b[K     |███████▋                        | 225 kB 5.2 MB/s eta 0:00:01\r\u001b[K     |████████                        | 235 kB 5.2 MB/s eta 0:00:01\r\u001b[K     |████████▎                       | 245 kB 5.2 MB/s eta 0:00:01\r\u001b[K     |████████▋                       | 256 kB 5.2 MB/s eta 0:00:01\r\u001b[K     |█████████                       | 266 kB 5.2 MB/s eta 0:00:01\r\u001b[K     |█████████▎                      | 276 kB 5.2 MB/s eta 0:00:01\r\u001b[K     |█████████▊                      | 286 kB 5.2 MB/s eta 0:00:01\r\u001b[K     |██████████                      | 296 kB 5.2 MB/s eta 0:00:01\r\u001b[K     |██████████▍                     | 307 kB 5.2 MB/s eta 0:00:01\r\u001b[K     |██████████▊                     | 317 kB 5.2 MB/s eta 0:00:01\r\u001b[K     |███████████                     | 327 kB 5.2 MB/s eta 0:00:01\r\u001b[K     |███████████▍                    | 337 kB 5.2 MB/s eta 0:00:01\r\u001b[K     |███████████▊                    | 348 kB 5.2 MB/s eta 0:00:01\r\u001b[K     |████████████                    | 358 kB 5.2 MB/s eta 0:00:01\r\u001b[K     |████████████▍                   | 368 kB 5.2 MB/s eta 0:00:01\r\u001b[K     |████████████▊                   | 378 kB 5.2 MB/s eta 0:00:01\r\u001b[K     |█████████████▏                  | 389 kB 5.2 MB/s eta 0:00:01\r\u001b[K     |█████████████▌                  | 399 kB 5.2 MB/s eta 0:00:01\r\u001b[K     |█████████████▉                  | 409 kB 5.2 MB/s eta 0:00:01\r\u001b[K     |██████████████▏                 | 419 kB 5.2 MB/s eta 0:00:01\r\u001b[K     |██████████████▌                 | 430 kB 5.2 MB/s eta 0:00:01\r\u001b[K     |██████████████▉                 | 440 kB 5.2 MB/s eta 0:00:01\r\u001b[K     |███████████████▏                | 450 kB 5.2 MB/s eta 0:00:01\r\u001b[K     |███████████████▌                | 460 kB 5.2 MB/s eta 0:00:01\r\u001b[K     |███████████████▉                | 471 kB 5.2 MB/s eta 0:00:01\r\u001b[K     |████████████████▎               | 481 kB 5.2 MB/s eta 0:00:01\r\u001b[K     |████████████████▋               | 491 kB 5.2 MB/s eta 0:00:01\r\u001b[K     |█████████████████               | 501 kB 5.2 MB/s eta 0:00:01\r\u001b[K     |█████████████████▎              | 512 kB 5.2 MB/s eta 0:00:01\r\u001b[K     |█████████████████▋              | 522 kB 5.2 MB/s eta 0:00:01\r\u001b[K     |██████████████████              | 532 kB 5.2 MB/s eta 0:00:01\r\u001b[K     |██████████████████▎             | 542 kB 5.2 MB/s eta 0:00:01\r\u001b[K     |██████████████████▋             | 552 kB 5.2 MB/s eta 0:00:01\r\u001b[K     |███████████████████             | 563 kB 5.2 MB/s eta 0:00:01\r\u001b[K     |███████████████████▍            | 573 kB 5.2 MB/s eta 0:00:01\r\u001b[K     |███████████████████▊            | 583 kB 5.2 MB/s eta 0:00:01\r\u001b[K     |████████████████████            | 593 kB 5.2 MB/s eta 0:00:01\r\u001b[K     |████████████████████▍           | 604 kB 5.2 MB/s eta 0:00:01\r\u001b[K     |████████████████████▊           | 614 kB 5.2 MB/s eta 0:00:01\r\u001b[K     |█████████████████████           | 624 kB 5.2 MB/s eta 0:00:01\r\u001b[K     |█████████████████████▍          | 634 kB 5.2 MB/s eta 0:00:01\r\u001b[K     |█████████████████████▊          | 645 kB 5.2 MB/s eta 0:00:01\r\u001b[K     |██████████████████████          | 655 kB 5.2 MB/s eta 0:00:01\r\u001b[K     |██████████████████████▌         | 665 kB 5.2 MB/s eta 0:00:01\r\u001b[K     |██████████████████████▉         | 675 kB 5.2 MB/s eta 0:00:01\r\u001b[K     |███████████████████████▏        | 686 kB 5.2 MB/s eta 0:00:01\r\u001b[K     |███████████████████████▌        | 696 kB 5.2 MB/s eta 0:00:01\r\u001b[K     |███████████████████████▉        | 706 kB 5.2 MB/s eta 0:00:01\r\u001b[K     |████████████████████████▏       | 716 kB 5.2 MB/s eta 0:00:01\r\u001b[K     |████████████████████████▌       | 727 kB 5.2 MB/s eta 0:00:01\r\u001b[K     |████████████████████████▉       | 737 kB 5.2 MB/s eta 0:00:01\r\u001b[K     |█████████████████████████▏      | 747 kB 5.2 MB/s eta 0:00:01\r\u001b[K     |█████████████████████████▌      | 757 kB 5.2 MB/s eta 0:00:01\r\u001b[K     |██████████████████████████      | 768 kB 5.2 MB/s eta 0:00:01\r\u001b[K     |██████████████████████████▎     | 778 kB 5.2 MB/s eta 0:00:01\r\u001b[K     |██████████████████████████▋     | 788 kB 5.2 MB/s eta 0:00:01\r\u001b[K     |███████████████████████████     | 798 kB 5.2 MB/s eta 0:00:01\r\u001b[K     |███████████████████████████▎    | 808 kB 5.2 MB/s eta 0:00:01\r\u001b[K     |███████████████████████████▋    | 819 kB 5.2 MB/s eta 0:00:01\r\u001b[K     |████████████████████████████    | 829 kB 5.2 MB/s eta 0:00:01\r\u001b[K     |████████████████████████████▎   | 839 kB 5.2 MB/s eta 0:00:01\r\u001b[K     |████████████████████████████▋   | 849 kB 5.2 MB/s eta 0:00:01\r\u001b[K     |█████████████████████████████   | 860 kB 5.2 MB/s eta 0:00:01\r\u001b[K     |█████████████████████████████▍  | 870 kB 5.2 MB/s eta 0:00:01\r\u001b[K     |█████████████████████████████▊  | 880 kB 5.2 MB/s eta 0:00:01\r\u001b[K     |██████████████████████████████  | 890 kB 5.2 MB/s eta 0:00:01\r\u001b[K     |██████████████████████████████▍ | 901 kB 5.2 MB/s eta 0:00:01\r\u001b[K     |██████████████████████████████▊ | 911 kB 5.2 MB/s eta 0:00:01\r\u001b[K     |███████████████████████████████ | 921 kB 5.2 MB/s eta 0:00:01\r\u001b[K     |███████████████████████████████▍| 931 kB 5.2 MB/s eta 0:00:01\r\u001b[K     |███████████████████████████████▊| 942 kB 5.2 MB/s eta 0:00:01\r\u001b[K     |████████████████████████████████| 948 kB 5.2 MB/s \n",
            "\u001b[?25hRequirement already satisfied: numpy in /usr/local/lib/python3.7/dist-packages (from glove_python_binary) (1.21.6)\n",
            "Requirement already satisfied: scipy in /usr/local/lib/python3.7/dist-packages (from glove_python_binary) (1.4.1)\n",
            "Installing collected packages: glove-python-binary\n",
            "Successfully installed glove-python-binary-0.2.0\n"
          ]
        }
      ]
    },
    {
      "cell_type": "code",
      "source": [
        "from glove import Corpus, Glove"
      ],
      "metadata": {
        "id": "85-iKNkY2Gtb"
      },
      "execution_count": 16,
      "outputs": []
    },
    {
      "cell_type": "code",
      "source": [
        "Corpus = Corpus()"
      ],
      "metadata": {
        "id": "x1lmHoNU2Q6s"
      },
      "execution_count": 17,
      "outputs": []
    },
    {
      "cell_type": "code",
      "source": [
        "Corpus.fit(corpus, window = 5)"
      ],
      "metadata": {
        "id": "e3rgr6yx2TOn"
      },
      "execution_count": 18,
      "outputs": []
    },
    {
      "cell_type": "code",
      "source": [
        "glove = Glove(no_components = 100, learning_rate = 0.05)"
      ],
      "metadata": {
        "id": "4Yr_ioou2zDd"
      },
      "execution_count": 19,
      "outputs": []
    },
    {
      "cell_type": "code",
      "source": [
        "glove.fit(Corpus.matrix, epochs = 10, no_threads = 4, verbose = True)\n",
        "glove.add_dictionary(Corpus.dictionary)"
      ],
      "metadata": {
        "colab": {
          "base_uri": "https://localhost:8080/"
        },
        "id": "Rsonb0Fg26pg",
        "outputId": "22c603bd-7248-4c5f-878e-ba4300673c2d"
      },
      "execution_count": 20,
      "outputs": [
        {
          "output_type": "stream",
          "name": "stdout",
          "text": [
            "Performing 10 training epochs with 4 threads\n",
            "Epoch 0\n",
            "Epoch 1\n",
            "Epoch 2\n",
            "Epoch 3\n",
            "Epoch 4\n",
            "Epoch 5\n",
            "Epoch 6\n",
            "Epoch 7\n",
            "Epoch 8\n",
            "Epoch 9\n"
          ]
        }
      ]
    },
    {
      "cell_type": "code",
      "source": [
        "print(glove.most_similar('man'))"
      ],
      "metadata": {
        "colab": {
          "base_uri": "https://localhost:8080/"
        },
        "id": "uIDk-Piy3FIo",
        "outputId": "742135bf-876a-4b2f-f414-dc9da87dd533"
      },
      "execution_count": 21,
      "outputs": [
        {
          "output_type": "stream",
          "name": "stdout",
          "text": [
            "[('dog', 0.9726651552144322), ('child', 0.9672690041405155), ('person', 0.9401195259887292), ('patient', 0.9362737077137876)]\n"
          ]
        }
      ]
    },
    {
      "cell_type": "code",
      "source": [
        "print(glove.most_similar('boy'))"
      ],
      "metadata": {
        "colab": {
          "base_uri": "https://localhost:8080/"
        },
        "id": "pPIB-1QP3Rev",
        "outputId": "e3e58994-c47a-415b-e02e-fb8c2434edb4"
      },
      "execution_count": 22,
      "outputs": [
        {
          "output_type": "stream",
          "name": "stdout",
          "text": [
            "[('harmless', 0.9870657263265603), ('negotiation', 0.9866890753501558), ('cocker', 0.9865652161508454), ('vertebrate', 0.9863775778088475)]\n"
          ]
        }
      ]
    },
    {
      "cell_type": "code",
      "source": [
        "print(glove.most_similar('university'))"
      ],
      "metadata": {
        "colab": {
          "base_uri": "https://localhost:8080/"
        },
        "id": "ATIaeWQb3WH9",
        "outputId": "11424e05-6e86-40c5-cfa8-b7460a34153e"
      },
      "execution_count": 23,
      "outputs": [
        {
          "output_type": "stream",
          "name": "stdout",
          "text": [
            "[('moon', 0.9749729618495677), ('state', 0.9667609459545566), ('nation', 0.9645485013696902), ('biggest', 0.9544827533201575)]\n"
          ]
        }
      ]
    }
  ]
}