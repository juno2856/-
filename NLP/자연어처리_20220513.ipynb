{
  "nbformat": 4,
  "nbformat_minor": 0,
  "metadata": {
    "colab": {
      "name": "자연어처리 20220513 ",
      "provenance": [],
      "collapsed_sections": [],
      "include_colab_link": true
    },
    "kernelspec": {
      "name": "python3",
      "display_name": "Python 3"
    },
    "language_info": {
      "name": "python"
    }
  },
  "cells": [
    {
      "cell_type": "markdown",
      "metadata": {
        "id": "view-in-github",
        "colab_type": "text"
      },
      "source": [
        "<a href=\"https://colab.research.google.com/github/juno2856/deeplearning/blob/master/%EC%9E%90%EC%97%B0%EC%96%B4%EC%B2%98%EB%A6%AC_20220513.ipynb\" target=\"_parent\"><img src=\"https://colab.research.google.com/assets/colab-badge.svg\" alt=\"Open In Colab\"/></a>"
      ]
    },
    {
      "cell_type": "code",
      "execution_count": null,
      "metadata": {
        "colab": {
          "base_uri": "https://localhost:8080/"
        },
        "id": "9kzE_t_guJPW",
        "outputId": "be48a584-b8f4-4309-be9e-ae51e917cf5f"
      },
      "outputs": [
        {
          "output_type": "stream",
          "name": "stdout",
          "text": [
            "['2022', '05', '13']\n",
            "[' ', ' ', ' friday']\n"
          ]
        }
      ],
      "source": [
        "import re\n",
        "\n",
        "# 1\n",
        "# 숫자 찾기\n",
        "example = '2022 05 13 friday'\n",
        "print(re.findall('\\d', example))\n",
        "\n",
        "# 숫자가 아닌 것 찾기\n",
        "print(re.findall('\\D', example))\n",
        "\n",
        "# print(re.findall('[0-9]', example))\n",
        "\n",
        "# # 숫자가 아닌 것 찾기\n",
        "# print(re.findall('[^0-9]', example))"
      ]
    },
    {
      "cell_type": "code",
      "source": [
        "# 2\n",
        "\n",
        "# 이메일 주소를 찾기\n",
        "example = '제 이메일은 hreeee@yonsei.ac.kr 입니다. hreeee@gmail.com으로 변경되었습니다.'\n",
        "print(re.findall('([a-z]+.[a-z]+.[a-z]+.[a-z]+)', example))\n",
        "# print(re.findall('[a-z]+@[a-z]+.[a-z]+.[a-z]+', example))"
      ],
      "metadata": {
        "id": "DGBJqugruljt",
        "colab": {
          "base_uri": "https://localhost:8080/"
        },
        "outputId": "6ebcecad-6eee-4a17-a1bc-e379f5d54d63"
      },
      "execution_count": null,
      "outputs": [
        {
          "output_type": "stream",
          "name": "stdout",
          "text": [
            "['hreeee@yonsei.ac.kr', 'hreeee@gmail.com']\n"
          ]
        }
      ]
    },
    {
      "cell_type": "code",
      "source": [
        "# 3\n",
        "\n",
        "# URL 찾기\n",
        "example = 'https://www.google.com/에 네이버 검색하시면 https://www.naver.com/이 상단에 노출됩니다.'\n",
        "print(re.findall('([a-z]+.//[a-z]+.[a-z]+.[a-z]+.[a-z]+/)', example))\n",
        "# print(re.findall('https://[a-z]{3}.[a-z]+.[a-z]+/', example))"
      ],
      "metadata": {
        "colab": {
          "base_uri": "https://localhost:8080/"
        },
        "id": "CkM7QWwYMzLt",
        "outputId": "1a1a954c-17ff-4f8f-fe7d-316616b9b44e"
      },
      "execution_count": null,
      "outputs": [
        {
          "output_type": "stream",
          "name": "stdout",
          "text": [
            "['https://www.google.com/', 'https://www.naver.com/']\n"
          ]
        }
      ]
    },
    {
      "cell_type": "code",
      "source": [
        "# 4\n",
        "\n",
        "# 파일 찾기\n",
        "example = '제 바탕화면 보시면 sonata01.png 파일과 avante02.jpg 파일 그리고 socar2021.gif 파일이 존재합니다.'\n",
        "print(re.findall('[a-z]+\\d+\\.[a-z]+', example))\n",
        "# print(re.findall('[a-z0-9]+\\.[(png)|(jpg)|(gif)]+', example))"
      ],
      "metadata": {
        "id": "B1X4AlRxM6TW",
        "outputId": "dd1f8e26-3569-402c-ff17-780bc1d4308c",
        "colab": {
          "base_uri": "https://localhost:8080/"
        }
      },
      "execution_count": null,
      "outputs": [
        {
          "output_type": "stream",
          "name": "stdout",
          "text": [
            "['sonata01.png', 'avante02.jpg', 'socar2021.gif']\n"
          ]
        }
      ]
    },
    {
      "cell_type": "code",
      "source": [
        "example = '129'\n",
        "print(re.findall('[2345cde]', example))"
      ],
      "metadata": {
        "colab": {
          "base_uri": "https://localhost:8080/"
        },
        "id": "u_Q7GtLqhY5L",
        "outputId": "28b80674-3571-49ba-a9c3-0539d1aeef5b"
      },
      "execution_count": null,
      "outputs": [
        {
          "output_type": "stream",
          "name": "stdout",
          "text": [
            "['2']\n"
          ]
        }
      ]
    },
    {
      "cell_type": "code",
      "source": [
        "example = 'abcd'\n",
        "print(re.findall('([a-z])bc([a-z])', example))"
      ],
      "metadata": {
        "colab": {
          "base_uri": "https://localhost:8080/"
        },
        "id": "Adh8h3DDhZja",
        "outputId": "eb608256-0c87-4d20-a7b5-cce4bf8305bb"
      },
      "execution_count": null,
      "outputs": [
        {
          "output_type": "stream",
          "name": "stdout",
          "text": [
            "[('a', 'd')]\n"
          ]
        }
      ]
    },
    {
      "cell_type": "code",
      "source": [
        "example = 'abcd'\n",
        "print(re.findall('(([a-z])bc([a-z]))', example))"
      ],
      "metadata": {
        "id": "-4DvW70-M9XO",
        "colab": {
          "base_uri": "https://localhost:8080/"
        },
        "outputId": "96a12e8c-492f-4fd0-f4f4-9ff7b9602e0a"
      },
      "execution_count": null,
      "outputs": [
        {
          "output_type": "stream",
          "name": "stdout",
          "text": [
            "[('abcd', 'a', 'd')]\n"
          ]
        }
      ]
    },
    {
      "cell_type": "code",
      "source": [
        "example = 'abc5'\n",
        "print(re.findall('(([a-z])bc([a-z]))', example))"
      ],
      "metadata": {
        "colab": {
          "base_uri": "https://localhost:8080/"
        },
        "id": "2WUVwNVMhyyh",
        "outputId": "58813049-0bf0-48a3-d164-3017b130d1c5"
      },
      "execution_count": null,
      "outputs": [
        {
          "output_type": "stream",
          "name": "stdout",
          "text": [
            "[]\n"
          ]
        }
      ]
    }
  ]
}
