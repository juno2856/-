{
  "nbformat": 4,
  "nbformat_minor": 0,
  "metadata": {
    "colab": {
      "name": "네이버리뷰 감성분류.ipynb",
      "provenance": [],
      "collapsed_sections": [],
      "include_colab_link": true
    },
    "kernelspec": {
      "name": "python3",
      "display_name": "Python 3"
    },
    "language_info": {
      "name": "python"
    },
    "accelerator": "GPU"
  },
  "cells": [
    {
      "cell_type": "markdown",
      "metadata": {
        "id": "view-in-github",
        "colab_type": "text"
      },
      "source": [
        "<a href=\"https://colab.research.google.com/github/juno2856/deeplearning/blob/master/NLP/%EB%A6%AC%EB%B7%B0_%EA%B0%90%EC%84%B1%EB%B6%84%EB%A5%98.ipynb\" target=\"_parent\"><img src=\"https://colab.research.google.com/assets/colab-badge.svg\" alt=\"Open In Colab\"/></a>"
      ]
    },
    {
      "cell_type": "markdown",
      "source": [
        "\n",
        "# Proj: 네이버 영화 리뷰 감성 분류에 SentencePiece적용하기\n",
        "\n",
        "*   네이버 영화리뷰 감정 분석 코퍼스에 SentencePiece를 적용시킨 모델 학습하기\n",
        "*   학습된 모델로 sp_tokenize() 메소드 구현하기\n",
        "*   구현된 토크나이저를 적용하여 네이버 영화리뷰 감정 분석 모델을 재학습하기\n",
        "*   KoNLPy 형태소 분석기를 사용한 모델과 성능 비교하기\n",
        "*   (보너스) SentencePiece 모델의 model_type, vocab_size 등을 변경해 가면서 성능 개선 여부 확인하기\n",
        "\n",
        "\n",
        "\n",
        "\n",
        "\n",
        "\n"
      ],
      "metadata": {
        "id": "YFimUE6WcNQC"
      }
    },
    {
      "cell_type": "code",
      "source": [
        "!pip install sentencepiece"
      ],
      "metadata": {
        "colab": {
          "base_uri": "https://localhost:8080/"
        },
        "id": "WXLKctj6dwaa",
        "outputId": "ed3754f0-dba2-4f5c-bf1b-20d67e192f62"
      },
      "execution_count": 1,
      "outputs": [
        {
          "output_type": "stream",
          "name": "stdout",
          "text": [
            "Collecting sentencepiece\n",
            "  Downloading sentencepiece-0.1.96-cp37-cp37m-manylinux_2_17_x86_64.manylinux2014_x86_64.whl (1.2 MB)\n",
            "\u001b[?25l\r\u001b[K     |▎                               | 10 kB 28.7 MB/s eta 0:00:01\r\u001b[K     |▌                               | 20 kB 30.4 MB/s eta 0:00:01\r\u001b[K     |▉                               | 30 kB 12.8 MB/s eta 0:00:01\r\u001b[K     |█                               | 40 kB 10.8 MB/s eta 0:00:01\r\u001b[K     |█▍                              | 51 kB 9.3 MB/s eta 0:00:01\r\u001b[K     |█▋                              | 61 kB 10.8 MB/s eta 0:00:01\r\u001b[K     |██                              | 71 kB 11.0 MB/s eta 0:00:01\r\u001b[K     |██▏                             | 81 kB 10.0 MB/s eta 0:00:01\r\u001b[K     |██▍                             | 92 kB 10.9 MB/s eta 0:00:01\r\u001b[K     |██▊                             | 102 kB 11.5 MB/s eta 0:00:01\r\u001b[K     |███                             | 112 kB 11.5 MB/s eta 0:00:01\r\u001b[K     |███▎                            | 122 kB 11.5 MB/s eta 0:00:01\r\u001b[K     |███▌                            | 133 kB 11.5 MB/s eta 0:00:01\r\u001b[K     |███▉                            | 143 kB 11.5 MB/s eta 0:00:01\r\u001b[K     |████                            | 153 kB 11.5 MB/s eta 0:00:01\r\u001b[K     |████▎                           | 163 kB 11.5 MB/s eta 0:00:01\r\u001b[K     |████▋                           | 174 kB 11.5 MB/s eta 0:00:01\r\u001b[K     |████▉                           | 184 kB 11.5 MB/s eta 0:00:01\r\u001b[K     |█████▏                          | 194 kB 11.5 MB/s eta 0:00:01\r\u001b[K     |█████▍                          | 204 kB 11.5 MB/s eta 0:00:01\r\u001b[K     |█████▊                          | 215 kB 11.5 MB/s eta 0:00:01\r\u001b[K     |██████                          | 225 kB 11.5 MB/s eta 0:00:01\r\u001b[K     |██████▏                         | 235 kB 11.5 MB/s eta 0:00:01\r\u001b[K     |██████▌                         | 245 kB 11.5 MB/s eta 0:00:01\r\u001b[K     |██████▊                         | 256 kB 11.5 MB/s eta 0:00:01\r\u001b[K     |███████                         | 266 kB 11.5 MB/s eta 0:00:01\r\u001b[K     |███████▎                        | 276 kB 11.5 MB/s eta 0:00:01\r\u001b[K     |███████▋                        | 286 kB 11.5 MB/s eta 0:00:01\r\u001b[K     |███████▉                        | 296 kB 11.5 MB/s eta 0:00:01\r\u001b[K     |████████                        | 307 kB 11.5 MB/s eta 0:00:01\r\u001b[K     |████████▍                       | 317 kB 11.5 MB/s eta 0:00:01\r\u001b[K     |████████▋                       | 327 kB 11.5 MB/s eta 0:00:01\r\u001b[K     |█████████                       | 337 kB 11.5 MB/s eta 0:00:01\r\u001b[K     |█████████▏                      | 348 kB 11.5 MB/s eta 0:00:01\r\u001b[K     |█████████▌                      | 358 kB 11.5 MB/s eta 0:00:01\r\u001b[K     |█████████▊                      | 368 kB 11.5 MB/s eta 0:00:01\r\u001b[K     |██████████                      | 378 kB 11.5 MB/s eta 0:00:01\r\u001b[K     |██████████▎                     | 389 kB 11.5 MB/s eta 0:00:01\r\u001b[K     |██████████▌                     | 399 kB 11.5 MB/s eta 0:00:01\r\u001b[K     |██████████▉                     | 409 kB 11.5 MB/s eta 0:00:01\r\u001b[K     |███████████                     | 419 kB 11.5 MB/s eta 0:00:01\r\u001b[K     |███████████▍                    | 430 kB 11.5 MB/s eta 0:00:01\r\u001b[K     |███████████▋                    | 440 kB 11.5 MB/s eta 0:00:01\r\u001b[K     |███████████▉                    | 450 kB 11.5 MB/s eta 0:00:01\r\u001b[K     |████████████▏                   | 460 kB 11.5 MB/s eta 0:00:01\r\u001b[K     |████████████▍                   | 471 kB 11.5 MB/s eta 0:00:01\r\u001b[K     |████████████▊                   | 481 kB 11.5 MB/s eta 0:00:01\r\u001b[K     |█████████████                   | 491 kB 11.5 MB/s eta 0:00:01\r\u001b[K     |█████████████▎                  | 501 kB 11.5 MB/s eta 0:00:01\r\u001b[K     |█████████████▌                  | 512 kB 11.5 MB/s eta 0:00:01\r\u001b[K     |█████████████▊                  | 522 kB 11.5 MB/s eta 0:00:01\r\u001b[K     |██████████████                  | 532 kB 11.5 MB/s eta 0:00:01\r\u001b[K     |██████████████▎                 | 542 kB 11.5 MB/s eta 0:00:01\r\u001b[K     |██████████████▋                 | 552 kB 11.5 MB/s eta 0:00:01\r\u001b[K     |██████████████▉                 | 563 kB 11.5 MB/s eta 0:00:01\r\u001b[K     |███████████████▏                | 573 kB 11.5 MB/s eta 0:00:01\r\u001b[K     |███████████████▍                | 583 kB 11.5 MB/s eta 0:00:01\r\u001b[K     |███████████████▋                | 593 kB 11.5 MB/s eta 0:00:01\r\u001b[K     |████████████████                | 604 kB 11.5 MB/s eta 0:00:01\r\u001b[K     |████████████████▏               | 614 kB 11.5 MB/s eta 0:00:01\r\u001b[K     |████████████████▌               | 624 kB 11.5 MB/s eta 0:00:01\r\u001b[K     |████████████████▊               | 634 kB 11.5 MB/s eta 0:00:01\r\u001b[K     |█████████████████               | 645 kB 11.5 MB/s eta 0:00:01\r\u001b[K     |█████████████████▎              | 655 kB 11.5 MB/s eta 0:00:01\r\u001b[K     |█████████████████▌              | 665 kB 11.5 MB/s eta 0:00:01\r\u001b[K     |█████████████████▉              | 675 kB 11.5 MB/s eta 0:00:01\r\u001b[K     |██████████████████              | 686 kB 11.5 MB/s eta 0:00:01\r\u001b[K     |██████████████████▍             | 696 kB 11.5 MB/s eta 0:00:01\r\u001b[K     |██████████████████▋             | 706 kB 11.5 MB/s eta 0:00:01\r\u001b[K     |███████████████████             | 716 kB 11.5 MB/s eta 0:00:01\r\u001b[K     |███████████████████▏            | 727 kB 11.5 MB/s eta 0:00:01\r\u001b[K     |███████████████████▍            | 737 kB 11.5 MB/s eta 0:00:01\r\u001b[K     |███████████████████▊            | 747 kB 11.5 MB/s eta 0:00:01\r\u001b[K     |████████████████████            | 757 kB 11.5 MB/s eta 0:00:01\r\u001b[K     |████████████████████▎           | 768 kB 11.5 MB/s eta 0:00:01\r\u001b[K     |████████████████████▌           | 778 kB 11.5 MB/s eta 0:00:01\r\u001b[K     |████████████████████▉           | 788 kB 11.5 MB/s eta 0:00:01\r\u001b[K     |█████████████████████           | 798 kB 11.5 MB/s eta 0:00:01\r\u001b[K     |█████████████████████▎          | 808 kB 11.5 MB/s eta 0:00:01\r\u001b[K     |█████████████████████▋          | 819 kB 11.5 MB/s eta 0:00:01\r\u001b[K     |█████████████████████▉          | 829 kB 11.5 MB/s eta 0:00:01\r\u001b[K     |██████████████████████▏         | 839 kB 11.5 MB/s eta 0:00:01\r\u001b[K     |██████████████████████▍         | 849 kB 11.5 MB/s eta 0:00:01\r\u001b[K     |██████████████████████▊         | 860 kB 11.5 MB/s eta 0:00:01\r\u001b[K     |███████████████████████         | 870 kB 11.5 MB/s eta 0:00:01\r\u001b[K     |███████████████████████▏        | 880 kB 11.5 MB/s eta 0:00:01\r\u001b[K     |███████████████████████▌        | 890 kB 11.5 MB/s eta 0:00:01\r\u001b[K     |███████████████████████▊        | 901 kB 11.5 MB/s eta 0:00:01\r\u001b[K     |████████████████████████        | 911 kB 11.5 MB/s eta 0:00:01\r\u001b[K     |████████████████████████▎       | 921 kB 11.5 MB/s eta 0:00:01\r\u001b[K     |████████████████████████▋       | 931 kB 11.5 MB/s eta 0:00:01\r\u001b[K     |████████████████████████▉       | 942 kB 11.5 MB/s eta 0:00:01\r\u001b[K     |█████████████████████████       | 952 kB 11.5 MB/s eta 0:00:01\r\u001b[K     |█████████████████████████▍      | 962 kB 11.5 MB/s eta 0:00:01\r\u001b[K     |█████████████████████████▋      | 972 kB 11.5 MB/s eta 0:00:01\r\u001b[K     |██████████████████████████      | 983 kB 11.5 MB/s eta 0:00:01\r\u001b[K     |██████████████████████████▏     | 993 kB 11.5 MB/s eta 0:00:01\r\u001b[K     |██████████████████████████▌     | 1.0 MB 11.5 MB/s eta 0:00:01\r\u001b[K     |██████████████████████████▊     | 1.0 MB 11.5 MB/s eta 0:00:01\r\u001b[K     |███████████████████████████     | 1.0 MB 11.5 MB/s eta 0:00:01\r\u001b[K     |███████████████████████████▎    | 1.0 MB 11.5 MB/s eta 0:00:01\r\u001b[K     |███████████████████████████▌    | 1.0 MB 11.5 MB/s eta 0:00:01\r\u001b[K     |███████████████████████████▉    | 1.1 MB 11.5 MB/s eta 0:00:01\r\u001b[K     |████████████████████████████    | 1.1 MB 11.5 MB/s eta 0:00:01\r\u001b[K     |████████████████████████████▍   | 1.1 MB 11.5 MB/s eta 0:00:01\r\u001b[K     |████████████████████████████▋   | 1.1 MB 11.5 MB/s eta 0:00:01\r\u001b[K     |████████████████████████████▉   | 1.1 MB 11.5 MB/s eta 0:00:01\r\u001b[K     |█████████████████████████████▏  | 1.1 MB 11.5 MB/s eta 0:00:01\r\u001b[K     |█████████████████████████████▍  | 1.1 MB 11.5 MB/s eta 0:00:01\r\u001b[K     |█████████████████████████████▊  | 1.1 MB 11.5 MB/s eta 0:00:01\r\u001b[K     |██████████████████████████████  | 1.1 MB 11.5 MB/s eta 0:00:01\r\u001b[K     |██████████████████████████████▎ | 1.1 MB 11.5 MB/s eta 0:00:01\r\u001b[K     |██████████████████████████████▌ | 1.2 MB 11.5 MB/s eta 0:00:01\r\u001b[K     |██████████████████████████████▊ | 1.2 MB 11.5 MB/s eta 0:00:01\r\u001b[K     |███████████████████████████████ | 1.2 MB 11.5 MB/s eta 0:00:01\r\u001b[K     |███████████████████████████████▎| 1.2 MB 11.5 MB/s eta 0:00:01\r\u001b[K     |███████████████████████████████▋| 1.2 MB 11.5 MB/s eta 0:00:01\r\u001b[K     |███████████████████████████████▉| 1.2 MB 11.5 MB/s eta 0:00:01\r\u001b[K     |████████████████████████████████| 1.2 MB 11.5 MB/s \n",
            "\u001b[?25hInstalling collected packages: sentencepiece\n",
            "Successfully installed sentencepiece-0.1.96\n"
          ]
        }
      ]
    },
    {
      "cell_type": "code",
      "source": [
        "import matplotlib.pyplot as plt"
      ],
      "metadata": {
        "id": "87EfsFseHpV2"
      },
      "execution_count": 2,
      "outputs": []
    },
    {
      "cell_type": "code",
      "source": [
        "import re, collections\n",
        "import pandas as pd\n",
        "import sentencepiece as spm\n",
        "import urllib.request\n",
        "import csv\n",
        "import tensorflow as tf\n",
        "from tensorflow import keras\n",
        "from tensorflow.keras.preprocessing.text import Tokenizer\n",
        "import numpy as np\n",
        "from tensorflow.keras.preprocessing.sequence import pad_sequences\n",
        "from collections import Counter"
      ],
      "metadata": {
        "id": "3dollrWkdlx4"
      },
      "execution_count": 3,
      "outputs": []
    },
    {
      "cell_type": "code",
      "execution_count": 4,
      "metadata": {
        "colab": {
          "base_uri": "https://localhost:8080/"
        },
        "id": "PZt5lvg4cFVF",
        "outputId": "e1a2d666-f6bc-4602-912e-b62fc48c2265"
      },
      "outputs": [
        {
          "output_type": "stream",
          "name": "stdout",
          "text": [
            "--2022-05-23 00:19:28--  https://github.com/jungyeul/korean-parallel-corpora/raw/master/korean-english-news-v1/korean-english-park.train.tar.gz\n",
            "Resolving github.com (github.com)... 140.82.113.4\n",
            "Connecting to github.com (github.com)|140.82.113.4|:443... connected.\n",
            "HTTP request sent, awaiting response... 302 Found\n",
            "Location: https://raw.githubusercontent.com/jungyeul/korean-parallel-corpora/master/korean-english-news-v1/korean-english-park.train.tar.gz [following]\n",
            "--2022-05-23 00:19:28--  https://raw.githubusercontent.com/jungyeul/korean-parallel-corpora/master/korean-english-news-v1/korean-english-park.train.tar.gz\n",
            "Resolving raw.githubusercontent.com (raw.githubusercontent.com)... 185.199.108.133, 185.199.109.133, 185.199.110.133, ...\n",
            "Connecting to raw.githubusercontent.com (raw.githubusercontent.com)|185.199.108.133|:443... connected.\n",
            "HTTP request sent, awaiting response... 200 OK\n",
            "Length: 8718893 (8.3M) [application/octet-stream]\n",
            "Saving to: ‘korean-english-park.train.tar.gz’\n",
            "\n",
            "korean-english-park 100%[===================>]   8.31M  --.-KB/s    in 0.04s   \n",
            "\n",
            "2022-05-23 00:19:28 (187 MB/s) - ‘korean-english-park.train.tar.gz’ saved [8718893/8718893]\n",
            "\n"
          ]
        }
      ],
      "source": [
        "!wget https://github.com/jungyeul/korean-parallel-corpora/raw/master/korean-english-news-v1/korean-english-park.train.tar.gz"
      ]
    },
    {
      "cell_type": "code",
      "source": [
        "!tar -xzvf korean-english-park.train.tar.gz"
      ],
      "metadata": {
        "colab": {
          "base_uri": "https://localhost:8080/"
        },
        "id": "86QuIPppcgQ3",
        "outputId": "2d468480-ed80-4fb2-bd26-0a1ce94db819"
      },
      "execution_count": 5,
      "outputs": [
        {
          "output_type": "stream",
          "name": "stdout",
          "text": [
            "korean-english-park.train.en\n",
            "korean-english-park.train.ko\n"
          ]
        }
      ]
    },
    {
      "cell_type": "markdown",
      "source": [
        "1) 매개변수로 토큰화된 문장의 list를 전달하는 대신 온전한 문장의 list 를 전달합니다.\n",
        "\n",
        "2) 생성된 vocab 파일을 읽어와 { <word> : <idx> } 형태를 가지는 word_index 사전과 { <idx> : <word>} 형태를 가지는 index_word 사전을 생성하고 함께 반환합니다.\n",
        "\n",
        "3) 리턴값인 tensor 는 앞의 함수와 동일하게 토큰화한 후 Encoding된 문장입니다. 바로 학습에 사용할 수 있게 Padding은 당연히 해야겠죠?"
      ],
      "metadata": {
        "id": "Dbd272LdcpV5"
      }
    },
    {
      "cell_type": "code",
      "source": [
        "urllib.request.urlretrieve(\"https://raw.githubusercontent.com/e9t/nsmc/master/ratings_train.txt\", filename=\"ratings_train.txt\") # train\n",
        "urllib.request.urlretrieve(\"https://raw.githubusercontent.com/e9t/nsmc/master/ratings_test.txt\", filename=\"ratings_test.txt\") # test\n",
        "urllib.request.urlretrieve(\"https://raw.githubusercontent.com/e9t/nsmc/master/ratings.txt\", filename=\"ratings.txt\") # train + test"
      ],
      "metadata": {
        "colab": {
          "base_uri": "https://localhost:8080/"
        },
        "id": "OCd_87ZzcgfH",
        "outputId": "1df76dfe-6d23-47e9-d5e4-b65adba88617"
      },
      "execution_count": 6,
      "outputs": [
        {
          "output_type": "execute_result",
          "data": {
            "text/plain": [
              "('ratings.txt', <http.client.HTTPMessage at 0x7f87d57c7c90>)"
            ]
          },
          "metadata": {},
          "execution_count": 6
        }
      ]
    },
    {
      "cell_type": "code",
      "source": [
        "train_data =pd.read_table('ratings_train.txt')\n",
        "test_data =pd.read_table('ratings_test.txt')"
      ],
      "metadata": {
        "id": "7QR5Cp0gcgiC"
      },
      "execution_count": 7,
      "outputs": []
    },
    {
      "cell_type": "code",
      "source": [
        "train_data.drop_duplicates(subset = ['document'], inplace = True)\n",
        "test_data.drop_duplicates(subset = ['document'], inplace = True)"
      ],
      "metadata": {
        "id": "vb_DeN1gyiur"
      },
      "execution_count": 8,
      "outputs": []
    },
    {
      "cell_type": "code",
      "source": [
        "print(train_data.isnull().values.any())\n",
        "print(test_data.isnull().values.any())"
      ],
      "metadata": {
        "colab": {
          "base_uri": "https://localhost:8080/"
        },
        "id": "7SxJClkqoni6",
        "outputId": "27a3f3c5-678f-4004-e2d7-08507de5bd99"
      },
      "execution_count": 9,
      "outputs": [
        {
          "output_type": "stream",
          "name": "stdout",
          "text": [
            "True\n",
            "True\n"
          ]
        }
      ]
    },
    {
      "cell_type": "code",
      "source": [
        "train_data = train_data.dropna(how='any')\n",
        "test_data = test_data.dropna(how='any')"
      ],
      "metadata": {
        "id": "cq8h0O42oxNz"
      },
      "execution_count": 10,
      "outputs": []
    },
    {
      "cell_type": "code",
      "source": [
        "print(train_data.isnull().values.any())\n",
        "print(test_data.isnull().values.any())"
      ],
      "metadata": {
        "colab": {
          "base_uri": "https://localhost:8080/"
        },
        "id": "MH-51FmSo31h",
        "outputId": "baeff5e5-4633-4527-a6df-276c94f8e35e"
      },
      "execution_count": 11,
      "outputs": [
        {
          "output_type": "stream",
          "name": "stdout",
          "text": [
            "False\n",
            "False\n"
          ]
        }
      ]
    },
    {
      "cell_type": "code",
      "source": [
        "print('리뷰 갯수 :', len(train_data))\n",
        "print('리뷰 갯수 :', len(test_data))"
      ],
      "metadata": {
        "colab": {
          "base_uri": "https://localhost:8080/"
        },
        "id": "DKs8hh17o8gq",
        "outputId": "8fbdd937-61f8-4750-e00b-354a8551586b"
      },
      "execution_count": 12,
      "outputs": [
        {
          "output_type": "stream",
          "name": "stdout",
          "text": [
            "리뷰 갯수 : 146182\n",
            "리뷰 갯수 : 49157\n"
          ]
        }
      ]
    },
    {
      "cell_type": "code",
      "source": [
        "vocab_size = 8000\n",
        "temp_file = '/content/korean-english-park.train.ko'\n",
        "spm.SentencePieceTrainer.Train(\n",
        "    '--input={} --model_prefix=korean_spm --vocab_size={} --model_type=bpe'.format(temp_file, vocab_size) )"
      ],
      "metadata": {
        "id": "ft4ZmzjjpNcK"
      },
      "execution_count": 13,
      "outputs": []
    },
    {
      "cell_type": "code",
      "source": [
        "s = spm.SentencePieceProcessor()\n",
        "s.Load('korean_spm.model')\n",
        "\n",
        "def sp_tokenize(s, corpus):\n",
        "\n",
        "    tensor = []\n",
        "\n",
        "    for sen in corpus:\n",
        "        tensor.append(s.EncodeAsIds(sen))\n",
        "\n",
        "    with open(\"./korean_spm.vocab\", 'r') as f:\n",
        "        vocab = f.readlines()\n",
        "\n",
        "    word_index = {}\n",
        "    index_word = {}\n",
        "\n",
        "    for idx, line in enumerate(vocab):\n",
        "        word = line.split(\"\\t\")[0]\n",
        "\n",
        "        word_index.update({idx:word})\n",
        "        index_word.update({word:idx})\n",
        "\n",
        "    tensor = tf.keras.preprocessing.sequence.pad_sequences(tensor, padding='post')\n",
        "\n",
        "    return tensor, word_index, index_word"
      ],
      "metadata": {
        "id": "WWcY6e2Dpc6x"
      },
      "execution_count": 14,
      "outputs": []
    },
    {
      "cell_type": "code",
      "source": [
        "# sp_tokenize(s, corpus) 사용예제\n",
        "\n",
        "my_corpus = ['나는 밥을 먹었습니다.', '그러나 여전히 ㅠㅠ 배가 고픕니다...', '아 더빙.. 진짜 짜증나네요 목소리']\n",
        "tensor, word_index, index_word = sp_tokenize(s, my_corpus)\n",
        "print(tensor)"
      ],
      "metadata": {
        "colab": {
          "base_uri": "https://localhost:8080/"
        },
        "id": "AM1jO34DphJp",
        "outputId": "6d5d52a4-021e-4fc1-b7ea-5ea6d8cd3098"
      },
      "execution_count": 15,
      "outputs": [
        {
          "output_type": "stream",
          "name": "stdout",
          "text": [
            "[[2200 6676 7652 6684 1633 2140 6679    0    0    0    0    0    0    0]\n",
            " [ 219 2188 6676    0  269 6686   80    0   63  221    0    0    0    0]\n",
            " [  19  135 7423  205  181 7374 6676 7374 6956 6724 6961 6812 2949 6698]]\n"
          ]
        }
      ]
    },
    {
      "cell_type": "code",
      "source": [
        "x_train, _, _ = sp_tokenize(s, train_data['document'])\n",
        "x_test, _, _ = sp_tokenize(s, test_data['document'])\n",
        "\n",
        "y_train = np.array(list(train_data['label'])).reshape(-1,1)\n",
        "y_test = np.array(list(test_data['label'])).reshape(-1,1)"
      ],
      "metadata": {
        "id": "KpNXkDt-_TyC"
      },
      "execution_count": 16,
      "outputs": []
    },
    {
      "cell_type": "code",
      "source": [
        "print(x_train.shape)\n",
        "print(x_test.shape)"
      ],
      "metadata": {
        "colab": {
          "base_uri": "https://localhost:8080/"
        },
        "id": "boir3M9f1FD_",
        "outputId": "49ff6aaf-4ce9-4c02-862d-4d99f7bcd1b2"
      },
      "execution_count": 17,
      "outputs": [
        {
          "output_type": "stream",
          "name": "stdout",
          "text": [
            "(146182, 140)\n",
            "(49157, 140)\n"
          ]
        }
      ]
    },
    {
      "cell_type": "code",
      "source": [
        "print(x_train.shape)\n",
        "print(y_train.shape)"
      ],
      "metadata": {
        "colab": {
          "base_uri": "https://localhost:8080/"
        },
        "id": "lXr-aYXu-OTZ",
        "outputId": "98210537-4dd9-47e0-e96a-685f3960278d"
      },
      "execution_count": 18,
      "outputs": [
        {
          "output_type": "stream",
          "name": "stdout",
          "text": [
            "(146182, 140)\n",
            "(146182, 1)\n"
          ]
        }
      ]
    },
    {
      "cell_type": "code",
      "source": [
        "vocab_size = 10000\n",
        "word_vector_dim = 200 # 2의 배수로 지정\n",
        "\n",
        "\n",
        "model = keras.Sequential()\n",
        "model.add(keras.layers.Embedding(vocab_size, word_vector_dim, input_shape=(None,)))\n",
        "model.add(keras.layers.LSTM(30, return_sequences= True))\n",
        "model.add(keras.layers.Dropout(0.3))\n",
        "model.add(keras.layers.LSTM(30, return_sequences= True))\n",
        "model.add(keras.layers.Dropout(0.3))\n",
        "model.add(keras.layers.Dense(1, activation = 'sigmoid'))\n",
        "model.summary()"
      ],
      "metadata": {
        "colab": {
          "base_uri": "https://localhost:8080/"
        },
        "id": "pD75wB7Z1NrB",
        "outputId": "42b56583-af85-49b5-bd7a-9c6d277c2cde"
      },
      "execution_count": 19,
      "outputs": [
        {
          "output_type": "stream",
          "name": "stdout",
          "text": [
            "Model: \"sequential\"\n",
            "_________________________________________________________________\n",
            " Layer (type)                Output Shape              Param #   \n",
            "=================================================================\n",
            " embedding (Embedding)       (None, None, 200)         2000000   \n",
            "                                                                 \n",
            " lstm (LSTM)                 (None, None, 30)          27720     \n",
            "                                                                 \n",
            " dropout (Dropout)           (None, None, 30)          0         \n",
            "                                                                 \n",
            " lstm_1 (LSTM)               (None, None, 30)          7320      \n",
            "                                                                 \n",
            " dropout_1 (Dropout)         (None, None, 30)          0         \n",
            "                                                                 \n",
            " dense (Dense)               (None, None, 1)           31        \n",
            "                                                                 \n",
            "=================================================================\n",
            "Total params: 2,035,071\n",
            "Trainable params: 2,035,071\n",
            "Non-trainable params: 0\n",
            "_________________________________________________________________\n"
          ]
        }
      ]
    },
    {
      "cell_type": "code",
      "source": [
        "x_val = x_train[:50000]\n",
        "y_val = y_train[:50000]\n",
        "\n",
        "partial_x_train = x_train[50000:]\n",
        "partial_y_train = y_train[50000:]"
      ],
      "metadata": {
        "id": "4sjwLkyt1P8a"
      },
      "execution_count": 20,
      "outputs": []
    },
    {
      "cell_type": "code",
      "source": [
        "model.compile(optimizer = 'adam',\n",
        "              loss = 'binary_crossentropy',\n",
        "              metrics = ['accuracy'])\n",
        "epochs = 100"
      ],
      "metadata": {
        "id": "P_ks4pKA8aca"
      },
      "execution_count": 21,
      "outputs": []
    },
    {
      "cell_type": "code",
      "source": [
        "history = model.fit(partial_x_train, partial_y_train, epochs = epochs, \n",
        "                    batch_size = 512, validation_data = (x_val, y_val), verbose = 1)"
      ],
      "metadata": {
        "colab": {
          "base_uri": "https://localhost:8080/"
        },
        "id": "LjJIZj5i8cCi",
        "outputId": "12b43d86-25a6-4925-93c3-bc7dc3ccfb65"
      },
      "execution_count": 22,
      "outputs": [
        {
          "output_type": "stream",
          "name": "stdout",
          "text": [
            "Epoch 1/100\n",
            "188/188 [==============================] - 14s 32ms/step - loss: 0.5456 - accuracy: 0.7219 - val_loss: 0.4423 - val_accuracy: 0.7950\n",
            "Epoch 2/100\n",
            "188/188 [==============================] - 5s 27ms/step - loss: 0.4240 - accuracy: 0.8100 - val_loss: 0.4332 - val_accuracy: 0.7897\n",
            "Epoch 3/100\n",
            "188/188 [==============================] - 5s 27ms/step - loss: 0.4009 - accuracy: 0.8193 - val_loss: 0.4090 - val_accuracy: 0.8112\n",
            "Epoch 4/100\n",
            "188/188 [==============================] - 5s 27ms/step - loss: 0.3754 - accuracy: 0.8302 - val_loss: 0.4039 - val_accuracy: 0.8142\n",
            "Epoch 5/100\n",
            "188/188 [==============================] - 5s 27ms/step - loss: 0.3581 - accuracy: 0.8380 - val_loss: 0.4068 - val_accuracy: 0.8175\n",
            "Epoch 6/100\n",
            "188/188 [==============================] - 5s 27ms/step - loss: 0.3401 - accuracy: 0.8463 - val_loss: 0.4228 - val_accuracy: 0.8105\n",
            "Epoch 7/100\n",
            "188/188 [==============================] - 5s 28ms/step - loss: 0.3250 - accuracy: 0.8549 - val_loss: 0.4268 - val_accuracy: 0.8181\n",
            "Epoch 8/100\n",
            "188/188 [==============================] - 5s 27ms/step - loss: 0.3086 - accuracy: 0.8649 - val_loss: 0.4245 - val_accuracy: 0.8176\n",
            "Epoch 9/100\n",
            "188/188 [==============================] - 5s 27ms/step - loss: 0.2951 - accuracy: 0.8731 - val_loss: 0.4457 - val_accuracy: 0.8142\n",
            "Epoch 10/100\n",
            "188/188 [==============================] - 5s 28ms/step - loss: 0.2841 - accuracy: 0.8792 - val_loss: 0.4677 - val_accuracy: 0.8165\n",
            "Epoch 11/100\n",
            "188/188 [==============================] - 5s 28ms/step - loss: 0.2729 - accuracy: 0.8848 - val_loss: 0.4472 - val_accuracy: 0.8125\n",
            "Epoch 12/100\n",
            "188/188 [==============================] - 6s 32ms/step - loss: 0.2606 - accuracy: 0.8917 - val_loss: 0.4780 - val_accuracy: 0.8089\n",
            "Epoch 13/100\n",
            "188/188 [==============================] - 5s 28ms/step - loss: 0.2509 - accuracy: 0.8972 - val_loss: 0.4796 - val_accuracy: 0.8155\n",
            "Epoch 14/100\n",
            "188/188 [==============================] - 5s 28ms/step - loss: 0.2403 - accuracy: 0.9024 - val_loss: 0.4970 - val_accuracy: 0.8117\n",
            "Epoch 15/100\n",
            "188/188 [==============================] - 5s 28ms/step - loss: 0.2366 - accuracy: 0.9050 - val_loss: 0.5093 - val_accuracy: 0.8153\n",
            "Epoch 16/100\n",
            "188/188 [==============================] - 5s 29ms/step - loss: 0.2224 - accuracy: 0.9112 - val_loss: 0.5035 - val_accuracy: 0.8118\n",
            "Epoch 17/100\n",
            "188/188 [==============================] - 5s 28ms/step - loss: 0.2155 - accuracy: 0.9153 - val_loss: 0.5257 - val_accuracy: 0.8107\n",
            "Epoch 18/100\n",
            "188/188 [==============================] - 5s 28ms/step - loss: 0.2073 - accuracy: 0.9191 - val_loss: 0.5101 - val_accuracy: 0.8112\n",
            "Epoch 19/100\n",
            "188/188 [==============================] - 5s 28ms/step - loss: 0.2063 - accuracy: 0.9205 - val_loss: 0.5320 - val_accuracy: 0.8095\n",
            "Epoch 20/100\n",
            "188/188 [==============================] - 5s 28ms/step - loss: 0.1972 - accuracy: 0.9238 - val_loss: 0.5500 - val_accuracy: 0.8097\n",
            "Epoch 21/100\n",
            "188/188 [==============================] - 5s 28ms/step - loss: 0.1881 - accuracy: 0.9288 - val_loss: 0.5722 - val_accuracy: 0.8078\n",
            "Epoch 22/100\n",
            "188/188 [==============================] - 5s 27ms/step - loss: 0.1857 - accuracy: 0.9298 - val_loss: 0.5378 - val_accuracy: 0.8123\n",
            "Epoch 23/100\n",
            "188/188 [==============================] - 5s 28ms/step - loss: 0.1788 - accuracy: 0.9332 - val_loss: 0.5553 - val_accuracy: 0.8032\n",
            "Epoch 24/100\n",
            "188/188 [==============================] - 5s 27ms/step - loss: 0.1803 - accuracy: 0.9326 - val_loss: 0.5679 - val_accuracy: 0.8124\n",
            "Epoch 25/100\n",
            "188/188 [==============================] - 5s 28ms/step - loss: 0.1712 - accuracy: 0.9362 - val_loss: 0.5726 - val_accuracy: 0.8093\n",
            "Epoch 26/100\n",
            "188/188 [==============================] - 5s 27ms/step - loss: 0.1763 - accuracy: 0.9348 - val_loss: 0.6166 - val_accuracy: 0.8088\n",
            "Epoch 27/100\n",
            "188/188 [==============================] - 5s 27ms/step - loss: 0.1708 - accuracy: 0.9371 - val_loss: 0.5790 - val_accuracy: 0.8071\n",
            "Epoch 28/100\n",
            "188/188 [==============================] - 5s 27ms/step - loss: 0.1661 - accuracy: 0.9386 - val_loss: 0.5956 - val_accuracy: 0.8049\n",
            "Epoch 29/100\n",
            "188/188 [==============================] - 5s 27ms/step - loss: 0.1774 - accuracy: 0.9358 - val_loss: 0.5452 - val_accuracy: 0.8049\n",
            "Epoch 30/100\n",
            "188/188 [==============================] - 5s 27ms/step - loss: 0.1634 - accuracy: 0.9403 - val_loss: 0.6269 - val_accuracy: 0.8081\n",
            "Epoch 31/100\n",
            "188/188 [==============================] - 5s 28ms/step - loss: 0.1480 - accuracy: 0.9467 - val_loss: 0.6307 - val_accuracy: 0.8048\n",
            "Epoch 32/100\n",
            "188/188 [==============================] - 5s 27ms/step - loss: 0.1665 - accuracy: 0.9399 - val_loss: 0.5960 - val_accuracy: 0.8007\n",
            "Epoch 33/100\n",
            "188/188 [==============================] - 5s 28ms/step - loss: 0.1555 - accuracy: 0.9436 - val_loss: 0.5932 - val_accuracy: 0.8070\n",
            "Epoch 34/100\n",
            "188/188 [==============================] - 5s 28ms/step - loss: 0.1461 - accuracy: 0.9468 - val_loss: 0.6422 - val_accuracy: 0.8110\n",
            "Epoch 35/100\n",
            "188/188 [==============================] - 5s 28ms/step - loss: 0.1419 - accuracy: 0.9490 - val_loss: 0.6703 - val_accuracy: 0.8050\n",
            "Epoch 36/100\n",
            "188/188 [==============================] - 5s 27ms/step - loss: 0.1431 - accuracy: 0.9489 - val_loss: 0.6155 - val_accuracy: 0.8004\n",
            "Epoch 37/100\n",
            "188/188 [==============================] - 5s 28ms/step - loss: 0.1433 - accuracy: 0.9489 - val_loss: 0.6524 - val_accuracy: 0.8092\n",
            "Epoch 38/100\n",
            "188/188 [==============================] - 5s 28ms/step - loss: 0.1322 - accuracy: 0.9530 - val_loss: 0.6633 - val_accuracy: 0.8098\n",
            "Epoch 39/100\n",
            "188/188 [==============================] - 5s 28ms/step - loss: 0.1347 - accuracy: 0.9521 - val_loss: 0.6603 - val_accuracy: 0.8111\n",
            "Epoch 40/100\n",
            "188/188 [==============================] - 5s 27ms/step - loss: 0.1347 - accuracy: 0.9518 - val_loss: 0.6821 - val_accuracy: 0.8023\n",
            "Epoch 41/100\n",
            "188/188 [==============================] - 5s 27ms/step - loss: 0.1411 - accuracy: 0.9493 - val_loss: 0.6663 - val_accuracy: 0.8058\n",
            "Epoch 42/100\n",
            "188/188 [==============================] - 5s 28ms/step - loss: 0.1235 - accuracy: 0.9558 - val_loss: 0.6743 - val_accuracy: 0.8077\n",
            "Epoch 43/100\n",
            "188/188 [==============================] - 5s 28ms/step - loss: 0.1506 - accuracy: 0.9445 - val_loss: 0.5579 - val_accuracy: 0.8048\n",
            "Epoch 44/100\n",
            "188/188 [==============================] - 5s 27ms/step - loss: 0.1550 - accuracy: 0.9424 - val_loss: 0.6453 - val_accuracy: 0.8068\n",
            "Epoch 45/100\n",
            "188/188 [==============================] - 5s 28ms/step - loss: 0.1273 - accuracy: 0.9542 - val_loss: 0.7112 - val_accuracy: 0.8063\n",
            "Epoch 46/100\n",
            "188/188 [==============================] - 5s 27ms/step - loss: 0.1190 - accuracy: 0.9575 - val_loss: 0.7487 - val_accuracy: 0.8055\n",
            "Epoch 47/100\n",
            "188/188 [==============================] - 5s 28ms/step - loss: 0.1132 - accuracy: 0.9599 - val_loss: 0.7145 - val_accuracy: 0.8080\n",
            "Epoch 48/100\n",
            "188/188 [==============================] - 5s 28ms/step - loss: 0.1131 - accuracy: 0.9594 - val_loss: 0.7913 - val_accuracy: 0.8040\n",
            "Epoch 49/100\n",
            "188/188 [==============================] - 5s 28ms/step - loss: 0.1086 - accuracy: 0.9614 - val_loss: 0.7443 - val_accuracy: 0.8043\n",
            "Epoch 50/100\n",
            "188/188 [==============================] - 5s 27ms/step - loss: 0.1056 - accuracy: 0.9623 - val_loss: 0.7661 - val_accuracy: 0.8051\n",
            "Epoch 51/100\n",
            "188/188 [==============================] - 5s 28ms/step - loss: 0.1023 - accuracy: 0.9633 - val_loss: 0.7945 - val_accuracy: 0.8052\n",
            "Epoch 52/100\n",
            "188/188 [==============================] - 5s 27ms/step - loss: 0.1125 - accuracy: 0.9597 - val_loss: 0.7319 - val_accuracy: 0.8069\n",
            "Epoch 53/100\n",
            "188/188 [==============================] - 5s 27ms/step - loss: 0.1049 - accuracy: 0.9625 - val_loss: 0.7855 - val_accuracy: 0.8067\n",
            "Epoch 54/100\n",
            "188/188 [==============================] - 5s 27ms/step - loss: 0.1009 - accuracy: 0.9639 - val_loss: 0.7750 - val_accuracy: 0.7992\n",
            "Epoch 55/100\n",
            "188/188 [==============================] - 5s 27ms/step - loss: 0.1053 - accuracy: 0.9619 - val_loss: 0.7896 - val_accuracy: 0.8080\n",
            "Epoch 56/100\n",
            "188/188 [==============================] - 5s 27ms/step - loss: 0.0990 - accuracy: 0.9642 - val_loss: 0.8219 - val_accuracy: 0.8060\n",
            "Epoch 57/100\n",
            "188/188 [==============================] - 5s 27ms/step - loss: 0.0979 - accuracy: 0.9645 - val_loss: 0.8205 - val_accuracy: 0.8071\n",
            "Epoch 58/100\n",
            "188/188 [==============================] - 5s 28ms/step - loss: 0.1254 - accuracy: 0.9537 - val_loss: 0.7768 - val_accuracy: 0.8064\n",
            "Epoch 59/100\n",
            "188/188 [==============================] - 5s 27ms/step - loss: 0.1321 - accuracy: 0.9490 - val_loss: 0.7541 - val_accuracy: 0.8077\n",
            "Epoch 60/100\n",
            "188/188 [==============================] - 5s 27ms/step - loss: 0.1126 - accuracy: 0.9581 - val_loss: 0.7791 - val_accuracy: 0.8080\n",
            "Epoch 61/100\n",
            "188/188 [==============================] - 5s 27ms/step - loss: 0.1002 - accuracy: 0.9629 - val_loss: 0.7824 - val_accuracy: 0.8065\n",
            "Epoch 62/100\n",
            "188/188 [==============================] - 5s 28ms/step - loss: 0.0957 - accuracy: 0.9644 - val_loss: 0.8542 - val_accuracy: 0.8035\n",
            "Epoch 63/100\n",
            "188/188 [==============================] - 5s 28ms/step - loss: 0.0927 - accuracy: 0.9654 - val_loss: 0.8516 - val_accuracy: 0.8054\n",
            "Epoch 64/100\n",
            "188/188 [==============================] - 5s 28ms/step - loss: 0.0890 - accuracy: 0.9664 - val_loss: 0.8781 - val_accuracy: 0.8047\n",
            "Epoch 65/100\n",
            "188/188 [==============================] - 5s 28ms/step - loss: 0.0866 - accuracy: 0.9674 - val_loss: 0.8766 - val_accuracy: 0.8051\n",
            "Epoch 66/100\n",
            "188/188 [==============================] - 5s 28ms/step - loss: 0.0950 - accuracy: 0.9646 - val_loss: 0.7620 - val_accuracy: 0.8061\n",
            "Epoch 67/100\n",
            "188/188 [==============================] - 5s 28ms/step - loss: 0.0999 - accuracy: 0.9626 - val_loss: 0.8001 - val_accuracy: 0.8073\n",
            "Epoch 68/100\n",
            "188/188 [==============================] - 5s 28ms/step - loss: 0.0893 - accuracy: 0.9662 - val_loss: 0.8397 - val_accuracy: 0.8039\n",
            "Epoch 69/100\n",
            "188/188 [==============================] - 5s 27ms/step - loss: 0.0862 - accuracy: 0.9672 - val_loss: 0.9148 - val_accuracy: 0.8047\n",
            "Epoch 70/100\n",
            "188/188 [==============================] - 5s 28ms/step - loss: 0.0848 - accuracy: 0.9674 - val_loss: 0.8789 - val_accuracy: 0.8063\n",
            "Epoch 71/100\n",
            "188/188 [==============================] - 5s 28ms/step - loss: 0.0822 - accuracy: 0.9683 - val_loss: 0.9483 - val_accuracy: 0.8046\n",
            "Epoch 72/100\n",
            "188/188 [==============================] - 5s 27ms/step - loss: 0.0822 - accuracy: 0.9683 - val_loss: 0.8164 - val_accuracy: 0.8028\n",
            "Epoch 73/100\n",
            "188/188 [==============================] - 5s 28ms/step - loss: 0.0947 - accuracy: 0.9636 - val_loss: 0.8734 - val_accuracy: 0.8022\n",
            "Epoch 74/100\n",
            "188/188 [==============================] - 5s 28ms/step - loss: 0.0799 - accuracy: 0.9687 - val_loss: 0.9460 - val_accuracy: 0.8022\n",
            "Epoch 75/100\n",
            "188/188 [==============================] - 5s 27ms/step - loss: 0.0927 - accuracy: 0.9641 - val_loss: 0.8683 - val_accuracy: 0.8049\n",
            "Epoch 76/100\n",
            "188/188 [==============================] - 5s 27ms/step - loss: 0.0827 - accuracy: 0.9677 - val_loss: 0.9277 - val_accuracy: 0.8037\n",
            "Epoch 77/100\n",
            "188/188 [==============================] - 5s 28ms/step - loss: 0.0759 - accuracy: 0.9699 - val_loss: 0.9704 - val_accuracy: 0.8029\n",
            "Epoch 78/100\n",
            "188/188 [==============================] - 5s 27ms/step - loss: 0.0780 - accuracy: 0.9692 - val_loss: 0.9725 - val_accuracy: 0.8042\n",
            "Epoch 79/100\n",
            "188/188 [==============================] - 5s 28ms/step - loss: 0.0800 - accuracy: 0.9683 - val_loss: 0.9546 - val_accuracy: 0.8047\n",
            "Epoch 80/100\n",
            "188/188 [==============================] - 5s 27ms/step - loss: 0.0788 - accuracy: 0.9687 - val_loss: 0.9964 - val_accuracy: 0.8029\n",
            "Epoch 81/100\n",
            "188/188 [==============================] - 5s 27ms/step - loss: 0.0820 - accuracy: 0.9676 - val_loss: 0.8741 - val_accuracy: 0.8077\n",
            "Epoch 82/100\n",
            "188/188 [==============================] - 5s 28ms/step - loss: 0.0824 - accuracy: 0.9674 - val_loss: 0.9103 - val_accuracy: 0.8047\n",
            "Epoch 83/100\n",
            "188/188 [==============================] - 5s 28ms/step - loss: 0.0759 - accuracy: 0.9695 - val_loss: 0.9604 - val_accuracy: 0.8033\n",
            "Epoch 84/100\n",
            "188/188 [==============================] - 5s 28ms/step - loss: 0.0721 - accuracy: 0.9707 - val_loss: 0.9533 - val_accuracy: 0.8053\n",
            "Epoch 85/100\n",
            "188/188 [==============================] - 5s 27ms/step - loss: 0.0803 - accuracy: 0.9681 - val_loss: 0.9664 - val_accuracy: 0.8053\n",
            "Epoch 86/100\n",
            "188/188 [==============================] - 5s 27ms/step - loss: 0.0731 - accuracy: 0.9701 - val_loss: 0.9836 - val_accuracy: 0.8036\n",
            "Epoch 87/100\n",
            "188/188 [==============================] - 5s 27ms/step - loss: 0.0700 - accuracy: 0.9711 - val_loss: 1.0141 - val_accuracy: 0.8013\n",
            "Epoch 88/100\n",
            "188/188 [==============================] - 5s 28ms/step - loss: 0.0736 - accuracy: 0.9699 - val_loss: 1.0005 - val_accuracy: 0.8043\n",
            "Epoch 89/100\n",
            "188/188 [==============================] - 5s 28ms/step - loss: 0.0696 - accuracy: 0.9713 - val_loss: 1.0402 - val_accuracy: 0.8005\n",
            "Epoch 90/100\n",
            "188/188 [==============================] - 5s 27ms/step - loss: 0.0681 - accuracy: 0.9717 - val_loss: 1.0435 - val_accuracy: 0.8017\n",
            "Epoch 91/100\n",
            "188/188 [==============================] - 5s 27ms/step - loss: 0.0656 - accuracy: 0.9722 - val_loss: 1.0935 - val_accuracy: 0.7995\n",
            "Epoch 92/100\n",
            "188/188 [==============================] - 5s 28ms/step - loss: 0.0659 - accuracy: 0.9722 - val_loss: 1.0914 - val_accuracy: 0.8006\n",
            "Epoch 93/100\n",
            "188/188 [==============================] - 5s 28ms/step - loss: 0.0706 - accuracy: 0.9704 - val_loss: 1.0473 - val_accuracy: 0.7968\n",
            "Epoch 94/100\n",
            "188/188 [==============================] - 5s 28ms/step - loss: 0.0815 - accuracy: 0.9670 - val_loss: 0.9778 - val_accuracy: 0.8021\n",
            "Epoch 95/100\n",
            "188/188 [==============================] - 5s 27ms/step - loss: 0.0691 - accuracy: 0.9711 - val_loss: 0.9682 - val_accuracy: 0.8011\n",
            "Epoch 96/100\n",
            "188/188 [==============================] - 5s 27ms/step - loss: 0.0681 - accuracy: 0.9717 - val_loss: 1.0051 - val_accuracy: 0.8008\n",
            "Epoch 97/100\n",
            "188/188 [==============================] - 5s 27ms/step - loss: 0.0741 - accuracy: 0.9698 - val_loss: 0.9678 - val_accuracy: 0.7994\n",
            "Epoch 98/100\n",
            "188/188 [==============================] - 5s 27ms/step - loss: 0.0691 - accuracy: 0.9710 - val_loss: 1.0188 - val_accuracy: 0.7991\n",
            "Epoch 99/100\n",
            "188/188 [==============================] - 5s 27ms/step - loss: 0.0624 - accuracy: 0.9735 - val_loss: 1.0928 - val_accuracy: 0.7995\n",
            "Epoch 100/100\n",
            "188/188 [==============================] - 5s 28ms/step - loss: 0.0636 - accuracy: 0.9728 - val_loss: 1.0800 - val_accuracy: 0.8011\n"
          ]
        }
      ]
    },
    {
      "cell_type": "code",
      "source": [
        "results = model.evaluate(x_test, y_test, verbose = 2)"
      ],
      "metadata": {
        "id": "IDu44MdSHdbm",
        "colab": {
          "base_uri": "https://localhost:8080/"
        },
        "outputId": "7ec14893-d6f0-4c98-b45a-810ebd1ab0f0"
      },
      "execution_count": 23,
      "outputs": [
        {
          "output_type": "stream",
          "name": "stdout",
          "text": [
            "1537/1537 - 9s - loss: 1.0851 - accuracy: 0.7993 - 9s/epoch - 6ms/step\n"
          ]
        }
      ]
    },
    {
      "cell_type": "code",
      "source": [
        "history_dict = history.history\n",
        "print(history_dict.keys())"
      ],
      "metadata": {
        "id": "BWTJZYBKHipy",
        "colab": {
          "base_uri": "https://localhost:8080/"
        },
        "outputId": "82147865-9d11-4535-c230-b92bc0805ea0"
      },
      "execution_count": 24,
      "outputs": [
        {
          "output_type": "stream",
          "name": "stdout",
          "text": [
            "dict_keys(['loss', 'accuracy', 'val_loss', 'val_accuracy'])\n"
          ]
        }
      ]
    },
    {
      "cell_type": "code",
      "source": [
        "acc = history_dict['accuracy']\n",
        "val_acc = history_dict['val_accuracy']\n",
        "loss = history_dict['loss']\n",
        "val_loss = history_dict['val_loss']"
      ],
      "metadata": {
        "id": "HhaGx9lNHkYi"
      },
      "execution_count": 25,
      "outputs": []
    },
    {
      "cell_type": "code",
      "source": [
        "epochs = range(1, len(acc)+1)\n",
        "\n",
        "plt.plot(epochs, loss, 'r-', label = 'Training loss')\n",
        "plt.plot(epochs, val_loss, 'b', label = 'Validation loss')\n",
        "plt.title('Training and validation loss')\n",
        "plt.xlabel('Epochs')\n",
        "plt.ylabel('Loss')\n",
        "plt.legend()\n",
        "plt.show()"
      ],
      "metadata": {
        "id": "tjEIdvjQHmnz",
        "colab": {
          "base_uri": "https://localhost:8080/",
          "height": 295
        },
        "outputId": "74ccf339-fb52-4b42-cfe7-23c273c86888"
      },
      "execution_count": 26,
      "outputs": [
        {
          "output_type": "display_data",
          "data": {
            "text/plain": [
              "<Figure size 432x288 with 1 Axes>"
            ],
            "image/png": "[encoded data removed]"
          },
          "metadata": {
            "needs_background": "light"
          }
        }
      ]
    },
    {
      "cell_type": "code",
      "source": [
        "plt.plot(epochs, acc, 'r-', label = 'Training acc')\n",
        "plt.plot(epochs, val_acc, 'b', label = 'Validation acc')\n",
        "plt.title('Training and validation acc')\n",
        "plt.xlabel('Epochs')\n",
        "plt.ylabel('Accuracy')\n",
        "plt.legend()\n",
        "plt.show()"
      ],
      "metadata": {
        "id": "LKCxadptHnPo",
        "colab": {
          "base_uri": "https://localhost:8080/",
          "height": 295
        },
        "outputId": "d3698b81-1053-4e94-f8db-10d07cfdf5c0"
      },
      "execution_count": 27,
      "outputs": [
        {
          "output_type": "display_data",
          "data": {
            "text/plain": [
              "<Figure size 432x288 with 1 Axes>"
            ],
            "image/png": "[encoded data removed]"
          },
          "metadata": {
            "needs_background": "light"
          }
        }
      ]
    }
  ]
}