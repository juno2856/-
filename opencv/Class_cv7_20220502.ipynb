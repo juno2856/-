{
 "cells": [
  {
   "cell_type": "code",
   "execution_count": 2,
   "id": "defaa83f",
   "metadata": {},
   "outputs": [],
   "source": [
    "import numpy as np\n",
    "import cv2\n",
    "import sys\n",
    "\n",
    "import matplotlib.pyplot as plt"
   ]
  },
  {
   "cell_type": "code",
   "execution_count": 5,
   "id": "4b9944b7",
   "metadata": {},
   "outputs": [
    {
     "name": "stdout",
     "output_type": "stream",
     "text": [
      "(480, 640, 3)\n"
     ]
    }
   ],
   "source": [
    "img = cv2.imread('./computer_vision/fig/puppy.bmp')\n",
    "print(img.shape)\n",
    "img_resize = cv2.resize(img, (200,200), interpolation = cv2.INTER_AREA)\n",
    "\n",
    "\n",
    "if img is None:\n",
    "    print('image read failed')\n",
    "    sys.exit()\n",
    "    \n",
    "cv2.namedWindow('image', cv2.WINDOW_AUTOSIZE)\n",
    "cv2.imshow('image', img)\n",
    "cv2.imshow('image2', img_resize)\n",
    "\n",
    "while True:\n",
    "    key = cv2.waitKey()\n",
    "    if key == 27 or key == ord('q'):\n",
    "        break\n",
    "\n",
    "cv2.destroyAllWindows()"
   ]
  },
  {
   "cell_type": "code",
   "execution_count": 17,
   "id": "577a4125",
   "metadata": {},
   "outputs": [],
   "source": [
    "import glob"
   ]
  },
  {
   "cell_type": "code",
   "execution_count": 4,
   "id": "71970ff1",
   "metadata": {},
   "outputs": [],
   "source": [
    "img_lists = glob.glob('./computer_vision/fig/images1/*.*')\n",
    "\n",
    "cv2.namedWindow('scene', cv2.WINDOW_NORMAL)\n",
    "\n",
    "cv2.setWindowProperty('scene', cv2.WND_PROP_FULLSCREEN,\n",
    "                     cv2.WINDOW_FULLSCREEN)\n",
    "\n",
    "idx = 0\n",
    "while True:\n",
    "    img = cv2.imread(img_lists[idx])\n",
    "    \n",
    "    if img is None:\n",
    "        print('image read failed')\n",
    "        break\n",
    "        \n",
    "    cv2.imshow('scene',img)\n",
    "    \n",
    "    if cv2.waitKey(30) == 27:\n",
    "        break\n",
    "        \n",
    "    idx += 1\n",
    "    \n",
    "    if idx >= len(img_lists):\n",
    "        idx = 0\n",
    "        \n",
    "cv2.destroyAllWindows()"
   ]
  },
  {
   "cell_type": "code",
   "execution_count": 7,
   "id": "00807a0c",
   "metadata": {},
   "outputs": [],
   "source": [
    "src = cv2.imread('./computer_vision/fig/fig/airplane.bmp')\n",
    "mask = cv2.imread('./computer_vision/fig/fig/mask_plane.bmp')\n",
    "dst = cv2.imread('./computer_vision/fig/fig/field.bmp')\n",
    "\n",
    "if src is None or mask is None or dst is None:\n",
    "    print('image read failed')\n",
    "    sys.exit()\n",
    "\n",
    "dst1 = cv2.copyTo(src, mask)\n",
    "    \n",
    "cv2.copyTo(src, mask, dst)\n",
    "\n",
    "    \n",
    "cv2.imshow('src',src)\n",
    "cv2.imshow('mask',mask)\n",
    "cv2.imshow('dst1',dst1)\n",
    "cv2.imshow('dst',dst)\n",
    "\n",
    "cv2.waitKey()\n",
    "cv2.destroyAllWindows()"
   ]
  },
  {
   "cell_type": "code",
   "execution_count": 21,
   "id": "01e3824c",
   "metadata": {},
   "outputs": [],
   "source": [
    "img = np.full((600,1200,3), (255,255,255), np.uint8)\n",
    "\n",
    "cv2.line(img, (50,50), (300,50), (0,0,255), 4, cv2.LINE_8)\n",
    "cv2.arrowedLine(img, (300,50), (300,100), (0,0,255), 4, cv2.LINE_8)\n",
    "cv2.rectangle(img, (50,400), (200,500), (0,0,255),4)\n",
    "cv2.rectangle(img, (50,400,100,100), (255,0,255), -1)\n",
    "cv2.circle(img, (300,300), 100, (255,0,0), 3, cv2.LINE_AA)\n",
    "cv2.putText(img, 'OPencv', (400,500), cv2.FONT_HERSHEY_SCRIPT_COMPLEX,\n",
    "           0.8,(0,0,255),1)\n",
    "\n",
    "\n",
    "cv2.imshow('img', img)\n",
    "\n",
    "cv2.waitKey()\n",
    "cv2.destroyAllWindows()"
   ]
  },
  {
   "cell_type": "code",
   "execution_count": 4,
   "id": "2abc9258",
   "metadata": {},
   "outputs": [],
   "source": [
    "cap = cv2.VideoCapture(0)\n",
    "\n",
    "if not cap.isOpened():\n",
    "    print('Video open failed')\n",
    "    sys.exit()\n",
    "\n",
    "w = int(cap.get(cv2.CAP_PROP_FRAME_WIDTH))\n",
    "h = int(cap.get(cv2.CAP_PROP_FRAME_HEIGHT))\n",
    "fps = int(cap.get(cv2.CAP_PROP_FPS))\n",
    "fourcc = cv2.VideoWriter_fourcc(*'DIVX')\n",
    "\n",
    "out = cv2.VideoWriter('out_blur.avi', fourcc, fps,(w,h))\n",
    "    \n",
    "while True:\n",
    "    ret, frame = cap.read()\n",
    "    \n",
    "    if not ret:\n",
    "        print('video read failed')\n",
    "        break\n",
    "    \n",
    "#   GaussianBlur(src, ksize, sigmaX[, dst[, sigmaY[, borderType]]]) -> dst\n",
    "    blur = cv2.GaussianBlur(frame, (0,0), 3)\n",
    "    edge = cv2.Canny(frame, 50, 150)\n",
    "    \n",
    "    out.write(blur)\n",
    "    \n",
    "    cv2.imshow('edge', edge)\n",
    "    cv2.imshow('Gaussian', blur)\n",
    "    cv2.imshow('image', frame)\n",
    "    \n",
    "    \n",
    "    if cv2.waitKey(30) == 27:\n",
    "        break\n",
    "out.release()    \n",
    "cap.release()\n",
    "cv2.destroyAllWindows()"
   ]
  },
  {
   "cell_type": "code",
   "execution_count": 6,
   "id": "b52282e0",
   "metadata": {},
   "outputs": [
    {
     "name": "stdout",
     "output_type": "stream",
     "text": [
      "left button down: 161 142\n",
      "left button down: 392 36\n",
      "left button down: 383 262\n"
     ]
    }
   ],
   "source": [
    "def call_mouse(event, x, y, flags, param):\n",
    "    global oldx, oldy\n",
    "    \n",
    "    if event == cv2.EVENT_LBUTTONDOWN:\n",
    "        print('left button down:', x,y)\n",
    "        oldx, oldy = x,y\n",
    "        \n",
    "    elif event == cv2.EVENT_MOUSEMOVE:\n",
    "        if flags & cv2.EVENT_FLAG_LBUTTON:\n",
    "            cv2.line(img, (oldx,oldy), (x,y), (0,0,255), 4, cv2.LINE_AA)\n",
    "            cv2.imshow('image', img)\n",
    "            oldx, oldy = x,y\n",
    "            \n",
    "\n",
    "img = np.ones((500,700,3), np.uint8)*255\n",
    "\n",
    "cv2.namedWindow('image')\n",
    "\n",
    "cv2.setMouseCallback('image', call_mouse, img)\n",
    "\n",
    "cv2.imshow('image', img)\n",
    "\n",
    "cv2.waitKey()\n",
    "cv2.destroyAllWindows()"
   ]
  },
  {
   "cell_type": "code",
   "execution_count": 15,
   "id": "c9f39f17",
   "metadata": {},
   "outputs": [],
   "source": [
    "def call_tract(pos):\n",
    "#     print(pos)\n",
    "#     img[:] = np.round(img1 *(pos/255),0)\n",
    "    img[:] = img1 *(pos/255)\n",
    "\n",
    "    cv2.imshow('image', img)\n",
    "\n",
    "\n",
    "\n",
    "img = cv2.imread('./computer_vision/fig/images1/jerry.png', cv2.IMREAD_REDUCED_GRAYSCALE_2)\n",
    "\n",
    "\n",
    "img1 = img.copy()\n",
    "cv2.imshow('image', img)\n",
    "cv2.createTrackbar('level', 'image', 0,255, call_tract)\n",
    "\n",
    "\n",
    "\n",
    "cv2.waitKey()\n",
    "cv2.destroyAllWindows()"
   ]
  },
  {
   "cell_type": "code",
   "execution_count": 16,
   "id": "ebb336fa",
   "metadata": {},
   "outputs": [],
   "source": [
    "src1 = cv2.imread('./computer_vision/fig/fig/lenna256.bmp',0)\n",
    "src2 = np.zeros((256,256), np.uint8)\n",
    "cv2.circle(src2, (128,128), 100, 200, -1)\n",
    "cv2.circle(src2, (128,128), 50, 50, -1)\n",
    "\n",
    "dst1 = cv2.add(src1,src2)\n",
    "dst2 = cv2.addWeighted(src1, 0.5, src2, 0.5, 0.)\n",
    "dst3 = cv2.subtract(src2, src1)\n",
    "dst4 = cv2.absdiff(src1,src2)\n",
    "\n",
    "# cv2.imshow('src1', src1)\n",
    "# cv2.imshow('src2', src2)\n",
    "\n",
    "plt.figure(figsize = (12,6))\n",
    "plt.subplot()\n",
    "\n",
    "cv2.waitKey()\n",
    "cv2.destroyAllWindows()"
   ]
  },
  {
   "cell_type": "code",
   "execution_count": 18,
   "id": "4f669610",
   "metadata": {},
   "outputs": [],
   "source": [
    "img = cv2.imread('./computer_vision/fig/fig/flowers.jpg', 1)\n",
    "img_hsv = cv2.cvtColor(img, cv2.COLOR_BGR2HSV)\n",
    "\n",
    "cv2.imshow('img', img)\n",
    "\n",
    "\n",
    "b,g,r = cv2.split(img)\n",
    "h,s,v = cv2.split(img_hsv)\n",
    "\n",
    "cv2.imshow('b', b)\n",
    "cv2.imshow('g', g)\n",
    "cv2.imshow('r', r)\n",
    "cv2.imshow('h', h)\n",
    "cv2.imshow('s', s)\n",
    "cv2.imshow('v', v)\n",
    "\n",
    "\n",
    "cv2.waitKey()\n",
    "cv2.destroyAllWindows()"
   ]
  },
  {
   "cell_type": "code",
   "execution_count": 27,
   "id": "3d5498a6",
   "metadata": {},
   "outputs": [
    {
     "data": {
      "image/png": "[encoded data removed]",
      "text/plain": [
       "<Figure size 432x288 with 1 Axes>"
      ]
     },
     "metadata": {
      "needs_background": "light"
     },
     "output_type": "display_data"
    }
   ],
   "source": [
    "src = cv2.imread('./computer_vision/fig/fig/lenna.bmp', 1)\n",
    "\n",
    "# calcHist(images, channels, mask, histSize, ranges[, hist[, accumulate]]) -> hist\n",
    "hist_b = cv2.calcHist([src], [0], None, [256], [0,256])\n",
    "hist_g = cv2.calcHist([src], [1], None, [256], [0,256])\n",
    "hist_r = cv2.calcHist([src], [2], None, [256], [0,256])\n",
    "\n",
    "cv2.imshow('src', src)\n",
    "\n",
    "plt.plot(hist_b, c='b')\n",
    "plt.plot(hist_g, c='g')\n",
    "plt.plot(hist_r, c='r')\n",
    "plt.show()\n",
    "\n",
    "cv2.waitKey()\n",
    "cv2.destroyAllWindows()"
   ]
  },
  {
   "cell_type": "code",
   "execution_count": null,
   "id": "9780bc14",
   "metadata": {},
   "outputs": [],
   "source": [
    "## -----------review-------------"
   ]
  },
  {
   "cell_type": "code",
   "execution_count": 4,
   "id": "8cd473bc",
   "metadata": {},
   "outputs": [
    {
     "data": {
      "image/png": "[encoded data removed]",
      "text/plain": [
       "<Figure size 432x288 with 1 Axes>"
      ]
     },
     "metadata": {
      "needs_background": "light"
     },
     "output_type": "display_data"
    }
   ],
   "source": [
    "src = cv2.imread('./computer_vision/fig/green/puppy_shrink.png',0)\n",
    "\n",
    "dst_norm = np.clip(255*(src- smin)/(smax - smin)+0, 0, 255)\n",
    "\n",
    "cv2.imshow('src', src)\n",
    "\n",
    "src_hist = cv2.calcHist([src],[0], None, [256], [0,256])\n",
    "\n",
    "plt.plot(src_hist)\n",
    "plt.show()\n",
    "\n",
    "cv2.waitKey()\n",
    "cv2.destroyAllWindows()"
   ]
  },
  {
   "cell_type": "code",
   "execution_count": 21,
   "id": "9d1bfeb1",
   "metadata": {},
   "outputs": [
    {
     "name": "stdout",
     "output_type": "stream",
     "text": [
      "100.0 184.0\n"
     ]
    },
    {
     "data": {
      "image/png": "[encoded data removed]",
      "text/plain": [
       "<Figure size 432x288 with 1 Axes>"
      ]
     },
     "metadata": {
      "needs_background": "light"
     },
     "output_type": "display_data"
    }
   ],
   "source": [
    "src = cv2.imread('./computer_vision/fig/green/puppy_shrink.png',0)\n",
    "smin, smax, _, _, = cv2.minMaxLoc(src)\n",
    "print(smin, smax)\n",
    "\n",
    "\n",
    "# normalize(src, dst[, alpha[, beta[, norm_type[, dtype[, mask]]]]]) -> dst\n",
    "# src : 입력영상\n",
    "# dst : 결과영상\n",
    "# alpha : 정규화 최솟값 (ex 0)\n",
    "# beta : 정규화 최댓값 (ex 155)\n",
    "# norm_type : cv2.NORM_MINMAX\n",
    "# dtype = -1, src와 같은 type\n",
    "\n",
    "dst_norm_cv = cv2.normalize(src, None, 0,255, cv2.NORM_MINMAX, -1)\n",
    "dst_norm = np.clip(255*(src- smin)/(smax - smin)+0, 0, 255).astype(np.uint8)\n",
    "dst_equal = cv2.equalizeHist(src)\n",
    "\n",
    "\n",
    "cv2.imshow('src', src)\n",
    "cv2.imshow('dst_norm', dst_norm)\n",
    "cv2.imshow('dst_norm_cv', dst_norm_cv)\n",
    "cv2.imshow('dst_equal', dst_equal)\n",
    "\n",
    "src_hist = cv2.calcHist([src],[0], None, [256], [0,256])\n",
    "src_hist1 = cv2.calcHist([dst_norm],[0], None, [256], [0,256])\n",
    "\n",
    "\n",
    "plt.plot(src_hist, label = 'src')\n",
    "plt.plot(src_hist1, label = 'dst_norm')\n",
    "plt.legend()\n",
    "plt.show()\n",
    "\n",
    "cv2.waitKey()\n",
    "cv2.destroyAllWindows()"
   ]
  },
  {
   "cell_type": "code",
   "execution_count": 11,
   "id": "ffc81cc1",
   "metadata": {},
   "outputs": [
    {
     "name": "stdout",
     "output_type": "stream",
     "text": [
      "0.0 255.0\n"
     ]
    },
    {
     "data": {
      "image/png": "[encoded data removed]",
      "text/plain": [
       "<Figure size 432x288 with 1 Axes>"
      ]
     },
     "metadata": {
      "needs_background": "light"
     },
     "output_type": "display_data"
    }
   ],
   "source": [
    "src = cv2.imread('./computer_vision/fig/green/manjang.jpg',0)\n",
    "smin, smax, _, _, = cv2.minMaxLoc(src)\n",
    "print(smin, smax)\n",
    "\n",
    "\n",
    "# normalize(src, dst[, alpha[, beta[, norm_type[, dtype[, mask]]]]]) -> dst\n",
    "# src : 입력영상\n",
    "# dst : 결과영상\n",
    "# alpha : 정규화 최솟값 (ex 0)\n",
    "# beta : 정규화 최댓값 (ex 155)\n",
    "# norm_type : cv2.NORM_MINMAX\n",
    "# dtype = -1, src와 같은 type\n",
    "\n",
    "dst_norm_cv = cv2.normalize(src, None, 0,255, cv2.NORM_MINMAX, -1)\n",
    "dst_norm = np.clip(255*(src- smin)/(smax - smin)+0, 0, 255).astype(np.uint8)\n",
    "dst_equal = cv2.equalizeHist(src)\n",
    "\n",
    "\n",
    "cv2.imshow('src', src)\n",
    "cv2.imshow('dst_norm', dst_norm)\n",
    "cv2.imshow('dst_norm_cv', dst_norm_cv)\n",
    "cv2.imshow('dst_equal', dst_equal)\n",
    "\n",
    "src_hist = cv2.calcHist([src],[0], None, [256], [0,256])\n",
    "\n",
    "plt.plot(src_hist)\n",
    "plt.show()\n",
    "\n",
    "cv2.waitKey()\n",
    "cv2.destroyAllWindows()"
   ]
  },
  {
   "cell_type": "code",
   "execution_count": 23,
   "id": "e7d9a1ac",
   "metadata": {},
   "outputs": [
    {
     "data": {
      "image/png": "[encoded data removed]",
      "text/plain": [
       "<Figure size 432x288 with 1 Axes>"
      ]
     },
     "metadata": {
      "needs_background": "light"
     },
     "output_type": "display_data"
    }
   ],
   "source": [
    "src = cv2.imread('./computer_vision/fig/fig/flowers.jpg',0)\n",
    "\n",
    "\n",
    "dst_shr = cv2.normalize(src, None, 50,100, cv2.NORM_MINMAX, -1)\n",
    "dst_norm = cv2.normalize(src, None, 0,256, cv2.NORM_MINMAX, -1)\n",
    "dst_equal = cv2.equalizeHist(src)\n",
    "\n",
    "cv2.imshow('src', src)\n",
    "cv2.imshow('dst_shr', dst_shr)\n",
    "cv2.imshow('dst_norm', dst_norm)\n",
    "cv2.imshow('dst_equal', dst_equal)\n",
    "\n",
    "src_hist = cv2.calcHist([src],[0], None, [256], [0,256])\n",
    "dst_shr_hist = cv2.calcHist([dst_shr],[0], None, [256], [0,256])\n",
    "dst_norm_hist = cv2.calcHist([dst_norm],[0], None, [256], [0,256])\n",
    "\n",
    "plt.plot(src_hist)\n",
    "plt.plot(dst_shr_hist)\n",
    "plt.plot(dst_norm_hist)\n",
    "plt.show()\n",
    "\n",
    "cv2.waitKey()\n",
    "cv2.destroyAllWindows()"
   ]
  },
  {
   "cell_type": "code",
   "execution_count": 24,
   "id": "78a26ef1",
   "metadata": {},
   "outputs": [
    {
     "data": {
      "image/png": "[encoded data removed]",
      "text/plain": [
       "<Figure size 432x288 with 1 Axes>"
      ]
     },
     "metadata": {
      "needs_background": "light"
     },
     "output_type": "display_data"
    }
   ],
   "source": [
    "src = cv2.imread('./computer_vision/fig/fig/flowers.jpg',0)\n",
    "\n",
    "\n",
    "dst_norm = np.clip(src*0.3 + 100., 0, 255).astype(np.uint8)\n",
    "\n",
    "cv2.imshow('src', src)\n",
    "# cv2.imshow('dst_shr', dst_shr)\n",
    "cv2.imshow('dst_norm', dst_norm)\n",
    "# cv2.imshow('dst_equal', dst_equal)\n",
    "\n",
    "src_hist = cv2.calcHist([src],[0], None, [256], [0,256])\n",
    "# dst_shr_hist = cv2.calcHist([dst_shr],[0], None, [256], [0,256])\n",
    "dst_norm_hist = cv2.calcHist([dst_norm],[0], None, [256], [0,256])\n",
    "\n",
    "plt.plot(src_hist)\n",
    "# plt.plot(dst_shr_hist)\n",
    "plt.plot(dst_norm_hist)\n",
    "plt.show()\n",
    "\n",
    "cv2.waitKey()\n",
    "cv2.destroyAllWindows()"
   ]
  },
  {
   "cell_type": "code",
   "execution_count": 21,
   "id": "a0b1b1f4",
   "metadata": {},
   "outputs": [
    {
     "name": "stdout",
     "output_type": "stream",
     "text": [
      "2.0 255.0\n"
     ]
    },
    {
     "data": {
      "image/png": "[encoded data removed]",
      "text/plain": [
       "<Figure size 432x288 with 1 Axes>"
      ]
     },
     "metadata": {
      "needs_background": "light"
     },
     "output_type": "display_data"
    }
   ],
   "source": [
    "img = cv2.imread('./computer_vision/fig/green/spring_in_park.jpg', cv2.IMREAD_REDUCED_COLOR_4)\n",
    "img_hsv = cv2.cvtColor(img, cv2.COLOR_BGR2HSV)\n",
    "\n",
    "\n",
    "h,s,v = cv2.split(img_hsv)\n",
    "\n",
    "\n",
    "smin, smax, _, _, = cv2.minMaxLoc(v)\n",
    "print(smin, smax)\n",
    "\n",
    "# v_shr = np.clip(0.3*v +100.,0, 256).astype(np.uint8)\n",
    "v_shr = cv2.normalize(v, None, 0,256, cv2.NORM_MINMAX, -1)\n",
    "v_equal = cv2.equalizeHist(v)\n",
    "\n",
    "src_new = cv2.merge((h,s,v_shr))\n",
    "src_new1 = cv2.merge((h,s,v_equal))\n",
    "\n",
    "img_new = cv2.cvtColor(src_new, cv2.COLOR_HSV2BGR)\n",
    "img_new1 = cv2.cvtColor(src_new1, cv2.COLOR_HSV2BGR)\n",
    "\n",
    "\n",
    "cv2.imshow('img', img)\n",
    "# cv2.imshow('img_hsv', img_hsv)\n",
    "# cv2.imshow('h', h)\n",
    "# cv2.imshow('s', v)\n",
    "# cv2.imshow('v', v)\n",
    "# cv2.imshow('v_shr', v_shr)\n",
    "cv2.imshow('img_new', img_new)\n",
    "cv2.imshow('img_new1', img_new1)\n",
    "\n",
    "v_hist = cv2.calcHist([v], [0], None, [256], [0,256])\n",
    "v_shr_hist = cv2.calcHist([v_shr], [0], None, [256], [0,256])\n",
    "\n",
    "\n",
    "plt.plot(v_hist)\n",
    "plt.plot(v_shr_hist)\n",
    "plt.show()\n",
    "\n",
    "cv2.waitKey()\n",
    "cv2.destroyAllWindows()"
   ]
  },
  {
   "cell_type": "code",
   "execution_count": null,
   "id": "8b41ec62",
   "metadata": {},
   "outputs": [],
   "source": [
    "img = cv2.imread('./computer_vision/fig/green/spring_in_park.jpg', cv2.IMREAD_REDUCED_COLOR_4)\n",
    "img_hsv = cv2.cvtColor(img, cv2.COLOR_BGR2HSV)\n",
    "\n",
    "\n",
    "h,s,v = cv2.split(img_hsv)\n",
    "\n",
    "v_shr = cv2.normalize(v, None, 100,256, cv2.NORM_MINMAX, -1)\n",
    "\n",
    "src_new = cv2.merge((h,s,v_shr))\n",
    "img_new = cv2.cvtColor(src_new, cv2.COLOR_HSV2BGR)\n",
    "\n",
    "cv2.imshow('img', img)\n",
    "cv2.imshow('img_hsv', img_hsv)\n",
    "cv2.imshow('src_new', src_new)\n",
    "cv2.imshow('img_new', img_new)\n",
    "\n",
    "cv2.waitKey()\n",
    "cv2.destroyAllWindows()"
   ]
  },
  {
   "cell_type": "code",
   "execution_count": 5,
   "id": "4383a966",
   "metadata": {},
   "outputs": [],
   "source": [
    "## 영상 좌우반전\n",
    "cap = cv2.VideoCapture(0)\n",
    "\n",
    "\n",
    "cv2.namedWindow('image', cv2.WINDOW_AUTOSIZE)\n",
    "\n",
    "while True:\n",
    "    \n",
    "    ret, frame = cap.read()\n",
    "#     frame_flip = cv2.flip(frame, 1)\n",
    "#     edge = cv2.Canny(frame , 50, 150)\n",
    "    \n",
    "    cv2.imshow('image', frame)\n",
    "#     cv2.imshow('image_flip', frame_flip)\n",
    "    \n",
    "    key = cv2.waitKey(30)\n",
    "    if key == 27 or key == ord('q'):    \n",
    "        break\n",
    "    \n",
    "    elif key == ord('i'):\n",
    "        while True:\n",
    "            ret, frame = cap.read()\n",
    "            edge = cv2.Canny(frame,50,150)\n",
    "            cv2.imshow('image',edge)\n",
    "            \n",
    "            if cv2.waitKey(30) == 27:\n",
    "                break\n",
    "            \n",
    "    elif key == ord('f'):\n",
    "        while True:\n",
    "            ret, frame = cap.read()\n",
    "            frame = cv2.flip(frame,1)\n",
    "            cv2.imshow('image', frame)\n",
    "            \n",
    "            if cv2.waitKey(30) == 27:\n",
    "                break\n",
    "            \n",
    "            #     elif if key == ord('f'):\n",
    "        \n",
    "        \n",
    "cap.release()\n",
    "cv2.destroyAllWindows()"
   ]
  },
  {
   "cell_type": "code",
   "execution_count": 6,
   "id": "f6634000",
   "metadata": {},
   "outputs": [],
   "source": [
    "cap = cv2.VideoCapture(0)\n",
    "\n",
    "f_flag = False\n",
    "i_flag = False\n",
    "\n",
    "while True:\n",
    "    ret, frame = cap.read()\n",
    "    if ret is None:\n",
    "        print('Video read failed')\n",
    "        break\n",
    "\n",
    "    if f_flag:\n",
    "        frame = cv2.flip(frame, 1)\n",
    "    if i_flag:\n",
    "        frame = cv2.Canny(frame, 50, 150)\n",
    "\n",
    "    cv2.imshow('image', frame)\n",
    "\n",
    "    kw = cv2.waitKey(20)\n",
    "    if kw==27:\n",
    "        break\n",
    "    elif kw==ord('f'):\n",
    "        f_flag = not f_flag\n",
    "    elif kw==ord('i'):\n",
    "        i_flag = not i_flag\n",
    "\n",
    "\n",
    "cap.release()\n",
    "cv2.destroyAllWindows()"
   ]
  },
  {
   "cell_type": "code",
   "execution_count": 6,
   "id": "9cbe1495",
   "metadata": {},
   "outputs": [],
   "source": [
    "## 색깔 뽑아내기\n",
    "src = cv2.imread('./computer_vision/fig/green/palette.png')\n",
    "src_dark = cv2.imread('./computer_vision/fig/green/palette_dark.png')\n",
    "\n",
    "# inRange(src, lowerb, upperb[, dst]) -> dst\n",
    "#src : 입력영상\n",
    "# lowerb : 하한값(0,0,0)\n",
    "# upperb : 상한값(255,255,255)\n",
    "\n",
    "\n",
    "dst_bgr = cv2.inRange(src, (0, 150, 0), (100,255,100))\n",
    "dst_bgr_dark = cv2.inRange(src_dark, (0, 150, 0), (50,255,50))\n",
    "\n",
    "cv2.imshow('src', src)\n",
    "cv2.imshow('src_dark', src_dark)\n",
    "cv2.imshow('dst_bgr', dst_bgr)\n",
    "cv2.imshow('dst_bgr_dark', dst_bgr_dark)\n",
    "\n",
    "\n",
    "\n",
    "\n",
    "cv2.waitKey()\n",
    "cv2.destroyAllWindows()"
   ]
  },
  {
   "cell_type": "code",
   "execution_count": 11,
   "id": "04d3acf6",
   "metadata": {},
   "outputs": [],
   "source": [
    "src = cv2.imread('./computer_vision/fig/green/palette.png')\n",
    "src_dark = cv2.imread('./computer_vision/fig/green/palette_dark.png')\n",
    "\n",
    "# inRange(src, lowerb, upperb[, dst]) -> dst\n",
    "#src : 입력영상\n",
    "# lowerb : 하한값(0,0,0)\n",
    "# upperb : 상한값(255,255,255)\n",
    "\n",
    "\n",
    "dst_bgr = cv2.inRange(src, (0, 0, 150), (150,150,255))\n",
    "# dst_bgr_dark = cv2.inRange(src_dark, (0, 150, 0), (50,255,50))\n",
    "\n",
    "cv2.imshow('src', src)\n",
    "# cv2.imshow('src_dark', src_dark)\n",
    "cv2.imshow('dst_bgr', dst_bgr)\n",
    "# cv2.imshow('dst_bgr_dark', dst_bgr_dark)\n",
    "\n",
    "\n",
    "\n",
    "\n",
    "cv2.waitKey()\n",
    "cv2.destroyAllWindows()"
   ]
  },
  {
   "cell_type": "code",
   "execution_count": 24,
   "id": "732fb126",
   "metadata": {},
   "outputs": [],
   "source": [
    "## 파란색\n",
    "src = cv2.imread('./computer_vision/fig/green/palette.png')\n",
    "dst_bgr = cv2.inRange(src, (128,0,0), (255,50,50))\n",
    "\n",
    "cv2.imshow('src', src)\n",
    "cv2.imshow('dst_bgr', dst_bgr)\n",
    "\n",
    "cv2.waitKey()\n",
    "cv2.destroyAllWindows()"
   ]
  },
  {
   "cell_type": "code",
   "execution_count": 34,
   "id": "93a87f60",
   "metadata": {},
   "outputs": [],
   "source": [
    "## hsv로 색 뽑기\n",
    "src = cv2.imread('./computer_vision/fig/green/palette.png')\n",
    "src_hsv = cv2.cvtColor(src, cv2.COLOR_BGR2HSV)\n",
    "\n",
    "#h, s, v\n",
    "dst_hsv = cv2.inRange(src_hsv, (110,220, 140),(130 ,255, 255))\n",
    "\n",
    "cv2.imshow('src', src)\n",
    "cv2.imshow('dst_hsv', dst_hsv)\n",
    "\n",
    "cv2.waitKey()\n",
    "cv2.destroyAllWindows()"
   ]
  },
  {
   "cell_type": "code",
   "execution_count": 3,
   "id": "c6a9ac7e",
   "metadata": {},
   "outputs": [
    {
     "ename": "error",
     "evalue": "OpenCV(4.5.5) D:\\a\\opencv-python\\opencv-python\\opencv\\modules\\highgui\\src\\window.cpp:862: error: (-215:Assertion failed) trackbar in function 'cv::getTrackbarPos'\n",
     "output_type": "error",
     "traceback": [
      "\u001b[1;31m---------------------------------------------------------------------------\u001b[0m",
      "\u001b[1;31merror\u001b[0m                                     Traceback (most recent call last)",
      "\u001b[1;32m~\\AppData\\Local\\Temp/ipykernel_13272/2211144553.py\u001b[0m in \u001b[0;36mcall_trackbar\u001b[1;34m(pos)\u001b[0m\n\u001b[0;32m      1\u001b[0m \u001b[1;32mdef\u001b[0m \u001b[0mcall_trackbar\u001b[0m\u001b[1;33m(\u001b[0m\u001b[0mpos\u001b[0m\u001b[1;33m)\u001b[0m\u001b[1;33m:\u001b[0m\u001b[1;33m\u001b[0m\u001b[1;33m\u001b[0m\u001b[0m\n\u001b[0;32m      2\u001b[0m     \u001b[0mhmin\u001b[0m \u001b[1;33m=\u001b[0m \u001b[0mcv2\u001b[0m\u001b[1;33m.\u001b[0m\u001b[0mgetTrackbarPos\u001b[0m\u001b[1;33m(\u001b[0m\u001b[1;34m'H_min'\u001b[0m\u001b[1;33m,\u001b[0m \u001b[1;34m'src'\u001b[0m\u001b[1;33m)\u001b[0m\u001b[1;33m\u001b[0m\u001b[1;33m\u001b[0m\u001b[0m\n\u001b[1;32m----> 3\u001b[1;33m     \u001b[0mhmax\u001b[0m \u001b[1;33m=\u001b[0m \u001b[0mcv2\u001b[0m\u001b[1;33m.\u001b[0m\u001b[0mgetTrackbarPos\u001b[0m\u001b[1;33m(\u001b[0m\u001b[1;34m'H_max'\u001b[0m\u001b[1;33m,\u001b[0m \u001b[1;34m'src'\u001b[0m\u001b[1;33m)\u001b[0m\u001b[1;33m\u001b[0m\u001b[1;33m\u001b[0m\u001b[0m\n\u001b[0m\u001b[0;32m      4\u001b[0m \u001b[1;33m\u001b[0m\u001b[0m\n\u001b[0;32m      5\u001b[0m     \u001b[0mdst\u001b[0m \u001b[1;33m=\u001b[0m \u001b[0mcv2\u001b[0m\u001b[1;33m.\u001b[0m\u001b[0minRange\u001b[0m\u001b[1;33m(\u001b[0m\u001b[0msrc_hsv\u001b[0m\u001b[1;33m,\u001b[0m \u001b[1;33m(\u001b[0m\u001b[0mhmin\u001b[0m\u001b[1;33m,\u001b[0m \u001b[1;36m150\u001b[0m\u001b[1;33m,\u001b[0m \u001b[1;36m150\u001b[0m\u001b[1;33m)\u001b[0m\u001b[1;33m,\u001b[0m \u001b[1;33m(\u001b[0m\u001b[0mhmax\u001b[0m\u001b[1;33m,\u001b[0m \u001b[1;36m255\u001b[0m\u001b[1;33m,\u001b[0m \u001b[1;36m255\u001b[0m\u001b[1;33m)\u001b[0m\u001b[1;33m)\u001b[0m\u001b[1;33m\u001b[0m\u001b[1;33m\u001b[0m\u001b[0m\n",
      "\u001b[1;31merror\u001b[0m: OpenCV(4.5.5) D:\\a\\opencv-python\\opencv-python\\opencv\\modules\\highgui\\src\\window.cpp:862: error: (-215:Assertion failed) trackbar in function 'cv::getTrackbarPos'\n"
     ]
    }
   ],
   "source": [
    "def call_trackbar(pos):\n",
    "    hmin = cv2.getTrackbarPos('H_min', 'src')\n",
    "    hmax = cv2.getTrackbarPos('H_max', 'src')\n",
    "    \n",
    "    dst = cv2.inRange(src_hsv, (hmin, 150, 150), (hmax, 255, 255))\n",
    "    cv2.imshow('src', dst)\n",
    "    \n",
    "\n",
    "src = cv2.imread('./computer_vision/fig/green/palette.png')\n",
    "src_hsv = cv2.cvtColor(src, cv2.COLOR_BGR2HSV)\n",
    "\n",
    "#h, s, v\n",
    "cv2.namedWindow('src')\n",
    "cv2.createTrackbar('H_min', 'src', 50,179, call_trackbar)\n",
    "cv2.createTrackbar('H_max', 'src', 80,179, call_trackbar)\n",
    "\n",
    "\n",
    "cv2.imshow('src', src)\n",
    "cv2.imshow('src1', src)\n",
    "# cv2.imshow('dst_hsv', dst_hsv)\n",
    "\n",
    "cv2.waitKey()\n",
    "cv2.destroyAllWindows()"
   ]
  },
  {
   "cell_type": "code",
   "execution_count": 25,
   "id": "11737558",
   "metadata": {},
   "outputs": [
    {
     "ename": "error",
     "evalue": "OpenCV(4.5.5) D:\\a\\opencv-python\\opencv-python\\opencv\\modules\\highgui\\src\\window.cpp:862: error: (-215:Assertion failed) trackbar in function 'cv::getTrackbarPos'\n",
     "output_type": "error",
     "traceback": [
      "\u001b[1;31m---------------------------------------------------------------------------\u001b[0m",
      "\u001b[1;31merror\u001b[0m                                     Traceback (most recent call last)",
      "\u001b[1;32m~\\AppData\\Local\\Temp/ipykernel_264/2365387980.py\u001b[0m in \u001b[0;36mcall_trackbar\u001b[1;34m(pos)\u001b[0m\n\u001b[0;32m      1\u001b[0m \u001b[1;32mdef\u001b[0m \u001b[0mcall_trackbar\u001b[0m\u001b[1;33m(\u001b[0m\u001b[0mpos\u001b[0m\u001b[1;33m)\u001b[0m\u001b[1;33m:\u001b[0m\u001b[1;33m\u001b[0m\u001b[1;33m\u001b[0m\u001b[0m\n\u001b[0;32m      2\u001b[0m     \u001b[0mhmin\u001b[0m \u001b[1;33m=\u001b[0m \u001b[0mcv2\u001b[0m\u001b[1;33m.\u001b[0m\u001b[0mgetTrackbarPos\u001b[0m\u001b[1;33m(\u001b[0m\u001b[1;34m'H_min'\u001b[0m\u001b[1;33m,\u001b[0m \u001b[1;34m'src'\u001b[0m\u001b[1;33m)\u001b[0m\u001b[1;33m\u001b[0m\u001b[1;33m\u001b[0m\u001b[0m\n\u001b[1;32m----> 3\u001b[1;33m     \u001b[0mhmax\u001b[0m \u001b[1;33m=\u001b[0m \u001b[0mcv2\u001b[0m\u001b[1;33m.\u001b[0m\u001b[0mgetTrackbarPos\u001b[0m\u001b[1;33m(\u001b[0m\u001b[1;34m'H_max'\u001b[0m\u001b[1;33m,\u001b[0m \u001b[1;34m'src'\u001b[0m\u001b[1;33m)\u001b[0m\u001b[1;33m\u001b[0m\u001b[1;33m\u001b[0m\u001b[0m\n\u001b[0m\u001b[0;32m      4\u001b[0m \u001b[1;33m\u001b[0m\u001b[0m\n\u001b[0;32m      5\u001b[0m     \u001b[0mmask\u001b[0m \u001b[1;33m=\u001b[0m \u001b[0mcv2\u001b[0m\u001b[1;33m.\u001b[0m\u001b[0minRange\u001b[0m\u001b[1;33m(\u001b[0m\u001b[0msrc_hsv\u001b[0m\u001b[1;33m,\u001b[0m \u001b[1;33m(\u001b[0m\u001b[0mhmin\u001b[0m\u001b[1;33m,\u001b[0m \u001b[1;36m100\u001b[0m\u001b[1;33m,\u001b[0m \u001b[1;36m100\u001b[0m\u001b[1;33m)\u001b[0m\u001b[1;33m,\u001b[0m \u001b[1;33m(\u001b[0m\u001b[0mhmax\u001b[0m\u001b[1;33m,\u001b[0m \u001b[1;36m255\u001b[0m\u001b[1;33m,\u001b[0m \u001b[1;36m255\u001b[0m\u001b[1;33m)\u001b[0m\u001b[1;33m)\u001b[0m\u001b[1;33m\u001b[0m\u001b[1;33m\u001b[0m\u001b[0m\n",
      "\u001b[1;31merror\u001b[0m: OpenCV(4.5.5) D:\\a\\opencv-python\\opencv-python\\opencv\\modules\\highgui\\src\\window.cpp:862: error: (-215:Assertion failed) trackbar in function 'cv::getTrackbarPos'\n"
     ]
    }
   ],
   "source": [
    "def call_trackbar(pos):\n",
    "    hmin = cv2.getTrackbarPos('H_min', 'src')\n",
    "    hmax = cv2.getTrackbarPos('H_max', 'src')\n",
    "    \n",
    "    mask = cv2.inRange(src_hsv, (hmin, 100, 100), (hmax, 255, 255))\n",
    "    cv2.imshow('src', mask)\n",
    "src = cv2.imread('./computer_vision/fig/green/chromakey.png', cv2.IMREAD_REDUCED_COLOR_2)\n",
    "dst = cv2.imread('./computer_vision/fig/green/autumn.jpg',cv2.IMREAD_REDUCED_COLOR_4)\n",
    "src_hsv = cv2.cvtColor(src, cv2.COLOR_BGR2HSV)\n",
    "\n",
    "h,w = src.shape[:2]\n",
    "src_new = cv2.inRange(src_hsv, (40, 100, 100), (70, 255, 255))\n",
    "\n",
    "dst = cv2.resize(dst, (w,h), cv2.INTER_AREA)\n",
    "_, mask = cv2.threshold(src_new,244,255,cv2.THRESH_BINARY_INV)\n",
    "\n",
    "\n",
    "# print(dst.shape)\n",
    "# crop = dst[0:0+h, 0:0+w]\n",
    "\n",
    "cv2.copyTo(src, mask, dst)\n",
    "\n",
    "cv2.namedWindow('src')\n",
    "cv2.createTrackbar('H_min', 'src', 40,179, call_trackbar)\n",
    "cv2.createTrackbar('H_max', 'src', 70,179, call_trackbar)\n",
    "\n",
    "\n",
    "cv2.imshow('src', src)\n",
    "cv2.imshow('mask', mask)\n",
    "# cv2.imshow('crop', crop)\n",
    "cv2.imshow('dst',dst)\n",
    "\n",
    "\n",
    "cv2.waitKey()\n",
    "cv2.destroyAllWindows()"
   ]
  },
  {
   "cell_type": "code",
   "execution_count": 6,
   "id": "4d4986ae",
   "metadata": {},
   "outputs": [
    {
     "ename": "error",
     "evalue": "OpenCV(4.5.5) D:\\a\\opencv-python\\opencv-python\\opencv\\modules\\highgui\\src\\window.cpp:862: error: (-215:Assertion failed) trackbar in function 'cv::getTrackbarPos'\n",
     "output_type": "error",
     "traceback": [
      "\u001b[1;31m---------------------------------------------------------------------------\u001b[0m",
      "\u001b[1;31merror\u001b[0m                                     Traceback (most recent call last)",
      "\u001b[1;32m~\\AppData\\Local\\Temp/ipykernel_4944/279915255.py\u001b[0m in \u001b[0;36mcall_trackbar\u001b[1;34m(pos)\u001b[0m\n\u001b[0;32m      1\u001b[0m \u001b[1;32mdef\u001b[0m \u001b[0mcall_trackbar\u001b[0m\u001b[1;33m(\u001b[0m\u001b[0mpos\u001b[0m\u001b[1;33m)\u001b[0m\u001b[1;33m:\u001b[0m\u001b[1;33m\u001b[0m\u001b[1;33m\u001b[0m\u001b[0m\n\u001b[0;32m      2\u001b[0m     \u001b[0mhmin\u001b[0m \u001b[1;33m=\u001b[0m \u001b[0mcv2\u001b[0m\u001b[1;33m.\u001b[0m\u001b[0mgetTrackbarPos\u001b[0m\u001b[1;33m(\u001b[0m\u001b[1;34m'H_min'\u001b[0m\u001b[1;33m,\u001b[0m \u001b[1;34m'src'\u001b[0m\u001b[1;33m)\u001b[0m\u001b[1;33m\u001b[0m\u001b[1;33m\u001b[0m\u001b[0m\n\u001b[1;32m----> 3\u001b[1;33m     \u001b[0mhmax\u001b[0m \u001b[1;33m=\u001b[0m \u001b[0mcv2\u001b[0m\u001b[1;33m.\u001b[0m\u001b[0mgetTrackbarPos\u001b[0m\u001b[1;33m(\u001b[0m\u001b[1;34m'H_max'\u001b[0m\u001b[1;33m,\u001b[0m \u001b[1;34m'src'\u001b[0m\u001b[1;33m)\u001b[0m\u001b[1;33m\u001b[0m\u001b[1;33m\u001b[0m\u001b[0m\n\u001b[0m\u001b[0;32m      4\u001b[0m     \u001b[0msmin\u001b[0m \u001b[1;33m=\u001b[0m \u001b[0mcv2\u001b[0m\u001b[1;33m.\u001b[0m\u001b[0mgetTrackbarPos\u001b[0m\u001b[1;33m(\u001b[0m\u001b[1;34m's_min'\u001b[0m\u001b[1;33m,\u001b[0m \u001b[1;34m'src'\u001b[0m\u001b[1;33m)\u001b[0m\u001b[1;33m\u001b[0m\u001b[1;33m\u001b[0m\u001b[0m\n\u001b[0;32m      5\u001b[0m \u001b[1;33m\u001b[0m\u001b[0m\n",
      "\u001b[1;31merror\u001b[0m: OpenCV(4.5.5) D:\\a\\opencv-python\\opencv-python\\opencv\\modules\\highgui\\src\\window.cpp:862: error: (-215:Assertion failed) trackbar in function 'cv::getTrackbarPos'\n"
     ]
    },
    {
     "ename": "error",
     "evalue": "OpenCV(4.5.5) D:\\a\\opencv-python\\opencv-python\\opencv\\modules\\highgui\\src\\window.cpp:862: error: (-215:Assertion failed) trackbar in function 'cv::getTrackbarPos'\n",
     "output_type": "error",
     "traceback": [
      "\u001b[1;31m---------------------------------------------------------------------------\u001b[0m",
      "\u001b[1;31merror\u001b[0m                                     Traceback (most recent call last)",
      "\u001b[1;32m~\\AppData\\Local\\Temp/ipykernel_4944/279915255.py\u001b[0m in \u001b[0;36mcall_trackbar\u001b[1;34m(pos)\u001b[0m\n\u001b[0;32m      2\u001b[0m     \u001b[0mhmin\u001b[0m \u001b[1;33m=\u001b[0m \u001b[0mcv2\u001b[0m\u001b[1;33m.\u001b[0m\u001b[0mgetTrackbarPos\u001b[0m\u001b[1;33m(\u001b[0m\u001b[1;34m'H_min'\u001b[0m\u001b[1;33m,\u001b[0m \u001b[1;34m'src'\u001b[0m\u001b[1;33m)\u001b[0m\u001b[1;33m\u001b[0m\u001b[1;33m\u001b[0m\u001b[0m\n\u001b[0;32m      3\u001b[0m     \u001b[0mhmax\u001b[0m \u001b[1;33m=\u001b[0m \u001b[0mcv2\u001b[0m\u001b[1;33m.\u001b[0m\u001b[0mgetTrackbarPos\u001b[0m\u001b[1;33m(\u001b[0m\u001b[1;34m'H_max'\u001b[0m\u001b[1;33m,\u001b[0m \u001b[1;34m'src'\u001b[0m\u001b[1;33m)\u001b[0m\u001b[1;33m\u001b[0m\u001b[1;33m\u001b[0m\u001b[0m\n\u001b[1;32m----> 4\u001b[1;33m     \u001b[0msmin\u001b[0m \u001b[1;33m=\u001b[0m \u001b[0mcv2\u001b[0m\u001b[1;33m.\u001b[0m\u001b[0mgetTrackbarPos\u001b[0m\u001b[1;33m(\u001b[0m\u001b[1;34m's_min'\u001b[0m\u001b[1;33m,\u001b[0m \u001b[1;34m'src'\u001b[0m\u001b[1;33m)\u001b[0m\u001b[1;33m\u001b[0m\u001b[1;33m\u001b[0m\u001b[0m\n\u001b[0m\u001b[0;32m      5\u001b[0m \u001b[1;33m\u001b[0m\u001b[0m\n\u001b[0;32m      6\u001b[0m     \u001b[0mmask\u001b[0m \u001b[1;33m=\u001b[0m \u001b[0mcv2\u001b[0m\u001b[1;33m.\u001b[0m\u001b[0minRange\u001b[0m\u001b[1;33m(\u001b[0m\u001b[0msrc_hsv\u001b[0m\u001b[1;33m,\u001b[0m \u001b[1;33m(\u001b[0m\u001b[0mhmin\u001b[0m\u001b[1;33m,\u001b[0m \u001b[0msmin\u001b[0m\u001b[1;33m,\u001b[0m \u001b[1;36m0\u001b[0m\u001b[1;33m)\u001b[0m\u001b[1;33m,\u001b[0m \u001b[1;33m(\u001b[0m\u001b[0mhmax\u001b[0m\u001b[1;33m,\u001b[0m \u001b[1;36m255\u001b[0m\u001b[1;33m,\u001b[0m \u001b[1;36m255\u001b[0m\u001b[1;33m)\u001b[0m\u001b[1;33m)\u001b[0m\u001b[1;33m\u001b[0m\u001b[1;33m\u001b[0m\u001b[0m\n",
      "\u001b[1;31merror\u001b[0m: OpenCV(4.5.5) D:\\a\\opencv-python\\opencv-python\\opencv\\modules\\highgui\\src\\window.cpp:862: error: (-215:Assertion failed) trackbar in function 'cv::getTrackbarPos'\n"
     ]
    }
   ],
   "source": [
    "def call_trackbar(pos):\n",
    "    hmin = cv2.getTrackbarPos('H_min', 'src')\n",
    "    hmax = cv2.getTrackbarPos('H_max', 'src')\n",
    "    smin = cv2.getTrackbarPos('s_min', 'src')\n",
    "    \n",
    "    mask = cv2.inRange(src_hsv, (hmin, smin, 0), (hmax, 255, 255))\n",
    "    src1 = src.copy()\n",
    "    cv2.copyTo(dst, mask, src1)\n",
    "    cv2.imshow('mask', mask)\n",
    "    cv2.imshow('src', src1)\n",
    "\n",
    "src = cv2.imread('./computer_vision/fig/green/chromakey.png')\n",
    "dst = cv2.imread('./computer_vision/fig/green/autumn.jpg')\n",
    "src_hsv = cv2.cvtColor(src, cv2.COLOR_BGR2HSV)\n",
    "\n",
    "h,w = src.shape[:2]\n",
    "dst = cv2.resize(dst, (w, h), cv2.INTER_AREA)\n",
    "\n",
    "\n",
    "cv2.namedWindow('src')\n",
    "cv2.createTrackbar('H_min', 'src', 40,179, call_trackbar)\n",
    "cv2.createTrackbar('H_max', 'src', 70,179, call_trackbar)\n",
    "cv2.createTrackbar('s_min', 'src', 0,255, call_trackbar)\n",
    "\n",
    "\n",
    "cv2.imshow('src', src)\n",
    "# cv2.imshow('crop', crop)\n",
    "cv2.imshow('dst',dst)\n",
    "\n",
    "\n",
    "cv2.waitKey()\n",
    "cv2.destroyAllWindows()"
   ]
  }
 ],
 "metadata": {
  "kernelspec": {
   "display_name": "Python 3 (ipykernel)",
   "language": "python",
   "name": "python3"
  },
  "language_info": {
   "codemirror_mode": {
    "name": "ipython",
    "version": 3
   },
   "file_extension": ".py",
   "mimetype": "text/x-python",
   "name": "python",
   "nbconvert_exporter": "python",
   "pygments_lexer": "ipython3",
   "version": "3.9.7"
  }
 },
 "nbformat": 4,
 "nbformat_minor": 5
}
