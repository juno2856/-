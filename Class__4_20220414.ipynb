{
  "nbformat": 4,
  "nbformat_minor": 0,
  "metadata": {
    "colab": {
      "name": "Class _4_20220414.ipynb",
      "provenance": [],
      "collapsed_sections": [],
      "authorship_tag": "ABX9TyNHg8i7OErESF68S/qTgibb",
      "include_colab_link": true
    },
    "kernelspec": {
      "name": "python3",
      "display_name": "Python 3"
    },
    "language_info": {
      "name": "python"
    }
  },
  "cells": [
    {
      "cell_type": "markdown",
      "metadata": {
        "id": "view-in-github",
        "colab_type": "text"
      },
      "source": [
        "<a href=\"https://colab.research.google.com/github/juno2856/deeplearning/blob/master/Class__4_20220414.ipynb\" target=\"_parent\"><img src=\"https://colab.research.google.com/assets/colab-badge.svg\" alt=\"Open In Colab\"/></a>"
      ]
    },
    {
      "cell_type": "code",
      "source": [
        "import numpy as np\n",
        "import matplotlib.pyplot as plt\n",
        "import pandas as pd"
      ],
      "metadata": {
        "id": "j6vdfZSFmg2Q"
      },
      "execution_count": null,
      "outputs": []
    },
    {
      "cell_type": "code",
      "source": [
        "x_ = np.arange(-4,4.2,step = 0.1)\n",
        "#print(x_)\n",
        "y_ = x_ **2\n",
        "\n",
        "x =4\n",
        "y = 16\n",
        "lr = 0.1\n",
        "\n",
        "\n",
        "plt.figure(figsize = (8,6))\n",
        "plt.plot(x_,y_)\n",
        "plt.scatter(4,16, s= 200, c = 'r')\n",
        "\n",
        "for _ in range(1000):\n",
        "  plt.scatter(x,y,c = 'r', s = 100)\n",
        "  dy_dx = 2*x\n",
        "  x = x - lr*dy_dx\n",
        "  y = x**2\n",
        "\n",
        "\n",
        "plt.show()\n",
        "\n"
      ],
      "metadata": {
        "colab": {
          "base_uri": "https://localhost:8080/",
          "height": 375
        },
        "id": "ZTLWUzHSdbsS",
        "outputId": "805ce901-92be-4744-e0a8-b8d9a6486ebf"
      },
      "execution_count": null,
      "outputs": [
        {
          "output_type": "display_data",
          "data": {
            "text/plain": [
              "<Figure size 576x432 with 1 Axes>"
            ],
            "image/png": "[encoded data removed]"
          },
          "metadata": {
            "needs_background": "light"
          }
        }
      ]
    },
    {
      "cell_type": "code",
      "source": [
        "# 78p~\n",
        "\n",
        "data = [[2,81], [4,93], [6,91],[8,97]]\n",
        "x = [i[0] for i in data]\n",
        "y = [i[1] for i in data]\n",
        "\n"
      ],
      "metadata": {
        "id": "XwsXXFM9s7xv"
      },
      "execution_count": null,
      "outputs": []
    },
    {
      "cell_type": "code",
      "source": [
        "plt.figure(figsize=(8,5))\n",
        "plt.scatter(x,y)\n",
        "plt.show()"
      ],
      "metadata": {
        "colab": {
          "base_uri": "https://localhost:8080/",
          "height": 320
        },
        "id": "BtToE1_LtiEj",
        "outputId": "0f042e7a-9364-46f1-dcbd-3b99e0f1b6d3"
      },
      "execution_count": null,
      "outputs": [
        {
          "output_type": "display_data",
          "data": {
            "text/plain": [
              "<Figure size 576x360 with 1 Axes>"
            ],
            "image/png": "[encoded data removed]"
          },
          "metadata": {
            "needs_background": "light"
          }
        }
      ]
    },
    {
      "cell_type": "code",
      "source": [
        "x_data = np.array(x)\n",
        "y_data = np.array(y)\n"
      ],
      "metadata": {
        "id": "FGUhV1dBtq-G"
      },
      "execution_count": null,
      "outputs": []
    },
    {
      "cell_type": "code",
      "source": [
        "a = 0 \n",
        "b = 0 \n",
        "lr = 0.03\n",
        "epochs = 2001"
      ],
      "metadata": {
        "id": "ntQUT0c9vi95"
      },
      "execution_count": null,
      "outputs": []
    },
    {
      "cell_type": "code",
      "source": [
        "for i in range(epochs):\n",
        "  y_pred = a * x_data + b\n",
        "  error = y_data - y_pred\n",
        "\n",
        "  a_diff = -(2/len(x_data))*sum(x_data * (error))\n",
        "  b_diff = -(2/len(x_data))*sum(error)\n",
        "\n",
        "  a = a - lr * a_diff\n",
        "  b = b - lr * b_diff\n",
        "\n",
        "  if i%100==0:\n",
        "    print(\"epoch = %.f, 기울기 = %.04f, 절편 = %.04f\" % (i,a,b))"
      ],
      "metadata": {
        "colab": {
          "base_uri": "https://localhost:8080/"
        },
        "id": "H-588VhRtyPW",
        "outputId": "f5a99878-8c4f-4d01-fa72-a9d4026eb83a"
      },
      "execution_count": null,
      "outputs": [
        {
          "output_type": "stream",
          "name": "stdout",
          "text": [
            "epoch = 0, 기울기 = 27.8400, 절편 = 5.4300\n",
            "epoch = 100, 기울기 = 7.0739, 절편 = 50.5117\n",
            "epoch = 200, 기울기 = 4.0960, 절편 = 68.2822\n",
            "epoch = 300, 기울기 = 2.9757, 절편 = 74.9678\n",
            "epoch = 400, 기울기 = 2.5542, 절편 = 77.4830\n",
            "epoch = 500, 기울기 = 2.3956, 절편 = 78.4293\n",
            "epoch = 600, 기울기 = 2.3360, 절편 = 78.7853\n",
            "epoch = 700, 기울기 = 2.3135, 절편 = 78.9192\n",
            "epoch = 800, 기울기 = 2.3051, 절편 = 78.9696\n",
            "epoch = 900, 기울기 = 2.3019, 절편 = 78.9886\n",
            "epoch = 1000, 기울기 = 2.3007, 절편 = 78.9957\n",
            "epoch = 1100, 기울기 = 2.3003, 절편 = 78.9984\n",
            "epoch = 1200, 기울기 = 2.3001, 절편 = 78.9994\n",
            "epoch = 1300, 기울기 = 2.3000, 절편 = 78.9998\n",
            "epoch = 1400, 기울기 = 2.3000, 절편 = 78.9999\n",
            "epoch = 1500, 기울기 = 2.3000, 절편 = 79.0000\n",
            "epoch = 1600, 기울기 = 2.3000, 절편 = 79.0000\n",
            "epoch = 1700, 기울기 = 2.3000, 절편 = 79.0000\n",
            "epoch = 1800, 기울기 = 2.3000, 절편 = 79.0000\n",
            "epoch = 1900, 기울기 = 2.3000, 절편 = 79.0000\n",
            "epoch = 2000, 기울기 = 2.3000, 절편 = 79.0000\n"
          ]
        }
      ]
    },
    {
      "cell_type": "code",
      "source": [
        "y_pred = a *x_data +b\n",
        "plt.scatter(x,y)\n",
        "plt.plot([min(x_data), max(x_data)], [min(y_pred), max(y_pred)])\n",
        "plt.show()"
      ],
      "metadata": {
        "colab": {
          "base_uri": "https://localhost:8080/",
          "height": 265
        },
        "id": "iVaLWFpxxGhH",
        "outputId": "6323e00e-135f-4413-e5d2-eb1e4d282550"
      },
      "execution_count": null,
      "outputs": [
        {
          "output_type": "display_data",
          "data": {
            "text/plain": [
              "<Figure size 432x288 with 1 Axes>"
            ],
            "image/png": "[encoded data removed]"
          },
          "metadata": {
            "needs_background": "light"
          }
        }
      ]
    },
    {
      "cell_type": "code",
      "source": [
        "data = [[2,0], [4,0],[6,0],[8,1],[10,1], [12,1],[14,1]]\n",
        "\n",
        "x_data_ = np.array(data)[:,0]\n",
        "y_data_ = np.array(data)[:,1]\n",
        "print(x_data_)\n",
        "print(y_data_)\n",
        "\n",
        "x = np.arange(0,15, step = 0.1)\n",
        "y  = 1/(1 + np.e**(-(0.8*x-5.9)))\n",
        "\n",
        "\n",
        "plt.scatter(x_data_,y_data_, s = 100, c = 'b')\n",
        "plt.plot(x,y, c = 'r')\n",
        "\n",
        "plt.show()"
      ],
      "metadata": {
        "colab": {
          "base_uri": "https://localhost:8080/",
          "height": 302
        },
        "id": "y69-Js9xEP3D",
        "outputId": "b3e7a047-628a-4554-d9e8-ccc66154e053"
      },
      "execution_count": null,
      "outputs": [
        {
          "output_type": "stream",
          "name": "stdout",
          "text": [
            "[ 2  4  6  8 10 12 14]\n",
            "[0 0 0 1 1 1 1]\n"
          ]
        },
        {
          "output_type": "display_data",
          "data": {
            "text/plain": [
              "<Figure size 432x288 with 1 Axes>"
            ],
            "image/png": "[encoded data removed]"
          },
          "metadata": {
            "needs_background": "light"
          }
        }
      ]
    },
    {
      "cell_type": "code",
      "source": [
        "data = [[2,0], [4,0],[6,0],[8,1],[10,1], [12,1],[14,1]]\n",
        "\n",
        "x_data = [i[0] for i in data]\n",
        "y_data = [i[1] for i in data]\n",
        "plt.scatter(x_data, y_data)\n",
        "plt.xlim(0,15)\n",
        "plt.ylim(-.1,1.1)"
      ],
      "metadata": {
        "colab": {
          "base_uri": "https://localhost:8080/",
          "height": 283
        },
        "id": "EA6znuMAgXXJ",
        "outputId": "512c53c9-22c2-479e-e749-6d2957c4064e"
      },
      "execution_count": null,
      "outputs": [
        {
          "output_type": "execute_result",
          "data": {
            "text/plain": [
              "(-0.1, 1.1)"
            ]
          },
          "metadata": {},
          "execution_count": 113
        },
        {
          "output_type": "display_data",
          "data": {
            "text/plain": [
              "<Figure size 432x288 with 1 Axes>"
            ],
            "image/png": "[encoded data removed]"
          },
          "metadata": {
            "needs_background": "light"
          }
        }
      ]
    },
    {
      "cell_type": "code",
      "source": [
        "data = [[2,0], [4,0],[6,0],[8,1],[10,1], [12,1],[14,1]]\n",
        "\n",
        "x_data = [i[0] for i in data]\n",
        "y_data = [i[1] for i in data]\n",
        "plt.scatter(x_data, y_data)\n",
        "plt.xlim(0,15)\n",
        "plt.ylim(-.1,1.1)\n",
        "\n",
        "a = 0\n",
        "b = 0\n",
        "\n",
        "lr = 0.05\n",
        "\n",
        "def sigmoid(x):\n",
        "  return 1/(1+np.e**(-x))\n",
        "\n",
        "for i in range(2001):\n",
        "  for x_data, y_data in data:\n",
        "    a_diff = x_data*(sigmoid(a*x_data+b)-y_data)\n",
        "    b_diff = sigmoid(a*x_data+b)-y_data\n",
        "\n",
        "    a = a - lr*a_diff\n",
        "    b = b - lr*b_diff  \n",
        "    if i % 1000 == 0:\n",
        "      print( \"epoch =%.f, 기울기=%.04f, 절편 = %.04f\" % (i,a,b))\n",
        "\n",
        "plt.scatter(x_data, y_data, s = 100)\n",
        "plt.xlim(0,15)\n",
        "plt.ylim(-.1,1.1)\n",
        "x_range = (np.arange(0,15,0.1))\n",
        "plt.plot(np.arange(0,15,0.1), np.array([sigmoid(a*x+b) for x in x_range]))\n",
        "plt.show()"
      ],
      "metadata": {
        "colab": {
          "base_uri": "https://localhost:8080/",
          "height": 646
        },
        "id": "sSuINwLxiaiJ",
        "outputId": "ef4d5bc3-1e71-4007-8f01-fa57355044c0"
      },
      "execution_count": null,
      "outputs": [
        {
          "output_type": "stream",
          "name": "stdout",
          "text": [
            "epoch =0, 기울기=-0.0500, 절편 = -0.0250\n",
            "epoch =0, 기울기=-0.1388, 절편 = -0.0472\n",
            "epoch =0, 기울기=-0.2268, 절편 = -0.0619\n",
            "epoch =0, 기울기=0.1201, 절편 = -0.0185\n",
            "epoch =0, 기울기=0.2374, 절편 = -0.0068\n",
            "epoch =0, 기울기=0.2705, 절편 = -0.0040\n",
            "epoch =0, 기울기=0.2860, 절편 = -0.0029\n",
            "epoch =1000, 기울기=1.4978, 절편 = -9.9401\n",
            "epoch =1000, 기울기=1.4940, 절편 = -9.9411\n",
            "epoch =1000, 기울기=1.4120, 절편 = -9.9547\n",
            "epoch =1000, 기울기=1.4949, 절편 = -9.9444\n",
            "epoch =1000, 기울기=1.4982, 절편 = -9.9440\n",
            "epoch =1000, 기울기=1.4984, 절편 = -9.9440\n",
            "epoch =1000, 기울기=1.4985, 절편 = -9.9440\n",
            "epoch =2000, 기울기=1.9065, 절편 = -12.9489\n",
            "epoch =2000, 기울기=1.9055, 절편 = -12.9491\n",
            "epoch =2000, 기울기=1.8515, 절편 = -12.9581\n",
            "epoch =2000, 기울기=1.9057, 절편 = -12.9514\n",
            "epoch =2000, 기울기=1.9068, 절편 = -12.9513\n",
            "epoch =2000, 기울기=1.9068, 절편 = -12.9513\n",
            "epoch =2000, 기울기=1.9068, 절편 = -12.9513\n"
          ]
        },
        {
          "output_type": "display_data",
          "data": {
            "text/plain": [
              "<Figure size 432x288 with 1 Axes>"
            ],
            "image/png": "[encoded data removed]"
          },
          "metadata": {
            "needs_background": "light"
          }
        }
      ]
    },
    {
      "cell_type": "code",
      "source": [
        "w11  = np.array([-2,-2])\n",
        "w12 = np.array([2,2])\n",
        "w2 = np.array([1,1])\n",
        "b1 = 3\n",
        "b2= -1\n",
        "b3 = -1\n",
        "\n",
        "def MLP(x, w, b):\n",
        "  y = np.sum(x*w) +b\n",
        "  if y>=1:\n",
        "    return 1\n",
        "  else:\n",
        "    return 0"
      ],
      "metadata": {
        "id": "z6LU7dxas4po"
      },
      "execution_count": null,
      "outputs": []
    },
    {
      "cell_type": "code",
      "source": [
        "##n2\n",
        "def OR(x1, x2):\n",
        "  return MLP(np.array([x1,x2]), w12, b2)\n",
        "\n",
        "## n1\n",
        "def NAND(x1, x2):\n",
        "  return MLP(np.array([x1,x2]), w11, b1)\n",
        "\n",
        "##yout\n",
        "def AND(x1, x2):\n",
        "  return MLP(np.array([x1,x2]), w2, b3)\n",
        "\n",
        "##\n",
        "def XOR(x1, x2):\n",
        "  return AND(NAND(x1,x2), OR(x1, x2))\n",
        "\n",
        "\n",
        "for x in [(0,0), (1,0), (0,1), (1,1)]:\n",
        "  y = XOR(x[0], x[1])\n",
        "  print('입력 값:', str(x), '출력 값 : ', str(y))\n",
        "\n"
      ],
      "metadata": {
        "colab": {
          "base_uri": "https://localhost:8080/"
        },
        "id": "jyXDc3vj6pqa",
        "outputId": "a8d850e1-98d3-48df-e0bb-fad694d88d6a"
      },
      "execution_count": null,
      "outputs": [
        {
          "output_type": "stream",
          "name": "stdout",
          "text": [
            "입력 값: (0, 0) 출력 값 :  0\n",
            "입력 값: (1, 0) 출력 값 :  1\n",
            "입력 값: (0, 1) 출력 값 :  1\n",
            "입력 값: (1, 1) 출력 값 :  0\n"
          ]
        }
      ]
    }
  ]
}