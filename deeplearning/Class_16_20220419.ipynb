{
  "nbformat": 4,
  "nbformat_minor": 0,
  "metadata": {
    "colab": {
      "name": "Class_16_20220419.ipynb",
      "provenance": [],
      "authorship_tag": "ABX9TyMxzy20w7MVdQe3TRGJyMGg",
      "include_colab_link": true
    },
    "kernelspec": {
      "name": "python3",
      "display_name": "Python 3"
    },
    "language_info": {
      "name": "python"
    }
  },
  "cells": [
    {
      "cell_type": "markdown",
      "metadata": {
        "id": "view-in-github",
        "colab_type": "text"
      },
      "source": [
        "<a href=\"https://colab.research.google.com/github/juno2856/deeplearning/blob/master/Class_16_20220419.ipynb\" target=\"_parent\"><img src=\"https://colab.research.google.com/assets/colab-badge.svg\" alt=\"Open In Colab\"/></a>"
      ]
    },
    {
      "cell_type": "code",
      "execution_count": 1,
      "metadata": {
        "id": "zFL3BSLocf3b"
      },
      "outputs": [],
      "source": [
        "import numpy as np\n",
        "import pandas as pd\n",
        "import matplotlib.pyplot as plt"
      ]
    },
    {
      "cell_type": "code",
      "source": [
        ""
      ],
      "metadata": {
        "id": "-KXE_pJugiK2"
      },
      "execution_count": 1,
      "outputs": []
    },
    {
      "cell_type": "code",
      "source": [
        "from tensorflow import keras"
      ],
      "metadata": {
        "id": "oPsp55LjclIO"
      },
      "execution_count": 2,
      "outputs": []
    },
    {
      "cell_type": "code",
      "source": [
        "(train_input, train_target), (test_input, test_target) = keras.datasets.fashion_mnist.load_data()"
      ],
      "metadata": {
        "colab": {
          "base_uri": "https://localhost:8080/"
        },
        "id": "4rKZmqBbcoFA",
        "outputId": "d8bc8226-2ffa-468f-dd5f-6ccf7f615ede"
      },
      "execution_count": 3,
      "outputs": [
        {
          "output_type": "stream",
          "name": "stdout",
          "text": [
            "Downloading data from https://storage.googleapis.com/tensorflow/tf-keras-datasets/train-labels-idx1-ubyte.gz\n",
            "32768/29515 [=================================] - 0s 0us/step\n",
            "40960/29515 [=========================================] - 0s 0us/step\n",
            "Downloading data from https://storage.googleapis.com/tensorflow/tf-keras-datasets/train-images-idx3-ubyte.gz\n",
            "26427392/26421880 [==============================] - 0s 0us/step\n",
            "26435584/26421880 [==============================] - 0s 0us/step\n",
            "Downloading data from https://storage.googleapis.com/tensorflow/tf-keras-datasets/t10k-labels-idx1-ubyte.gz\n",
            "16384/5148 [===============================================================================================] - 0s 0us/step\n",
            "Downloading data from https://storage.googleapis.com/tensorflow/tf-keras-datasets/t10k-images-idx3-ubyte.gz\n",
            "4423680/4422102 [==============================] - 0s 0us/step\n",
            "4431872/4422102 [==============================] - 0s 0us/step\n"
          ]
        }
      ]
    },
    {
      "cell_type": "code",
      "source": [
        "train_input.shape\n",
        "train_target.shape\n",
        "print(train_input.shape)\n",
        "print(train_target.shape)"
      ],
      "metadata": {
        "colab": {
          "base_uri": "https://localhost:8080/"
        },
        "id": "be6ZDZ6yczKt",
        "outputId": "fb830ce4-d8a2-4c59-ddc6-680a530d481f"
      },
      "execution_count": 71,
      "outputs": [
        {
          "output_type": "stream",
          "name": "stdout",
          "text": [
            "(60000, 28, 28)\n",
            "(48000,)\n"
          ]
        }
      ]
    },
    {
      "cell_type": "code",
      "source": [
        "fig, axes = plt.subplots(1, 10, figsize = (10,10))\n",
        "\n",
        "for i in range(10):\n",
        "  axes[i].imshow(train_input[i], cmap = 'gray')\n",
        "  axes[i].axis('off')\n",
        "plt.show()"
      ],
      "metadata": {
        "colab": {
          "base_uri": "https://localhost:8080/",
          "height": 78
        },
        "id": "thVnGwjnc3D_",
        "outputId": "5099a7a5-2e3d-4ac9-d120-70699b6cef41"
      },
      "execution_count": 5,
      "outputs": [
        {
          "output_type": "display_data",
          "data": {
            "text/plain": [
              "<Figure size 720x720 with 10 Axes>"
            ],
            "image/png": "[encoded data removed]"
          },
          "metadata": {
            "needs_background": "light"
          }
        }
      ]
    },
    {
      "cell_type": "code",
      "source": [
        "train_target[:10]"
      ],
      "metadata": {
        "colab": {
          "base_uri": "https://localhost:8080/"
        },
        "id": "jE6eMYAddb1u",
        "outputId": "31c3c6e5-56df-43d8-a8af-e2af796407a3"
      },
      "execution_count": 6,
      "outputs": [
        {
          "output_type": "execute_result",
          "data": {
            "text/plain": [
              "array([9, 0, 0, 3, 0, 2, 7, 2, 5, 5], dtype=uint8)"
            ]
          },
          "metadata": {},
          "execution_count": 6
        }
      ]
    },
    {
      "cell_type": "code",
      "source": [
        "np.unique(train_target, return_counts = True)"
      ],
      "metadata": {
        "colab": {
          "base_uri": "https://localhost:8080/"
        },
        "id": "6MBfeLoYdoZl",
        "outputId": "c94f21d1-ee12-46b9-90e8-0f137e8c1ccd"
      },
      "execution_count": 7,
      "outputs": [
        {
          "output_type": "execute_result",
          "data": {
            "text/plain": [
              "(array([0, 1, 2, 3, 4, 5, 6, 7, 8, 9], dtype=uint8),\n",
              " array([6000, 6000, 6000, 6000, 6000, 6000, 6000, 6000, 6000, 6000]))"
            ]
          },
          "metadata": {},
          "execution_count": 7
        }
      ]
    },
    {
      "cell_type": "code",
      "source": [
        "train_scaled = (train_input/255.0).reshape(-1, 28*28)\n",
        "test_scaled = (test_input/255.0).reshape(-1,28*28)\n",
        "\n",
        "train_scaled.shape"
      ],
      "metadata": {
        "colab": {
          "base_uri": "https://localhost:8080/"
        },
        "id": "wyT9HUCbdt9X",
        "outputId": "f235b889-2f01-41fa-86fd-4265b691abeb"
      },
      "execution_count": 8,
      "outputs": [
        {
          "output_type": "execute_result",
          "data": {
            "text/plain": [
              "(60000, 784)"
            ]
          },
          "metadata": {},
          "execution_count": 8
        }
      ]
    },
    {
      "cell_type": "code",
      "source": [
        "from sklearn.model_selection import train_test_split\n",
        "\n",
        "train_scaled, val_scaled, train_target, val_target = train_test_split(train_scaled, train_target, test_size = 0.2)"
      ],
      "metadata": {
        "id": "b2I0q2s4ek5A"
      },
      "execution_count": 9,
      "outputs": []
    },
    {
      "cell_type": "code",
      "source": [
        "print(train_scaled.shape)"
      ],
      "metadata": {
        "colab": {
          "base_uri": "https://localhost:8080/"
        },
        "id": "ockRnYfoe11X",
        "outputId": "7903ed62-0448-48f4-cea9-d6412dfe5125"
      },
      "execution_count": 10,
      "outputs": [
        {
          "output_type": "stream",
          "name": "stdout",
          "text": [
            "(48000, 784)\n"
          ]
        }
      ]
    },
    {
      "cell_type": "code",
      "source": [
        "model = keras.Sequential()\n",
        "model.add(keras.layers.Dense(30, input_shape = (784,), activation = 'relu'))\n",
        "model.add(keras.layers.Dense(10, activation = 'softmax'))\n",
        "model.summary()"
      ],
      "metadata": {
        "colab": {
          "base_uri": "https://localhost:8080/"
        },
        "id": "IjvFPd3_e6hv",
        "outputId": "f1cb1b24-1e53-4700-d1b5-8db87f15f767"
      },
      "execution_count": 20,
      "outputs": [
        {
          "output_type": "stream",
          "name": "stdout",
          "text": [
            "Model: \"sequential_2\"\n",
            "_________________________________________________________________\n",
            " Layer (type)                Output Shape              Param #   \n",
            "=================================================================\n",
            " dense_4 (Dense)             (None, 30)                23550     \n",
            "                                                                 \n",
            " dense_5 (Dense)             (None, 10)                310       \n",
            "                                                                 \n",
            "=================================================================\n",
            "Total params: 23,860\n",
            "Trainable params: 23,860\n",
            "Non-trainable params: 0\n",
            "_________________________________________________________________\n"
          ]
        }
      ]
    },
    {
      "cell_type": "code",
      "source": [
        "model.compile(loss = 'sparse_categorical_crossentropy',\n",
        "              metrics = 'accuracy',\n",
        "              optimizer = 'adam') #sparse -> one hot encoding\n"
      ],
      "metadata": {
        "id": "gHLEAONpfiXl"
      },
      "execution_count": 21,
      "outputs": []
    },
    {
      "cell_type": "code",
      "source": [
        "history = model.fit(train_scaled, train_target, epochs = 100, batch_size = 200, \n",
        "          validation_data = (val_scaled, val_target)) # 5 > 20 >100 /"
      ],
      "metadata": {
        "colab": {
          "base_uri": "https://localhost:8080/"
        },
        "id": "0rB4yfErf44u",
        "outputId": "8e7a32d9-b78c-47fb-bec2-2d8dab103a53"
      },
      "execution_count": 22,
      "outputs": [
        {
          "output_type": "stream",
          "name": "stdout",
          "text": [
            "Epoch 1/100\n",
            "240/240 [==============================] - 2s 5ms/step - loss: 0.7810 - accuracy: 0.7406 - val_loss: 0.5444 - val_accuracy: 0.8150\n",
            "Epoch 2/100\n",
            "240/240 [==============================] - 1s 4ms/step - loss: 0.4933 - accuracy: 0.8322 - val_loss: 0.4752 - val_accuracy: 0.8392\n",
            "Epoch 3/100\n",
            "240/240 [==============================] - 1s 5ms/step - loss: 0.4474 - accuracy: 0.8442 - val_loss: 0.4465 - val_accuracy: 0.8484\n",
            "Epoch 4/100\n",
            "240/240 [==============================] - 1s 6ms/step - loss: 0.4211 - accuracy: 0.8532 - val_loss: 0.4250 - val_accuracy: 0.8547\n",
            "Epoch 5/100\n",
            "240/240 [==============================] - 1s 5ms/step - loss: 0.3992 - accuracy: 0.8606 - val_loss: 0.4169 - val_accuracy: 0.8560\n",
            "Epoch 6/100\n",
            "240/240 [==============================] - 1s 5ms/step - loss: 0.3850 - accuracy: 0.8650 - val_loss: 0.4038 - val_accuracy: 0.8613\n",
            "Epoch 7/100\n",
            "240/240 [==============================] - 1s 4ms/step - loss: 0.3712 - accuracy: 0.8698 - val_loss: 0.3948 - val_accuracy: 0.8635\n",
            "Epoch 8/100\n",
            "240/240 [==============================] - 1s 4ms/step - loss: 0.3601 - accuracy: 0.8727 - val_loss: 0.3822 - val_accuracy: 0.8666\n",
            "Epoch 9/100\n",
            "240/240 [==============================] - 2s 9ms/step - loss: 0.3545 - accuracy: 0.8744 - val_loss: 0.3896 - val_accuracy: 0.8628\n",
            "Epoch 10/100\n",
            "240/240 [==============================] - 2s 7ms/step - loss: 0.3443 - accuracy: 0.8785 - val_loss: 0.3748 - val_accuracy: 0.8683\n",
            "Epoch 11/100\n",
            "240/240 [==============================] - 2s 7ms/step - loss: 0.3354 - accuracy: 0.8807 - val_loss: 0.3763 - val_accuracy: 0.8701\n",
            "Epoch 12/100\n",
            "240/240 [==============================] - 2s 9ms/step - loss: 0.3322 - accuracy: 0.8815 - val_loss: 0.3743 - val_accuracy: 0.8707\n",
            "Epoch 13/100\n",
            "240/240 [==============================] - 2s 8ms/step - loss: 0.3243 - accuracy: 0.8854 - val_loss: 0.3694 - val_accuracy: 0.8687\n",
            "Epoch 14/100\n",
            "240/240 [==============================] - 1s 4ms/step - loss: 0.3191 - accuracy: 0.8866 - val_loss: 0.3671 - val_accuracy: 0.8701\n",
            "Epoch 15/100\n",
            "240/240 [==============================] - 1s 4ms/step - loss: 0.3205 - accuracy: 0.8855 - val_loss: 0.3689 - val_accuracy: 0.8717\n",
            "Epoch 16/100\n",
            "240/240 [==============================] - 1s 4ms/step - loss: 0.3099 - accuracy: 0.8901 - val_loss: 0.3670 - val_accuracy: 0.8722\n",
            "Epoch 17/100\n",
            "240/240 [==============================] - 1s 5ms/step - loss: 0.3082 - accuracy: 0.8897 - val_loss: 0.3592 - val_accuracy: 0.8733\n",
            "Epoch 18/100\n",
            "240/240 [==============================] - 1s 4ms/step - loss: 0.3036 - accuracy: 0.8905 - val_loss: 0.3993 - val_accuracy: 0.8605\n",
            "Epoch 19/100\n",
            "240/240 [==============================] - 1s 4ms/step - loss: 0.3029 - accuracy: 0.8915 - val_loss: 0.3569 - val_accuracy: 0.8737\n",
            "Epoch 20/100\n",
            "240/240 [==============================] - 1s 4ms/step - loss: 0.2942 - accuracy: 0.8961 - val_loss: 0.3598 - val_accuracy: 0.8762\n",
            "Epoch 21/100\n",
            "240/240 [==============================] - 1s 4ms/step - loss: 0.2937 - accuracy: 0.8954 - val_loss: 0.3556 - val_accuracy: 0.8763\n",
            "Epoch 22/100\n",
            "240/240 [==============================] - 1s 4ms/step - loss: 0.2904 - accuracy: 0.8961 - val_loss: 0.3636 - val_accuracy: 0.8713\n",
            "Epoch 23/100\n",
            "240/240 [==============================] - 1s 5ms/step - loss: 0.2881 - accuracy: 0.8967 - val_loss: 0.3597 - val_accuracy: 0.8741\n",
            "Epoch 24/100\n",
            "240/240 [==============================] - 2s 8ms/step - loss: 0.2847 - accuracy: 0.8974 - val_loss: 0.3531 - val_accuracy: 0.8761\n",
            "Epoch 25/100\n",
            "240/240 [==============================] - 2s 8ms/step - loss: 0.2820 - accuracy: 0.8986 - val_loss: 0.3709 - val_accuracy: 0.8708\n",
            "Epoch 26/100\n",
            "240/240 [==============================] - 1s 5ms/step - loss: 0.2795 - accuracy: 0.8995 - val_loss: 0.3604 - val_accuracy: 0.8766\n",
            "Epoch 27/100\n",
            "240/240 [==============================] - 1s 4ms/step - loss: 0.2757 - accuracy: 0.9009 - val_loss: 0.3707 - val_accuracy: 0.8705\n",
            "Epoch 28/100\n",
            "240/240 [==============================] - 1s 4ms/step - loss: 0.2748 - accuracy: 0.9009 - val_loss: 0.3581 - val_accuracy: 0.8764\n",
            "Epoch 29/100\n",
            "240/240 [==============================] - 1s 4ms/step - loss: 0.2743 - accuracy: 0.9004 - val_loss: 0.3541 - val_accuracy: 0.8758\n",
            "Epoch 30/100\n",
            "240/240 [==============================] - 1s 4ms/step - loss: 0.2708 - accuracy: 0.9029 - val_loss: 0.3566 - val_accuracy: 0.8776\n",
            "Epoch 31/100\n",
            "240/240 [==============================] - 1s 4ms/step - loss: 0.2682 - accuracy: 0.9032 - val_loss: 0.3589 - val_accuracy: 0.8743\n",
            "Epoch 32/100\n",
            "240/240 [==============================] - 1s 4ms/step - loss: 0.2641 - accuracy: 0.9056 - val_loss: 0.3557 - val_accuracy: 0.8763\n",
            "Epoch 33/100\n",
            "240/240 [==============================] - 1s 4ms/step - loss: 0.2631 - accuracy: 0.9066 - val_loss: 0.3563 - val_accuracy: 0.8757\n",
            "Epoch 34/100\n",
            "240/240 [==============================] - 1s 4ms/step - loss: 0.2599 - accuracy: 0.9072 - val_loss: 0.3579 - val_accuracy: 0.8766\n",
            "Epoch 35/100\n",
            "240/240 [==============================] - 1s 4ms/step - loss: 0.2616 - accuracy: 0.9051 - val_loss: 0.3577 - val_accuracy: 0.8807\n",
            "Epoch 36/100\n",
            "240/240 [==============================] - 1s 4ms/step - loss: 0.2575 - accuracy: 0.9068 - val_loss: 0.3686 - val_accuracy: 0.8728\n",
            "Epoch 37/100\n",
            "240/240 [==============================] - 1s 4ms/step - loss: 0.2571 - accuracy: 0.9079 - val_loss: 0.3703 - val_accuracy: 0.8717\n",
            "Epoch 38/100\n",
            "240/240 [==============================] - 1s 4ms/step - loss: 0.2553 - accuracy: 0.9069 - val_loss: 0.3582 - val_accuracy: 0.8780\n",
            "Epoch 39/100\n",
            "240/240 [==============================] - 1s 4ms/step - loss: 0.2520 - accuracy: 0.9096 - val_loss: 0.3633 - val_accuracy: 0.8746\n",
            "Epoch 40/100\n",
            "240/240 [==============================] - 1s 4ms/step - loss: 0.2497 - accuracy: 0.9097 - val_loss: 0.3621 - val_accuracy: 0.8752\n",
            "Epoch 41/100\n",
            "240/240 [==============================] - 1s 4ms/step - loss: 0.2483 - accuracy: 0.9103 - val_loss: 0.3549 - val_accuracy: 0.8784\n",
            "Epoch 42/100\n",
            "240/240 [==============================] - 1s 4ms/step - loss: 0.2467 - accuracy: 0.9104 - val_loss: 0.3663 - val_accuracy: 0.8763\n",
            "Epoch 43/100\n",
            "240/240 [==============================] - 1s 4ms/step - loss: 0.2469 - accuracy: 0.9114 - val_loss: 0.3642 - val_accuracy: 0.8743\n",
            "Epoch 44/100\n",
            "240/240 [==============================] - 1s 4ms/step - loss: 0.2428 - accuracy: 0.9128 - val_loss: 0.3576 - val_accuracy: 0.8798\n",
            "Epoch 45/100\n",
            "240/240 [==============================] - 1s 4ms/step - loss: 0.2419 - accuracy: 0.9131 - val_loss: 0.3634 - val_accuracy: 0.8766\n",
            "Epoch 46/100\n",
            "240/240 [==============================] - 1s 4ms/step - loss: 0.2409 - accuracy: 0.9132 - val_loss: 0.3578 - val_accuracy: 0.8788\n",
            "Epoch 47/100\n",
            "240/240 [==============================] - 1s 4ms/step - loss: 0.2399 - accuracy: 0.9135 - val_loss: 0.3604 - val_accuracy: 0.8775\n",
            "Epoch 48/100\n",
            "240/240 [==============================] - 1s 4ms/step - loss: 0.2386 - accuracy: 0.9134 - val_loss: 0.3668 - val_accuracy: 0.8773\n",
            "Epoch 49/100\n",
            "240/240 [==============================] - 1s 4ms/step - loss: 0.2373 - accuracy: 0.9147 - val_loss: 0.3739 - val_accuracy: 0.8710\n",
            "Epoch 50/100\n",
            "240/240 [==============================] - 1s 4ms/step - loss: 0.2342 - accuracy: 0.9149 - val_loss: 0.3611 - val_accuracy: 0.8779\n",
            "Epoch 51/100\n",
            "240/240 [==============================] - 1s 4ms/step - loss: 0.2327 - accuracy: 0.9155 - val_loss: 0.3624 - val_accuracy: 0.8773\n",
            "Epoch 52/100\n",
            "240/240 [==============================] - 1s 4ms/step - loss: 0.2304 - accuracy: 0.9171 - val_loss: 0.3831 - val_accuracy: 0.8718\n",
            "Epoch 53/100\n",
            "240/240 [==============================] - 1s 4ms/step - loss: 0.2319 - accuracy: 0.9166 - val_loss: 0.3638 - val_accuracy: 0.8794\n",
            "Epoch 54/100\n",
            "240/240 [==============================] - 1s 4ms/step - loss: 0.2289 - accuracy: 0.9176 - val_loss: 0.3675 - val_accuracy: 0.8766\n",
            "Epoch 55/100\n",
            "240/240 [==============================] - 1s 4ms/step - loss: 0.2275 - accuracy: 0.9177 - val_loss: 0.3722 - val_accuracy: 0.8744\n",
            "Epoch 56/100\n",
            "240/240 [==============================] - 1s 4ms/step - loss: 0.2288 - accuracy: 0.9179 - val_loss: 0.3686 - val_accuracy: 0.8783\n",
            "Epoch 57/100\n",
            "240/240 [==============================] - 1s 5ms/step - loss: 0.2262 - accuracy: 0.9185 - val_loss: 0.3839 - val_accuracy: 0.8712\n",
            "Epoch 58/100\n",
            "240/240 [==============================] - 1s 5ms/step - loss: 0.2252 - accuracy: 0.9180 - val_loss: 0.3764 - val_accuracy: 0.8754\n",
            "Epoch 59/100\n",
            "240/240 [==============================] - 1s 4ms/step - loss: 0.2217 - accuracy: 0.9195 - val_loss: 0.3742 - val_accuracy: 0.8763\n",
            "Epoch 60/100\n",
            "240/240 [==============================] - 1s 4ms/step - loss: 0.2226 - accuracy: 0.9183 - val_loss: 0.3784 - val_accuracy: 0.8733\n",
            "Epoch 61/100\n",
            "240/240 [==============================] - 1s 5ms/step - loss: 0.2236 - accuracy: 0.9193 - val_loss: 0.3705 - val_accuracy: 0.8764\n",
            "Epoch 62/100\n",
            "240/240 [==============================] - 1s 4ms/step - loss: 0.2199 - accuracy: 0.9215 - val_loss: 0.3706 - val_accuracy: 0.8777\n",
            "Epoch 63/100\n",
            "240/240 [==============================] - 1s 4ms/step - loss: 0.2178 - accuracy: 0.9216 - val_loss: 0.3707 - val_accuracy: 0.8791\n",
            "Epoch 64/100\n",
            "240/240 [==============================] - 1s 4ms/step - loss: 0.2180 - accuracy: 0.9217 - val_loss: 0.3755 - val_accuracy: 0.8749\n",
            "Epoch 65/100\n",
            "240/240 [==============================] - 1s 4ms/step - loss: 0.2146 - accuracy: 0.9224 - val_loss: 0.3784 - val_accuracy: 0.8742\n",
            "Epoch 66/100\n",
            "240/240 [==============================] - 1s 4ms/step - loss: 0.2153 - accuracy: 0.9223 - val_loss: 0.3789 - val_accuracy: 0.8733\n",
            "Epoch 67/100\n",
            "240/240 [==============================] - 1s 4ms/step - loss: 0.2143 - accuracy: 0.9229 - val_loss: 0.3784 - val_accuracy: 0.8745\n",
            "Epoch 68/100\n",
            "240/240 [==============================] - 1s 4ms/step - loss: 0.2143 - accuracy: 0.9214 - val_loss: 0.3767 - val_accuracy: 0.8771\n",
            "Epoch 69/100\n",
            "240/240 [==============================] - 1s 4ms/step - loss: 0.2114 - accuracy: 0.9233 - val_loss: 0.3796 - val_accuracy: 0.8747\n",
            "Epoch 70/100\n",
            "240/240 [==============================] - 1s 4ms/step - loss: 0.2123 - accuracy: 0.9237 - val_loss: 0.3858 - val_accuracy: 0.8735\n",
            "Epoch 71/100\n",
            "240/240 [==============================] - 1s 4ms/step - loss: 0.2095 - accuracy: 0.9247 - val_loss: 0.3812 - val_accuracy: 0.8742\n",
            "Epoch 72/100\n",
            "240/240 [==============================] - 1s 4ms/step - loss: 0.2088 - accuracy: 0.9246 - val_loss: 0.3769 - val_accuracy: 0.8760\n",
            "Epoch 73/100\n",
            "240/240 [==============================] - 1s 4ms/step - loss: 0.2061 - accuracy: 0.9255 - val_loss: 0.3834 - val_accuracy: 0.8759\n",
            "Epoch 74/100\n",
            "240/240 [==============================] - 1s 4ms/step - loss: 0.2066 - accuracy: 0.9250 - val_loss: 0.3888 - val_accuracy: 0.8738\n",
            "Epoch 75/100\n",
            "240/240 [==============================] - 1s 4ms/step - loss: 0.2064 - accuracy: 0.9262 - val_loss: 0.3874 - val_accuracy: 0.8737\n",
            "Epoch 76/100\n",
            "240/240 [==============================] - 1s 4ms/step - loss: 0.2051 - accuracy: 0.9260 - val_loss: 0.3807 - val_accuracy: 0.8761\n",
            "Epoch 77/100\n",
            "240/240 [==============================] - 1s 4ms/step - loss: 0.2056 - accuracy: 0.9269 - val_loss: 0.3857 - val_accuracy: 0.8731\n",
            "Epoch 78/100\n",
            "240/240 [==============================] - 1s 4ms/step - loss: 0.2035 - accuracy: 0.9262 - val_loss: 0.3931 - val_accuracy: 0.8757\n",
            "Epoch 79/100\n",
            "240/240 [==============================] - 1s 5ms/step - loss: 0.2011 - accuracy: 0.9277 - val_loss: 0.3904 - val_accuracy: 0.8737\n",
            "Epoch 80/100\n",
            "240/240 [==============================] - 1s 4ms/step - loss: 0.2027 - accuracy: 0.9270 - val_loss: 0.3989 - val_accuracy: 0.8713\n",
            "Epoch 81/100\n",
            "240/240 [==============================] - 1s 4ms/step - loss: 0.1998 - accuracy: 0.9286 - val_loss: 0.3980 - val_accuracy: 0.8748\n",
            "Epoch 82/100\n",
            "240/240 [==============================] - 1s 4ms/step - loss: 0.1982 - accuracy: 0.9297 - val_loss: 0.3925 - val_accuracy: 0.8725\n",
            "Epoch 83/100\n",
            "240/240 [==============================] - 1s 4ms/step - loss: 0.1962 - accuracy: 0.9302 - val_loss: 0.3961 - val_accuracy: 0.8733\n",
            "Epoch 84/100\n",
            "240/240 [==============================] - 1s 5ms/step - loss: 0.1976 - accuracy: 0.9293 - val_loss: 0.3977 - val_accuracy: 0.8740\n",
            "Epoch 85/100\n",
            "240/240 [==============================] - 1s 4ms/step - loss: 0.1970 - accuracy: 0.9303 - val_loss: 0.3953 - val_accuracy: 0.8737\n",
            "Epoch 86/100\n",
            "240/240 [==============================] - 1s 4ms/step - loss: 0.1949 - accuracy: 0.9298 - val_loss: 0.3990 - val_accuracy: 0.8734\n",
            "Epoch 87/100\n",
            "240/240 [==============================] - 1s 4ms/step - loss: 0.1949 - accuracy: 0.9303 - val_loss: 0.4336 - val_accuracy: 0.8642\n",
            "Epoch 88/100\n",
            "240/240 [==============================] - 1s 5ms/step - loss: 0.1958 - accuracy: 0.9295 - val_loss: 0.3989 - val_accuracy: 0.8748\n",
            "Epoch 89/100\n",
            "240/240 [==============================] - 1s 5ms/step - loss: 0.1942 - accuracy: 0.9306 - val_loss: 0.3975 - val_accuracy: 0.8733\n",
            "Epoch 90/100\n",
            "240/240 [==============================] - 1s 5ms/step - loss: 0.1945 - accuracy: 0.9298 - val_loss: 0.4042 - val_accuracy: 0.8733\n",
            "Epoch 91/100\n",
            "240/240 [==============================] - 1s 5ms/step - loss: 0.1902 - accuracy: 0.9321 - val_loss: 0.4063 - val_accuracy: 0.8723\n",
            "Epoch 92/100\n",
            "240/240 [==============================] - 1s 5ms/step - loss: 0.1911 - accuracy: 0.9317 - val_loss: 0.4046 - val_accuracy: 0.8745\n",
            "Epoch 93/100\n",
            "240/240 [==============================] - 1s 4ms/step - loss: 0.1891 - accuracy: 0.9322 - val_loss: 0.4144 - val_accuracy: 0.8726\n",
            "Epoch 94/100\n",
            "240/240 [==============================] - 1s 4ms/step - loss: 0.1899 - accuracy: 0.9321 - val_loss: 0.4180 - val_accuracy: 0.8707\n",
            "Epoch 95/100\n",
            "240/240 [==============================] - 1s 4ms/step - loss: 0.1867 - accuracy: 0.9334 - val_loss: 0.4109 - val_accuracy: 0.8715\n",
            "Epoch 96/100\n",
            "240/240 [==============================] - 1s 4ms/step - loss: 0.1862 - accuracy: 0.9324 - val_loss: 0.4100 - val_accuracy: 0.8723\n",
            "Epoch 97/100\n",
            "240/240 [==============================] - 1s 4ms/step - loss: 0.1894 - accuracy: 0.9323 - val_loss: 0.4202 - val_accuracy: 0.8712\n",
            "Epoch 98/100\n",
            "240/240 [==============================] - 1s 5ms/step - loss: 0.1858 - accuracy: 0.9340 - val_loss: 0.4148 - val_accuracy: 0.8689\n",
            "Epoch 99/100\n",
            "240/240 [==============================] - 1s 4ms/step - loss: 0.1849 - accuracy: 0.9339 - val_loss: 0.4217 - val_accuracy: 0.8686\n",
            "Epoch 100/100\n",
            "240/240 [==============================] - 1s 4ms/step - loss: 0.1853 - accuracy: 0.9340 - val_loss: 0.4156 - val_accuracy: 0.8724\n"
          ]
        }
      ]
    },
    {
      "cell_type": "code",
      "source": [
        "plt.plot(history.history['loss'], c = 'red')\n",
        "plt.plot(history.history['val_loss'], c= 'blue')\n",
        "plt.show(0)"
      ],
      "metadata": {
        "colab": {
          "base_uri": "https://localhost:8080/",
          "height": 515
        },
        "id": "oPOSse9rgDQn",
        "outputId": "57055bcb-ae09-4b6d-bb34-331542b97480"
      },
      "execution_count": 23,
      "outputs": [
        {
          "output_type": "display_data",
          "data": {
            "text/plain": [
              "<Figure size 432x288 with 1 Axes>"
            ],
            "image/png": "[encoded data removed]"
          },
          "metadata": {
            "needs_background": "light"
          }
        },
        {
          "output_type": "display_data",
          "data": {
            "text/plain": [
              "<Figure size 432x288 with 1 Axes>"
            ],
            "image/png": "[encoded data removed]"
          },
          "metadata": {
            "needs_background": "light"
          }
        }
      ]
    },
    {
      "cell_type": "code",
      "source": [
        "model = keras.Sequential()\n",
        "model.add(keras.layers.Dense(100, activation = 'relu', input_shape = (784,), name = 'hidden1'))\n",
        "model.add(keras.layers.Dense(30, activation = 'relu', name = 'hidden2'))\n",
        "model.add(keras.layers.Dense(10, activation = 'softmax', name = 'output'))\n",
        "\n",
        "model.summary()"
      ],
      "metadata": {
        "colab": {
          "base_uri": "https://localhost:8080/"
        },
        "id": "rWzVwUmzhFNH",
        "outputId": "bb586ba7-e7dd-483c-c23d-3d420f4473b6"
      },
      "execution_count": 24,
      "outputs": [
        {
          "output_type": "stream",
          "name": "stdout",
          "text": [
            "Model: \"sequential_3\"\n",
            "_________________________________________________________________\n",
            " Layer (type)                Output Shape              Param #   \n",
            "=================================================================\n",
            " hidden1 (Dense)             (None, 100)               78500     \n",
            "                                                                 \n",
            " hidden2 (Dense)             (None, 30)                3030      \n",
            "                                                                 \n",
            " output (Dense)              (None, 10)                310       \n",
            "                                                                 \n",
            "=================================================================\n",
            "Total params: 81,840\n",
            "Trainable params: 81,840\n",
            "Non-trainable params: 0\n",
            "_________________________________________________________________\n"
          ]
        }
      ]
    },
    {
      "cell_type": "code",
      "source": [
        "model.compile(loss = 'sparse_categorical_crossentropy',\n",
        "              metrics = 'accuracy',\n",
        "              optimizer = 'adam') #sparse -> one hot encoding\n"
      ],
      "metadata": {
        "id": "RXQu-aCuiBZf"
      },
      "execution_count": 25,
      "outputs": []
    },
    {
      "cell_type": "code",
      "source": [
        "history = model.fit(train_scaled, train_target, epochs = 30, batch_size = 200, \n",
        "          validation_data = (val_scaled, val_target))"
      ],
      "metadata": {
        "colab": {
          "base_uri": "https://localhost:8080/"
        },
        "id": "48QhK2uZiNR_",
        "outputId": "767d00bd-e4e5-402a-c200-d0dafb58d40f"
      },
      "execution_count": 26,
      "outputs": [
        {
          "output_type": "stream",
          "name": "stdout",
          "text": [
            "Epoch 1/30\n",
            "240/240 [==============================] - 2s 8ms/step - loss: 0.7103 - accuracy: 0.7607 - val_loss: 0.4753 - val_accuracy: 0.8409\n",
            "Epoch 2/30\n",
            "240/240 [==============================] - 2s 7ms/step - loss: 0.4315 - accuracy: 0.8491 - val_loss: 0.4353 - val_accuracy: 0.8453\n",
            "Epoch 3/30\n",
            "240/240 [==============================] - 2s 7ms/step - loss: 0.3918 - accuracy: 0.8616 - val_loss: 0.4076 - val_accuracy: 0.8568\n",
            "Epoch 4/30\n",
            "240/240 [==============================] - 2s 7ms/step - loss: 0.3603 - accuracy: 0.8713 - val_loss: 0.3733 - val_accuracy: 0.8701\n",
            "Epoch 5/30\n",
            "240/240 [==============================] - 1s 6ms/step - loss: 0.3399 - accuracy: 0.8767 - val_loss: 0.3865 - val_accuracy: 0.8677\n",
            "Epoch 6/30\n",
            "240/240 [==============================] - 1s 6ms/step - loss: 0.3257 - accuracy: 0.8821 - val_loss: 0.3713 - val_accuracy: 0.8649\n",
            "Epoch 7/30\n",
            "240/240 [==============================] - 1s 6ms/step - loss: 0.3118 - accuracy: 0.8864 - val_loss: 0.3423 - val_accuracy: 0.8786\n",
            "Epoch 8/30\n",
            "240/240 [==============================] - 1s 6ms/step - loss: 0.2978 - accuracy: 0.8913 - val_loss: 0.3396 - val_accuracy: 0.8812\n",
            "Epoch 9/30\n",
            "240/240 [==============================] - 1s 6ms/step - loss: 0.2899 - accuracy: 0.8921 - val_loss: 0.3480 - val_accuracy: 0.8758\n",
            "Epoch 10/30\n",
            "240/240 [==============================] - 2s 6ms/step - loss: 0.2788 - accuracy: 0.8971 - val_loss: 0.3432 - val_accuracy: 0.8787\n",
            "Epoch 11/30\n",
            "240/240 [==============================] - 2s 7ms/step - loss: 0.2705 - accuracy: 0.9005 - val_loss: 0.3342 - val_accuracy: 0.8825\n",
            "Epoch 12/30\n",
            "240/240 [==============================] - 1s 6ms/step - loss: 0.2631 - accuracy: 0.9032 - val_loss: 0.3348 - val_accuracy: 0.8830\n",
            "Epoch 13/30\n",
            "240/240 [==============================] - 2s 6ms/step - loss: 0.2550 - accuracy: 0.9069 - val_loss: 0.3278 - val_accuracy: 0.8841\n",
            "Epoch 14/30\n",
            "240/240 [==============================] - 1s 6ms/step - loss: 0.2505 - accuracy: 0.9076 - val_loss: 0.3531 - val_accuracy: 0.8752\n",
            "Epoch 15/30\n",
            "240/240 [==============================] - 2s 6ms/step - loss: 0.2444 - accuracy: 0.9103 - val_loss: 0.3344 - val_accuracy: 0.8833\n",
            "Epoch 16/30\n",
            "240/240 [==============================] - 2s 6ms/step - loss: 0.2381 - accuracy: 0.9119 - val_loss: 0.3270 - val_accuracy: 0.8873\n",
            "Epoch 17/30\n",
            "240/240 [==============================] - 2s 7ms/step - loss: 0.2334 - accuracy: 0.9146 - val_loss: 0.3342 - val_accuracy: 0.8848\n",
            "Epoch 18/30\n",
            "240/240 [==============================] - 1s 5ms/step - loss: 0.2287 - accuracy: 0.9146 - val_loss: 0.3464 - val_accuracy: 0.8848\n",
            "Epoch 19/30\n",
            "240/240 [==============================] - 1s 6ms/step - loss: 0.2192 - accuracy: 0.9182 - val_loss: 0.3303 - val_accuracy: 0.8866\n",
            "Epoch 20/30\n",
            "240/240 [==============================] - 2s 7ms/step - loss: 0.2156 - accuracy: 0.9202 - val_loss: 0.3597 - val_accuracy: 0.8818\n",
            "Epoch 21/30\n",
            "240/240 [==============================] - 1s 6ms/step - loss: 0.2109 - accuracy: 0.9229 - val_loss: 0.3331 - val_accuracy: 0.8845\n",
            "Epoch 22/30\n",
            "240/240 [==============================] - 1s 5ms/step - loss: 0.2077 - accuracy: 0.9234 - val_loss: 0.3378 - val_accuracy: 0.8820\n",
            "Epoch 23/30\n",
            "240/240 [==============================] - 2s 6ms/step - loss: 0.2022 - accuracy: 0.9254 - val_loss: 0.3338 - val_accuracy: 0.8883\n",
            "Epoch 24/30\n",
            "240/240 [==============================] - 1s 6ms/step - loss: 0.1962 - accuracy: 0.9273 - val_loss: 0.3319 - val_accuracy: 0.8895\n",
            "Epoch 25/30\n",
            "240/240 [==============================] - 2s 7ms/step - loss: 0.1963 - accuracy: 0.9270 - val_loss: 0.3481 - val_accuracy: 0.8872\n",
            "Epoch 26/30\n",
            "240/240 [==============================] - 2s 6ms/step - loss: 0.1910 - accuracy: 0.9295 - val_loss: 0.3485 - val_accuracy: 0.8857\n",
            "Epoch 27/30\n",
            "240/240 [==============================] - 2s 6ms/step - loss: 0.1865 - accuracy: 0.9312 - val_loss: 0.3496 - val_accuracy: 0.8867\n",
            "Epoch 28/30\n",
            "240/240 [==============================] - 2s 6ms/step - loss: 0.1818 - accuracy: 0.9325 - val_loss: 0.3450 - val_accuracy: 0.8908\n",
            "Epoch 29/30\n",
            "240/240 [==============================] - 1s 6ms/step - loss: 0.1791 - accuracy: 0.9334 - val_loss: 0.3535 - val_accuracy: 0.8855\n",
            "Epoch 30/30\n",
            "240/240 [==============================] - 2s 7ms/step - loss: 0.1745 - accuracy: 0.9357 - val_loss: 0.3492 - val_accuracy: 0.8902\n"
          ]
        }
      ]
    },
    {
      "cell_type": "code",
      "source": [
        "plt.plot(history.history['loss'], c = 'red')\n",
        "plt.plot(history.history['val_loss'], c= 'blue')\n",
        "plt.show(0)"
      ],
      "metadata": {
        "colab": {
          "base_uri": "https://localhost:8080/",
          "height": 513
        },
        "id": "lfx7IjDziZS3",
        "outputId": "0a314668-8860-4a97-9b3a-ba296d4625c0"
      },
      "execution_count": 27,
      "outputs": [
        {
          "output_type": "display_data",
          "data": {
            "text/plain": [
              "<Figure size 432x288 with 1 Axes>"
            ],
            "image/png": "[encoded data removed]"
          },
          "metadata": {
            "needs_background": "light"
          }
        },
        {
          "output_type": "display_data",
          "data": {
            "text/plain": [
              "<Figure size 432x288 with 1 Axes>"
            ],
            "image/png": "[encoded data removed]"
          },
          "metadata": {
            "needs_background": "light"
          }
        }
      ]
    },
    {
      "cell_type": "code",
      "source": [
        "model.evaluate(test_scaled, test_target)"
      ],
      "metadata": {
        "colab": {
          "base_uri": "https://localhost:8080/"
        },
        "id": "T9iOurQgieQm",
        "outputId": "0dddf95d-5f94-4bbc-97ea-49400d39ea65"
      },
      "execution_count": 28,
      "outputs": [
        {
          "output_type": "stream",
          "name": "stdout",
          "text": [
            "313/313 [==============================] - 1s 2ms/step - loss: 0.3669 - accuracy: 0.8783\n"
          ]
        },
        {
          "output_type": "execute_result",
          "data": {
            "text/plain": [
              "[0.3669377565383911, 0.8783000111579895]"
            ]
          },
          "metadata": {},
          "execution_count": 28
        }
      ]
    },
    {
      "cell_type": "code",
      "source": [
        "## model 함수 정의\n",
        "def model_fn(a_layer = None, name = None):\n",
        "  model = keras.Sequential(name = name)\n",
        "  model.add(keras.layers.Flatten(input_shape = (784,))) #input_shape = (784,)/input_shape = (-1,28,28),))\n",
        "  model.add(keras.layers.Dense(100, activation = 'relu'))\n",
        "  if a_layer:\n",
        "    model.add(a_layer)\n",
        "  model.add(keras.layers.Dense(10, activation = 'softmax'))\n",
        "  \n",
        "  return model"
      ],
      "metadata": {
        "id": "3ZG1jODjitwu"
      },
      "execution_count": 54,
      "outputs": []
    },
    {
      "cell_type": "code",
      "source": [
        "model = model_fn()\n",
        "\n",
        "model.summary()"
      ],
      "metadata": {
        "colab": {
          "base_uri": "https://localhost:8080/"
        },
        "id": "talOKdnCjx_f",
        "outputId": "ba0ebc13-c40c-4c0c-8232-a80f6128df5d"
      },
      "execution_count": 58,
      "outputs": [
        {
          "output_type": "stream",
          "name": "stdout",
          "text": [
            "Model: \"sequential_9\"\n",
            "_________________________________________________________________\n",
            " Layer (type)                Output Shape              Param #   \n",
            "=================================================================\n",
            " flatten_6 (Flatten)         (None, 784)               0         \n",
            "                                                                 \n",
            " dense_18 (Dense)            (None, 100)               78500     \n",
            "                                                                 \n",
            " dense_19 (Dense)            (None, 10)                1010      \n",
            "                                                                 \n",
            "=================================================================\n",
            "Total params: 79,510\n",
            "Trainable params: 79,510\n",
            "Non-trainable params: 0\n",
            "_________________________________________________________________\n"
          ]
        }
      ]
    },
    {
      "cell_type": "code",
      "source": [
        "model.compile(loss = 'sparse_categorical_crossentropy',\n",
        "              optimizer = 'rmsprop', #'adam'\n",
        "              metrics = 'accuracy')\n",
        "\n",
        "#history = model.fit(train_scaled.reshape(-1,28,28), train_target, epochs = 40) # train_scaled\n",
        "history = model.fit(train_scaled, train_target, epochs = 40,\n",
        "                    validation_data = (val_scaled, val_target))"
      ],
      "metadata": {
        "colab": {
          "base_uri": "https://localhost:8080/"
        },
        "id": "so46gSzRj1P-",
        "outputId": "d9a01de6-8bd0-4107-d923-904037f9a160"
      },
      "execution_count": 56,
      "outputs": [
        {
          "output_type": "stream",
          "name": "stdout",
          "text": [
            "Epoch 1/40\n",
            "1500/1500 [==============================] - 6s 3ms/step - loss: 0.5318 - accuracy: 0.8112 - val_loss: 0.4517 - val_accuracy: 0.8429\n",
            "Epoch 2/40\n",
            "1500/1500 [==============================] - 5s 3ms/step - loss: 0.3925 - accuracy: 0.8602 - val_loss: 0.4529 - val_accuracy: 0.8438\n",
            "Epoch 3/40\n",
            "1500/1500 [==============================] - 5s 3ms/step - loss: 0.3549 - accuracy: 0.8729 - val_loss: 0.3912 - val_accuracy: 0.8648\n",
            "Epoch 4/40\n",
            "1500/1500 [==============================] - 5s 4ms/step - loss: 0.3339 - accuracy: 0.8813 - val_loss: 0.3614 - val_accuracy: 0.8747\n",
            "Epoch 5/40\n",
            "1500/1500 [==============================] - 5s 3ms/step - loss: 0.3205 - accuracy: 0.8857 - val_loss: 0.3980 - val_accuracy: 0.8707\n",
            "Epoch 6/40\n",
            "1500/1500 [==============================] - 5s 3ms/step - loss: 0.3116 - accuracy: 0.8896 - val_loss: 0.3829 - val_accuracy: 0.8761\n",
            "Epoch 7/40\n",
            "1500/1500 [==============================] - 5s 3ms/step - loss: 0.3009 - accuracy: 0.8941 - val_loss: 0.3984 - val_accuracy: 0.8771\n",
            "Epoch 8/40\n",
            "1500/1500 [==============================] - 5s 3ms/step - loss: 0.2930 - accuracy: 0.8966 - val_loss: 0.3812 - val_accuracy: 0.8804\n",
            "Epoch 9/40\n",
            "1500/1500 [==============================] - 5s 3ms/step - loss: 0.2869 - accuracy: 0.9005 - val_loss: 0.3784 - val_accuracy: 0.8767\n",
            "Epoch 10/40\n",
            "1500/1500 [==============================] - 5s 3ms/step - loss: 0.2817 - accuracy: 0.9022 - val_loss: 0.3876 - val_accuracy: 0.8765\n",
            "Epoch 11/40\n",
            "1500/1500 [==============================] - 5s 3ms/step - loss: 0.2775 - accuracy: 0.9048 - val_loss: 0.4176 - val_accuracy: 0.8736\n",
            "Epoch 12/40\n",
            "1500/1500 [==============================] - 5s 3ms/step - loss: 0.2707 - accuracy: 0.9069 - val_loss: 0.4162 - val_accuracy: 0.8777\n",
            "Epoch 13/40\n",
            "1500/1500 [==============================] - 5s 3ms/step - loss: 0.2648 - accuracy: 0.9084 - val_loss: 0.4049 - val_accuracy: 0.8812\n",
            "Epoch 14/40\n",
            "1500/1500 [==============================] - 5s 3ms/step - loss: 0.2585 - accuracy: 0.9121 - val_loss: 0.4177 - val_accuracy: 0.8768\n",
            "Epoch 15/40\n",
            "1500/1500 [==============================] - 5s 3ms/step - loss: 0.2549 - accuracy: 0.9133 - val_loss: 0.4169 - val_accuracy: 0.8823\n",
            "Epoch 16/40\n",
            "1500/1500 [==============================] - 5s 3ms/step - loss: 0.2513 - accuracy: 0.9146 - val_loss: 0.4207 - val_accuracy: 0.8866\n",
            "Epoch 17/40\n",
            "1500/1500 [==============================] - 5s 3ms/step - loss: 0.2445 - accuracy: 0.9171 - val_loss: 0.4463 - val_accuracy: 0.8790\n",
            "Epoch 18/40\n",
            "1500/1500 [==============================] - 5s 3ms/step - loss: 0.2432 - accuracy: 0.9172 - val_loss: 0.4483 - val_accuracy: 0.8770\n",
            "Epoch 19/40\n",
            "1500/1500 [==============================] - 5s 3ms/step - loss: 0.2371 - accuracy: 0.9200 - val_loss: 0.5068 - val_accuracy: 0.8756\n",
            "Epoch 20/40\n",
            "1500/1500 [==============================] - 5s 3ms/step - loss: 0.2336 - accuracy: 0.9212 - val_loss: 0.5020 - val_accuracy: 0.8763\n",
            "Epoch 21/40\n",
            "1500/1500 [==============================] - 5s 3ms/step - loss: 0.2319 - accuracy: 0.9232 - val_loss: 0.4913 - val_accuracy: 0.8712\n",
            "Epoch 22/40\n",
            "1500/1500 [==============================] - 5s 4ms/step - loss: 0.2266 - accuracy: 0.9240 - val_loss: 0.4687 - val_accuracy: 0.8783\n",
            "Epoch 23/40\n",
            "1500/1500 [==============================] - 6s 4ms/step - loss: 0.2245 - accuracy: 0.9242 - val_loss: 0.4782 - val_accuracy: 0.8835\n",
            "Epoch 24/40\n",
            "1500/1500 [==============================] - 5s 4ms/step - loss: 0.2202 - accuracy: 0.9261 - val_loss: 0.4969 - val_accuracy: 0.8813\n",
            "Epoch 25/40\n",
            "1500/1500 [==============================] - 5s 3ms/step - loss: 0.2200 - accuracy: 0.9259 - val_loss: 0.5386 - val_accuracy: 0.8765\n",
            "Epoch 26/40\n",
            "1500/1500 [==============================] - 6s 4ms/step - loss: 0.2166 - accuracy: 0.9283 - val_loss: 0.5620 - val_accuracy: 0.8816\n",
            "Epoch 27/40\n",
            "1500/1500 [==============================] - 5s 3ms/step - loss: 0.2112 - accuracy: 0.9291 - val_loss: 0.5426 - val_accuracy: 0.8794\n",
            "Epoch 28/40\n",
            "1500/1500 [==============================] - 5s 3ms/step - loss: 0.2107 - accuracy: 0.9293 - val_loss: 0.5118 - val_accuracy: 0.8829\n",
            "Epoch 29/40\n",
            "1500/1500 [==============================] - 5s 3ms/step - loss: 0.2068 - accuracy: 0.9315 - val_loss: 0.5091 - val_accuracy: 0.8861\n",
            "Epoch 30/40\n",
            "1500/1500 [==============================] - 5s 3ms/step - loss: 0.2019 - accuracy: 0.9331 - val_loss: 0.5849 - val_accuracy: 0.8823\n",
            "Epoch 31/40\n",
            "1500/1500 [==============================] - 5s 3ms/step - loss: 0.2020 - accuracy: 0.9343 - val_loss: 0.6002 - val_accuracy: 0.8769\n",
            "Epoch 32/40\n",
            "1500/1500 [==============================] - 5s 3ms/step - loss: 0.1985 - accuracy: 0.9346 - val_loss: 0.5524 - val_accuracy: 0.8799\n",
            "Epoch 33/40\n",
            "1500/1500 [==============================] - 5s 3ms/step - loss: 0.1945 - accuracy: 0.9356 - val_loss: 0.5811 - val_accuracy: 0.8801\n",
            "Epoch 34/40\n",
            "1500/1500 [==============================] - 5s 3ms/step - loss: 0.1948 - accuracy: 0.9365 - val_loss: 0.5539 - val_accuracy: 0.8775\n",
            "Epoch 35/40\n",
            "1500/1500 [==============================] - 5s 3ms/step - loss: 0.1918 - accuracy: 0.9382 - val_loss: 0.5987 - val_accuracy: 0.8758\n",
            "Epoch 36/40\n",
            "1500/1500 [==============================] - 5s 3ms/step - loss: 0.1912 - accuracy: 0.9389 - val_loss: 0.5875 - val_accuracy: 0.8817\n",
            "Epoch 37/40\n",
            "1500/1500 [==============================] - 5s 3ms/step - loss: 0.1865 - accuracy: 0.9388 - val_loss: 0.6056 - val_accuracy: 0.8758\n",
            "Epoch 38/40\n",
            "1500/1500 [==============================] - 5s 3ms/step - loss: 0.1838 - accuracy: 0.9405 - val_loss: 0.5845 - val_accuracy: 0.8831\n",
            "Epoch 39/40\n",
            "1500/1500 [==============================] - 5s 3ms/step - loss: 0.1843 - accuracy: 0.9403 - val_loss: 0.6370 - val_accuracy: 0.8810\n",
            "Epoch 40/40\n",
            "1500/1500 [==============================] - 5s 3ms/step - loss: 0.1806 - accuracy: 0.9410 - val_loss: 0.6507 - val_accuracy: 0.8752\n"
          ]
        }
      ]
    },
    {
      "cell_type": "code",
      "source": [
        "plt.plot(history.history['loss'], c = 'red', label = 'train loss')\n",
        "plt.plot(history.history['val_loss'], c= 'blue', label = 'validation loss')\n",
        "plt.legend()\n",
        "plt.show() #optimizer rmsprop -> 과대접합심함"
      ],
      "metadata": {
        "colab": {
          "base_uri": "https://localhost:8080/",
          "height": 265
        },
        "id": "UvQEk2Y2reko",
        "outputId": "c8e7a00e-c888-43a9-f62e-2bfd8086cfae"
      },
      "execution_count": 57,
      "outputs": [
        {
          "output_type": "display_data",
          "data": {
            "text/plain": [
              "<Figure size 432x288 with 1 Axes>"
            ],
            "image/png": "[encoded data removed]"
          },
          "metadata": {
            "needs_background": "light"
          }
        }
      ]
    },
    {
      "cell_type": "code",
      "source": [
        "model = model_fn()\n",
        "model.compile(loss = 'sparse_categorical_crossentropy',\n",
        "              optimizer = 'adam', #'adam'\n",
        "              metrics = 'accuracy')\n",
        "\n",
        "#history = model.fit(train_scaled.reshape(-1,28,28), train_target, epochs = 40) # train_scaled\n",
        "history = model.fit(train_scaled, train_target, epochs = 40,\n",
        "                    validation_data = (val_scaled, val_target))"
      ],
      "metadata": {
        "colab": {
          "base_uri": "https://localhost:8080/"
        },
        "id": "VIX6xwEnrSBR",
        "outputId": "11af5a2f-285a-4779-865f-486abe63f2f5"
      },
      "execution_count": 59,
      "outputs": [
        {
          "output_type": "stream",
          "name": "stdout",
          "text": [
            "Epoch 1/40\n",
            "1500/1500 [==============================] - 5s 3ms/step - loss: 0.5235 - accuracy: 0.8163 - val_loss: 0.4426 - val_accuracy: 0.8433\n",
            "Epoch 2/40\n",
            "1500/1500 [==============================] - 4s 3ms/step - loss: 0.3917 - accuracy: 0.8595 - val_loss: 0.4014 - val_accuracy: 0.8528\n",
            "Epoch 3/40\n",
            "1500/1500 [==============================] - 4s 3ms/step - loss: 0.3500 - accuracy: 0.8736 - val_loss: 0.3640 - val_accuracy: 0.8720\n",
            "Epoch 4/40\n",
            "1500/1500 [==============================] - 4s 3ms/step - loss: 0.3263 - accuracy: 0.8805 - val_loss: 0.3456 - val_accuracy: 0.8780\n",
            "Epoch 5/40\n",
            "1500/1500 [==============================] - 4s 3ms/step - loss: 0.3061 - accuracy: 0.8871 - val_loss: 0.3420 - val_accuracy: 0.8798\n",
            "Epoch 6/40\n",
            "1500/1500 [==============================] - 4s 3ms/step - loss: 0.2916 - accuracy: 0.8912 - val_loss: 0.3290 - val_accuracy: 0.8791\n",
            "Epoch 7/40\n",
            "1500/1500 [==============================] - 4s 3ms/step - loss: 0.2809 - accuracy: 0.8968 - val_loss: 0.3431 - val_accuracy: 0.8762\n",
            "Epoch 8/40\n",
            "1500/1500 [==============================] - 4s 3ms/step - loss: 0.2686 - accuracy: 0.9014 - val_loss: 0.3413 - val_accuracy: 0.8806\n",
            "Epoch 9/40\n",
            "1500/1500 [==============================] - 4s 3ms/step - loss: 0.2579 - accuracy: 0.9047 - val_loss: 0.3380 - val_accuracy: 0.8827\n",
            "Epoch 10/40\n",
            "1500/1500 [==============================] - 4s 3ms/step - loss: 0.2513 - accuracy: 0.9054 - val_loss: 0.3405 - val_accuracy: 0.8782\n",
            "Epoch 11/40\n",
            "1500/1500 [==============================] - 4s 3ms/step - loss: 0.2407 - accuracy: 0.9105 - val_loss: 0.3445 - val_accuracy: 0.8814\n",
            "Epoch 12/40\n",
            "1500/1500 [==============================] - 4s 3ms/step - loss: 0.2324 - accuracy: 0.9134 - val_loss: 0.3173 - val_accuracy: 0.8867\n",
            "Epoch 13/40\n",
            "1500/1500 [==============================] - 4s 3ms/step - loss: 0.2273 - accuracy: 0.9142 - val_loss: 0.3372 - val_accuracy: 0.8891\n",
            "Epoch 14/40\n",
            "1500/1500 [==============================] - 4s 3ms/step - loss: 0.2200 - accuracy: 0.9185 - val_loss: 0.3281 - val_accuracy: 0.8875\n",
            "Epoch 15/40\n",
            "1500/1500 [==============================] - 5s 3ms/step - loss: 0.2128 - accuracy: 0.9200 - val_loss: 0.3317 - val_accuracy: 0.8877\n",
            "Epoch 16/40\n",
            "1500/1500 [==============================] - 4s 3ms/step - loss: 0.2093 - accuracy: 0.9215 - val_loss: 0.3369 - val_accuracy: 0.8875\n",
            "Epoch 17/40\n",
            "1500/1500 [==============================] - 4s 3ms/step - loss: 0.2040 - accuracy: 0.9241 - val_loss: 0.3365 - val_accuracy: 0.8875\n",
            "Epoch 18/40\n",
            "1500/1500 [==============================] - 4s 3ms/step - loss: 0.1975 - accuracy: 0.9264 - val_loss: 0.3320 - val_accuracy: 0.8918\n",
            "Epoch 19/40\n",
            "1500/1500 [==============================] - 4s 3ms/step - loss: 0.1937 - accuracy: 0.9272 - val_loss: 0.3454 - val_accuracy: 0.8866\n",
            "Epoch 20/40\n",
            "1500/1500 [==============================] - 4s 3ms/step - loss: 0.1900 - accuracy: 0.9276 - val_loss: 0.3659 - val_accuracy: 0.8842\n",
            "Epoch 21/40\n",
            "1500/1500 [==============================] - 4s 3ms/step - loss: 0.1834 - accuracy: 0.9309 - val_loss: 0.3674 - val_accuracy: 0.8867\n",
            "Epoch 22/40\n",
            "1500/1500 [==============================] - 4s 3ms/step - loss: 0.1786 - accuracy: 0.9334 - val_loss: 0.3525 - val_accuracy: 0.8883\n",
            "Epoch 23/40\n",
            "1500/1500 [==============================] - 4s 3ms/step - loss: 0.1743 - accuracy: 0.9341 - val_loss: 0.3682 - val_accuracy: 0.8876\n",
            "Epoch 24/40\n",
            "1500/1500 [==============================] - 4s 3ms/step - loss: 0.1725 - accuracy: 0.9360 - val_loss: 0.3778 - val_accuracy: 0.8821\n",
            "Epoch 25/40\n",
            "1500/1500 [==============================] - 4s 3ms/step - loss: 0.1670 - accuracy: 0.9384 - val_loss: 0.3714 - val_accuracy: 0.8853\n",
            "Epoch 26/40\n",
            "1500/1500 [==============================] - 4s 3ms/step - loss: 0.1627 - accuracy: 0.9381 - val_loss: 0.3666 - val_accuracy: 0.8892\n",
            "Epoch 27/40\n",
            "1500/1500 [==============================] - 4s 3ms/step - loss: 0.1591 - accuracy: 0.9405 - val_loss: 0.4040 - val_accuracy: 0.8820\n",
            "Epoch 28/40\n",
            "1500/1500 [==============================] - 5s 3ms/step - loss: 0.1597 - accuracy: 0.9404 - val_loss: 0.3774 - val_accuracy: 0.8897\n",
            "Epoch 29/40\n",
            "1500/1500 [==============================] - 4s 3ms/step - loss: 0.1519 - accuracy: 0.9435 - val_loss: 0.3847 - val_accuracy: 0.8867\n",
            "Epoch 30/40\n",
            "1500/1500 [==============================] - 4s 3ms/step - loss: 0.1504 - accuracy: 0.9444 - val_loss: 0.3988 - val_accuracy: 0.8896\n",
            "Epoch 31/40\n",
            "1500/1500 [==============================] - 4s 3ms/step - loss: 0.1459 - accuracy: 0.9457 - val_loss: 0.3959 - val_accuracy: 0.8866\n",
            "Epoch 32/40\n",
            "1500/1500 [==============================] - 4s 3ms/step - loss: 0.1403 - accuracy: 0.9476 - val_loss: 0.3957 - val_accuracy: 0.8885\n",
            "Epoch 33/40\n",
            "1500/1500 [==============================] - 4s 3ms/step - loss: 0.1398 - accuracy: 0.9482 - val_loss: 0.4031 - val_accuracy: 0.8876\n",
            "Epoch 34/40\n",
            "1500/1500 [==============================] - 5s 3ms/step - loss: 0.1391 - accuracy: 0.9483 - val_loss: 0.4531 - val_accuracy: 0.8745\n",
            "Epoch 35/40\n",
            "1500/1500 [==============================] - 4s 3ms/step - loss: 0.1366 - accuracy: 0.9491 - val_loss: 0.4173 - val_accuracy: 0.8843\n",
            "Epoch 36/40\n",
            "1500/1500 [==============================] - 4s 3ms/step - loss: 0.1329 - accuracy: 0.9493 - val_loss: 0.4437 - val_accuracy: 0.8796\n",
            "Epoch 37/40\n",
            "1500/1500 [==============================] - 4s 3ms/step - loss: 0.1314 - accuracy: 0.9514 - val_loss: 0.4298 - val_accuracy: 0.8839\n",
            "Epoch 38/40\n",
            "1500/1500 [==============================] - 4s 3ms/step - loss: 0.1279 - accuracy: 0.9522 - val_loss: 0.4376 - val_accuracy: 0.8834\n",
            "Epoch 39/40\n",
            "1500/1500 [==============================] - 5s 3ms/step - loss: 0.1273 - accuracy: 0.9523 - val_loss: 0.4307 - val_accuracy: 0.8820\n",
            "Epoch 40/40\n",
            "1500/1500 [==============================] - 4s 3ms/step - loss: 0.1243 - accuracy: 0.9539 - val_loss: 0.4368 - val_accuracy: 0.8838\n"
          ]
        }
      ]
    },
    {
      "cell_type": "code",
      "source": [
        "plt.plot(history.history['loss'], c = 'red', label = 'train loss')\n",
        "plt.plot(history.history['val_loss'], c= 'blue', label = 'validation loss')\n",
        "plt.legend()\n",
        "plt.show()"
      ],
      "metadata": {
        "colab": {
          "base_uri": "https://localhost:8080/",
          "height": 265
        },
        "id": "BQx40PvCsE14",
        "outputId": "b3eab7ad-e057-47d1-aac2-fab70eaa412a"
      },
      "execution_count": 61,
      "outputs": [
        {
          "output_type": "display_data",
          "data": {
            "text/plain": [
              "<Figure size 432x288 with 1 Axes>"
            ],
            "image/png": "[encoded data removed]"
          },
          "metadata": {
            "needs_background": "light"
          }
        }
      ]
    },
    {
      "cell_type": "code",
      "source": [
        "model.evaluate(test_scaled.reshape(-1,28,28), test_target) # train_scaled"
      ],
      "metadata": {
        "colab": {
          "base_uri": "https://localhost:8080/"
        },
        "id": "TUUzxTvblKdH",
        "outputId": "7a7efb7c-3dd7-4428-e24e-422066b6644c"
      },
      "execution_count": 32,
      "outputs": [
        {
          "output_type": "stream",
          "name": "stdout",
          "text": [
            "313/313 [==============================] - 1s 2ms/step - loss: 0.4863 - accuracy: 0.8722\n"
          ]
        },
        {
          "output_type": "execute_result",
          "data": {
            "text/plain": [
              "[0.48627573251724243, 0.8722000122070312]"
            ]
          },
          "metadata": {},
          "execution_count": 32
        }
      ]
    },
    {
      "cell_type": "code",
      "source": [
        "test_scaled.shape"
      ],
      "metadata": {
        "colab": {
          "base_uri": "https://localhost:8080/"
        },
        "id": "8XDzdxzFlPRv",
        "outputId": "8212de99-3714-465f-a404-1e5088756f57"
      },
      "execution_count": 33,
      "outputs": [
        {
          "output_type": "execute_result",
          "data": {
            "text/plain": [
              "(10000, 784)"
            ]
          },
          "metadata": {},
          "execution_count": 33
        }
      ]
    },
    {
      "cell_type": "code",
      "source": [
        "model = model_fn(keras.layers.Dropout(0.3), name = 'Dropout_layers')\n",
        "\n",
        "model.summary() ## 과대접합을 피하기위한 dropout 사용 train할때만 적용됨"
      ],
      "metadata": {
        "colab": {
          "base_uri": "https://localhost:8080/"
        },
        "id": "DbruMm7sr-z_",
        "outputId": "f674dbbe-8646-450f-f4d9-fe8eafdd3a30"
      },
      "execution_count": 67,
      "outputs": [
        {
          "output_type": "stream",
          "name": "stdout",
          "text": [
            "Model: \"Dropout_layers\"\n",
            "_________________________________________________________________\n",
            " Layer (type)                Output Shape              Param #   \n",
            "=================================================================\n",
            " flatten_10 (Flatten)        (None, 784)               0         \n",
            "                                                                 \n",
            " dense_26 (Dense)            (None, 100)               78500     \n",
            "                                                                 \n",
            " dropout_2 (Dropout)         (None, 100)               0         \n",
            "                                                                 \n",
            " dense_27 (Dense)            (None, 10)                1010      \n",
            "                                                                 \n",
            "=================================================================\n",
            "Total params: 79,510\n",
            "Trainable params: 79,510\n",
            "Non-trainable params: 0\n",
            "_________________________________________________________________\n"
          ]
        }
      ]
    },
    {
      "cell_type": "code",
      "source": [
        "model.compile(loss = 'sparse_categorical_crossentropy',\n",
        "              optimizer = 'adam', #'adam'\n",
        "              metrics = 'accuracy')\n",
        "\n",
        "#history = model.fit(train_scaled.reshape(-1,28,28), train_target, epochs = 40) # train_scaled\n",
        "history = model.fit(train_scaled, train_target, epochs = 40,\n",
        "                    validation_data = (val_scaled, val_target))"
      ],
      "metadata": {
        "colab": {
          "base_uri": "https://localhost:8080/"
        },
        "id": "0iY9ClgJslPX",
        "outputId": "762e1d57-ed3f-4549-aa40-dc50703a8a2e"
      },
      "execution_count": 68,
      "outputs": [
        {
          "output_type": "stream",
          "name": "stdout",
          "text": [
            "Epoch 1/40\n",
            "1500/1500 [==============================] - 5s 3ms/step - loss: 0.5930 - accuracy: 0.7912 - val_loss: 0.4232 - val_accuracy: 0.8484\n",
            "Epoch 2/40\n",
            "1500/1500 [==============================] - 4s 3ms/step - loss: 0.4333 - accuracy: 0.8437 - val_loss: 0.3941 - val_accuracy: 0.8582\n",
            "Epoch 3/40\n",
            "1500/1500 [==============================] - 4s 3ms/step - loss: 0.4008 - accuracy: 0.8540 - val_loss: 0.3686 - val_accuracy: 0.8689\n",
            "Epoch 4/40\n",
            "1500/1500 [==============================] - 4s 3ms/step - loss: 0.3780 - accuracy: 0.8602 - val_loss: 0.3549 - val_accuracy: 0.8742\n",
            "Epoch 5/40\n",
            "1500/1500 [==============================] - 4s 3ms/step - loss: 0.3627 - accuracy: 0.8670 - val_loss: 0.3531 - val_accuracy: 0.8713\n",
            "Epoch 6/40\n",
            "1500/1500 [==============================] - 4s 3ms/step - loss: 0.3493 - accuracy: 0.8726 - val_loss: 0.3403 - val_accuracy: 0.8783\n",
            "Epoch 7/40\n",
            "1500/1500 [==============================] - 4s 3ms/step - loss: 0.3382 - accuracy: 0.8741 - val_loss: 0.3391 - val_accuracy: 0.8778\n",
            "Epoch 8/40\n",
            "1500/1500 [==============================] - 5s 3ms/step - loss: 0.3295 - accuracy: 0.8776 - val_loss: 0.3423 - val_accuracy: 0.8763\n",
            "Epoch 9/40\n",
            "1500/1500 [==============================] - 5s 3ms/step - loss: 0.3243 - accuracy: 0.8787 - val_loss: 0.3302 - val_accuracy: 0.8846\n",
            "Epoch 10/40\n",
            "1500/1500 [==============================] - 4s 3ms/step - loss: 0.3136 - accuracy: 0.8836 - val_loss: 0.3363 - val_accuracy: 0.8789\n",
            "Epoch 11/40\n",
            "1500/1500 [==============================] - 5s 3ms/step - loss: 0.3089 - accuracy: 0.8837 - val_loss: 0.3321 - val_accuracy: 0.8833\n",
            "Epoch 12/40\n",
            "1500/1500 [==============================] - 4s 3ms/step - loss: 0.3061 - accuracy: 0.8856 - val_loss: 0.3345 - val_accuracy: 0.8824\n",
            "Epoch 13/40\n",
            "1500/1500 [==============================] - 4s 3ms/step - loss: 0.2979 - accuracy: 0.8881 - val_loss: 0.3361 - val_accuracy: 0.8846\n",
            "Epoch 14/40\n",
            "1500/1500 [==============================] - 5s 3ms/step - loss: 0.2960 - accuracy: 0.8884 - val_loss: 0.3439 - val_accuracy: 0.8803\n",
            "Epoch 15/40\n",
            "1500/1500 [==============================] - 5s 3ms/step - loss: 0.2902 - accuracy: 0.8919 - val_loss: 0.3382 - val_accuracy: 0.8829\n",
            "Epoch 16/40\n",
            "1500/1500 [==============================] - 4s 3ms/step - loss: 0.2922 - accuracy: 0.8893 - val_loss: 0.3282 - val_accuracy: 0.8878\n",
            "Epoch 17/40\n",
            "1500/1500 [==============================] - 4s 3ms/step - loss: 0.2844 - accuracy: 0.8907 - val_loss: 0.3304 - val_accuracy: 0.8853\n",
            "Epoch 18/40\n",
            "1500/1500 [==============================] - 4s 3ms/step - loss: 0.2786 - accuracy: 0.8938 - val_loss: 0.3337 - val_accuracy: 0.8884\n",
            "Epoch 19/40\n",
            "1500/1500 [==============================] - 5s 3ms/step - loss: 0.2789 - accuracy: 0.8938 - val_loss: 0.3319 - val_accuracy: 0.8898\n",
            "Epoch 20/40\n",
            "1500/1500 [==============================] - 4s 3ms/step - loss: 0.2734 - accuracy: 0.8959 - val_loss: 0.3291 - val_accuracy: 0.8876\n",
            "Epoch 21/40\n",
            "1500/1500 [==============================] - 4s 3ms/step - loss: 0.2714 - accuracy: 0.8968 - val_loss: 0.3376 - val_accuracy: 0.8870\n",
            "Epoch 22/40\n",
            "1500/1500 [==============================] - 4s 3ms/step - loss: 0.2655 - accuracy: 0.8985 - val_loss: 0.3629 - val_accuracy: 0.8783\n",
            "Epoch 23/40\n",
            "1500/1500 [==============================] - 4s 3ms/step - loss: 0.2632 - accuracy: 0.9005 - val_loss: 0.3390 - val_accuracy: 0.8867\n",
            "Epoch 24/40\n",
            "1500/1500 [==============================] - 5s 3ms/step - loss: 0.2609 - accuracy: 0.9009 - val_loss: 0.3314 - val_accuracy: 0.8928\n",
            "Epoch 25/40\n",
            "1500/1500 [==============================] - 4s 3ms/step - loss: 0.2627 - accuracy: 0.8992 - val_loss: 0.3394 - val_accuracy: 0.8869\n",
            "Epoch 26/40\n",
            "1500/1500 [==============================] - 5s 3ms/step - loss: 0.2568 - accuracy: 0.9030 - val_loss: 0.3385 - val_accuracy: 0.8903\n",
            "Epoch 27/40\n",
            "1500/1500 [==============================] - 4s 3ms/step - loss: 0.2554 - accuracy: 0.9023 - val_loss: 0.3389 - val_accuracy: 0.8899\n",
            "Epoch 28/40\n",
            "1500/1500 [==============================] - 5s 3ms/step - loss: 0.2517 - accuracy: 0.9031 - val_loss: 0.3357 - val_accuracy: 0.8897\n",
            "Epoch 29/40\n",
            "1500/1500 [==============================] - 5s 3ms/step - loss: 0.2493 - accuracy: 0.9044 - val_loss: 0.3479 - val_accuracy: 0.8886\n",
            "Epoch 30/40\n",
            "1500/1500 [==============================] - 5s 3ms/step - loss: 0.2477 - accuracy: 0.9043 - val_loss: 0.3375 - val_accuracy: 0.8909\n",
            "Epoch 31/40\n",
            "1500/1500 [==============================] - 4s 3ms/step - loss: 0.2488 - accuracy: 0.9055 - val_loss: 0.3373 - val_accuracy: 0.8939\n",
            "Epoch 32/40\n",
            "1500/1500 [==============================] - 5s 3ms/step - loss: 0.2405 - accuracy: 0.9084 - val_loss: 0.3414 - val_accuracy: 0.8913\n",
            "Epoch 33/40\n",
            "1500/1500 [==============================] - 5s 3ms/step - loss: 0.2439 - accuracy: 0.9057 - val_loss: 0.3379 - val_accuracy: 0.8916\n",
            "Epoch 34/40\n",
            "1500/1500 [==============================] - 5s 3ms/step - loss: 0.2397 - accuracy: 0.9075 - val_loss: 0.3526 - val_accuracy: 0.8889\n",
            "Epoch 35/40\n",
            "1500/1500 [==============================] - 5s 3ms/step - loss: 0.2364 - accuracy: 0.9093 - val_loss: 0.3491 - val_accuracy: 0.8872\n",
            "Epoch 36/40\n",
            "1500/1500 [==============================] - 5s 3ms/step - loss: 0.2365 - accuracy: 0.9088 - val_loss: 0.3633 - val_accuracy: 0.8889\n",
            "Epoch 37/40\n",
            "1500/1500 [==============================] - 4s 3ms/step - loss: 0.2345 - accuracy: 0.9099 - val_loss: 0.3495 - val_accuracy: 0.8877\n",
            "Epoch 38/40\n",
            "1500/1500 [==============================] - 5s 3ms/step - loss: 0.2339 - accuracy: 0.9107 - val_loss: 0.3511 - val_accuracy: 0.8891\n",
            "Epoch 39/40\n",
            "1500/1500 [==============================] - 4s 3ms/step - loss: 0.2317 - accuracy: 0.9110 - val_loss: 0.3506 - val_accuracy: 0.8903\n",
            "Epoch 40/40\n",
            "1500/1500 [==============================] - 5s 3ms/step - loss: 0.2313 - accuracy: 0.9113 - val_loss: 0.3690 - val_accuracy: 0.8820\n"
          ]
        }
      ]
    },
    {
      "cell_type": "code",
      "source": [
        "plt.plot(history.history['loss'], c = 'red', label = 'train loss')\n",
        "plt.plot(history.history['val_loss'], c= 'blue', label = 'validation loss')\n",
        "plt.legend()\n",
        "plt.show()"
      ],
      "metadata": {
        "colab": {
          "base_uri": "https://localhost:8080/",
          "height": 265
        },
        "id": "YC_n_vrss51z",
        "outputId": "878a6e97-58b9-4934-b88f-73e3903179a0"
      },
      "execution_count": 69,
      "outputs": [
        {
          "output_type": "display_data",
          "data": {
            "text/plain": [
              "<Figure size 432x288 with 1 Axes>"
            ],
            "image/png": "[encoded data removed]"
          },
          "metadata": {
            "needs_background": "light"
          }
        }
      ]
    }
  ]
}
