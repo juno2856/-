{
  "nbformat": 4,
  "nbformat_minor": 0,
  "metadata": {
    "colab": {
      "name": "Class_11_220418.ipynb",
      "provenance": [],
      "collapsed_sections": [],
      "authorship_tag": "ABX9TyOVMNftHYdL1qw/TKJyYPCj",
      "include_colab_link": true
    },
    "kernelspec": {
      "name": "python3",
      "display_name": "Python 3"
    },
    "language_info": {
      "name": "python"
    }
  },
  "cells": [
    {
      "cell_type": "markdown",
      "metadata": {
        "id": "view-in-github",
        "colab_type": "text"
      },
      "source": [
        "<a href=\"https://colab.research.google.com/github/juno2856/deeplearning/blob/master/deeplearning/Class_11_220418.ipynb\" target=\"_parent\"><img src=\"https://colab.research.google.com/assets/colab-badge.svg\" alt=\"Open In Colab\"/></a>"
      ]
    },
    {
      "cell_type": "code",
      "execution_count": null,
      "metadata": {
        "id": "pZvBBGATIagM"
      },
      "outputs": [],
      "source": [
        "from sklearn.preprocessing import LabelEncoder\n",
        "import pandas as pd\n",
        "import numpy as np"
      ]
    },
    {
      "cell_type": "code",
      "source": [
        "import tensorflow as tf\n",
        "from tensorflow import keras"
      ],
      "metadata": {
        "id": "0AwHZ_y5LXHb"
      },
      "execution_count": null,
      "outputs": []
    },
    {
      "cell_type": "code",
      "source": [
        "from tensorflow.keras.models import Sequential\n",
        "from tensorflow.keras.layers import Dense"
      ],
      "metadata": {
        "id": "o4A_dJrlNgS8"
      },
      "execution_count": null,
      "outputs": []
    },
    {
      "cell_type": "code",
      "source": [
        ""
      ],
      "metadata": {
        "id": "xeFGw3QgNthi"
      },
      "execution_count": null,
      "outputs": []
    },
    {
      "cell_type": "code",
      "source": [
        "cd /root"
      ],
      "metadata": {
        "colab": {
          "base_uri": "https://localhost:8080/"
        },
        "id": "QRHj9zN7I8Gh",
        "outputId": "cdb046f6-86ae-4ff0-b825-4b4646bdacbf"
      },
      "execution_count": null,
      "outputs": [
        {
          "output_type": "stream",
          "name": "stdout",
          "text": [
            "/root\n"
          ]
        }
      ]
    },
    {
      "cell_type": "code",
      "source": [
        "!mkdir data\n",
        "from google.colab import files\n",
        "file_uploaded = files.upload()"
      ],
      "metadata": {
        "colab": {
          "resources": {
            "http://localhost:8080/nbextensions/google.colab/files.js": {
              "data": "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",
              "ok": true,
              "headers": [
                [
                  "content-type",
                  "application/javascript"
                ]
              ],
              "status": 200,
              "status_text": ""
            }
          },
          "base_uri": "https://localhost:8080/",
          "height": 95
        },
        "id": "v-1Rw5xfIkRS",
        "outputId": "9b063c66-b9cc-4e60-85e1-dfca9a3e1d04"
      },
      "execution_count": null,
      "outputs": [
        {
          "output_type": "stream",
          "name": "stdout",
          "text": [
            "mkdir: cannot create directory ‘data’: File exists\n"
          ]
        },
        {
          "output_type": "display_data",
          "data": {
            "text/plain": [
              "<IPython.core.display.HTML object>"
            ],
            "text/html": [
              "\n",
              "     <input type=\"file\" id=\"files-03710c2d-cfc9-406b-90c6-abd354abf654\" name=\"files[]\" multiple disabled\n",
              "        style=\"border:none\" />\n",
              "     <output id=\"result-03710c2d-cfc9-406b-90c6-abd354abf654\">\n",
              "      Upload widget is only available when the cell has been executed in the\n",
              "      current browser session. Please rerun this cell to enable.\n",
              "      </output>\n",
              "      <script src=\"/nbextensions/google.colab/files.js\"></script> "
            ]
          },
          "metadata": {}
        },
        {
          "output_type": "stream",
          "name": "stdout",
          "text": [
            "Saving iris.csv to iris (1).csv\n"
          ]
        }
      ]
    },
    {
      "cell_type": "code",
      "source": [
        "df = pd.read_csv('/root/iris.csv', names = ['sepal_length', ' sepal_width', 'petal_length', 'petal_width', 'species'])\n",
        "df.head()"
      ],
      "metadata": {
        "colab": {
          "base_uri": "https://localhost:8080/",
          "height": 206
        },
        "id": "yd9QBxRLJGMN",
        "outputId": "5e941867-763f-4d77-d810-707916e994c3"
      },
      "execution_count": null,
      "outputs": [
        {
          "output_type": "execute_result",
          "data": {
            "text/plain": [
              "   sepal_length   sepal_width  petal_length  petal_width      species\n",
              "0           5.1           3.5           1.4          0.2  Iris-setosa\n",
              "1           4.9           3.0           1.4          0.2  Iris-setosa\n",
              "2           4.7           3.2           1.3          0.2  Iris-setosa\n",
              "3           4.6           3.1           1.5          0.2  Iris-setosa\n",
              "4           5.0           3.6           1.4          0.2  Iris-setosa"
            ],
            "text/html": [
              "\n",
              "  <div id=\"df-5d7f1668-200a-4020-8e7a-cc3db45eb51d\">\n",
              "    <div class=\"colab-df-container\">\n",
              "      <div>\n",
              "<style scoped>\n",
              "    .dataframe tbody tr th:only-of-type {\n",
              "        vertical-align: middle;\n",
              "    }\n",
              "\n",
              "    .dataframe tbody tr th {\n",
              "        vertical-align: top;\n",
              "    }\n",
              "\n",
              "    .dataframe thead th {\n",
              "        text-align: right;\n",
              "    }\n",
              "</style>\n",
              "<table border=\"1\" class=\"dataframe\">\n",
              "  <thead>\n",
              "    <tr style=\"text-align: right;\">\n",
              "      <th></th>\n",
              "      <th>sepal_length</th>\n",
              "      <th>sepal_width</th>\n",
              "      <th>petal_length</th>\n",
              "      <th>petal_width</th>\n",
              "      <th>species</th>\n",
              "    </tr>\n",
              "  </thead>\n",
              "  <tbody>\n",
              "    <tr>\n",
              "      <th>0</th>\n",
              "      <td>5.1</td>\n",
              "      <td>3.5</td>\n",
              "      <td>1.4</td>\n",
              "      <td>0.2</td>\n",
              "      <td>Iris-setosa</td>\n",
              "    </tr>\n",
              "    <tr>\n",
              "      <th>1</th>\n",
              "      <td>4.9</td>\n",
              "      <td>3.0</td>\n",
              "      <td>1.4</td>\n",
              "      <td>0.2</td>\n",
              "      <td>Iris-setosa</td>\n",
              "    </tr>\n",
              "    <tr>\n",
              "      <th>2</th>\n",
              "      <td>4.7</td>\n",
              "      <td>3.2</td>\n",
              "      <td>1.3</td>\n",
              "      <td>0.2</td>\n",
              "      <td>Iris-setosa</td>\n",
              "    </tr>\n",
              "    <tr>\n",
              "      <th>3</th>\n",
              "      <td>4.6</td>\n",
              "      <td>3.1</td>\n",
              "      <td>1.5</td>\n",
              "      <td>0.2</td>\n",
              "      <td>Iris-setosa</td>\n",
              "    </tr>\n",
              "    <tr>\n",
              "      <th>4</th>\n",
              "      <td>5.0</td>\n",
              "      <td>3.6</td>\n",
              "      <td>1.4</td>\n",
              "      <td>0.2</td>\n",
              "      <td>Iris-setosa</td>\n",
              "    </tr>\n",
              "  </tbody>\n",
              "</table>\n",
              "</div>\n",
              "      <button class=\"colab-df-convert\" onclick=\"convertToInteractive('df-5d7f1668-200a-4020-8e7a-cc3db45eb51d')\"\n",
              "              title=\"Convert this dataframe to an interactive table.\"\n",
              "              style=\"display:none;\">\n",
              "        \n",
              "  <svg xmlns=\"http://www.w3.org/2000/svg\" height=\"24px\"viewBox=\"0 0 24 24\"\n",
              "       width=\"24px\">\n",
              "    <path d=\"M0 0h24v24H0V0z\" fill=\"none\"/>\n",
              "    <path d=\"M18.56 5.44l.94 2.06.94-2.06 2.06-.94-2.06-.94-.94-2.06-.94 2.06-2.06.94zm-11 1L8.5 8.5l.94-2.06 2.06-.94-2.06-.94L8.5 2.5l-.94 2.06-2.06.94zm10 10l.94 2.06.94-2.06 2.06-.94-2.06-.94-.94-2.06-.94 2.06-2.06.94z\"/><path d=\"M17.41 7.96l-1.37-1.37c-.4-.4-.92-.59-1.43-.59-.52 0-1.04.2-1.43.59L10.3 9.45l-7.72 7.72c-.78.78-.78 2.05 0 2.83L4 21.41c.39.39.9.59 1.41.59.51 0 1.02-.2 1.41-.59l7.78-7.78 2.81-2.81c.8-.78.8-2.07 0-2.86zM5.41 20L4 18.59l7.72-7.72 1.47 1.35L5.41 20z\"/>\n",
              "  </svg>\n",
              "      </button>\n",
              "      \n",
              "  <style>\n",
              "    .colab-df-container {\n",
              "      display:flex;\n",
              "      flex-wrap:wrap;\n",
              "      gap: 12px;\n",
              "    }\n",
              "\n",
              "    .colab-df-convert {\n",
              "      background-color: #E8F0FE;\n",
              "      border: none;\n",
              "      border-radius: 50%;\n",
              "      cursor: pointer;\n",
              "      display: none;\n",
              "      fill: #1967D2;\n",
              "      height: 32px;\n",
              "      padding: 0 0 0 0;\n",
              "      width: 32px;\n",
              "    }\n",
              "\n",
              "    .colab-df-convert:hover {\n",
              "      background-color: #E2EBFA;\n",
              "      box-shadow: 0px 1px 2px rgba(60, 64, 67, 0.3), 0px 1px 3px 1px rgba(60, 64, 67, 0.15);\n",
              "      fill: #174EA6;\n",
              "    }\n",
              "\n",
              "    [theme=dark] .colab-df-convert {\n",
              "      background-color: #3B4455;\n",
              "      fill: #D2E3FC;\n",
              "    }\n",
              "\n",
              "    [theme=dark] .colab-df-convert:hover {\n",
              "      background-color: #434B5C;\n",
              "      box-shadow: 0px 1px 3px 1px rgba(0, 0, 0, 0.15);\n",
              "      filter: drop-shadow(0px 1px 2px rgba(0, 0, 0, 0.3));\n",
              "      fill: #FFFFFF;\n",
              "    }\n",
              "  </style>\n",
              "\n",
              "      <script>\n",
              "        const buttonEl =\n",
              "          document.querySelector('#df-5d7f1668-200a-4020-8e7a-cc3db45eb51d button.colab-df-convert');\n",
              "        buttonEl.style.display =\n",
              "          google.colab.kernel.accessAllowed ? 'block' : 'none';\n",
              "\n",
              "        async function convertToInteractive(key) {\n",
              "          const element = document.querySelector('#df-5d7f1668-200a-4020-8e7a-cc3db45eb51d');\n",
              "          const dataTable =\n",
              "            await google.colab.kernel.invokeFunction('convertToInteractive',\n",
              "                                                     [key], {});\n",
              "          if (!dataTable) return;\n",
              "\n",
              "          const docLinkHtml = 'Like what you see? Visit the ' +\n",
              "            '<a target=\"_blank\" href=https://colab.research.google.com/notebooks/data_table.ipynb>data table notebook</a>'\n",
              "            + ' to learn more about interactive tables.';\n",
              "          element.innerHTML = '';\n",
              "          dataTable['output_type'] = 'display_data';\n",
              "          await google.colab.output.renderOutput(dataTable, element);\n",
              "          const docLink = document.createElement('div');\n",
              "          docLink.innerHTML = docLinkHtml;\n",
              "          element.appendChild(docLink);\n",
              "        }\n",
              "      </script>\n",
              "    </div>\n",
              "  </div>\n",
              "  "
            ]
          },
          "metadata": {},
          "execution_count": 105
        }
      ]
    },
    {
      "cell_type": "code",
      "source": [
        "import seaborn as sns\n",
        "import matplotlib.pyplot as plt"
      ],
      "metadata": {
        "id": "EPUxxPGfJphS"
      },
      "execution_count": null,
      "outputs": []
    },
    {
      "cell_type": "code",
      "source": [
        "sns.pairplot(df, hue = 'species');\n",
        "plt.show()"
      ],
      "metadata": {
        "colab": {
          "base_uri": "https://localhost:8080/",
          "height": 662
        },
        "id": "rc-xqXMjJw2q",
        "outputId": "7e6010f0-a919-45fb-d441-25ce48b5a437"
      },
      "execution_count": null,
      "outputs": [
        {
          "output_type": "display_data",
          "data": {
            "text/plain": [
              "<Figure size 823.25x720 with 20 Axes>"
            ],
            "image/png": "[encoded data removed]"
          },
          "metadata": {
            "needs_background": "light"
          }
        }
      ]
    },
    {
      "cell_type": "code",
      "source": [
        "dataset = df.values\n",
        "dataset\n",
        "#print(type(dataset))\n",
        "\n",
        "X = dataset[:,0:4].astype(float)\n",
        "Y = dataset[:,-1]\n",
        "print(X.dtype)\n",
        "print(Y.dtype)"
      ],
      "metadata": {
        "colab": {
          "base_uri": "https://localhost:8080/"
        },
        "id": "rsi--jsDJ6PL",
        "outputId": "524d2019-f5a2-4803-e20e-0444389d1d40"
      },
      "execution_count": null,
      "outputs": [
        {
          "output_type": "stream",
          "name": "stdout",
          "text": [
            "float64\n",
            "object\n"
          ]
        }
      ]
    },
    {
      "cell_type": "code",
      "source": [
        "# 문자형식의 정보를 숫자로 바꿔주는 함수 LabelEncoder()\n",
        "# from sklearn.preprocessing import LabelEncoder\n",
        "e = LabelEncoder()\n",
        "e.fit(Y)\n",
        "Y = e.transform(Y)\n",
        "print(Y)"
      ],
      "metadata": {
        "colab": {
          "base_uri": "https://localhost:8080/"
        },
        "id": "pKJm3saTKQtv",
        "outputId": "2104ed28-7553-4b58-9d88-3b614ff976d1"
      },
      "execution_count": null,
      "outputs": [
        {
          "output_type": "stream",
          "name": "stdout",
          "text": [
            "[0 0 0 0 0 0 0 0 0 0 0 0 0 0 0 0 0 0 0 0 0 0 0 0 0 0 0 0 0 0 0 0 0 0 0 0 0\n",
            " 0 0 0 0 0 0 0 0 0 0 0 0 0 1 1 1 1 1 1 1 1 1 1 1 1 1 1 1 1 1 1 1 1 1 1 1 1\n",
            " 1 1 1 1 1 1 1 1 1 1 1 1 1 1 1 1 1 1 1 1 1 1 1 1 1 1 2 2 2 2 2 2 2 2 2 2 2\n",
            " 2 2 2 2 2 2 2 2 2 2 2 2 2 2 2 2 2 2 2 2 2 2 2 2 2 2 2 2 2 2 2 2 2 2 2 2 2\n",
            " 2 2]\n"
          ]
        }
      ]
    },
    {
      "cell_type": "code",
      "source": [
        "## One-hot encoding\n",
        "Y_encoded = keras.utils.to_categorical(Y)\n",
        "Y_encoded"
      ],
      "metadata": {
        "colab": {
          "base_uri": "https://localhost:8080/"
        },
        "id": "LEJGrSUfK6N6",
        "outputId": "79d6186d-3726-46ca-a868-8e0133a56cf1"
      },
      "execution_count": null,
      "outputs": [
        {
          "output_type": "execute_result",
          "data": {
            "text/plain": [
              "array([[1., 0., 0.],\n",
              "       [1., 0., 0.],\n",
              "       [1., 0., 0.],\n",
              "       [1., 0., 0.],\n",
              "       [1., 0., 0.],\n",
              "       [1., 0., 0.],\n",
              "       [1., 0., 0.],\n",
              "       [1., 0., 0.],\n",
              "       [1., 0., 0.],\n",
              "       [1., 0., 0.],\n",
              "       [1., 0., 0.],\n",
              "       [1., 0., 0.],\n",
              "       [1., 0., 0.],\n",
              "       [1., 0., 0.],\n",
              "       [1., 0., 0.],\n",
              "       [1., 0., 0.],\n",
              "       [1., 0., 0.],\n",
              "       [1., 0., 0.],\n",
              "       [1., 0., 0.],\n",
              "       [1., 0., 0.],\n",
              "       [1., 0., 0.],\n",
              "       [1., 0., 0.],\n",
              "       [1., 0., 0.],\n",
              "       [1., 0., 0.],\n",
              "       [1., 0., 0.],\n",
              "       [1., 0., 0.],\n",
              "       [1., 0., 0.],\n",
              "       [1., 0., 0.],\n",
              "       [1., 0., 0.],\n",
              "       [1., 0., 0.],\n",
              "       [1., 0., 0.],\n",
              "       [1., 0., 0.],\n",
              "       [1., 0., 0.],\n",
              "       [1., 0., 0.],\n",
              "       [1., 0., 0.],\n",
              "       [1., 0., 0.],\n",
              "       [1., 0., 0.],\n",
              "       [1., 0., 0.],\n",
              "       [1., 0., 0.],\n",
              "       [1., 0., 0.],\n",
              "       [1., 0., 0.],\n",
              "       [1., 0., 0.],\n",
              "       [1., 0., 0.],\n",
              "       [1., 0., 0.],\n",
              "       [1., 0., 0.],\n",
              "       [1., 0., 0.],\n",
              "       [1., 0., 0.],\n",
              "       [1., 0., 0.],\n",
              "       [1., 0., 0.],\n",
              "       [1., 0., 0.],\n",
              "       [0., 1., 0.],\n",
              "       [0., 1., 0.],\n",
              "       [0., 1., 0.],\n",
              "       [0., 1., 0.],\n",
              "       [0., 1., 0.],\n",
              "       [0., 1., 0.],\n",
              "       [0., 1., 0.],\n",
              "       [0., 1., 0.],\n",
              "       [0., 1., 0.],\n",
              "       [0., 1., 0.],\n",
              "       [0., 1., 0.],\n",
              "       [0., 1., 0.],\n",
              "       [0., 1., 0.],\n",
              "       [0., 1., 0.],\n",
              "       [0., 1., 0.],\n",
              "       [0., 1., 0.],\n",
              "       [0., 1., 0.],\n",
              "       [0., 1., 0.],\n",
              "       [0., 1., 0.],\n",
              "       [0., 1., 0.],\n",
              "       [0., 1., 0.],\n",
              "       [0., 1., 0.],\n",
              "       [0., 1., 0.],\n",
              "       [0., 1., 0.],\n",
              "       [0., 1., 0.],\n",
              "       [0., 1., 0.],\n",
              "       [0., 1., 0.],\n",
              "       [0., 1., 0.],\n",
              "       [0., 1., 0.],\n",
              "       [0., 1., 0.],\n",
              "       [0., 1., 0.],\n",
              "       [0., 1., 0.],\n",
              "       [0., 1., 0.],\n",
              "       [0., 1., 0.],\n",
              "       [0., 1., 0.],\n",
              "       [0., 1., 0.],\n",
              "       [0., 1., 0.],\n",
              "       [0., 1., 0.],\n",
              "       [0., 1., 0.],\n",
              "       [0., 1., 0.],\n",
              "       [0., 1., 0.],\n",
              "       [0., 1., 0.],\n",
              "       [0., 1., 0.],\n",
              "       [0., 1., 0.],\n",
              "       [0., 1., 0.],\n",
              "       [0., 1., 0.],\n",
              "       [0., 1., 0.],\n",
              "       [0., 1., 0.],\n",
              "       [0., 1., 0.],\n",
              "       [0., 1., 0.],\n",
              "       [0., 0., 1.],\n",
              "       [0., 0., 1.],\n",
              "       [0., 0., 1.],\n",
              "       [0., 0., 1.],\n",
              "       [0., 0., 1.],\n",
              "       [0., 0., 1.],\n",
              "       [0., 0., 1.],\n",
              "       [0., 0., 1.],\n",
              "       [0., 0., 1.],\n",
              "       [0., 0., 1.],\n",
              "       [0., 0., 1.],\n",
              "       [0., 0., 1.],\n",
              "       [0., 0., 1.],\n",
              "       [0., 0., 1.],\n",
              "       [0., 0., 1.],\n",
              "       [0., 0., 1.],\n",
              "       [0., 0., 1.],\n",
              "       [0., 0., 1.],\n",
              "       [0., 0., 1.],\n",
              "       [0., 0., 1.],\n",
              "       [0., 0., 1.],\n",
              "       [0., 0., 1.],\n",
              "       [0., 0., 1.],\n",
              "       [0., 0., 1.],\n",
              "       [0., 0., 1.],\n",
              "       [0., 0., 1.],\n",
              "       [0., 0., 1.],\n",
              "       [0., 0., 1.],\n",
              "       [0., 0., 1.],\n",
              "       [0., 0., 1.],\n",
              "       [0., 0., 1.],\n",
              "       [0., 0., 1.],\n",
              "       [0., 0., 1.],\n",
              "       [0., 0., 1.],\n",
              "       [0., 0., 1.],\n",
              "       [0., 0., 1.],\n",
              "       [0., 0., 1.],\n",
              "       [0., 0., 1.],\n",
              "       [0., 0., 1.],\n",
              "       [0., 0., 1.],\n",
              "       [0., 0., 1.],\n",
              "       [0., 0., 1.],\n",
              "       [0., 0., 1.],\n",
              "       [0., 0., 1.],\n",
              "       [0., 0., 1.],\n",
              "       [0., 0., 1.],\n",
              "       [0., 0., 1.],\n",
              "       [0., 0., 1.],\n",
              "       [0., 0., 1.],\n",
              "       [0., 0., 1.]], dtype=float32)"
            ]
          },
          "metadata": {},
          "execution_count": 110
        }
      ]
    },
    {
      "cell_type": "code",
      "source": [
        "model = keras.Sequential()\n",
        "model.add(keras.layers.Dense(16, input_dim = 4, activation = 'relu'))\n",
        "model.add(keras.layers.Dense(3, activation = 'softmax'))"
      ],
      "metadata": {
        "id": "HN1ODHpaLrtB"
      },
      "execution_count": null,
      "outputs": []
    },
    {
      "cell_type": "code",
      "source": [
        "model.summary()"
      ],
      "metadata": {
        "colab": {
          "base_uri": "https://localhost:8080/"
        },
        "id": "4cmDaBmWMImQ",
        "outputId": "5e72043d-c7e4-4ff9-f6d4-a52ebe2e1227"
      },
      "execution_count": null,
      "outputs": [
        {
          "output_type": "stream",
          "name": "stdout",
          "text": [
            "Model: \"sequential_9\"\n",
            "_________________________________________________________________\n",
            " Layer (type)                Output Shape              Param #   \n",
            "=================================================================\n",
            " dense_25 (Dense)            (None, 16)                80        \n",
            "                                                                 \n",
            " dense_26 (Dense)            (None, 3)                 51        \n",
            "                                                                 \n",
            "=================================================================\n",
            "Total params: 131\n",
            "Trainable params: 131\n",
            "Non-trainable params: 0\n",
            "_________________________________________________________________\n"
          ]
        }
      ]
    },
    {
      "cell_type": "code",
      "source": [
        "model.compile(loss = 'categorical_crossentropy',\n",
        "              optimizer = 'adam',\n",
        "              metrics = ['accuracy'])"
      ],
      "metadata": {
        "id": "PwGWFpx0MqO9"
      },
      "execution_count": null,
      "outputs": []
    },
    {
      "cell_type": "code",
      "source": [
        "model.fit(X, Y_encoded, epochs = 50, batch_size = 20)"
      ],
      "metadata": {
        "colab": {
          "base_uri": "https://localhost:8080/"
        },
        "id": "lHJzeKWrNCGT",
        "outputId": "777ed5bd-423b-4710-9021-76e904ef79b2"
      },
      "execution_count": null,
      "outputs": [
        {
          "output_type": "stream",
          "name": "stdout",
          "text": [
            "Epoch 1/50\n",
            "8/8 [==============================] - 0s 2ms/step - loss: 3.9089 - accuracy: 0.3333\n",
            "Epoch 2/50\n",
            "8/8 [==============================] - 0s 3ms/step - loss: 3.3720 - accuracy: 0.3333\n",
            "Epoch 3/50\n",
            "8/8 [==============================] - 0s 3ms/step - loss: 2.8728 - accuracy: 0.3333\n",
            "Epoch 4/50\n",
            "8/8 [==============================] - 0s 3ms/step - loss: 2.4387 - accuracy: 0.3333\n",
            "Epoch 5/50\n",
            "8/8 [==============================] - 0s 2ms/step - loss: 2.0543 - accuracy: 0.3333\n",
            "Epoch 6/50\n",
            "8/8 [==============================] - 0s 3ms/step - loss: 1.7441 - accuracy: 0.3200\n",
            "Epoch 7/50\n",
            "8/8 [==============================] - 0s 3ms/step - loss: 1.4890 - accuracy: 0.2733\n",
            "Epoch 8/50\n",
            "8/8 [==============================] - 0s 3ms/step - loss: 1.3096 - accuracy: 0.2067\n",
            "Epoch 9/50\n",
            "8/8 [==============================] - 0s 3ms/step - loss: 1.1684 - accuracy: 0.2600\n",
            "Epoch 10/50\n",
            "8/8 [==============================] - 0s 3ms/step - loss: 1.0652 - accuracy: 0.4200\n",
            "Epoch 11/50\n",
            "8/8 [==============================] - 0s 3ms/step - loss: 0.9888 - accuracy: 0.6267\n",
            "Epoch 12/50\n",
            "8/8 [==============================] - 0s 3ms/step - loss: 0.9242 - accuracy: 0.8200\n",
            "Epoch 13/50\n",
            "8/8 [==============================] - 0s 2ms/step - loss: 0.8715 - accuracy: 0.9267\n",
            "Epoch 14/50\n",
            "8/8 [==============================] - 0s 2ms/step - loss: 0.8253 - accuracy: 0.9467\n",
            "Epoch 15/50\n",
            "8/8 [==============================] - 0s 3ms/step - loss: 0.7859 - accuracy: 0.9467\n",
            "Epoch 16/50\n",
            "8/8 [==============================] - 0s 3ms/step - loss: 0.7496 - accuracy: 0.9533\n",
            "Epoch 17/50\n",
            "8/8 [==============================] - 0s 3ms/step - loss: 0.7182 - accuracy: 0.9600\n",
            "Epoch 18/50\n",
            "8/8 [==============================] - 0s 2ms/step - loss: 0.6903 - accuracy: 0.9600\n",
            "Epoch 19/50\n",
            "8/8 [==============================] - 0s 3ms/step - loss: 0.6655 - accuracy: 0.9400\n",
            "Epoch 20/50\n",
            "8/8 [==============================] - 0s 2ms/step - loss: 0.6432 - accuracy: 0.9533\n",
            "Epoch 21/50\n",
            "8/8 [==============================] - 0s 2ms/step - loss: 0.6231 - accuracy: 0.9600\n",
            "Epoch 22/50\n",
            "8/8 [==============================] - 0s 2ms/step - loss: 0.6052 - accuracy: 0.9600\n",
            "Epoch 23/50\n",
            "8/8 [==============================] - 0s 3ms/step - loss: 0.5893 - accuracy: 0.9467\n",
            "Epoch 24/50\n",
            "8/8 [==============================] - 0s 3ms/step - loss: 0.5730 - accuracy: 0.9467\n",
            "Epoch 25/50\n",
            "8/8 [==============================] - 0s 3ms/step - loss: 0.5602 - accuracy: 0.9733\n",
            "Epoch 26/50\n",
            "8/8 [==============================] - 0s 3ms/step - loss: 0.5473 - accuracy: 0.9733\n",
            "Epoch 27/50\n",
            "8/8 [==============================] - 0s 2ms/step - loss: 0.5360 - accuracy: 0.9800\n",
            "Epoch 28/50\n",
            "8/8 [==============================] - 0s 2ms/step - loss: 0.5253 - accuracy: 0.9800\n",
            "Epoch 29/50\n",
            "8/8 [==============================] - 0s 2ms/step - loss: 0.5145 - accuracy: 0.9733\n",
            "Epoch 30/50\n",
            "8/8 [==============================] - 0s 4ms/step - loss: 0.5051 - accuracy: 0.9733\n",
            "Epoch 31/50\n",
            "8/8 [==============================] - 0s 3ms/step - loss: 0.4974 - accuracy: 0.9600\n",
            "Epoch 32/50\n",
            "8/8 [==============================] - 0s 3ms/step - loss: 0.4881 - accuracy: 0.9533\n",
            "Epoch 33/50\n",
            "8/8 [==============================] - 0s 3ms/step - loss: 0.4809 - accuracy: 0.9533\n",
            "Epoch 34/50\n",
            "8/8 [==============================] - 0s 3ms/step - loss: 0.4732 - accuracy: 0.9533\n",
            "Epoch 35/50\n",
            "8/8 [==============================] - 0s 2ms/step - loss: 0.4659 - accuracy: 0.9667\n",
            "Epoch 36/50\n",
            "8/8 [==============================] - 0s 3ms/step - loss: 0.4597 - accuracy: 0.9667\n",
            "Epoch 37/50\n",
            "8/8 [==============================] - 0s 3ms/step - loss: 0.4531 - accuracy: 0.9733\n",
            "Epoch 38/50\n",
            "8/8 [==============================] - 0s 3ms/step - loss: 0.4477 - accuracy: 0.9733\n",
            "Epoch 39/50\n",
            "8/8 [==============================] - 0s 3ms/step - loss: 0.4417 - accuracy: 0.9667\n",
            "Epoch 40/50\n",
            "8/8 [==============================] - 0s 3ms/step - loss: 0.4361 - accuracy: 0.9667\n",
            "Epoch 41/50\n",
            "8/8 [==============================] - 0s 3ms/step - loss: 0.4319 - accuracy: 0.9733\n",
            "Epoch 42/50\n",
            "8/8 [==============================] - 0s 3ms/step - loss: 0.4268 - accuracy: 0.9800\n",
            "Epoch 43/50\n",
            "8/8 [==============================] - 0s 3ms/step - loss: 0.4212 - accuracy: 0.9733\n",
            "Epoch 44/50\n",
            "8/8 [==============================] - 0s 3ms/step - loss: 0.4162 - accuracy: 0.9667\n",
            "Epoch 45/50\n",
            "8/8 [==============================] - 0s 3ms/step - loss: 0.4126 - accuracy: 0.9667\n",
            "Epoch 46/50\n",
            "8/8 [==============================] - 0s 3ms/step - loss: 0.4079 - accuracy: 0.9733\n",
            "Epoch 47/50\n",
            "8/8 [==============================] - 0s 3ms/step - loss: 0.4030 - accuracy: 0.9733\n",
            "Epoch 48/50\n",
            "8/8 [==============================] - 0s 3ms/step - loss: 0.3989 - accuracy: 0.9733\n",
            "Epoch 49/50\n",
            "8/8 [==============================] - 0s 2ms/step - loss: 0.3947 - accuracy: 0.9733\n",
            "Epoch 50/50\n",
            "8/8 [==============================] - 0s 3ms/step - loss: 0.3925 - accuracy: 0.9667\n"
          ]
        },
        {
          "output_type": "execute_result",
          "data": {
            "text/plain": [
              "<keras.callbacks.History at 0x7f2de7a85b10>"
            ]
          },
          "metadata": {},
          "execution_count": 114
        }
      ]
    },
    {
      "cell_type": "code",
      "source": [
        "file_uploaded = files.upload()"
      ],
      "metadata": {
        "colab": {
          "resources": {
            "http://localhost:8080/nbextensions/google.colab/files.js": {
              "data": "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",
              "ok": true,
              "headers": [
                [
                  "content-type",
                  "application/javascript"
                ]
              ],
              "status": 200,
              "status_text": ""
            }
          },
          "base_uri": "https://localhost:8080/",
          "height": 77
        },
        "id": "pUWqmWO5XZDE",
        "outputId": "edd71e41-cb5a-41fd-b926-94381f96cad7"
      },
      "execution_count": null,
      "outputs": [
        {
          "output_type": "display_data",
          "data": {
            "text/plain": [
              "<IPython.core.display.HTML object>"
            ],
            "text/html": [
              "\n",
              "     <input type=\"file\" id=\"files-8d262b73-3255-4adb-b143-099bc457b8e8\" name=\"files[]\" multiple disabled\n",
              "        style=\"border:none\" />\n",
              "     <output id=\"result-8d262b73-3255-4adb-b143-099bc457b8e8\">\n",
              "      Upload widget is only available when the cell has been executed in the\n",
              "      current browser session. Please rerun this cell to enable.\n",
              "      </output>\n",
              "      <script src=\"/nbextensions/google.colab/files.js\"></script> "
            ]
          },
          "metadata": {}
        },
        {
          "output_type": "stream",
          "name": "stdout",
          "text": [
            "Saving sonar.csv to sonar (1).csv\n"
          ]
        }
      ]
    },
    {
      "cell_type": "code",
      "source": [
        "df = pd.read_csv('/root/sonar.csv', header = None)\n",
        "df.head()\n",
        "df.info()"
      ],
      "metadata": {
        "colab": {
          "base_uri": "https://localhost:8080/"
        },
        "id": "OA1jyf6jXHNO",
        "outputId": "84fe9068-757f-4b30-8e3a-8fa5fd331b8b"
      },
      "execution_count": null,
      "outputs": [
        {
          "output_type": "stream",
          "name": "stdout",
          "text": [
            "<class 'pandas.core.frame.DataFrame'>\n",
            "RangeIndex: 208 entries, 0 to 207\n",
            "Data columns (total 61 columns):\n",
            " #   Column  Non-Null Count  Dtype  \n",
            "---  ------  --------------  -----  \n",
            " 0   0       208 non-null    float64\n",
            " 1   1       208 non-null    float64\n",
            " 2   2       208 non-null    float64\n",
            " 3   3       208 non-null    float64\n",
            " 4   4       208 non-null    float64\n",
            " 5   5       208 non-null    float64\n",
            " 6   6       208 non-null    float64\n",
            " 7   7       208 non-null    float64\n",
            " 8   8       208 non-null    float64\n",
            " 9   9       208 non-null    float64\n",
            " 10  10      208 non-null    float64\n",
            " 11  11      208 non-null    float64\n",
            " 12  12      208 non-null    float64\n",
            " 13  13      208 non-null    float64\n",
            " 14  14      208 non-null    float64\n",
            " 15  15      208 non-null    float64\n",
            " 16  16      208 non-null    float64\n",
            " 17  17      208 non-null    float64\n",
            " 18  18      208 non-null    float64\n",
            " 19  19      208 non-null    float64\n",
            " 20  20      208 non-null    float64\n",
            " 21  21      208 non-null    float64\n",
            " 22  22      208 non-null    float64\n",
            " 23  23      208 non-null    float64\n",
            " 24  24      208 non-null    float64\n",
            " 25  25      208 non-null    float64\n",
            " 26  26      208 non-null    float64\n",
            " 27  27      208 non-null    float64\n",
            " 28  28      208 non-null    float64\n",
            " 29  29      208 non-null    float64\n",
            " 30  30      208 non-null    float64\n",
            " 31  31      208 non-null    float64\n",
            " 32  32      208 non-null    float64\n",
            " 33  33      208 non-null    float64\n",
            " 34  34      208 non-null    float64\n",
            " 35  35      208 non-null    float64\n",
            " 36  36      208 non-null    float64\n",
            " 37  37      208 non-null    float64\n",
            " 38  38      208 non-null    float64\n",
            " 39  39      208 non-null    float64\n",
            " 40  40      208 non-null    float64\n",
            " 41  41      208 non-null    float64\n",
            " 42  42      208 non-null    float64\n",
            " 43  43      208 non-null    float64\n",
            " 44  44      208 non-null    float64\n",
            " 45  45      208 non-null    float64\n",
            " 46  46      208 non-null    float64\n",
            " 47  47      208 non-null    float64\n",
            " 48  48      208 non-null    float64\n",
            " 49  49      208 non-null    float64\n",
            " 50  50      208 non-null    float64\n",
            " 51  51      208 non-null    float64\n",
            " 52  52      208 non-null    float64\n",
            " 53  53      208 non-null    float64\n",
            " 54  54      208 non-null    float64\n",
            " 55  55      208 non-null    float64\n",
            " 56  56      208 non-null    float64\n",
            " 57  57      208 non-null    float64\n",
            " 58  58      208 non-null    float64\n",
            " 59  59      208 non-null    float64\n",
            " 60  60      208 non-null    object \n",
            "dtypes: float64(60), object(1)\n",
            "memory usage: 99.2+ KB\n"
          ]
        }
      ]
    },
    {
      "cell_type": "code",
      "source": [
        "dataset = df.values\n",
        "X = dataset[:,:60].astype(np.float32)\n",
        "Y = dataset[:,60]\n",
        "print(X.dtype)\n",
        "print(Y.dtype)\n",
        "print(Y)"
      ],
      "metadata": {
        "colab": {
          "base_uri": "https://localhost:8080/"
        },
        "id": "EoPVsygNXsAr",
        "outputId": "0d07bd15-f380-4fdf-feee-982f8d97e88e"
      },
      "execution_count": null,
      "outputs": [
        {
          "output_type": "stream",
          "name": "stdout",
          "text": [
            "float32\n",
            "object\n",
            "['R' 'R' 'R' 'R' 'R' 'R' 'R' 'R' 'R' 'R' 'R' 'R' 'R' 'R' 'R' 'R' 'R' 'R'\n",
            " 'R' 'R' 'R' 'R' 'R' 'R' 'R' 'R' 'R' 'R' 'R' 'R' 'R' 'R' 'R' 'R' 'R' 'R'\n",
            " 'R' 'R' 'R' 'R' 'R' 'R' 'R' 'R' 'R' 'R' 'R' 'R' 'R' 'R' 'R' 'R' 'R' 'R'\n",
            " 'R' 'R' 'R' 'R' 'R' 'R' 'R' 'R' 'R' 'R' 'R' 'R' 'R' 'R' 'R' 'R' 'R' 'R'\n",
            " 'R' 'R' 'R' 'R' 'R' 'R' 'R' 'R' 'R' 'R' 'R' 'R' 'R' 'R' 'R' 'R' 'R' 'R'\n",
            " 'R' 'R' 'R' 'R' 'R' 'R' 'R' 'M' 'M' 'M' 'M' 'M' 'M' 'M' 'M' 'M' 'M' 'M'\n",
            " 'M' 'M' 'M' 'M' 'M' 'M' 'M' 'M' 'M' 'M' 'M' 'M' 'M' 'M' 'M' 'M' 'M' 'M'\n",
            " 'M' 'M' 'M' 'M' 'M' 'M' 'M' 'M' 'M' 'M' 'M' 'M' 'M' 'M' 'M' 'M' 'M' 'M'\n",
            " 'M' 'M' 'M' 'M' 'M' 'M' 'M' 'M' 'M' 'M' 'M' 'M' 'M' 'M' 'M' 'M' 'M' 'M'\n",
            " 'M' 'M' 'M' 'M' 'M' 'M' 'M' 'M' 'M' 'M' 'M' 'M' 'M' 'M' 'M' 'M' 'M' 'M'\n",
            " 'M' 'M' 'M' 'M' 'M' 'M' 'M' 'M' 'M' 'M' 'M' 'M' 'M' 'M' 'M' 'M' 'M' 'M'\n",
            " 'M' 'M' 'M' 'M' 'M' 'M' 'M' 'M' 'M' 'M']\n"
          ]
        }
      ]
    },
    {
      "cell_type": "code",
      "source": [
        "e = LabelEncoder()\n",
        "e.fit(Y)\n",
        "Y_e = e.transform(Y)\n",
        "print(Y_e)"
      ],
      "metadata": {
        "colab": {
          "base_uri": "https://localhost:8080/"
        },
        "id": "PFc78PZCX7sE",
        "outputId": "9bf86122-b371-495e-bff4-ef220afb7fb6"
      },
      "execution_count": null,
      "outputs": [
        {
          "output_type": "stream",
          "name": "stdout",
          "text": [
            "[1 1 1 1 1 1 1 1 1 1 1 1 1 1 1 1 1 1 1 1 1 1 1 1 1 1 1 1 1 1 1 1 1 1 1 1 1\n",
            " 1 1 1 1 1 1 1 1 1 1 1 1 1 1 1 1 1 1 1 1 1 1 1 1 1 1 1 1 1 1 1 1 1 1 1 1 1\n",
            " 1 1 1 1 1 1 1 1 1 1 1 1 1 1 1 1 1 1 1 1 1 1 1 0 0 0 0 0 0 0 0 0 0 0 0 0 0\n",
            " 0 0 0 0 0 0 0 0 0 0 0 0 0 0 0 0 0 0 0 0 0 0 0 0 0 0 0 0 0 0 0 0 0 0 0 0 0\n",
            " 0 0 0 0 0 0 0 0 0 0 0 0 0 0 0 0 0 0 0 0 0 0 0 0 0 0 0 0 0 0 0 0 0 0 0 0 0\n",
            " 0 0 0 0 0 0 0 0 0 0 0 0 0 0 0 0 0 0 0 0 0 0 0]\n"
          ]
        }
      ]
    },
    {
      "cell_type": "code",
      "source": [
        "model = keras.Sequential()\n",
        "model.add(keras.layers.Dense(24, input_dim = 60, activation = 'relu'))\n",
        "model.add(keras.layers.Dense(10, activation = 'relu'))\n",
        "model.add(keras.layers.Dense(1, activation = 'sigmoid'))\n",
        "\n",
        "model.summary()"
      ],
      "metadata": {
        "colab": {
          "base_uri": "https://localhost:8080/"
        },
        "id": "AdML5KdUYk8s",
        "outputId": "35714d0e-710a-45f4-8824-37ed08020672"
      },
      "execution_count": null,
      "outputs": [
        {
          "output_type": "stream",
          "name": "stdout",
          "text": [
            "Model: \"sequential_10\"\n",
            "_________________________________________________________________\n",
            " Layer (type)                Output Shape              Param #   \n",
            "=================================================================\n",
            " dense_27 (Dense)            (None, 24)                1464      \n",
            "                                                                 \n",
            " dense_28 (Dense)            (None, 10)                250       \n",
            "                                                                 \n",
            " dense_29 (Dense)            (None, 1)                 11        \n",
            "                                                                 \n",
            "=================================================================\n",
            "Total params: 1,725\n",
            "Trainable params: 1,725\n",
            "Non-trainable params: 0\n",
            "_________________________________________________________________\n"
          ]
        }
      ]
    },
    {
      "cell_type": "code",
      "source": [
        "model.compile(loss = 'binary_crossentropy',\n",
        "              optimizer = 'adam',\n",
        "              metrics = ['accuracy'])\n",
        "\n",
        "model.fit(X, Y_e, epochs = 200, batch_size = 5)"
      ],
      "metadata": {
        "colab": {
          "base_uri": "https://localhost:8080/"
        },
        "id": "8IMmpi4KZEZE",
        "outputId": "d8c7b123-6de6-402d-8c7d-b63b39ac5512"
      },
      "execution_count": null,
      "outputs": [
        {
          "output_type": "stream",
          "name": "stdout",
          "text": [
            "Epoch 1/200\n",
            "42/42 [==============================] - 2s 6ms/step - loss: 0.6899 - accuracy: 0.5337\n",
            "Epoch 2/200\n",
            "42/42 [==============================] - 0s 6ms/step - loss: 0.6698 - accuracy: 0.5433\n",
            "Epoch 3/200\n",
            "42/42 [==============================] - 0s 5ms/step - loss: 0.6552 - accuracy: 0.6106\n",
            "Epoch 4/200\n",
            "42/42 [==============================] - 0s 4ms/step - loss: 0.6331 - accuracy: 0.6587\n",
            "Epoch 5/200\n",
            "42/42 [==============================] - 0s 5ms/step - loss: 0.6130 - accuracy: 0.7260\n",
            "Epoch 6/200\n",
            "42/42 [==============================] - 0s 3ms/step - loss: 0.5927 - accuracy: 0.7115\n",
            "Epoch 7/200\n",
            "42/42 [==============================] - 0s 4ms/step - loss: 0.5753 - accuracy: 0.7308\n",
            "Epoch 8/200\n",
            "42/42 [==============================] - 0s 5ms/step - loss: 0.5494 - accuracy: 0.7596\n",
            "Epoch 9/200\n",
            "42/42 [==============================] - 0s 4ms/step - loss: 0.5331 - accuracy: 0.7837\n",
            "Epoch 10/200\n",
            "42/42 [==============================] - 0s 4ms/step - loss: 0.5100 - accuracy: 0.8029\n",
            "Epoch 11/200\n",
            "42/42 [==============================] - 0s 3ms/step - loss: 0.4957 - accuracy: 0.7837\n",
            "Epoch 12/200\n",
            "42/42 [==============================] - 0s 6ms/step - loss: 0.4761 - accuracy: 0.8029\n",
            "Epoch 13/200\n",
            "42/42 [==============================] - 0s 4ms/step - loss: 0.4576 - accuracy: 0.8173\n",
            "Epoch 14/200\n",
            "42/42 [==============================] - 0s 4ms/step - loss: 0.4468 - accuracy: 0.8029\n",
            "Epoch 15/200\n",
            "42/42 [==============================] - 0s 4ms/step - loss: 0.4465 - accuracy: 0.7740\n",
            "Epoch 16/200\n",
            "42/42 [==============================] - 0s 4ms/step - loss: 0.4148 - accuracy: 0.8221\n",
            "Epoch 17/200\n",
            "42/42 [==============================] - 0s 3ms/step - loss: 0.4106 - accuracy: 0.8221\n",
            "Epoch 18/200\n",
            "42/42 [==============================] - 0s 6ms/step - loss: 0.3999 - accuracy: 0.8269\n",
            "Epoch 19/200\n",
            "42/42 [==============================] - 0s 4ms/step - loss: 0.3964 - accuracy: 0.8269\n",
            "Epoch 20/200\n",
            "42/42 [==============================] - 0s 5ms/step - loss: 0.3946 - accuracy: 0.8125\n",
            "Epoch 21/200\n",
            "42/42 [==============================] - 0s 7ms/step - loss: 0.3838 - accuracy: 0.8317\n",
            "Epoch 22/200\n",
            "42/42 [==============================] - 0s 4ms/step - loss: 0.3709 - accuracy: 0.8462\n",
            "Epoch 23/200\n",
            "42/42 [==============================] - 0s 4ms/step - loss: 0.3654 - accuracy: 0.8558\n",
            "Epoch 24/200\n",
            "42/42 [==============================] - 0s 4ms/step - loss: 0.3772 - accuracy: 0.8365\n",
            "Epoch 25/200\n",
            "42/42 [==============================] - 0s 6ms/step - loss: 0.3597 - accuracy: 0.8221\n",
            "Epoch 26/200\n",
            "42/42 [==============================] - 0s 3ms/step - loss: 0.3472 - accuracy: 0.8558\n",
            "Epoch 27/200\n",
            "42/42 [==============================] - 0s 3ms/step - loss: 0.3427 - accuracy: 0.8606\n",
            "Epoch 28/200\n",
            "42/42 [==============================] - 0s 7ms/step - loss: 0.3351 - accuracy: 0.8606\n",
            "Epoch 29/200\n",
            "42/42 [==============================] - 0s 5ms/step - loss: 0.3545 - accuracy: 0.8221\n",
            "Epoch 30/200\n",
            "42/42 [==============================] - 0s 4ms/step - loss: 0.3296 - accuracy: 0.8462\n",
            "Epoch 31/200\n",
            "42/42 [==============================] - 0s 4ms/step - loss: 0.3311 - accuracy: 0.8654\n",
            "Epoch 32/200\n",
            "42/42 [==============================] - 0s 3ms/step - loss: 0.3276 - accuracy: 0.8510\n",
            "Epoch 33/200\n",
            "42/42 [==============================] - 0s 4ms/step - loss: 0.3226 - accuracy: 0.8413\n",
            "Epoch 34/200\n",
            "42/42 [==============================] - 0s 3ms/step - loss: 0.3153 - accuracy: 0.8510\n",
            "Epoch 35/200\n",
            "42/42 [==============================] - 0s 4ms/step - loss: 0.3031 - accuracy: 0.8606\n",
            "Epoch 36/200\n",
            "42/42 [==============================] - 0s 4ms/step - loss: 0.2941 - accuracy: 0.8702\n",
            "Epoch 37/200\n",
            "42/42 [==============================] - 0s 4ms/step - loss: 0.3000 - accuracy: 0.8702\n",
            "Epoch 38/200\n",
            "42/42 [==============================] - 0s 4ms/step - loss: 0.2981 - accuracy: 0.8606\n",
            "Epoch 39/200\n",
            "42/42 [==============================] - 0s 4ms/step - loss: 0.2798 - accuracy: 0.8798\n",
            "Epoch 40/200\n",
            "42/42 [==============================] - 0s 5ms/step - loss: 0.2875 - accuracy: 0.8654\n",
            "Epoch 41/200\n",
            "42/42 [==============================] - 0s 3ms/step - loss: 0.2763 - accuracy: 0.8750\n",
            "Epoch 42/200\n",
            "42/42 [==============================] - 0s 3ms/step - loss: 0.2734 - accuracy: 0.8798\n",
            "Epoch 43/200\n",
            "42/42 [==============================] - 0s 6ms/step - loss: 0.2778 - accuracy: 0.8606\n",
            "Epoch 44/200\n",
            "42/42 [==============================] - 0s 4ms/step - loss: 0.2720 - accuracy: 0.8846\n",
            "Epoch 45/200\n",
            "42/42 [==============================] - 0s 4ms/step - loss: 0.2610 - accuracy: 0.8798\n",
            "Epoch 46/200\n",
            "42/42 [==============================] - 0s 3ms/step - loss: 0.2506 - accuracy: 0.8798\n",
            "Epoch 47/200\n",
            "42/42 [==============================] - 0s 4ms/step - loss: 0.2558 - accuracy: 0.9038\n",
            "Epoch 48/200\n",
            "42/42 [==============================] - 0s 6ms/step - loss: 0.2503 - accuracy: 0.8750\n",
            "Epoch 49/200\n",
            "42/42 [==============================] - 0s 6ms/step - loss: 0.2559 - accuracy: 0.8942\n",
            "Epoch 50/200\n",
            "42/42 [==============================] - 0s 5ms/step - loss: 0.2457 - accuracy: 0.8942\n",
            "Epoch 51/200\n",
            "42/42 [==============================] - 0s 5ms/step - loss: 0.2296 - accuracy: 0.9087\n",
            "Epoch 52/200\n",
            "42/42 [==============================] - 0s 6ms/step - loss: 0.2431 - accuracy: 0.8894\n",
            "Epoch 53/200\n",
            "42/42 [==============================] - 0s 6ms/step - loss: 0.2283 - accuracy: 0.9038\n",
            "Epoch 54/200\n",
            "42/42 [==============================] - 0s 5ms/step - loss: 0.2249 - accuracy: 0.8846\n",
            "Epoch 55/200\n",
            "42/42 [==============================] - 0s 4ms/step - loss: 0.2286 - accuracy: 0.8942\n",
            "Epoch 56/200\n",
            "42/42 [==============================] - 0s 8ms/step - loss: 0.2278 - accuracy: 0.8942\n",
            "Epoch 57/200\n",
            "42/42 [==============================] - 0s 9ms/step - loss: 0.2189 - accuracy: 0.9038\n",
            "Epoch 58/200\n",
            "42/42 [==============================] - 0s 6ms/step - loss: 0.2063 - accuracy: 0.9279\n",
            "Epoch 59/200\n",
            "42/42 [==============================] - 0s 5ms/step - loss: 0.2028 - accuracy: 0.9231\n",
            "Epoch 60/200\n",
            "42/42 [==============================] - 0s 6ms/step - loss: 0.2009 - accuracy: 0.9183\n",
            "Epoch 61/200\n",
            "42/42 [==============================] - 0s 5ms/step - loss: 0.1952 - accuracy: 0.9183\n",
            "Epoch 62/200\n",
            "42/42 [==============================] - 0s 6ms/step - loss: 0.2081 - accuracy: 0.9183\n",
            "Epoch 63/200\n",
            "42/42 [==============================] - 0s 4ms/step - loss: 0.2069 - accuracy: 0.9279\n",
            "Epoch 64/200\n",
            "42/42 [==============================] - 0s 5ms/step - loss: 0.1964 - accuracy: 0.9135\n",
            "Epoch 65/200\n",
            "42/42 [==============================] - 0s 6ms/step - loss: 0.1840 - accuracy: 0.9471\n",
            "Epoch 66/200\n",
            "42/42 [==============================] - 0s 7ms/step - loss: 0.1920 - accuracy: 0.9231\n",
            "Epoch 67/200\n",
            "42/42 [==============================] - 0s 7ms/step - loss: 0.1751 - accuracy: 0.9279\n",
            "Epoch 68/200\n",
            "42/42 [==============================] - 0s 8ms/step - loss: 0.1677 - accuracy: 0.9519\n",
            "Epoch 69/200\n",
            "42/42 [==============================] - 0s 4ms/step - loss: 0.1787 - accuracy: 0.9279\n",
            "Epoch 70/200\n",
            "42/42 [==============================] - 0s 3ms/step - loss: 0.1744 - accuracy: 0.9423\n",
            "Epoch 71/200\n",
            "42/42 [==============================] - 0s 4ms/step - loss: 0.1651 - accuracy: 0.9423\n",
            "Epoch 72/200\n",
            "42/42 [==============================] - 0s 4ms/step - loss: 0.1646 - accuracy: 0.9327\n",
            "Epoch 73/200\n",
            "42/42 [==============================] - 0s 3ms/step - loss: 0.1609 - accuracy: 0.9615\n",
            "Epoch 74/200\n",
            "42/42 [==============================] - 0s 3ms/step - loss: 0.1536 - accuracy: 0.9471\n",
            "Epoch 75/200\n",
            "42/42 [==============================] - 0s 2ms/step - loss: 0.1499 - accuracy: 0.9567\n",
            "Epoch 76/200\n",
            "42/42 [==============================] - 0s 2ms/step - loss: 0.1562 - accuracy: 0.9519\n",
            "Epoch 77/200\n",
            "42/42 [==============================] - 0s 2ms/step - loss: 0.1621 - accuracy: 0.9471\n",
            "Epoch 78/200\n",
            "42/42 [==============================] - 0s 2ms/step - loss: 0.1476 - accuracy: 0.9615\n",
            "Epoch 79/200\n",
            "42/42 [==============================] - 0s 2ms/step - loss: 0.1362 - accuracy: 0.9712\n",
            "Epoch 80/200\n",
            "42/42 [==============================] - 0s 2ms/step - loss: 0.1273 - accuracy: 0.9760\n",
            "Epoch 81/200\n",
            "42/42 [==============================] - 0s 2ms/step - loss: 0.1282 - accuracy: 0.9712\n",
            "Epoch 82/200\n",
            "42/42 [==============================] - 0s 2ms/step - loss: 0.1272 - accuracy: 0.9663\n",
            "Epoch 83/200\n",
            "42/42 [==============================] - 0s 2ms/step - loss: 0.1246 - accuracy: 0.9808\n",
            "Epoch 84/200\n",
            "42/42 [==============================] - 0s 2ms/step - loss: 0.1255 - accuracy: 0.9663\n",
            "Epoch 85/200\n",
            "42/42 [==============================] - 0s 2ms/step - loss: 0.1153 - accuracy: 0.9808\n",
            "Epoch 86/200\n",
            "42/42 [==============================] - 0s 2ms/step - loss: 0.1191 - accuracy: 0.9760\n",
            "Epoch 87/200\n",
            "42/42 [==============================] - 0s 2ms/step - loss: 0.1179 - accuracy: 0.9663\n",
            "Epoch 88/200\n",
            "42/42 [==============================] - 0s 2ms/step - loss: 0.1150 - accuracy: 0.9808\n",
            "Epoch 89/200\n",
            "42/42 [==============================] - 0s 2ms/step - loss: 0.1242 - accuracy: 0.9760\n",
            "Epoch 90/200\n",
            "42/42 [==============================] - 0s 2ms/step - loss: 0.1205 - accuracy: 0.9760\n",
            "Epoch 91/200\n",
            "42/42 [==============================] - 0s 2ms/step - loss: 0.1061 - accuracy: 0.9856\n",
            "Epoch 92/200\n",
            "42/42 [==============================] - 0s 2ms/step - loss: 0.1048 - accuracy: 0.9904\n",
            "Epoch 93/200\n",
            "42/42 [==============================] - 0s 2ms/step - loss: 0.0978 - accuracy: 0.9808\n",
            "Epoch 94/200\n",
            "42/42 [==============================] - 0s 2ms/step - loss: 0.0943 - accuracy: 0.9808\n",
            "Epoch 95/200\n",
            "42/42 [==============================] - 0s 2ms/step - loss: 0.0982 - accuracy: 0.9904\n",
            "Epoch 96/200\n",
            "42/42 [==============================] - 0s 2ms/step - loss: 0.0895 - accuracy: 0.9856\n",
            "Epoch 97/200\n",
            "42/42 [==============================] - 0s 2ms/step - loss: 0.0946 - accuracy: 0.9856\n",
            "Epoch 98/200\n",
            "42/42 [==============================] - 0s 2ms/step - loss: 0.0845 - accuracy: 0.9904\n",
            "Epoch 99/200\n",
            "42/42 [==============================] - 0s 2ms/step - loss: 0.0844 - accuracy: 0.9856\n",
            "Epoch 100/200\n",
            "42/42 [==============================] - 0s 2ms/step - loss: 0.0979 - accuracy: 0.9856\n",
            "Epoch 101/200\n",
            "42/42 [==============================] - 0s 2ms/step - loss: 0.0827 - accuracy: 0.9904\n",
            "Epoch 102/200\n",
            "42/42 [==============================] - 0s 2ms/step - loss: 0.0779 - accuracy: 0.9952\n",
            "Epoch 103/200\n",
            "42/42 [==============================] - 0s 2ms/step - loss: 0.0834 - accuracy: 0.9856\n",
            "Epoch 104/200\n",
            "42/42 [==============================] - 0s 2ms/step - loss: 0.0738 - accuracy: 0.9904\n",
            "Epoch 105/200\n",
            "42/42 [==============================] - 0s 2ms/step - loss: 0.0725 - accuracy: 0.9808\n",
            "Epoch 106/200\n",
            "42/42 [==============================] - 0s 2ms/step - loss: 0.0817 - accuracy: 0.9856\n",
            "Epoch 107/200\n",
            "42/42 [==============================] - 0s 2ms/step - loss: 0.0664 - accuracy: 0.9952\n",
            "Epoch 108/200\n",
            "42/42 [==============================] - 0s 2ms/step - loss: 0.0659 - accuracy: 0.9952\n",
            "Epoch 109/200\n",
            "42/42 [==============================] - 0s 2ms/step - loss: 0.0610 - accuracy: 0.9952\n",
            "Epoch 110/200\n",
            "42/42 [==============================] - 0s 2ms/step - loss: 0.0619 - accuracy: 0.9952\n",
            "Epoch 111/200\n",
            "42/42 [==============================] - 0s 2ms/step - loss: 0.0645 - accuracy: 0.9952\n",
            "Epoch 112/200\n",
            "42/42 [==============================] - 0s 2ms/step - loss: 0.0655 - accuracy: 0.9904\n",
            "Epoch 113/200\n",
            "42/42 [==============================] - 0s 2ms/step - loss: 0.0566 - accuracy: 1.0000\n",
            "Epoch 114/200\n",
            "42/42 [==============================] - 0s 2ms/step - loss: 0.0543 - accuracy: 0.9952\n",
            "Epoch 115/200\n",
            "42/42 [==============================] - 0s 2ms/step - loss: 0.0502 - accuracy: 0.9952\n",
            "Epoch 116/200\n",
            "42/42 [==============================] - 0s 2ms/step - loss: 0.0525 - accuracy: 0.9952\n",
            "Epoch 117/200\n",
            "42/42 [==============================] - 0s 2ms/step - loss: 0.0491 - accuracy: 0.9952\n",
            "Epoch 118/200\n",
            "42/42 [==============================] - 0s 2ms/step - loss: 0.0527 - accuracy: 0.9952\n",
            "Epoch 119/200\n",
            "42/42 [==============================] - 0s 2ms/step - loss: 0.0479 - accuracy: 1.0000\n",
            "Epoch 120/200\n",
            "42/42 [==============================] - 0s 2ms/step - loss: 0.0449 - accuracy: 1.0000\n",
            "Epoch 121/200\n",
            "42/42 [==============================] - 0s 2ms/step - loss: 0.0431 - accuracy: 1.0000\n",
            "Epoch 122/200\n",
            "42/42 [==============================] - 0s 2ms/step - loss: 0.0409 - accuracy: 1.0000\n",
            "Epoch 123/200\n",
            "42/42 [==============================] - 0s 2ms/step - loss: 0.0413 - accuracy: 1.0000\n",
            "Epoch 124/200\n",
            "42/42 [==============================] - 0s 2ms/step - loss: 0.0395 - accuracy: 1.0000\n",
            "Epoch 125/200\n",
            "42/42 [==============================] - 0s 2ms/step - loss: 0.0401 - accuracy: 1.0000\n",
            "Epoch 126/200\n",
            "42/42 [==============================] - 0s 2ms/step - loss: 0.0380 - accuracy: 1.0000\n",
            "Epoch 127/200\n",
            "42/42 [==============================] - 0s 2ms/step - loss: 0.0370 - accuracy: 1.0000\n",
            "Epoch 128/200\n",
            "42/42 [==============================] - 0s 2ms/step - loss: 0.0427 - accuracy: 0.9904\n",
            "Epoch 129/200\n",
            "42/42 [==============================] - 0s 2ms/step - loss: 0.0353 - accuracy: 1.0000\n",
            "Epoch 130/200\n",
            "42/42 [==============================] - 0s 2ms/step - loss: 0.0367 - accuracy: 0.9952\n",
            "Epoch 131/200\n",
            "42/42 [==============================] - 0s 2ms/step - loss: 0.0354 - accuracy: 1.0000\n",
            "Epoch 132/200\n",
            "42/42 [==============================] - 0s 2ms/step - loss: 0.0303 - accuracy: 1.0000\n",
            "Epoch 133/200\n",
            "42/42 [==============================] - 0s 2ms/step - loss: 0.0293 - accuracy: 1.0000\n",
            "Epoch 134/200\n",
            "42/42 [==============================] - 0s 2ms/step - loss: 0.0310 - accuracy: 1.0000\n",
            "Epoch 135/200\n",
            "42/42 [==============================] - 0s 2ms/step - loss: 0.0323 - accuracy: 0.9952\n",
            "Epoch 136/200\n",
            "42/42 [==============================] - 0s 2ms/step - loss: 0.0278 - accuracy: 1.0000\n",
            "Epoch 137/200\n",
            "42/42 [==============================] - 0s 2ms/step - loss: 0.0272 - accuracy: 1.0000\n",
            "Epoch 138/200\n",
            "42/42 [==============================] - 0s 3ms/step - loss: 0.0271 - accuracy: 1.0000\n",
            "Epoch 139/200\n",
            "42/42 [==============================] - 0s 2ms/step - loss: 0.0245 - accuracy: 1.0000\n",
            "Epoch 140/200\n",
            "42/42 [==============================] - 0s 2ms/step - loss: 0.0239 - accuracy: 1.0000\n",
            "Epoch 141/200\n",
            "42/42 [==============================] - 0s 2ms/step - loss: 0.0222 - accuracy: 1.0000\n",
            "Epoch 142/200\n",
            "42/42 [==============================] - 0s 2ms/step - loss: 0.0240 - accuracy: 1.0000\n",
            "Epoch 143/200\n",
            "42/42 [==============================] - 0s 2ms/step - loss: 0.0225 - accuracy: 1.0000\n",
            "Epoch 144/200\n",
            "42/42 [==============================] - 0s 2ms/step - loss: 0.0248 - accuracy: 1.0000\n",
            "Epoch 145/200\n",
            "42/42 [==============================] - 0s 2ms/step - loss: 0.0196 - accuracy: 1.0000\n",
            "Epoch 146/200\n",
            "42/42 [==============================] - 0s 2ms/step - loss: 0.0196 - accuracy: 1.0000\n",
            "Epoch 147/200\n",
            "42/42 [==============================] - 0s 2ms/step - loss: 0.0183 - accuracy: 1.0000\n",
            "Epoch 148/200\n",
            "42/42 [==============================] - 0s 2ms/step - loss: 0.0240 - accuracy: 1.0000\n",
            "Epoch 149/200\n",
            "42/42 [==============================] - 0s 3ms/step - loss: 0.0231 - accuracy: 1.0000\n",
            "Epoch 150/200\n",
            "42/42 [==============================] - 0s 2ms/step - loss: 0.0195 - accuracy: 1.0000\n",
            "Epoch 151/200\n",
            "42/42 [==============================] - 0s 2ms/step - loss: 0.0181 - accuracy: 1.0000\n",
            "Epoch 152/200\n",
            "42/42 [==============================] - 0s 2ms/step - loss: 0.0165 - accuracy: 1.0000\n",
            "Epoch 153/200\n",
            "42/42 [==============================] - 0s 2ms/step - loss: 0.0155 - accuracy: 1.0000\n",
            "Epoch 154/200\n",
            "42/42 [==============================] - 0s 3ms/step - loss: 0.0175 - accuracy: 1.0000\n",
            "Epoch 155/200\n",
            "42/42 [==============================] - 0s 2ms/step - loss: 0.0155 - accuracy: 1.0000\n",
            "Epoch 156/200\n",
            "42/42 [==============================] - 0s 3ms/step - loss: 0.0170 - accuracy: 1.0000\n",
            "Epoch 157/200\n",
            "42/42 [==============================] - 0s 2ms/step - loss: 0.0153 - accuracy: 1.0000\n",
            "Epoch 158/200\n",
            "42/42 [==============================] - 0s 2ms/step - loss: 0.0139 - accuracy: 1.0000\n",
            "Epoch 159/200\n",
            "42/42 [==============================] - 0s 2ms/step - loss: 0.0130 - accuracy: 1.0000\n",
            "Epoch 160/200\n",
            "42/42 [==============================] - 0s 2ms/step - loss: 0.0135 - accuracy: 1.0000\n",
            "Epoch 161/200\n",
            "42/42 [==============================] - 0s 2ms/step - loss: 0.0123 - accuracy: 1.0000\n",
            "Epoch 162/200\n",
            "42/42 [==============================] - 0s 2ms/step - loss: 0.0120 - accuracy: 1.0000\n",
            "Epoch 163/200\n",
            "42/42 [==============================] - 0s 2ms/step - loss: 0.0125 - accuracy: 1.0000\n",
            "Epoch 164/200\n",
            "42/42 [==============================] - 0s 2ms/step - loss: 0.0132 - accuracy: 1.0000\n",
            "Epoch 165/200\n",
            "42/42 [==============================] - 0s 2ms/step - loss: 0.0117 - accuracy: 1.0000\n",
            "Epoch 166/200\n",
            "42/42 [==============================] - 0s 2ms/step - loss: 0.0110 - accuracy: 1.0000\n",
            "Epoch 167/200\n",
            "42/42 [==============================] - 0s 2ms/step - loss: 0.0105 - accuracy: 1.0000\n",
            "Epoch 168/200\n",
            "42/42 [==============================] - 0s 2ms/step - loss: 0.0109 - accuracy: 1.0000\n",
            "Epoch 169/200\n",
            "42/42 [==============================] - 0s 2ms/step - loss: 0.0106 - accuracy: 1.0000\n",
            "Epoch 170/200\n",
            "42/42 [==============================] - 0s 2ms/step - loss: 0.0095 - accuracy: 1.0000\n",
            "Epoch 171/200\n",
            "42/42 [==============================] - 0s 2ms/step - loss: 0.0088 - accuracy: 1.0000\n",
            "Epoch 172/200\n",
            "42/42 [==============================] - 0s 2ms/step - loss: 0.0093 - accuracy: 1.0000\n",
            "Epoch 173/200\n",
            "42/42 [==============================] - 0s 2ms/step - loss: 0.0083 - accuracy: 1.0000\n",
            "Epoch 174/200\n",
            "42/42 [==============================] - 0s 3ms/step - loss: 0.0080 - accuracy: 1.0000\n",
            "Epoch 175/200\n",
            "42/42 [==============================] - 0s 3ms/step - loss: 0.0078 - accuracy: 1.0000\n",
            "Epoch 176/200\n",
            "42/42 [==============================] - 0s 2ms/step - loss: 0.0076 - accuracy: 1.0000\n",
            "Epoch 177/200\n",
            "42/42 [==============================] - 0s 2ms/step - loss: 0.0082 - accuracy: 1.0000\n",
            "Epoch 178/200\n",
            "42/42 [==============================] - 0s 2ms/step - loss: 0.0072 - accuracy: 1.0000\n",
            "Epoch 179/200\n",
            "42/42 [==============================] - 0s 2ms/step - loss: 0.0090 - accuracy: 1.0000\n",
            "Epoch 180/200\n",
            "42/42 [==============================] - 0s 2ms/step - loss: 0.0071 - accuracy: 1.0000\n",
            "Epoch 181/200\n",
            "42/42 [==============================] - 0s 2ms/step - loss: 0.0070 - accuracy: 1.0000\n",
            "Epoch 182/200\n",
            "42/42 [==============================] - 0s 2ms/step - loss: 0.0072 - accuracy: 1.0000\n",
            "Epoch 183/200\n",
            "42/42 [==============================] - 0s 3ms/step - loss: 0.0060 - accuracy: 1.0000\n",
            "Epoch 184/200\n",
            "42/42 [==============================] - 0s 2ms/step - loss: 0.0060 - accuracy: 1.0000\n",
            "Epoch 185/200\n",
            "42/42 [==============================] - 0s 2ms/step - loss: 0.0060 - accuracy: 1.0000\n",
            "Epoch 186/200\n",
            "42/42 [==============================] - 0s 2ms/step - loss: 0.0057 - accuracy: 1.0000\n",
            "Epoch 187/200\n",
            "42/42 [==============================] - 0s 2ms/step - loss: 0.0058 - accuracy: 1.0000\n",
            "Epoch 188/200\n",
            "42/42 [==============================] - 0s 2ms/step - loss: 0.0072 - accuracy: 1.0000\n",
            "Epoch 189/200\n",
            "42/42 [==============================] - 0s 2ms/step - loss: 0.0064 - accuracy: 1.0000\n",
            "Epoch 190/200\n",
            "42/42 [==============================] - 0s 2ms/step - loss: 0.0048 - accuracy: 1.0000\n",
            "Epoch 191/200\n",
            "42/42 [==============================] - 0s 2ms/step - loss: 0.0055 - accuracy: 1.0000\n",
            "Epoch 192/200\n",
            "42/42 [==============================] - 0s 3ms/step - loss: 0.0050 - accuracy: 1.0000\n",
            "Epoch 193/200\n",
            "42/42 [==============================] - 0s 2ms/step - loss: 0.0047 - accuracy: 1.0000\n",
            "Epoch 194/200\n",
            "42/42 [==============================] - 0s 2ms/step - loss: 0.0047 - accuracy: 1.0000\n",
            "Epoch 195/200\n",
            "42/42 [==============================] - 0s 2ms/step - loss: 0.0049 - accuracy: 1.0000\n",
            "Epoch 196/200\n",
            "42/42 [==============================] - 0s 2ms/step - loss: 0.0050 - accuracy: 1.0000\n",
            "Epoch 197/200\n",
            "42/42 [==============================] - 0s 2ms/step - loss: 0.0058 - accuracy: 1.0000\n",
            "Epoch 198/200\n",
            "42/42 [==============================] - 0s 2ms/step - loss: 0.0044 - accuracy: 1.0000\n",
            "Epoch 199/200\n",
            "42/42 [==============================] - 0s 2ms/step - loss: 0.0036 - accuracy: 1.0000\n",
            "Epoch 200/200\n",
            "42/42 [==============================] - 0s 2ms/step - loss: 0.0050 - accuracy: 1.0000\n"
          ]
        },
        {
          "output_type": "execute_result",
          "data": {
            "text/plain": [
              "<keras.callbacks.History at 0x7f2deb926f50>"
            ]
          },
          "metadata": {},
          "execution_count": 120
        }
      ]
    },
    {
      "cell_type": "code",
      "source": [
        "model.evaluate(X, Y_e)"
      ],
      "metadata": {
        "colab": {
          "base_uri": "https://localhost:8080/"
        },
        "id": "-rcVYSt6Z8rz",
        "outputId": "c13fa398-d260-45c8-9559-1d17e9de0793"
      },
      "execution_count": null,
      "outputs": [
        {
          "output_type": "stream",
          "name": "stdout",
          "text": [
            "7/7 [==============================] - 0s 3ms/step - loss: 0.0036 - accuracy: 1.0000\n"
          ]
        },
        {
          "output_type": "execute_result",
          "data": {
            "text/plain": [
              "[0.0036262236535549164, 1.0]"
            ]
          },
          "metadata": {},
          "execution_count": 121
        }
      ]
    },
    {
      "cell_type": "code",
      "source": [
        "from sklearn.model_selection import train_test_split\n"
      ],
      "metadata": {
        "id": "V5-ftE4Afrno"
      },
      "execution_count": null,
      "outputs": []
    },
    {
      "cell_type": "code",
      "source": [
        "X_train, X_test, Y_e_train, Y_e_test = train_test_split(X,Y_e, test_size = 0.3)"
      ],
      "metadata": {
        "id": "xd65adUYfxIR"
      },
      "execution_count": null,
      "outputs": []
    },
    {
      "cell_type": "code",
      "source": [
        "print(X_train.shape)\n",
        "print(X_test.shape)"
      ],
      "metadata": {
        "colab": {
          "base_uri": "https://localhost:8080/"
        },
        "id": "fYRc1tlTfwnt",
        "outputId": "71abae13-f7b6-4aef-c856-b4a5a83ba699"
      },
      "execution_count": null,
      "outputs": [
        {
          "output_type": "stream",
          "name": "stdout",
          "text": [
            "(145, 60)\n",
            "(63, 60)\n"
          ]
        }
      ]
    },
    {
      "cell_type": "code",
      "source": [
        "model = keras.Sequential()\n",
        "model.add(keras.layers.Dense(24, input_dim = 60, activation = 'relu'))\n",
        "model.add(keras.layers.Dense(10, activation = 'relu'))\n",
        "model.add(keras.layers.Dense(1, activation = 'sigmoid'))\n",
        "\n",
        "model.summary()"
      ],
      "metadata": {
        "colab": {
          "base_uri": "https://localhost:8080/"
        },
        "id": "t5ixamgkgIBc",
        "outputId": "518581c2-9cf7-425f-f8ce-c47215bf2ae5"
      },
      "execution_count": null,
      "outputs": [
        {
          "output_type": "stream",
          "name": "stdout",
          "text": [
            "Model: \"sequential_11\"\n",
            "_________________________________________________________________\n",
            " Layer (type)                Output Shape              Param #   \n",
            "=================================================================\n",
            " dense_30 (Dense)            (None, 24)                1464      \n",
            "                                                                 \n",
            " dense_31 (Dense)            (None, 10)                250       \n",
            "                                                                 \n",
            " dense_32 (Dense)            (None, 1)                 11        \n",
            "                                                                 \n",
            "=================================================================\n",
            "Total params: 1,725\n",
            "Trainable params: 1,725\n",
            "Non-trainable params: 0\n",
            "_________________________________________________________________\n"
          ]
        }
      ]
    },
    {
      "cell_type": "code",
      "source": [
        "print(X_train.dtype)\n",
        "print(Y_e_train.dtype)"
      ],
      "metadata": {
        "colab": {
          "base_uri": "https://localhost:8080/"
        },
        "id": "eVYQwC19l849",
        "outputId": "7e894e37-e893-4408-dfcc-854310d41c1b"
      },
      "execution_count": null,
      "outputs": [
        {
          "output_type": "stream",
          "name": "stdout",
          "text": [
            "float32\n",
            "int64\n"
          ]
        }
      ]
    },
    {
      "cell_type": "code",
      "source": [
        "model.compile(loss = 'binary_crossentropy',\n",
        "              optimizer = 'adam',\n",
        "              metrics = ['accuracy'])\n",
        "\n",
        "model.fit(X_train, Y_e_train, epochs = 130, batch_size = 5)"
      ],
      "metadata": {
        "colab": {
          "base_uri": "https://localhost:8080/"
        },
        "id": "oMz02fsCgiDl",
        "outputId": "c7cd44fa-0e90-4fc4-f85f-e9e82a0e8a04"
      },
      "execution_count": null,
      "outputs": [
        {
          "output_type": "stream",
          "name": "stdout",
          "text": [
            "Epoch 1/130\n",
            "29/29 [==============================] - 0s 2ms/step - loss: 0.6959 - accuracy: 0.5379\n",
            "Epoch 2/130\n",
            "29/29 [==============================] - 0s 2ms/step - loss: 0.6869 - accuracy: 0.5379\n",
            "Epoch 3/130\n",
            "29/29 [==============================] - 0s 2ms/step - loss: 0.6733 - accuracy: 0.5448\n",
            "Epoch 4/130\n",
            "29/29 [==============================] - 0s 2ms/step - loss: 0.6601 - accuracy: 0.6000\n",
            "Epoch 5/130\n",
            "29/29 [==============================] - 0s 2ms/step - loss: 0.6470 - accuracy: 0.6069\n",
            "Epoch 6/130\n",
            "29/29 [==============================] - 0s 2ms/step - loss: 0.6310 - accuracy: 0.7241\n",
            "Epoch 7/130\n",
            "29/29 [==============================] - 0s 2ms/step - loss: 0.6141 - accuracy: 0.7241\n",
            "Epoch 8/130\n",
            "29/29 [==============================] - 0s 2ms/step - loss: 0.5931 - accuracy: 0.7724\n",
            "Epoch 9/130\n",
            "29/29 [==============================] - 0s 3ms/step - loss: 0.5756 - accuracy: 0.7655\n",
            "Epoch 10/130\n",
            "29/29 [==============================] - 0s 2ms/step - loss: 0.5599 - accuracy: 0.7793\n",
            "Epoch 11/130\n",
            "29/29 [==============================] - 0s 2ms/step - loss: 0.5411 - accuracy: 0.7586\n",
            "Epoch 12/130\n",
            "29/29 [==============================] - 0s 2ms/step - loss: 0.5339 - accuracy: 0.7448\n",
            "Epoch 13/130\n",
            "29/29 [==============================] - 0s 2ms/step - loss: 0.5134 - accuracy: 0.7862\n",
            "Epoch 14/130\n",
            "29/29 [==============================] - 0s 2ms/step - loss: 0.5070 - accuracy: 0.8069\n",
            "Epoch 15/130\n",
            "29/29 [==============================] - 0s 2ms/step - loss: 0.4859 - accuracy: 0.8000\n",
            "Epoch 16/130\n",
            "29/29 [==============================] - 0s 2ms/step - loss: 0.4904 - accuracy: 0.7655\n",
            "Epoch 17/130\n",
            "29/29 [==============================] - 0s 2ms/step - loss: 0.4913 - accuracy: 0.7448\n",
            "Epoch 18/130\n",
            "29/29 [==============================] - 0s 2ms/step - loss: 0.4592 - accuracy: 0.8069\n",
            "Epoch 19/130\n",
            "29/29 [==============================] - 0s 2ms/step - loss: 0.4494 - accuracy: 0.7793\n",
            "Epoch 20/130\n",
            "29/29 [==============================] - 0s 2ms/step - loss: 0.4369 - accuracy: 0.8207\n",
            "Epoch 21/130\n",
            "29/29 [==============================] - 0s 2ms/step - loss: 0.4417 - accuracy: 0.7931\n",
            "Epoch 22/130\n",
            "29/29 [==============================] - 0s 2ms/step - loss: 0.4268 - accuracy: 0.8414\n",
            "Epoch 23/130\n",
            "29/29 [==============================] - 0s 2ms/step - loss: 0.4159 - accuracy: 0.7931\n",
            "Epoch 24/130\n",
            "29/29 [==============================] - 0s 2ms/step - loss: 0.4141 - accuracy: 0.8138\n",
            "Epoch 25/130\n",
            "29/29 [==============================] - 0s 2ms/step - loss: 0.4156 - accuracy: 0.8345\n",
            "Epoch 26/130\n",
            "29/29 [==============================] - 0s 2ms/step - loss: 0.4035 - accuracy: 0.8414\n",
            "Epoch 27/130\n",
            "29/29 [==============================] - 0s 2ms/step - loss: 0.3933 - accuracy: 0.8483\n",
            "Epoch 28/130\n",
            "29/29 [==============================] - 0s 2ms/step - loss: 0.3853 - accuracy: 0.8207\n",
            "Epoch 29/130\n",
            "29/29 [==============================] - 0s 2ms/step - loss: 0.3782 - accuracy: 0.8483\n",
            "Epoch 30/130\n",
            "29/29 [==============================] - 0s 2ms/step - loss: 0.3722 - accuracy: 0.8483\n",
            "Epoch 31/130\n",
            "29/29 [==============================] - 0s 2ms/step - loss: 0.3679 - accuracy: 0.8276\n",
            "Epoch 32/130\n",
            "29/29 [==============================] - 0s 2ms/step - loss: 0.3666 - accuracy: 0.8345\n",
            "Epoch 33/130\n",
            "29/29 [==============================] - 0s 2ms/step - loss: 0.3604 - accuracy: 0.8552\n",
            "Epoch 34/130\n",
            "29/29 [==============================] - 0s 2ms/step - loss: 0.3522 - accuracy: 0.8552\n",
            "Epoch 35/130\n",
            "29/29 [==============================] - 0s 2ms/step - loss: 0.3469 - accuracy: 0.8414\n",
            "Epoch 36/130\n",
            "29/29 [==============================] - 0s 2ms/step - loss: 0.3351 - accuracy: 0.8414\n",
            "Epoch 37/130\n",
            "29/29 [==============================] - 0s 2ms/step - loss: 0.3470 - accuracy: 0.8483\n",
            "Epoch 38/130\n",
            "29/29 [==============================] - 0s 2ms/step - loss: 0.3323 - accuracy: 0.8690\n",
            "Epoch 39/130\n",
            "29/29 [==============================] - 0s 2ms/step - loss: 0.3311 - accuracy: 0.8483\n",
            "Epoch 40/130\n",
            "29/29 [==============================] - 0s 2ms/step - loss: 0.3285 - accuracy: 0.8690\n",
            "Epoch 41/130\n",
            "29/29 [==============================] - 0s 2ms/step - loss: 0.3508 - accuracy: 0.8207\n",
            "Epoch 42/130\n",
            "29/29 [==============================] - 0s 2ms/step - loss: 0.3117 - accuracy: 0.8759\n",
            "Epoch 43/130\n",
            "29/29 [==============================] - 0s 2ms/step - loss: 0.3183 - accuracy: 0.8621\n",
            "Epoch 44/130\n",
            "29/29 [==============================] - 0s 2ms/step - loss: 0.3168 - accuracy: 0.8690\n",
            "Epoch 45/130\n",
            "29/29 [==============================] - 0s 2ms/step - loss: 0.3133 - accuracy: 0.8690\n",
            "Epoch 46/130\n",
            "29/29 [==============================] - 0s 2ms/step - loss: 0.3104 - accuracy: 0.8828\n",
            "Epoch 47/130\n",
            "29/29 [==============================] - 0s 2ms/step - loss: 0.3000 - accuracy: 0.8828\n",
            "Epoch 48/130\n",
            "29/29 [==============================] - 0s 2ms/step - loss: 0.2879 - accuracy: 0.8759\n",
            "Epoch 49/130\n",
            "29/29 [==============================] - 0s 2ms/step - loss: 0.2995 - accuracy: 0.8828\n",
            "Epoch 50/130\n",
            "29/29 [==============================] - 0s 2ms/step - loss: 0.2955 - accuracy: 0.8759\n",
            "Epoch 51/130\n",
            "29/29 [==============================] - 0s 2ms/step - loss: 0.2883 - accuracy: 0.8828\n",
            "Epoch 52/130\n",
            "29/29 [==============================] - 0s 2ms/step - loss: 0.2831 - accuracy: 0.9034\n",
            "Epoch 53/130\n",
            "29/29 [==============================] - 0s 2ms/step - loss: 0.2754 - accuracy: 0.9103\n",
            "Epoch 54/130\n",
            "29/29 [==============================] - 0s 2ms/step - loss: 0.2814 - accuracy: 0.8828\n",
            "Epoch 55/130\n",
            "29/29 [==============================] - 0s 2ms/step - loss: 0.2760 - accuracy: 0.9034\n",
            "Epoch 56/130\n",
            "29/29 [==============================] - 0s 2ms/step - loss: 0.2699 - accuracy: 0.8690\n",
            "Epoch 57/130\n",
            "29/29 [==============================] - 0s 2ms/step - loss: 0.2626 - accuracy: 0.9034\n",
            "Epoch 58/130\n",
            "29/29 [==============================] - 0s 2ms/step - loss: 0.2608 - accuracy: 0.8966\n",
            "Epoch 59/130\n",
            "29/29 [==============================] - 0s 2ms/step - loss: 0.2597 - accuracy: 0.8759\n",
            "Epoch 60/130\n",
            "29/29 [==============================] - 0s 2ms/step - loss: 0.2491 - accuracy: 0.9172\n",
            "Epoch 61/130\n",
            "29/29 [==============================] - 0s 2ms/step - loss: 0.2513 - accuracy: 0.8897\n",
            "Epoch 62/130\n",
            "29/29 [==============================] - 0s 2ms/step - loss: 0.2421 - accuracy: 0.9172\n",
            "Epoch 63/130\n",
            "29/29 [==============================] - 0s 2ms/step - loss: 0.2514 - accuracy: 0.9103\n",
            "Epoch 64/130\n",
            "29/29 [==============================] - 0s 2ms/step - loss: 0.2583 - accuracy: 0.8897\n",
            "Epoch 65/130\n",
            "29/29 [==============================] - 0s 2ms/step - loss: 0.2302 - accuracy: 0.9241\n",
            "Epoch 66/130\n",
            "29/29 [==============================] - 0s 2ms/step - loss: 0.2455 - accuracy: 0.9103\n",
            "Epoch 67/130\n",
            "29/29 [==============================] - 0s 2ms/step - loss: 0.2396 - accuracy: 0.9172\n",
            "Epoch 68/130\n",
            "29/29 [==============================] - 0s 2ms/step - loss: 0.2362 - accuracy: 0.9034\n",
            "Epoch 69/130\n",
            "29/29 [==============================] - 0s 2ms/step - loss: 0.2269 - accuracy: 0.9241\n",
            "Epoch 70/130\n",
            "29/29 [==============================] - 0s 2ms/step - loss: 0.2249 - accuracy: 0.9172\n",
            "Epoch 71/130\n",
            "29/29 [==============================] - 0s 2ms/step - loss: 0.2193 - accuracy: 0.9310\n",
            "Epoch 72/130\n",
            "29/29 [==============================] - 0s 2ms/step - loss: 0.2375 - accuracy: 0.8966\n",
            "Epoch 73/130\n",
            "29/29 [==============================] - 0s 2ms/step - loss: 0.2188 - accuracy: 0.9241\n",
            "Epoch 74/130\n",
            "29/29 [==============================] - 0s 2ms/step - loss: 0.2217 - accuracy: 0.9172\n",
            "Epoch 75/130\n",
            "29/29 [==============================] - 0s 2ms/step - loss: 0.2407 - accuracy: 0.9172\n",
            "Epoch 76/130\n",
            "29/29 [==============================] - 0s 2ms/step - loss: 0.2201 - accuracy: 0.9034\n",
            "Epoch 77/130\n",
            "29/29 [==============================] - 0s 2ms/step - loss: 0.2060 - accuracy: 0.9241\n",
            "Epoch 78/130\n",
            "29/29 [==============================] - 0s 2ms/step - loss: 0.2138 - accuracy: 0.9103\n",
            "Epoch 79/130\n",
            "29/29 [==============================] - 0s 2ms/step - loss: 0.2122 - accuracy: 0.8966\n",
            "Epoch 80/130\n",
            "29/29 [==============================] - 0s 2ms/step - loss: 0.2063 - accuracy: 0.9241\n",
            "Epoch 81/130\n",
            "29/29 [==============================] - 0s 2ms/step - loss: 0.1966 - accuracy: 0.9310\n",
            "Epoch 82/130\n",
            "29/29 [==============================] - 0s 2ms/step - loss: 0.2019 - accuracy: 0.9241\n",
            "Epoch 83/130\n",
            "29/29 [==============================] - 0s 2ms/step - loss: 0.1912 - accuracy: 0.9448\n",
            "Epoch 84/130\n",
            "29/29 [==============================] - 0s 2ms/step - loss: 0.1952 - accuracy: 0.9241\n",
            "Epoch 85/130\n",
            "29/29 [==============================] - 0s 3ms/step - loss: 0.1901 - accuracy: 0.9172\n",
            "Epoch 86/130\n",
            "29/29 [==============================] - 0s 2ms/step - loss: 0.2033 - accuracy: 0.9103\n",
            "Epoch 87/130\n",
            "29/29 [==============================] - 0s 2ms/step - loss: 0.2016 - accuracy: 0.9310\n",
            "Epoch 88/130\n",
            "29/29 [==============================] - 0s 2ms/step - loss: 0.1813 - accuracy: 0.9379\n",
            "Epoch 89/130\n",
            "29/29 [==============================] - 0s 2ms/step - loss: 0.1860 - accuracy: 0.9448\n",
            "Epoch 90/130\n",
            "29/29 [==============================] - 0s 2ms/step - loss: 0.1751 - accuracy: 0.9517\n",
            "Epoch 91/130\n",
            "29/29 [==============================] - 0s 2ms/step - loss: 0.1836 - accuracy: 0.9310\n",
            "Epoch 92/130\n",
            "29/29 [==============================] - 0s 2ms/step - loss: 0.1718 - accuracy: 0.9448\n",
            "Epoch 93/130\n",
            "29/29 [==============================] - 0s 2ms/step - loss: 0.1711 - accuracy: 0.9379\n",
            "Epoch 94/130\n",
            "29/29 [==============================] - 0s 2ms/step - loss: 0.1740 - accuracy: 0.9448\n",
            "Epoch 95/130\n",
            "29/29 [==============================] - 0s 2ms/step - loss: 0.1691 - accuracy: 0.9517\n",
            "Epoch 96/130\n",
            "29/29 [==============================] - 0s 2ms/step - loss: 0.1705 - accuracy: 0.9379\n",
            "Epoch 97/130\n",
            "29/29 [==============================] - 0s 2ms/step - loss: 0.1733 - accuracy: 0.9448\n",
            "Epoch 98/130\n",
            "29/29 [==============================] - 0s 2ms/step - loss: 0.1657 - accuracy: 0.9517\n",
            "Epoch 99/130\n",
            "29/29 [==============================] - 0s 2ms/step - loss: 0.1563 - accuracy: 0.9517\n",
            "Epoch 100/130\n",
            "29/29 [==============================] - 0s 2ms/step - loss: 0.1726 - accuracy: 0.9241\n",
            "Epoch 101/130\n",
            "29/29 [==============================] - 0s 2ms/step - loss: 0.1584 - accuracy: 0.9586\n",
            "Epoch 102/130\n",
            "29/29 [==============================] - 0s 2ms/step - loss: 0.1546 - accuracy: 0.9586\n",
            "Epoch 103/130\n",
            "29/29 [==============================] - 0s 2ms/step - loss: 0.1542 - accuracy: 0.9517\n",
            "Epoch 104/130\n",
            "29/29 [==============================] - 0s 2ms/step - loss: 0.1463 - accuracy: 0.9586\n",
            "Epoch 105/130\n",
            "29/29 [==============================] - 0s 2ms/step - loss: 0.1513 - accuracy: 0.9379\n",
            "Epoch 106/130\n",
            "29/29 [==============================] - 0s 2ms/step - loss: 0.1525 - accuracy: 0.9448\n",
            "Epoch 107/130\n",
            "29/29 [==============================] - 0s 2ms/step - loss: 0.1415 - accuracy: 0.9517\n",
            "Epoch 108/130\n",
            "29/29 [==============================] - 0s 2ms/step - loss: 0.1573 - accuracy: 0.9379\n",
            "Epoch 109/130\n",
            "29/29 [==============================] - 0s 2ms/step - loss: 0.1495 - accuracy: 0.9448\n",
            "Epoch 110/130\n",
            "29/29 [==============================] - 0s 2ms/step - loss: 0.1494 - accuracy: 0.9310\n",
            "Epoch 111/130\n",
            "29/29 [==============================] - 0s 2ms/step - loss: 0.1448 - accuracy: 0.9517\n",
            "Epoch 112/130\n",
            "29/29 [==============================] - 0s 2ms/step - loss: 0.1450 - accuracy: 0.9310\n",
            "Epoch 113/130\n",
            "29/29 [==============================] - 0s 2ms/step - loss: 0.1439 - accuracy: 0.9448\n",
            "Epoch 114/130\n",
            "29/29 [==============================] - 0s 2ms/step - loss: 0.1371 - accuracy: 0.9586\n",
            "Epoch 115/130\n",
            "29/29 [==============================] - 0s 2ms/step - loss: 0.1349 - accuracy: 0.9379\n",
            "Epoch 116/130\n",
            "29/29 [==============================] - 0s 2ms/step - loss: 0.1258 - accuracy: 0.9655\n",
            "Epoch 117/130\n",
            "29/29 [==============================] - 0s 2ms/step - loss: 0.1243 - accuracy: 0.9655\n",
            "Epoch 118/130\n",
            "29/29 [==============================] - 0s 2ms/step - loss: 0.1217 - accuracy: 0.9724\n",
            "Epoch 119/130\n",
            "29/29 [==============================] - 0s 2ms/step - loss: 0.1290 - accuracy: 0.9586\n",
            "Epoch 120/130\n",
            "29/29 [==============================] - 0s 2ms/step - loss: 0.1236 - accuracy: 0.9655\n",
            "Epoch 121/130\n",
            "29/29 [==============================] - 0s 2ms/step - loss: 0.1335 - accuracy: 0.9655\n",
            "Epoch 122/130\n",
            "29/29 [==============================] - 0s 2ms/step - loss: 0.1312 - accuracy: 0.9586\n",
            "Epoch 123/130\n",
            "29/29 [==============================] - 0s 2ms/step - loss: 0.1131 - accuracy: 0.9793\n",
            "Epoch 124/130\n",
            "29/29 [==============================] - 0s 2ms/step - loss: 0.1110 - accuracy: 0.9724\n",
            "Epoch 125/130\n",
            "29/29 [==============================] - 0s 2ms/step - loss: 0.1123 - accuracy: 0.9724\n",
            "Epoch 126/130\n",
            "29/29 [==============================] - 0s 2ms/step - loss: 0.1240 - accuracy: 0.9517\n",
            "Epoch 127/130\n",
            "29/29 [==============================] - 0s 2ms/step - loss: 0.1074 - accuracy: 0.9586\n",
            "Epoch 128/130\n",
            "29/29 [==============================] - 0s 2ms/step - loss: 0.1083 - accuracy: 0.9793\n",
            "Epoch 129/130\n",
            "29/29 [==============================] - 0s 2ms/step - loss: 0.1278 - accuracy: 0.9724\n",
            "Epoch 130/130\n",
            "29/29 [==============================] - 0s 2ms/step - loss: 0.1021 - accuracy: 0.9862\n"
          ]
        },
        {
          "output_type": "execute_result",
          "data": {
            "text/plain": [
              "<keras.callbacks.History at 0x7f2dec207850>"
            ]
          },
          "metadata": {},
          "execution_count": 140
        }
      ]
    },
    {
      "cell_type": "code",
      "source": [
        "#모델 저장하기\n",
        "model.save('my_model.h5')"
      ],
      "metadata": {
        "id": "bwjwQWO9giIV"
      },
      "execution_count": null,
      "outputs": []
    },
    {
      "cell_type": "code",
      "source": [
        "model_re = keras.models.load_model('my_model.h5')"
      ],
      "metadata": {
        "id": "vEus0ZJfgkfS"
      },
      "execution_count": null,
      "outputs": []
    },
    {
      "cell_type": "code",
      "source": [
        "model_re.evaluate(X_test, Y_e_test)[1]"
      ],
      "metadata": {
        "colab": {
          "base_uri": "https://localhost:8080/"
        },
        "id": "CgEaax4dgkSV",
        "outputId": "2d1a97fc-86f7-4543-f528-50594228d36e"
      },
      "execution_count": null,
      "outputs": [
        {
          "output_type": "stream",
          "name": "stdout",
          "text": [
            "2/2 [==============================] - 0s 7ms/step - loss: 0.7033 - accuracy: 0.5238\n"
          ]
        },
        {
          "output_type": "execute_result",
          "data": {
            "text/plain": [
              "0.523809552192688"
            ]
          },
          "metadata": {},
          "execution_count": 141
        }
      ]
    },
    {
      "cell_type": "code",
      "source": [
        "from sklearn.model_selection import StratifiedKFold\n",
        "\n",
        "n_fold = 10\n",
        "skf = StratifiedKFold(n_splits = n_fold, shuffle = True, random_state = 0)"
      ],
      "metadata": {
        "id": "XeXc8L1ogkOE"
      },
      "execution_count": null,
      "outputs": []
    },
    {
      "cell_type": "code",
      "source": [
        "accuracy = []\n",
        "\n",
        "for train, test in skf.split(X,Y_e):\n",
        "  model = keras.Sequential()\n",
        "  model.add(keras.layers.Dense(24, input_dim = 60, activation = 'relu'))\n",
        "  model.add(keras.layers.Dense(10, activation = 'relu'))\n",
        "  model.add(keras.layers.Dense(1, activation = 'sigmoid'))\n",
        "  model.compile(loss = 'binary_crossentropy',\n",
        "                optimizer = 'adam',\n",
        "                metrics = 'accuracy')\n",
        "  \n",
        "  model.fit(X[train], Y_e[train], epochs = 10, batch_size = 5)\n",
        "  k_accuracy = model.evaluate(X[test], Y_e[test])[1]\n",
        "  print(k_accuracy)\n",
        "  accuracy.append(k_accuracy)\n",
        "\n"
      ],
      "metadata": {
        "colab": {
          "base_uri": "https://localhost:8080/"
        },
        "id": "ywZuAWktigU0",
        "outputId": "09125455-ca26-4055-dba5-ef21086dda18"
      },
      "execution_count": null,
      "outputs": [
        {
          "output_type": "stream",
          "name": "stdout",
          "text": [
            "Epoch 1/10\n",
            "38/38 [==============================] - 1s 4ms/step - loss: 0.6973 - accuracy: 0.5294\n",
            "Epoch 2/10\n",
            "38/38 [==============================] - 0s 6ms/step - loss: 0.6639 - accuracy: 0.5775\n",
            "Epoch 3/10\n",
            "38/38 [==============================] - 0s 5ms/step - loss: 0.6473 - accuracy: 0.6952\n",
            "Epoch 4/10\n",
            "38/38 [==============================] - 0s 4ms/step - loss: 0.6277 - accuracy: 0.7166\n",
            "Epoch 5/10\n",
            "38/38 [==============================] - 0s 5ms/step - loss: 0.6127 - accuracy: 0.6845\n",
            "Epoch 6/10\n",
            "38/38 [==============================] - 0s 4ms/step - loss: 0.5894 - accuracy: 0.7647\n",
            "Epoch 7/10\n",
            "38/38 [==============================] - 0s 5ms/step - loss: 0.5649 - accuracy: 0.7540\n",
            "Epoch 8/10\n",
            "38/38 [==============================] - 0s 4ms/step - loss: 0.5413 - accuracy: 0.7540\n",
            "Epoch 9/10\n",
            "38/38 [==============================] - 0s 4ms/step - loss: 0.5163 - accuracy: 0.7861\n",
            "Epoch 10/10\n",
            "38/38 [==============================] - 0s 4ms/step - loss: 0.4905 - accuracy: 0.7914\n",
            "1/1 [==============================] - 0s 262ms/step - loss: 0.7274 - accuracy: 0.6190\n",
            "0.6190476417541504\n",
            "Epoch 1/10\n",
            "38/38 [==============================] - 1s 2ms/step - loss: 0.6788 - accuracy: 0.5561\n",
            "Epoch 2/10\n",
            "38/38 [==============================] - 0s 2ms/step - loss: 0.6699 - accuracy: 0.5668\n",
            "Epoch 3/10\n",
            "38/38 [==============================] - 0s 2ms/step - loss: 0.6574 - accuracy: 0.6738\n",
            "Epoch 4/10\n",
            "38/38 [==============================] - 0s 2ms/step - loss: 0.6480 - accuracy: 0.6471\n",
            "Epoch 5/10\n",
            "38/38 [==============================] - 0s 2ms/step - loss: 0.6319 - accuracy: 0.7433\n",
            "Epoch 6/10\n",
            "38/38 [==============================] - 0s 2ms/step - loss: 0.6197 - accuracy: 0.7380\n",
            "Epoch 7/10\n",
            "38/38 [==============================] - 0s 2ms/step - loss: 0.6041 - accuracy: 0.7326\n",
            "Epoch 8/10\n",
            "38/38 [==============================] - 0s 2ms/step - loss: 0.5905 - accuracy: 0.7219\n",
            "Epoch 9/10\n",
            "38/38 [==============================] - 0s 2ms/step - loss: 0.5762 - accuracy: 0.7754\n",
            "Epoch 10/10\n",
            "38/38 [==============================] - 0s 2ms/step - loss: 0.5543 - accuracy: 0.7807\n",
            "1/1 [==============================] - 0s 126ms/step - loss: 0.5130 - accuracy: 0.7619\n",
            "0.761904776096344\n",
            "Epoch 1/10\n",
            "38/38 [==============================] - 1s 2ms/step - loss: 0.6837 - accuracy: 0.5936\n",
            "Epoch 2/10\n",
            "38/38 [==============================] - 0s 2ms/step - loss: 0.6555 - accuracy: 0.6364\n",
            "Epoch 3/10\n",
            "38/38 [==============================] - 0s 2ms/step - loss: 0.6355 - accuracy: 0.7540\n",
            "Epoch 4/10\n",
            "38/38 [==============================] - 0s 3ms/step - loss: 0.6086 - accuracy: 0.7433\n",
            "Epoch 5/10\n",
            "38/38 [==============================] - 0s 2ms/step - loss: 0.5845 - accuracy: 0.7166\n",
            "Epoch 6/10\n",
            "38/38 [==============================] - 0s 2ms/step - loss: 0.5619 - accuracy: 0.7540\n",
            "Epoch 7/10\n",
            "38/38 [==============================] - 0s 2ms/step - loss: 0.5382 - accuracy: 0.7647\n",
            "Epoch 8/10\n",
            "38/38 [==============================] - 0s 2ms/step - loss: 0.5260 - accuracy: 0.7540\n",
            "Epoch 9/10\n",
            "38/38 [==============================] - 0s 2ms/step - loss: 0.5031 - accuracy: 0.7487\n",
            "Epoch 10/10\n",
            "38/38 [==============================] - 0s 2ms/step - loss: 0.4898 - accuracy: 0.8075\n",
            "1/1 [==============================] - 0s 128ms/step - loss: 0.4659 - accuracy: 0.7619\n",
            "0.761904776096344\n",
            "Epoch 1/10\n",
            "38/38 [==============================] - 1s 2ms/step - loss: 0.6790 - accuracy: 0.5936\n",
            "Epoch 2/10\n",
            "38/38 [==============================] - 0s 2ms/step - loss: 0.6507 - accuracy: 0.6845\n",
            "Epoch 3/10\n",
            "38/38 [==============================] - 0s 2ms/step - loss: 0.6318 - accuracy: 0.6791\n",
            "Epoch 4/10\n",
            "38/38 [==============================] - 0s 2ms/step - loss: 0.6119 - accuracy: 0.7487\n",
            "Epoch 5/10\n",
            "38/38 [==============================] - 0s 2ms/step - loss: 0.5874 - accuracy: 0.7807\n",
            "Epoch 6/10\n",
            "38/38 [==============================] - 0s 2ms/step - loss: 0.5635 - accuracy: 0.7540\n",
            "Epoch 7/10\n",
            "38/38 [==============================] - 0s 2ms/step - loss: 0.5367 - accuracy: 0.8075\n",
            "Epoch 8/10\n",
            "38/38 [==============================] - 0s 2ms/step - loss: 0.5179 - accuracy: 0.7914\n",
            "Epoch 9/10\n",
            "38/38 [==============================] - 0s 2ms/step - loss: 0.4934 - accuracy: 0.7647\n",
            "Epoch 10/10\n",
            "38/38 [==============================] - 0s 2ms/step - loss: 0.4824 - accuracy: 0.7754\n",
            "1/1 [==============================] - 0s 132ms/step - loss: 0.4490 - accuracy: 0.8095\n",
            "0.8095238208770752\n",
            "Epoch 1/10\n",
            "38/38 [==============================] - 1s 2ms/step - loss: 0.6794 - accuracy: 0.5668\n",
            "Epoch 2/10\n",
            "38/38 [==============================] - 0s 2ms/step - loss: 0.6683 - accuracy: 0.5882\n",
            "Epoch 3/10\n",
            "38/38 [==============================] - 0s 2ms/step - loss: 0.6538 - accuracy: 0.5722\n",
            "Epoch 4/10\n",
            "38/38 [==============================] - 0s 2ms/step - loss: 0.6299 - accuracy: 0.7166\n",
            "Epoch 5/10\n",
            "38/38 [==============================] - 0s 2ms/step - loss: 0.6042 - accuracy: 0.7112\n",
            "Epoch 6/10\n",
            "38/38 [==============================] - 0s 2ms/step - loss: 0.5846 - accuracy: 0.7433\n",
            "Epoch 7/10\n",
            "38/38 [==============================] - 0s 2ms/step - loss: 0.5543 - accuracy: 0.7807\n",
            "Epoch 8/10\n",
            "38/38 [==============================] - 0s 2ms/step - loss: 0.5341 - accuracy: 0.7701\n",
            "Epoch 9/10\n",
            "38/38 [==============================] - 0s 2ms/step - loss: 0.5152 - accuracy: 0.7861\n",
            "Epoch 10/10\n",
            "38/38 [==============================] - 0s 2ms/step - loss: 0.4986 - accuracy: 0.7807\n",
            "1/1 [==============================] - 0s 133ms/step - loss: 0.4717 - accuracy: 0.7143\n",
            "0.7142857313156128\n",
            "Epoch 1/10\n",
            "38/38 [==============================] - 1s 2ms/step - loss: 0.6912 - accuracy: 0.5348\n",
            "Epoch 2/10\n",
            "38/38 [==============================] - 0s 2ms/step - loss: 0.6842 - accuracy: 0.5508\n",
            "Epoch 3/10\n",
            "38/38 [==============================] - 0s 2ms/step - loss: 0.6732 - accuracy: 0.5615\n",
            "Epoch 4/10\n",
            "38/38 [==============================] - 0s 2ms/step - loss: 0.6656 - accuracy: 0.6257\n",
            "Epoch 5/10\n",
            "38/38 [==============================] - 0s 2ms/step - loss: 0.6491 - accuracy: 0.5936\n",
            "Epoch 6/10\n",
            "38/38 [==============================] - 0s 3ms/step - loss: 0.6357 - accuracy: 0.6364\n",
            "Epoch 7/10\n",
            "38/38 [==============================] - 0s 2ms/step - loss: 0.6214 - accuracy: 0.6417\n",
            "Epoch 8/10\n",
            "38/38 [==============================] - 0s 2ms/step - loss: 0.5944 - accuracy: 0.7433\n",
            "Epoch 9/10\n",
            "38/38 [==============================] - 0s 2ms/step - loss: 0.5696 - accuracy: 0.7166\n",
            "Epoch 10/10\n",
            "38/38 [==============================] - 0s 2ms/step - loss: 0.5443 - accuracy: 0.7594\n",
            "1/1 [==============================] - 0s 127ms/step - loss: 0.5785 - accuracy: 0.7143\n",
            "0.7142857313156128\n",
            "Epoch 1/10\n",
            "38/38 [==============================] - 1s 2ms/step - loss: 0.6955 - accuracy: 0.5348\n",
            "Epoch 2/10\n",
            "38/38 [==============================] - 0s 2ms/step - loss: 0.6840 - accuracy: 0.5348\n",
            "Epoch 3/10\n",
            "38/38 [==============================] - 0s 2ms/step - loss: 0.6749 - accuracy: 0.5348\n",
            "Epoch 4/10\n",
            "38/38 [==============================] - 0s 2ms/step - loss: 0.6671 - accuracy: 0.5348\n",
            "Epoch 5/10\n",
            "38/38 [==============================] - 0s 2ms/step - loss: 0.6582 - accuracy: 0.5401\n",
            "Epoch 6/10\n",
            "38/38 [==============================] - 0s 2ms/step - loss: 0.6485 - accuracy: 0.6043\n",
            "Epoch 7/10\n",
            "38/38 [==============================] - 0s 2ms/step - loss: 0.6384 - accuracy: 0.6203\n",
            "Epoch 8/10\n",
            "38/38 [==============================] - 0s 2ms/step - loss: 0.6254 - accuracy: 0.6203\n",
            "Epoch 9/10\n",
            "38/38 [==============================] - 0s 2ms/step - loss: 0.6065 - accuracy: 0.6898\n",
            "Epoch 10/10\n",
            "38/38 [==============================] - 0s 2ms/step - loss: 0.5842 - accuracy: 0.7219\n",
            "1/1 [==============================] - 0s 128ms/step - loss: 0.6040 - accuracy: 0.6667\n",
            "0.6666666865348816\n",
            "Epoch 1/10\n",
            "38/38 [==============================] - 1s 2ms/step - loss: 0.6773 - accuracy: 0.5829\n",
            "Epoch 2/10\n",
            "38/38 [==============================] - 0s 2ms/step - loss: 0.6619 - accuracy: 0.5989\n",
            "Epoch 3/10\n",
            "38/38 [==============================] - 0s 2ms/step - loss: 0.6475 - accuracy: 0.6417\n",
            "Epoch 4/10\n",
            "38/38 [==============================] - 0s 2ms/step - loss: 0.6285 - accuracy: 0.6417\n",
            "Epoch 5/10\n",
            "38/38 [==============================] - 0s 2ms/step - loss: 0.6144 - accuracy: 0.7326\n",
            "Epoch 6/10\n",
            "38/38 [==============================] - 0s 2ms/step - loss: 0.5996 - accuracy: 0.7166\n",
            "Epoch 7/10\n",
            "38/38 [==============================] - 0s 2ms/step - loss: 0.5632 - accuracy: 0.7326\n",
            "Epoch 8/10\n",
            "38/38 [==============================] - 0s 2ms/step - loss: 0.5275 - accuracy: 0.7754\n",
            "Epoch 9/10\n",
            "38/38 [==============================] - 0s 2ms/step - loss: 0.4899 - accuracy: 0.7754\n",
            "Epoch 10/10\n",
            "38/38 [==============================] - 0s 2ms/step - loss: 0.4630 - accuracy: 0.7807\n",
            "1/1 [==============================] - 0s 129ms/step - loss: 0.5484 - accuracy: 0.6667\n",
            "0.6666666865348816\n",
            "Epoch 1/10\n",
            "38/38 [==============================] - 1s 2ms/step - loss: 0.6867 - accuracy: 0.5691\n",
            "Epoch 2/10\n",
            "38/38 [==============================] - 0s 2ms/step - loss: 0.6509 - accuracy: 0.7074\n",
            "Epoch 3/10\n",
            "38/38 [==============================] - 0s 2ms/step - loss: 0.6341 - accuracy: 0.6968\n",
            "Epoch 4/10\n",
            "38/38 [==============================] - 0s 2ms/step - loss: 0.6137 - accuracy: 0.7606\n",
            "Epoch 5/10\n",
            "38/38 [==============================] - 0s 2ms/step - loss: 0.6013 - accuracy: 0.6809\n",
            "Epoch 6/10\n",
            "38/38 [==============================] - 0s 2ms/step - loss: 0.5718 - accuracy: 0.7660\n",
            "Epoch 7/10\n",
            "38/38 [==============================] - 0s 2ms/step - loss: 0.5501 - accuracy: 0.7819\n",
            "Epoch 8/10\n",
            "38/38 [==============================] - 0s 2ms/step - loss: 0.5402 - accuracy: 0.7766\n",
            "Epoch 9/10\n",
            "38/38 [==============================] - 0s 2ms/step - loss: 0.5116 - accuracy: 0.7979\n",
            "Epoch 10/10\n",
            "38/38 [==============================] - 0s 2ms/step - loss: 0.5018 - accuracy: 0.7979\n",
            "1/1 [==============================] - 0s 126ms/step - loss: 0.4967 - accuracy: 0.8500\n",
            "0.8500000238418579\n",
            "Epoch 1/10\n",
            "38/38 [==============================] - 1s 2ms/step - loss: 0.6867 - accuracy: 0.5372\n",
            "Epoch 2/10\n",
            "38/38 [==============================] - 0s 2ms/step - loss: 0.6618 - accuracy: 0.5479\n",
            "Epoch 3/10\n",
            "38/38 [==============================] - 0s 2ms/step - loss: 0.6456 - accuracy: 0.6011\n",
            "Epoch 4/10\n",
            "38/38 [==============================] - 0s 2ms/step - loss: 0.6273 - accuracy: 0.6649\n",
            "Epoch 5/10\n",
            "38/38 [==============================] - 0s 2ms/step - loss: 0.6080 - accuracy: 0.6915\n",
            "Epoch 6/10\n",
            "38/38 [==============================] - 0s 2ms/step - loss: 0.5929 - accuracy: 0.7128\n",
            "Epoch 7/10\n",
            "38/38 [==============================] - 0s 2ms/step - loss: 0.5681 - accuracy: 0.7181\n",
            "Epoch 8/10\n",
            "38/38 [==============================] - 0s 2ms/step - loss: 0.5609 - accuracy: 0.7553\n",
            "Epoch 9/10\n",
            "38/38 [==============================] - 0s 2ms/step - loss: 0.5334 - accuracy: 0.7766\n",
            "Epoch 10/10\n",
            "38/38 [==============================] - 0s 2ms/step - loss: 0.5287 - accuracy: 0.7872\n",
            "1/1 [==============================] - 0s 129ms/step - loss: 0.5489 - accuracy: 0.6500\n",
            "0.6499999761581421\n"
          ]
        }
      ]
    }
  ]
}