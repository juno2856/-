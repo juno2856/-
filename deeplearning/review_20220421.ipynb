{
  "nbformat": 4,
  "nbformat_minor": 0,
  "metadata": {
    "colab": {
      "name": "review_20220421.ipynb",
      "provenance": [],
      "authorship_tag": "ABX9TyPeoXg877aCGai0lkPvn+xR",
      "include_colab_link": true
    },
    "kernelspec": {
      "name": "python3",
      "display_name": "Python 3"
    },
    "language_info": {
      "name": "python"
    }
  },
  "cells": [
    {
      "cell_type": "markdown",
      "metadata": {
        "id": "view-in-github",
        "colab_type": "text"
      },
      "source": [
        "<a href=\"https://colab.research.google.com/github/juno2856/deeplearning/blob/master/review_20220421.ipynb\" target=\"_parent\"><img src=\"https://colab.research.google.com/assets/colab-badge.svg\" alt=\"Open In Colab\"/></a>"
      ]
    },
    {
      "cell_type": "code",
      "execution_count": 1,
      "metadata": {
        "id": "7kz0yn9WwTiD"
      },
      "outputs": [],
      "source": [
        "import tensorflow as tf\n",
        "from tensorflow import keras\n",
        "\n",
        "import pandas as pd\n",
        "import numpy as np\n",
        "import matplotlib.pyplot as plt\n",
        "\n",
        "import os"
      ]
    },
    {
      "cell_type": "code",
      "source": [
        "import sys"
      ],
      "metadata": {
        "id": "2CQwse5X9uup"
      },
      "execution_count": 5,
      "outputs": []
    },
    {
      "cell_type": "code",
      "source": [
        "(x_train, y_train), (x_test, y_test) = keras.datasets.mnist.load_data()\n",
        "\n",
        "print(x_train.shape)\n",
        "print(x_test.shape)\n"
      ],
      "metadata": {
        "colab": {
          "base_uri": "https://localhost:8080/"
        },
        "id": "CVUgJd7egJfd",
        "outputId": "ae70fc3c-d7f5-4620-fa5c-a94892aed6e0"
      },
      "execution_count": 2,
      "outputs": [
        {
          "output_type": "stream",
          "name": "stdout",
          "text": [
            "Downloading data from https://storage.googleapis.com/tensorflow/tf-keras-datasets/mnist.npz\n",
            "11493376/11490434 [==============================] - 0s 0us/step\n",
            "11501568/11490434 [==============================] - 0s 0us/step\n",
            "(60000, 28, 28)\n",
            "(10000, 28, 28)\n"
          ]
        }
      ]
    },
    {
      "cell_type": "code",
      "source": [
        "#plt.imshow(x_train[0], cmap = 'Greys')\n",
        "plt.imshow(x_test[2], cmap = 'Greys')\n",
        "plt.show()"
      ],
      "metadata": {
        "colab": {
          "base_uri": "https://localhost:8080/",
          "height": 265
        },
        "id": "Ol1bEvEi80d4",
        "outputId": "d9d082fb-637b-49b3-b65c-19437b7cca9c"
      },
      "execution_count": 12,
      "outputs": [
        {
          "output_type": "display_data",
          "data": {
            "text/plain": [
              "<Figure size 432x288 with 1 Axes>"
            ],
            "image/png": "[encoded data removed]"
          },
          "metadata": {
            "needs_background": "light"
          }
        }
      ]
    },
    {
      "cell_type": "code",
      "source": [
        "for x in x_train[0]:\n",
        "  for i in x:\n",
        "    sys.stdout.write('%d\\t' %i)\n",
        "  sys.stdout.write('\\n')"
      ],
      "metadata": {
        "colab": {
          "base_uri": "https://localhost:8080/"
        },
        "id": "Ix2R8BK-9Qas",
        "outputId": "27591a72-0801-4a8b-a400-128a30e7a925"
      },
      "execution_count": 6,
      "outputs": [
        {
          "output_type": "stream",
          "name": "stdout",
          "text": [
            "0\t0\t0\t0\t0\t0\t0\t0\t0\t0\t0\t0\t0\t0\t0\t0\t0\t0\t0\t0\t0\t0\t0\t0\t0\t0\t0\t0\t\n",
            "0\t0\t0\t0\t0\t0\t0\t0\t0\t0\t0\t0\t0\t0\t0\t0\t0\t0\t0\t0\t0\t0\t0\t0\t0\t0\t0\t0\t\n",
            "0\t0\t0\t0\t0\t0\t0\t0\t0\t0\t0\t0\t0\t0\t0\t0\t0\t0\t0\t0\t0\t0\t0\t0\t0\t0\t0\t0\t\n",
            "0\t0\t0\t0\t0\t0\t0\t0\t0\t0\t0\t0\t0\t0\t0\t0\t0\t0\t0\t0\t0\t0\t0\t0\t0\t0\t0\t0\t\n",
            "0\t0\t0\t0\t0\t0\t0\t0\t0\t0\t0\t0\t0\t0\t0\t0\t0\t0\t0\t0\t0\t0\t0\t0\t0\t0\t0\t0\t\n",
            "0\t0\t0\t0\t0\t0\t0\t0\t0\t0\t0\t0\t3\t18\t18\t18\t126\t136\t175\t26\t166\t255\t247\t127\t0\t0\t0\t0\t\n",
            "0\t0\t0\t0\t0\t0\t0\t0\t30\t36\t94\t154\t170\t253\t253\t253\t253\t253\t225\t172\t253\t242\t195\t64\t0\t0\t0\t0\t\n",
            "0\t0\t0\t0\t0\t0\t0\t49\t238\t253\t253\t253\t253\t253\t253\t253\t253\t251\t93\t82\t82\t56\t39\t0\t0\t0\t0\t0\t\n",
            "0\t0\t0\t0\t0\t0\t0\t18\t219\t253\t253\t253\t253\t253\t198\t182\t247\t241\t0\t0\t0\t0\t0\t0\t0\t0\t0\t0\t\n",
            "0\t0\t0\t0\t0\t0\t0\t0\t80\t156\t107\t253\t253\t205\t11\t0\t43\t154\t0\t0\t0\t0\t0\t0\t0\t0\t0\t0\t\n",
            "0\t0\t0\t0\t0\t0\t0\t0\t0\t14\t1\t154\t253\t90\t0\t0\t0\t0\t0\t0\t0\t0\t0\t0\t0\t0\t0\t0\t\n",
            "0\t0\t0\t0\t0\t0\t0\t0\t0\t0\t0\t139\t253\t190\t2\t0\t0\t0\t0\t0\t0\t0\t0\t0\t0\t0\t0\t0\t\n",
            "0\t0\t0\t0\t0\t0\t0\t0\t0\t0\t0\t11\t190\t253\t70\t0\t0\t0\t0\t0\t0\t0\t0\t0\t0\t0\t0\t0\t\n",
            "0\t0\t0\t0\t0\t0\t0\t0\t0\t0\t0\t0\t35\t241\t225\t160\t108\t1\t0\t0\t0\t0\t0\t0\t0\t0\t0\t0\t\n",
            "0\t0\t0\t0\t0\t0\t0\t0\t0\t0\t0\t0\t0\t81\t240\t253\t253\t119\t25\t0\t0\t0\t0\t0\t0\t0\t0\t0\t\n",
            "0\t0\t0\t0\t0\t0\t0\t0\t0\t0\t0\t0\t0\t0\t45\t186\t253\t253\t150\t27\t0\t0\t0\t0\t0\t0\t0\t0\t\n",
            "0\t0\t0\t0\t0\t0\t0\t0\t0\t0\t0\t0\t0\t0\t0\t16\t93\t252\t253\t187\t0\t0\t0\t0\t0\t0\t0\t0\t\n",
            "0\t0\t0\t0\t0\t0\t0\t0\t0\t0\t0\t0\t0\t0\t0\t0\t0\t249\t253\t249\t64\t0\t0\t0\t0\t0\t0\t0\t\n",
            "0\t0\t0\t0\t0\t0\t0\t0\t0\t0\t0\t0\t0\t0\t46\t130\t183\t253\t253\t207\t2\t0\t0\t0\t0\t0\t0\t0\t\n",
            "0\t0\t0\t0\t0\t0\t0\t0\t0\t0\t0\t0\t39\t148\t229\t253\t253\t253\t250\t182\t0\t0\t0\t0\t0\t0\t0\t0\t\n",
            "0\t0\t0\t0\t0\t0\t0\t0\t0\t0\t24\t114\t221\t253\t253\t253\t253\t201\t78\t0\t0\t0\t0\t0\t0\t0\t0\t0\t\n",
            "0\t0\t0\t0\t0\t0\t0\t0\t23\t66\t213\t253\t253\t253\t253\t198\t81\t2\t0\t0\t0\t0\t0\t0\t0\t0\t0\t0\t\n",
            "0\t0\t0\t0\t0\t0\t18\t171\t219\t253\t253\t253\t253\t195\t80\t9\t0\t0\t0\t0\t0\t0\t0\t0\t0\t0\t0\t0\t\n",
            "0\t0\t0\t0\t55\t172\t226\t253\t253\t253\t253\t244\t133\t11\t0\t0\t0\t0\t0\t0\t0\t0\t0\t0\t0\t0\t0\t0\t\n",
            "0\t0\t0\t0\t136\t253\t253\t253\t212\t135\t132\t16\t0\t0\t0\t0\t0\t0\t0\t0\t0\t0\t0\t0\t0\t0\t0\t0\t\n",
            "0\t0\t0\t0\t0\t0\t0\t0\t0\t0\t0\t0\t0\t0\t0\t0\t0\t0\t0\t0\t0\t0\t0\t0\t0\t0\t0\t0\t\n",
            "0\t0\t0\t0\t0\t0\t0\t0\t0\t0\t0\t0\t0\t0\t0\t0\t0\t0\t0\t0\t0\t0\t0\t0\t0\t0\t0\t0\t\n",
            "0\t0\t0\t0\t0\t0\t0\t0\t0\t0\t0\t0\t0\t0\t0\t0\t0\t0\t0\t0\t0\t0\t0\t0\t0\t0\t0\t0\t\n"
          ]
        }
      ]
    },
    {
      "cell_type": "code",
      "source": [
        "x_train = (x_train/255.0).reshape(-1, 28, 28, 1)\n",
        "x_test = (x_test/255.0).reshape(-1, 28, 28, 1)\n",
        "\n",
        "print(x_train.dtype)\n",
        "print(y_test.dtype)\n"
      ],
      "metadata": {
        "colab": {
          "base_uri": "https://localhost:8080/"
        },
        "id": "xHBi16TbgYQs",
        "outputId": "60e964cd-b7f8-402c-f663-8e77af163a39"
      },
      "execution_count": 13,
      "outputs": [
        {
          "output_type": "stream",
          "name": "stdout",
          "text": [
            "float64\n",
            "uint8\n"
          ]
        }
      ]
    },
    {
      "cell_type": "code",
      "source": [
        "model = keras.Sequential()\n",
        "model.add(keras.layers.Conv2D(32, kernel_size = (3,3),\n",
        "                              input_shape = (28,28,1), activation = 'relu'))\n",
        "model.add(keras.layers.Conv2D(64, kernel_size = (3,3), activation = 'relu'))\n",
        "model.add(keras.layers.MaxPool2D(pool_size = 2))\n",
        "model.add(keras.layers.Flatten())\n",
        "model.add(keras.layers.Dense(128, activation = 'relu'))\n",
        "model.add(keras.layers.Dropout(0.3))\n",
        "model.add(keras.layers.Dense(10, activation = 'softmax'))\n",
        "\n",
        "model.summary()"
      ],
      "metadata": {
        "colab": {
          "base_uri": "https://localhost:8080/"
        },
        "id": "Yt-aZ06RhCod",
        "outputId": "6fef6dbc-3ade-4de2-90a3-c912df7bbdd0"
      },
      "execution_count": 14,
      "outputs": [
        {
          "output_type": "stream",
          "name": "stdout",
          "text": [
            "Model: \"sequential\"\n",
            "_________________________________________________________________\n",
            " Layer (type)                Output Shape              Param #   \n",
            "=================================================================\n",
            " conv2d (Conv2D)             (None, 26, 26, 32)        320       \n",
            "                                                                 \n",
            " conv2d_1 (Conv2D)           (None, 24, 24, 64)        18496     \n",
            "                                                                 \n",
            " max_pooling2d (MaxPooling2D  (None, 12, 12, 64)       0         \n",
            " )                                                               \n",
            "                                                                 \n",
            " flatten (Flatten)           (None, 9216)              0         \n",
            "                                                                 \n",
            " dense (Dense)               (None, 128)               1179776   \n",
            "                                                                 \n",
            " dropout (Dropout)           (None, 128)               0         \n",
            "                                                                 \n",
            " dense_1 (Dense)             (None, 10)                1290      \n",
            "                                                                 \n",
            "=================================================================\n",
            "Total params: 1,199,882\n",
            "Trainable params: 1,199,882\n",
            "Non-trainable params: 0\n",
            "_________________________________________________________________\n"
          ]
        }
      ]
    },
    {
      "cell_type": "code",
      "source": [
        "model.compile(loss = 'sparse_categorical_crossentropy',\n",
        "             optimizer = 'adam',\n",
        "             metrics = 'accuracy')"
      ],
      "metadata": {
        "id": "B6hflIE5iNOu"
      },
      "execution_count": 15,
      "outputs": []
    },
    {
      "cell_type": "code",
      "source": [
        "if not os.path.exists('./model/'):\n",
        "  os.mkdir('./model/')"
      ],
      "metadata": {
        "id": "o6_CKYZhidx9"
      },
      "execution_count": 16,
      "outputs": []
    },
    {
      "cell_type": "code",
      "source": [
        "modelpath = './model/{epoch:02d}-{val_loss:.4f}.h5'\n",
        "\n",
        "checkpoint = keras.callbacks.ModelCheckpoint(filepath = modelpath,\n",
        "                                             verbose =1, save_best_only = True)\n",
        "early_stop = keras.callbacks.EarlyStopping(patience = 5)"
      ],
      "metadata": {
        "id": "IOw9rzCmisc4"
      },
      "execution_count": 17,
      "outputs": []
    },
    {
      "cell_type": "code",
      "source": [
        "history = model.fit(x_train, y_train, validation_data = (x_test, y_test),\n",
        "                    epochs = 30, batch_size = 100,\n",
        "                    callbacks=[checkpoint, early_stop])"
      ],
      "metadata": {
        "colab": {
          "base_uri": "https://localhost:8080/"
        },
        "id": "HRsaSs1PjDyK",
        "outputId": "8bca9bcf-f0ca-4acb-fe3b-e876c52d7eb7"
      },
      "execution_count": 18,
      "outputs": [
        {
          "output_type": "stream",
          "name": "stdout",
          "text": [
            "Epoch 1/30\n",
            "600/600 [==============================] - ETA: 0s - loss: 0.1805 - accuracy: 0.9451\n",
            "Epoch 1: val_loss improved from inf to 0.05045, saving model to ./model/01-0.0504.h5\n",
            "600/600 [==============================] - 140s 232ms/step - loss: 0.1805 - accuracy: 0.9451 - val_loss: 0.0504 - val_accuracy: 0.9838\n",
            "Epoch 2/30\n",
            "600/600 [==============================] - ETA: 0s - loss: 0.0608 - accuracy: 0.9822\n",
            "Epoch 2: val_loss improved from 0.05045 to 0.03449, saving model to ./model/02-0.0345.h5\n",
            "600/600 [==============================] - 139s 232ms/step - loss: 0.0608 - accuracy: 0.9822 - val_loss: 0.0345 - val_accuracy: 0.9878\n",
            "Epoch 3/30\n",
            "600/600 [==============================] - ETA: 0s - loss: 0.0400 - accuracy: 0.9873\n",
            "Epoch 3: val_loss improved from 0.03449 to 0.03137, saving model to ./model/03-0.0314.h5\n",
            "600/600 [==============================] - 138s 231ms/step - loss: 0.0400 - accuracy: 0.9873 - val_loss: 0.0314 - val_accuracy: 0.9897\n",
            "Epoch 4/30\n",
            "600/600 [==============================] - ETA: 0s - loss: 0.0306 - accuracy: 0.9904\n",
            "Epoch 4: val_loss improved from 0.03137 to 0.03100, saving model to ./model/04-0.0310.h5\n",
            "600/600 [==============================] - 138s 230ms/step - loss: 0.0306 - accuracy: 0.9904 - val_loss: 0.0310 - val_accuracy: 0.9913\n",
            "Epoch 5/30\n",
            "600/600 [==============================] - ETA: 0s - loss: 0.0248 - accuracy: 0.9919\n",
            "Epoch 5: val_loss improved from 0.03100 to 0.03052, saving model to ./model/05-0.0305.h5\n",
            "600/600 [==============================] - 138s 230ms/step - loss: 0.0248 - accuracy: 0.9919 - val_loss: 0.0305 - val_accuracy: 0.9907\n",
            "Epoch 6/30\n",
            "600/600 [==============================] - ETA: 0s - loss: 0.0215 - accuracy: 0.9931\n",
            "Epoch 6: val_loss improved from 0.03052 to 0.02623, saving model to ./model/06-0.0262.h5\n",
            "600/600 [==============================] - 138s 230ms/step - loss: 0.0215 - accuracy: 0.9931 - val_loss: 0.0262 - val_accuracy: 0.9916\n",
            "Epoch 7/30\n",
            "600/600 [==============================] - ETA: 0s - loss: 0.0163 - accuracy: 0.9946\n",
            "Epoch 7: val_loss did not improve from 0.02623\n",
            "600/600 [==============================] - 138s 230ms/step - loss: 0.0163 - accuracy: 0.9946 - val_loss: 0.0364 - val_accuracy: 0.9904\n",
            "Epoch 8/30\n",
            "600/600 [==============================] - ETA: 0s - loss: 0.0127 - accuracy: 0.9956\n",
            "Epoch 8: val_loss did not improve from 0.02623\n",
            "600/600 [==============================] - 142s 237ms/step - loss: 0.0127 - accuracy: 0.9956 - val_loss: 0.0315 - val_accuracy: 0.9914\n",
            "Epoch 9/30\n",
            "600/600 [==============================] - ETA: 0s - loss: 0.0121 - accuracy: 0.9959\n",
            "Epoch 9: val_loss did not improve from 0.02623\n",
            "600/600 [==============================] - 144s 239ms/step - loss: 0.0121 - accuracy: 0.9959 - val_loss: 0.0299 - val_accuracy: 0.9911\n",
            "Epoch 10/30\n",
            "600/600 [==============================] - ETA: 0s - loss: 0.0116 - accuracy: 0.9960\n",
            "Epoch 10: val_loss did not improve from 0.02623\n",
            "600/600 [==============================] - 143s 238ms/step - loss: 0.0116 - accuracy: 0.9960 - val_loss: 0.0311 - val_accuracy: 0.9905\n",
            "Epoch 11/30\n",
            "600/600 [==============================] - ETA: 0s - loss: 0.0102 - accuracy: 0.9965\n",
            "Epoch 11: val_loss did not improve from 0.02623\n",
            "600/600 [==============================] - 144s 240ms/step - loss: 0.0102 - accuracy: 0.9965 - val_loss: 0.0344 - val_accuracy: 0.9904\n"
          ]
        }
      ]
    }
  ]
}
