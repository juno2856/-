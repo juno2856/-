{
  "nbformat": 4,
  "nbformat_minor": 0,
  "metadata": {
    "colab": {
      "name": "Class_3_20220413.ipynb",
      "provenance": [],
      "authorship_tag": "ABX9TyMvKWGVo6ETtTRCs2H9VNqJ",
      "include_colab_link": true
    },
    "kernelspec": {
      "name": "python3",
      "display_name": "Python 3"
    },
    "language_info": {
      "name": "python"
    }
  },
  "cells": [
    {
      "cell_type": "markdown",
      "metadata": {
        "id": "view-in-github",
        "colab_type": "text"
      },
      "source": [
        "<a href=\"https://colab.research.google.com/github/juno2856/deeplearning/blob/master/Class_3_20220413.ipynb\" target=\"_parent\"><img src=\"https://colab.research.google.com/assets/colab-badge.svg\" alt=\"Open In Colab\"/></a>"
      ]
    },
    {
      "cell_type": "code",
      "execution_count": 1,
      "metadata": {
        "id": "NxZfFbXqR2LS"
      },
      "outputs": [],
      "source": [
        "import numpy as np\n",
        "import matplotlib.pyplot as plt"
      ]
    },
    {
      "cell_type": "code",
      "source": [
        "x =np.arange(2, 10, step =2)\n",
        "print(x)\n",
        "y = np.array([81,93,91,97])\n",
        "print(y)"
      ],
      "metadata": {
        "colab": {
          "base_uri": "https://localhost:8080/"
        },
        "id": "YJ6kEyi0W43c",
        "outputId": "4a99219f-16a1-4438-a5d3-4fc763e95d40"
      },
      "execution_count": 4,
      "outputs": [
        {
          "output_type": "stream",
          "name": "stdout",
          "text": [
            "[2 4 6 8]\n",
            "[81 93 91 97]\n"
          ]
        }
      ]
    },
    {
      "cell_type": "code",
      "source": [
        "plt.scatter(x,y, s = 100)\n",
        "plt.show()"
      ],
      "metadata": {
        "colab": {
          "base_uri": "https://localhost:8080/",
          "height": 265
        },
        "id": "f_bX742YXCLj",
        "outputId": "5a3d0550-0de5-4b21-88d2-7e3866b3acc7"
      },
      "execution_count": 5,
      "outputs": [
        {
          "output_type": "display_data",
          "data": {
            "text/plain": [
              "<Figure size 432x288 with 1 Axes>"
            ],
            "image/png": "[encoded data removed]"
          },
          "metadata": {
            "needs_background": "light"
          }
        }
      ]
    },
    {
      "cell_type": "code",
      "source": [
        "mx = np.mean(x)\n",
        "my = np.mean(y)\n",
        "print(f'x mean = {mx}')\n",
        "print(f'x mean = {my}')"
      ],
      "metadata": {
        "colab": {
          "base_uri": "https://localhost:8080/"
        },
        "id": "91Ml64IsXb9N",
        "outputId": "a2a6effb-53f1-4685-c65c-0c8dc31d5dac"
      },
      "execution_count": 9,
      "outputs": [
        {
          "output_type": "stream",
          "name": "stdout",
          "text": [
            "x mean = 5.0\n",
            "x mean = 90.5\n"
          ]
        }
      ]
    },
    {
      "cell_type": "code",
      "source": [
        "for i in x:\n",
        "  print((i-mx)**2)"
      ],
      "metadata": {
        "colab": {
          "base_uri": "https://localhost:8080/"
        },
        "id": "--oAN3pVXler",
        "outputId": "bab8ed15-33e4-49bf-a20b-0a9272f25e93"
      },
      "execution_count": 10,
      "outputs": [
        {
          "output_type": "stream",
          "name": "stdout",
          "text": [
            "9.0\n",
            "1.0\n",
            "1.0\n",
            "9.0\n"
          ]
        }
      ]
    },
    {
      "cell_type": "code",
      "source": [
        "##Sxx , Sxy 구하기\n",
        "Sxx = np.sum([(i - mx)**2 for i in x])\n",
        "print(Sxx)\n",
        "Sxy = np.sum([(i - mx)*(j - my) for i,j in zip(x,y)])\n",
        "print(Sxy)"
      ],
      "metadata": {
        "colab": {
          "base_uri": "https://localhost:8080/"
        },
        "id": "OJJ0qtjuXmFJ",
        "outputId": "e18730ad-a3b9-4af7-b11c-c9c4b69816ab"
      },
      "execution_count": 15,
      "outputs": [
        {
          "output_type": "stream",
          "name": "stdout",
          "text": [
            "20.0\n",
            "46.0\n"
          ]
        }
      ]
    },
    {
      "cell_type": "code",
      "source": [
        "## 기울기, 절편\n",
        "slope = Sxy/Sxx\n",
        "intercept = my - slope*mx\n",
        "\n",
        "print('기울기 = ',slope)\n",
        "print('절편 =', intercept)"
      ],
      "metadata": {
        "colab": {
          "base_uri": "https://localhost:8080/"
        },
        "id": "PlBufamnZehd",
        "outputId": "c8a67801-8d82-4583-b178-ce00d1bfaf15"
      },
      "execution_count": 17,
      "outputs": [
        {
          "output_type": "stream",
          "name": "stdout",
          "text": [
            "기울기 =  2.3\n",
            "절편 = 79.0\n"
          ]
        }
      ]
    },
    {
      "cell_type": "code",
      "source": [
        "x_ = np.arange(2,9)\n",
        "y_hat = intercept + slope*x_\n",
        "print(x_)\n",
        "print(y_hat)\n",
        "\n",
        "plt.scatter(x,y, s = 200)\n",
        "plt.plot(x_,y_hat, c = 'red')\n",
        "plt.show()"
      ],
      "metadata": {
        "colab": {
          "base_uri": "https://localhost:8080/",
          "height": 302
        },
        "id": "g7Q8k1MaZexb",
        "outputId": "e47368aa-77f4-4898-d223-835af715cb75"
      },
      "execution_count": 21,
      "outputs": [
        {
          "output_type": "stream",
          "name": "stdout",
          "text": [
            "[2 3 4 5 6 7 8]\n",
            "[83.6 85.9 88.2 90.5 92.8 95.1 97.4]\n"
          ]
        },
        {
          "output_type": "display_data",
          "data": {
            "text/plain": [
              "<Figure size 432x288 with 1 Axes>"
            ],
            "image/png": "[encoded data removed]"
          },
          "metadata": {
            "needs_background": "light"
          }
        }
      ]
    },
    {
      "cell_type": "code",
      "source": [
        "mse = 0\n",
        "for i,j in zip (x,y):\n",
        "  \n",
        "  predicted = intercept +slope*i\n",
        "  print(i,j, predicted)\n",
        "  mse += (j - predicted)**2\n",
        "\n",
        "print('mse = ', mse/len(x)) "
      ],
      "metadata": {
        "colab": {
          "base_uri": "https://localhost:8080/"
        },
        "id": "qxI_R64vZe2y",
        "outputId": "9875b424-1573-4580-d23f-6245931322a7"
      },
      "execution_count": 24,
      "outputs": [
        {
          "output_type": "stream",
          "name": "stdout",
          "text": [
            "2 81 83.6\n",
            "4 93 88.2\n",
            "6 91 92.8\n",
            "8 97 97.4\n",
            "mse =  8.299999999999985\n"
          ]
        }
      ]
    },
    {
      "cell_type": "code",
      "source": [
        "#책 72p\n",
        "fake_a_b = [3, 76]\n",
        "data = [[2,81], [4,93], [6,91], [8,97]]\n",
        "x = [i[0] for i in data]\n",
        "y = [i[1] for i in data]\n",
        "print(x,y)"
      ],
      "metadata": {
        "colab": {
          "base_uri": "https://localhost:8080/"
        },
        "id": "HTBhs3TXZe9U",
        "outputId": "38d57805-89d0-4223-cca4-2a82930fb32b"
      },
      "execution_count": 25,
      "outputs": [
        {
          "output_type": "stream",
          "name": "stdout",
          "text": [
            "[2, 4, 6, 8] [81, 93, 91, 97]\n"
          ]
        }
      ]
    },
    {
      "cell_type": "code",
      "source": [
        "def predict(x):\n",
        "  return fake_a_b[0]*x + fake_a_b[1]"
      ],
      "metadata": {
        "id": "c7QxOaiGZfEV"
      },
      "execution_count": 26,
      "outputs": []
    },
    {
      "cell_type": "code",
      "source": [
        "def mse(y, y_hat):\n",
        "  return ((y - y_hat)**2).mean()\n",
        "\n",
        "def mse_val(y, predict_result):\n",
        "  return mse(np.array(y), np.array(predict_result))"
      ],
      "metadata": {
        "id": "3tWoRgz1hUQr"
      },
      "execution_count": 28,
      "outputs": []
    },
    {
      "cell_type": "code",
      "source": [
        "predict_result = []\n",
        "\n",
        "for i in range(len(x)):\n",
        "  predict_result.append(predict(x[i]))\n",
        "  print(\"공부시간 = %.f, 실제점수 = %.f, 예측 점수 = %.f\" % (x[i], y[i], predict(x[i])))"
      ],
      "metadata": {
        "colab": {
          "base_uri": "https://localhost:8080/"
        },
        "id": "Y4y0zJfAiK7S",
        "outputId": "a1b4765a-76a4-4790-f4db-ff9792febd88"
      },
      "execution_count": 34,
      "outputs": [
        {
          "output_type": "stream",
          "name": "stdout",
          "text": [
            "공부시간 = 2, 실제점수 = 81, 예측 점수 = 82\n",
            "공부시간 = 4, 실제점수 = 93, 예측 점수 = 88\n",
            "공부시간 = 6, 실제점수 = 91, 예측 점수 = 94\n",
            "공부시간 = 8, 실제점수 = 97, 예측 점수 = 100\n"
          ]
        }
      ]
    },
    {
      "cell_type": "code",
      "source": [
        "print('mse 최종값 : ' +str(mse_val(y, predict_result)))"
      ],
      "metadata": {
        "colab": {
          "base_uri": "https://localhost:8080/"
        },
        "id": "yDviTg9ujyry",
        "outputId": "097b921f-e04a-4e74-a05a-72edc4f4c593"
      },
      "execution_count": 36,
      "outputs": [
        {
          "output_type": "stream",
          "name": "stdout",
          "text": [
            "mse 최종값 : 11.0\n"
          ]
        }
      ]
    }
  ]
}
